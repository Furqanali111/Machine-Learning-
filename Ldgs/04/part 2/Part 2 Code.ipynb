{
 "cells": [
  {
   "cell_type": "markdown",
   "metadata": {
    "id": "2LUxnY4PyEkP"
   },
   "source": [
    "# Google Colab Set Up"
   ]
  },
  {
   "cell_type": "code",
   "execution_count": null,
   "metadata": {
    "colab": {
     "base_uri": "https://localhost:8080/"
    },
    "id": "kmvnIqAU4_rG",
    "outputId": "4f644826-bebc-4e23-bace-4f9ffb6083fb"
   },
   "outputs": [
    {
     "name": "stdout",
     "output_type": "stream",
     "text": [
      "Drive already mounted at /content/drive; to attempt to forcibly remount, call drive.mount(\"/content/drive\", force_remount=True).\n"
     ]
    }
   ],
   "source": [
    "from google.colab import drive\n",
    "drive.mount('/content/drive')"
   ]
  },
  {
   "cell_type": "markdown",
   "metadata": {
    "id": "PAZ-WbF94_rH"
   },
   "source": [
    "Change the directory to your folder on Google Drive"
   ]
  },
  {
   "cell_type": "code",
   "execution_count": null,
   "metadata": {
    "colab": {
     "base_uri": "https://localhost:8080/"
    },
    "id": "I15qRcfH4_rH",
    "outputId": "880c0772-5155-49d2-fb45-ec46c6230624"
   },
   "outputs": [
    {
     "name": "stdout",
     "output_type": "stream",
     "text": [
      "/content/drive/My Drive/Colab Notebooks/MKTG6010\n"
     ]
    }
   ],
   "source": [
    "cd '/content/drive/My Drive/Colab Notebooks/MKTG6010'"
   ]
  },
  {
   "cell_type": "code",
   "execution_count": null,
   "metadata": {
    "colab": {
     "base_uri": "https://localhost:8080/"
    },
    "id": "96jnMfbgb2Ze",
    "outputId": "782d1d14-8603-4eb7-fee4-420b489fbef5"
   },
   "outputs": [
    {
     "name": "stdout",
     "output_type": "stream",
     "text": [
      "/content/drive/My Drive/Colab Notebooks/MKTG6010\n"
     ]
    }
   ],
   "source": [
    "## display the directory\n",
    "!pwd"
   ]
  },
  {
   "cell_type": "markdown",
   "metadata": {
    "id": "CrOhE4hZyR9_"
   },
   "source": [
    "# Installing & Importing Packages"
   ]
  },
  {
   "cell_type": "markdown",
   "metadata": {
    "id": "YrydeycMESkB"
   },
   "source": [
    "## PyLDAVis"
   ]
  },
  {
   "cell_type": "markdown",
   "metadata": {
    "id": "IFulLapwEUDi"
   },
   "source": [
    "### Colab Users"
   ]
  },
  {
   "cell_type": "code",
   "execution_count": null,
   "metadata": {
    "colab": {
     "base_uri": "https://localhost:8080/"
    },
    "id": "L77XC0gVMliz",
    "outputId": "0661b79c-31c1-47fa-a25f-d257b3708d36"
   },
   "outputs": [
    {
     "name": "stdout",
     "output_type": "stream",
     "text": [
      "\u001b[33mWARNING: Ignoring invalid distribution -umpy (/usr/local/lib/python3.10/dist-packages)\u001b[0m\u001b[33m\n",
      "\u001b[0m\u001b[33mWARNING: Ignoring invalid distribution -umpy (/usr/local/lib/python3.10/dist-packages)\u001b[0m\u001b[33m\n",
      "\u001b[0mLooking in indexes: https://pypi.org/simple, https://us-python.pkg.dev/colab-wheels/public/simple/\n",
      "Requirement already satisfied: PyLDAVis==3.4.1 in /usr/local/lib/python3.10/dist-packages (3.4.1)\n",
      "Requirement already satisfied: gensim in /usr/local/lib/python3.10/dist-packages (from PyLDAVis==3.4.1) (4.3.1)\n",
      "Collecting numpy>=1.24.2\n",
      "  Using cached numpy-1.24.3-cp310-cp310-manylinux_2_17_x86_64.manylinux2014_x86_64.whl (17.3 MB)\n",
      "Requirement already satisfied: funcy in /usr/local/lib/python3.10/dist-packages (from PyLDAVis==3.4.1) (2.0)\n",
      "Requirement already satisfied: scikit-learn>=1.0.0 in /usr/local/lib/python3.10/dist-packages (from PyLDAVis==3.4.1) (1.2.2)\n",
      "Requirement already satisfied: pandas>=2.0.0 in /usr/local/lib/python3.10/dist-packages (from PyLDAVis==3.4.1) (2.0.1)\n",
      "Requirement already satisfied: setuptools in /usr/local/lib/python3.10/dist-packages (from PyLDAVis==3.4.1) (67.7.2)\n",
      "Requirement already satisfied: jinja2 in /usr/local/lib/python3.10/dist-packages (from PyLDAVis==3.4.1) (3.1.2)\n",
      "Requirement already satisfied: scipy in /usr/local/lib/python3.10/dist-packages (from PyLDAVis==3.4.1) (1.10.1)\n",
      "Requirement already satisfied: numexpr in /usr/local/lib/python3.10/dist-packages (from PyLDAVis==3.4.1) (2.8.4)\n",
      "Requirement already satisfied: joblib>=1.2.0 in /usr/local/lib/python3.10/dist-packages (from PyLDAVis==3.4.1) (1.2.0)\n",
      "Requirement already satisfied: pytz>=2020.1 in /usr/local/lib/python3.10/dist-packages (from pandas>=2.0.0->PyLDAVis==3.4.1) (2022.7.1)\n",
      "Requirement already satisfied: tzdata>=2022.1 in /usr/local/lib/python3.10/dist-packages (from pandas>=2.0.0->PyLDAVis==3.4.1) (2023.3)\n",
      "Requirement already satisfied: python-dateutil>=2.8.2 in /usr/local/lib/python3.10/dist-packages (from pandas>=2.0.0->PyLDAVis==3.4.1) (2.8.2)\n",
      "Requirement already satisfied: threadpoolctl>=2.0.0 in /usr/local/lib/python3.10/dist-packages (from scikit-learn>=1.0.0->PyLDAVis==3.4.1) (3.1.0)\n",
      "Requirement already satisfied: smart-open>=1.8.1 in /usr/local/lib/python3.10/dist-packages (from gensim->PyLDAVis==3.4.1) (6.3.0)\n",
      "Requirement already satisfied: MarkupSafe>=2.0 in /usr/local/lib/python3.10/dist-packages (from jinja2->PyLDAVis==3.4.1) (2.1.2)\n",
      "Requirement already satisfied: six>=1.5 in /usr/local/lib/python3.10/dist-packages (from python-dateutil>=2.8.2->pandas>=2.0.0->PyLDAVis==3.4.1) (1.16.0)\n",
      "\u001b[33mWARNING: Ignoring invalid distribution -umpy (/usr/local/lib/python3.10/dist-packages)\u001b[0m\u001b[33m\n",
      "\u001b[0mInstalling collected packages: numpy\n",
      "\u001b[33mWARNING: Ignoring invalid distribution -umpy (/usr/local/lib/python3.10/dist-packages)\u001b[0m\u001b[33m\n",
      "\u001b[0m\u001b[31mERROR: pip's dependency resolver does not currently take into account all the packages that are installed. This behaviour is the source of the following dependency conflicts.\n",
      "tensorflow 2.12.0 requires numpy<1.24,>=1.22, but you have numpy 1.24.3 which is incompatible.\n",
      "numba 0.56.4 requires numpy<1.24,>=1.18, but you have numpy 1.24.3 which is incompatible.\n",
      "google-colab 1.0.0 requires pandas~=1.5.3, but you have pandas 2.0.1 which is incompatible.\u001b[0m\u001b[31m\n",
      "\u001b[0mSuccessfully installed numpy-1.24.3\n"
     ]
    }
   ],
   "source": [
    "# Colab users, please install\n",
    "!pip install PyLDAVis==3.4.1"
   ]
  },
  {
   "cell_type": "markdown",
   "metadata": {
    "id": "ITgOHfzIEYzo"
   },
   "source": [
    "### Jupyter Users"
   ]
  },
  {
   "cell_type": "code",
   "execution_count": 1,
   "metadata": {
    "id": "Lcpwhf7uSVT0"
   },
   "outputs": [
    {
     "name": "stdout",
     "output_type": "stream",
     "text": [
      "Requirement already satisfied: PyLDAVis==3.4.0 in d:\\software installed\\anaconda\\lib\\site-packages (3.4.0)\n",
      "Requirement already satisfied: scikit-learn>=1.0.0 in d:\\software installed\\anaconda\\lib\\site-packages (from PyLDAVis==3.4.0) (1.1.3)\n",
      "Requirement already satisfied: jinja2 in d:\\software installed\\anaconda\\lib\\site-packages (from PyLDAVis==3.4.0) (3.1.2)\n",
      "Requirement already satisfied: numpy>=1.22.0 in d:\\software installed\\anaconda\\lib\\site-packages (from PyLDAVis==3.4.0) (1.24.3)\n",
      "Requirement already satisfied: joblib>=1.2.0 in c:\\users\\furqan ali\\appdata\\roaming\\python\\python39\\site-packages (from PyLDAVis==3.4.0) (1.2.0)\n",
      "Requirement already satisfied: scipy in d:\\software installed\\anaconda\\lib\\site-packages (from PyLDAVis==3.4.0) (1.10.0)\n",
      "Requirement already satisfied: setuptools in d:\\software installed\\anaconda\\lib\\site-packages (from PyLDAVis==3.4.0) (65.6.3)\n",
      "Requirement already satisfied: funcy in d:\\software installed\\anaconda\\lib\\site-packages (from PyLDAVis==3.4.0) (2.0)\n",
      "Requirement already satisfied: numexpr in d:\\software installed\\anaconda\\lib\\site-packages (from PyLDAVis==3.4.0) (2.8.4)\n",
      "Requirement already satisfied: gensim in d:\\software installed\\anaconda\\lib\\site-packages (from PyLDAVis==3.4.0) (4.3.0)\n",
      "Requirement already satisfied: pandas>=1.3.4 in c:\\users\\furqan ali\\appdata\\roaming\\python\\python39\\site-packages (from PyLDAVis==3.4.0) (2.0.1)\n",
      "Requirement already satisfied: tzdata>=2022.1 in d:\\software installed\\anaconda\\lib\\site-packages (from pandas>=1.3.4->PyLDAVis==3.4.0) (2023.3)\n",
      "Requirement already satisfied: python-dateutil>=2.8.2 in d:\\software installed\\anaconda\\lib\\site-packages (from pandas>=1.3.4->PyLDAVis==3.4.0) (2.8.2)\n",
      "Requirement already satisfied: pytz>=2020.1 in d:\\software installed\\anaconda\\lib\\site-packages (from pandas>=1.3.4->PyLDAVis==3.4.0) (2022.7)\n",
      "Requirement already satisfied: threadpoolctl>=2.0.0 in d:\\software installed\\anaconda\\lib\\site-packages (from scikit-learn>=1.0.0->PyLDAVis==3.4.0) (2.2.0)\n",
      "Requirement already satisfied: smart-open>=1.8.1 in d:\\software installed\\anaconda\\lib\\site-packages (from gensim->PyLDAVis==3.4.0) (5.2.1)\n",
      "Requirement already satisfied: FuzzyTM>=0.4.0 in d:\\software installed\\anaconda\\lib\\site-packages (from gensim->PyLDAVis==3.4.0) (2.0.5)\n",
      "Requirement already satisfied: MarkupSafe>=2.0 in d:\\software installed\\anaconda\\lib\\site-packages (from jinja2->PyLDAVis==3.4.0) (2.1.1)\n",
      "Requirement already satisfied: pyfume in d:\\software installed\\anaconda\\lib\\site-packages (from FuzzyTM>=0.4.0->gensim->PyLDAVis==3.4.0) (0.2.25)\n",
      "Requirement already satisfied: six>=1.5 in d:\\software installed\\anaconda\\lib\\site-packages (from python-dateutil>=2.8.2->pandas>=1.3.4->PyLDAVis==3.4.0) (1.16.0)\n",
      "Requirement already satisfied: simpful in d:\\software installed\\anaconda\\lib\\site-packages (from pyfume->FuzzyTM>=0.4.0->gensim->PyLDAVis==3.4.0) (2.10.0)\n",
      "Requirement already satisfied: fst-pso in d:\\software installed\\anaconda\\lib\\site-packages (from pyfume->FuzzyTM>=0.4.0->gensim->PyLDAVis==3.4.0) (1.8.1)\n",
      "Requirement already satisfied: miniful in d:\\software installed\\anaconda\\lib\\site-packages (from fst-pso->pyfume->FuzzyTM>=0.4.0->gensim->PyLDAVis==3.4.0) (0.0.6)\n",
      "Requirement already satisfied: requests in d:\\software installed\\anaconda\\lib\\site-packages (from simpful->pyfume->FuzzyTM>=0.4.0->gensim->PyLDAVis==3.4.0) (2.28.1)\n",
      "Requirement already satisfied: urllib3<1.27,>=1.21.1 in d:\\software installed\\anaconda\\lib\\site-packages (from requests->simpful->pyfume->FuzzyTM>=0.4.0->gensim->PyLDAVis==3.4.0) (1.26.14)\n",
      "Requirement already satisfied: idna<4,>=2.5 in d:\\software installed\\anaconda\\lib\\site-packages (from requests->simpful->pyfume->FuzzyTM>=0.4.0->gensim->PyLDAVis==3.4.0) (3.4)\n",
      "Requirement already satisfied: charset-normalizer<3,>=2 in d:\\software installed\\anaconda\\lib\\site-packages (from requests->simpful->pyfume->FuzzyTM>=0.4.0->gensim->PyLDAVis==3.4.0) (2.0.4)\n",
      "Requirement already satisfied: certifi>=2017.4.17 in d:\\software installed\\anaconda\\lib\\site-packages (from requests->simpful->pyfume->FuzzyTM>=0.4.0->gensim->PyLDAVis==3.4.0) (2022.12.7)\n"
     ]
    },
    {
     "name": "stderr",
     "output_type": "stream",
     "text": [
      "WARNING: Ignoring invalid distribution -andas (d:\\software installed\\anaconda\\lib\\site-packages)\n",
      "WARNING: Ignoring invalid distribution -andas (d:\\software installed\\anaconda\\lib\\site-packages)\n",
      "WARNING: Ignoring invalid distribution -andas (d:\\software installed\\anaconda\\lib\\site-packages)\n",
      "WARNING: Ignoring invalid distribution -andas (d:\\software installed\\anaconda\\lib\\site-packages)\n",
      "WARNING: Ignoring invalid distribution -andas (d:\\software installed\\anaconda\\lib\\site-packages)\n",
      "WARNING: Ignoring invalid distribution -andas (d:\\software installed\\anaconda\\lib\\site-packages)\n"
     ]
    }
   ],
   "source": [
    "#Jupyter users, please install\n",
    "!pip install PyLDAVis==3.4.0"
   ]
  },
  {
   "cell_type": "markdown",
   "metadata": {
    "id": "v46q02hAEdPU"
   },
   "source": [
    "## Import Packages"
   ]
  },
  {
   "cell_type": "code",
   "execution_count": 2,
   "metadata": {
    "id": "DPD0J2qG-jsz"
   },
   "outputs": [
    {
     "name": "stdout",
     "output_type": "stream",
     "text": [
      "Collecting numpy==1.8\n",
      "  Using cached numpy-1.8.0.zip (4.3 MB)\n",
      "  Preparing metadata (setup.py): started\n",
      "  Preparing metadata (setup.py): finished with status 'error'\n"
     ]
    },
    {
     "name": "stderr",
     "output_type": "stream",
     "text": [
      "WARNING: Ignoring invalid distribution -andas (d:\\software installed\\anaconda\\lib\\site-packages)\n",
      "WARNING: Ignoring invalid distribution -andas (d:\\software installed\\anaconda\\lib\\site-packages)\n",
      "  error: subprocess-exited-with-error\n",
      "  \n",
      "  python setup.py egg_info did not run successfully.\n",
      "  exit code: 1\n",
      "  \n",
      "  [198 lines of output]\n",
      "  Running from numpy source directory.\n",
      "  C:\\Users\\Furqan Ali\\AppData\\Local\\Temp\\pip-install-grprk15s\\numpy_926e6dc5fcf64c8280c14b173551c684\\numpy\\distutils\\misc_util.py:415: SyntaxWarning: \"is\" with a literal. Did you mean \"==\"?\n",
      "    return is_string(s) and ('*' in s or '?' is s)\n",
      "  'svnversion' is not recognized as an internal or external command,\n",
      "  operable program or batch file.\n",
      "  non-existing path in 'numpy\\\\distutils': 'site.cfg'\n",
      "  F2PY Version 2\n",
      "  blas_opt_info:\n",
      "  blas_mkl_info:\n",
      "    libraries mkl,vml,guide not found in ['D:\\\\SOFTWARE INSTALLED\\\\ANACONDA\\\\lib', 'C:\\\\', 'D:\\\\SOFTWARE INSTALLED\\\\ANACONDA\\\\libs']\n",
      "    NOT AVAILABLE\n",
      "  \n",
      "  openblas_info:\n",
      "    libraries openblas not found in ['D:\\\\SOFTWARE INSTALLED\\\\ANACONDA\\\\lib', 'C:\\\\', 'D:\\\\SOFTWARE INSTALLED\\\\ANACONDA\\\\libs']\n",
      "    NOT AVAILABLE\n",
      "  \n",
      "  atlas_blas_threads_info:\n",
      "  Setting PTATLAS=ATLAS\n",
      "    libraries ptf77blas,ptcblas,atlas not found in ['D:\\\\SOFTWARE INSTALLED\\\\ANACONDA\\\\lib', 'C:\\\\', 'D:\\\\SOFTWARE INSTALLED\\\\ANACONDA\\\\libs']\n",
      "    NOT AVAILABLE\n",
      "  \n",
      "  atlas_blas_info:\n",
      "    libraries f77blas,cblas,atlas not found in ['D:\\\\SOFTWARE INSTALLED\\\\ANACONDA\\\\lib', 'C:\\\\', 'D:\\\\SOFTWARE INSTALLED\\\\ANACONDA\\\\libs']\n",
      "    NOT AVAILABLE\n",
      "  \n",
      "  C:\\Users\\Furqan Ali\\AppData\\Local\\Temp\\pip-install-grprk15s\\numpy_926e6dc5fcf64c8280c14b173551c684\\numpy\\distutils\\system_info.py:1522: UserWarning:\n",
      "      Atlas (http://math-atlas.sourceforge.net/) libraries not found.\n",
      "      Directories to search for the libraries can be specified in the\n",
      "      numpy/distutils/site.cfg file (section [atlas]) or by setting\n",
      "      the ATLAS environment variable.\n",
      "    warnings.warn(AtlasNotFoundError.__doc__)\n",
      "  blas_info:\n",
      "    libraries blas not found in ['D:\\\\SOFTWARE INSTALLED\\\\ANACONDA\\\\lib', 'C:\\\\', 'D:\\\\SOFTWARE INSTALLED\\\\ANACONDA\\\\libs']\n",
      "    NOT AVAILABLE\n",
      "  \n",
      "  C:\\Users\\Furqan Ali\\AppData\\Local\\Temp\\pip-install-grprk15s\\numpy_926e6dc5fcf64c8280c14b173551c684\\numpy\\distutils\\system_info.py:1531: UserWarning:\n",
      "      Blas (http://www.netlib.org/blas/) libraries not found.\n",
      "      Directories to search for the libraries can be specified in the\n",
      "      numpy/distutils/site.cfg file (section [blas]) or by setting\n",
      "      the BLAS environment variable.\n",
      "    warnings.warn(BlasNotFoundError.__doc__)\n",
      "  blas_src_info:\n",
      "    NOT AVAILABLE\n",
      "  \n",
      "  C:\\Users\\Furqan Ali\\AppData\\Local\\Temp\\pip-install-grprk15s\\numpy_926e6dc5fcf64c8280c14b173551c684\\numpy\\distutils\\system_info.py:1534: UserWarning:\n",
      "      Blas (http://www.netlib.org/blas/) sources not found.\n",
      "      Directories to search for the sources can be specified in the\n",
      "      numpy/distutils/site.cfg file (section [blas_src]) or by setting\n",
      "      the BLAS_SRC environment variable.\n",
      "    warnings.warn(BlasSrcNotFoundError.__doc__)\n",
      "    NOT AVAILABLE\n",
      "  \n",
      "  'svnversion' is not recognized as an internal or external command,\n",
      "  operable program or batch file.\n",
      "  non-existing path in 'numpy\\\\lib': 'benchmarks'\n",
      "  lapack_opt_info:\n",
      "  lapack_mkl_info:\n",
      "  mkl_info:\n",
      "    libraries mkl,vml,guide not found in ['D:\\\\SOFTWARE INSTALLED\\\\ANACONDA\\\\lib', 'C:\\\\', 'D:\\\\SOFTWARE INSTALLED\\\\ANACONDA\\\\libs']\n",
      "    NOT AVAILABLE\n",
      "  \n",
      "    NOT AVAILABLE\n",
      "  \n",
      "  atlas_threads_info:\n",
      "  Setting PTATLAS=ATLAS\n",
      "    libraries ptf77blas,ptcblas,atlas not found in D:\\SOFTWARE INSTALLED\\ANACONDA\\lib\n",
      "    libraries lapack_atlas not found in D:\\SOFTWARE INSTALLED\\ANACONDA\\lib\n",
      "    libraries ptf77blas,ptcblas,atlas not found in C:\\\n",
      "    libraries lapack_atlas not found in C:\\\n",
      "    libraries ptf77blas,ptcblas,atlas not found in D:\\SOFTWARE INSTALLED\\ANACONDA\\libs\n",
      "    libraries lapack_atlas not found in D:\\SOFTWARE INSTALLED\\ANACONDA\\libs\n",
      "  <class 'numpy.distutils.system_info.atlas_threads_info'>\n",
      "    NOT AVAILABLE\n",
      "  \n",
      "  atlas_info:\n",
      "    libraries f77blas,cblas,atlas not found in D:\\SOFTWARE INSTALLED\\ANACONDA\\lib\n",
      "    libraries lapack_atlas not found in D:\\SOFTWARE INSTALLED\\ANACONDA\\lib\n",
      "    libraries f77blas,cblas,atlas not found in C:\\\n",
      "    libraries lapack_atlas not found in C:\\\n",
      "    libraries f77blas,cblas,atlas not found in D:\\SOFTWARE INSTALLED\\ANACONDA\\libs\n",
      "    libraries lapack_atlas not found in D:\\SOFTWARE INSTALLED\\ANACONDA\\libs\n",
      "  <class 'numpy.distutils.system_info.atlas_info'>\n",
      "    NOT AVAILABLE\n",
      "  \n",
      "  C:\\Users\\Furqan Ali\\AppData\\Local\\Temp\\pip-install-grprk15s\\numpy_926e6dc5fcf64c8280c14b173551c684\\numpy\\distutils\\system_info.py:1428: UserWarning:\n",
      "      Atlas (http://math-atlas.sourceforge.net/) libraries not found.\n",
      "      Directories to search for the libraries can be specified in the\n",
      "      numpy/distutils/site.cfg file (section [atlas]) or by setting\n",
      "      the ATLAS environment variable.\n",
      "    warnings.warn(AtlasNotFoundError.__doc__)\n",
      "  lapack_info:\n",
      "    libraries lapack not found in ['D:\\\\SOFTWARE INSTALLED\\\\ANACONDA\\\\lib', 'C:\\\\', 'D:\\\\SOFTWARE INSTALLED\\\\ANACONDA\\\\libs']\n",
      "    NOT AVAILABLE\n",
      "  \n",
      "  C:\\Users\\Furqan Ali\\AppData\\Local\\Temp\\pip-install-grprk15s\\numpy_926e6dc5fcf64c8280c14b173551c684\\numpy\\distutils\\system_info.py:1439: UserWarning:\n",
      "      Lapack (http://www.netlib.org/lapack/) libraries not found.\n",
      "      Directories to search for the libraries can be specified in the\n",
      "      numpy/distutils/site.cfg file (section [lapack]) or by setting\n",
      "      the LAPACK environment variable.\n",
      "    warnings.warn(LapackNotFoundError.__doc__)\n",
      "  lapack_src_info:\n",
      "    NOT AVAILABLE\n",
      "  \n",
      "  C:\\Users\\Furqan Ali\\AppData\\Local\\Temp\\pip-install-grprk15s\\numpy_926e6dc5fcf64c8280c14b173551c684\\numpy\\distutils\\system_info.py:1442: UserWarning:\n",
      "      Lapack (http://www.netlib.org/lapack/) sources not found.\n",
      "      Directories to search for the sources can be specified in the\n",
      "      numpy/distutils/site.cfg file (section [lapack_src]) or by setting\n",
      "      the LAPACK_SRC environment variable.\n",
      "    warnings.warn(LapackSrcNotFoundError.__doc__)\n",
      "    NOT AVAILABLE\n",
      "  \n",
      "  D:\\SOFTWARE INSTALLED\\ANACONDA\\lib\\site-packages\\setuptools\\_distutils\\dist.py:265: UserWarning: Unknown distribution option: 'define_macros'\n",
      "    warnings.warn(msg)\n",
      "  running egg_info\n",
      "  running build_src\n",
      "  build_src\n",
      "  building py_modules sources\n",
      "  creating build\n",
      "  creating build\\src.win-amd64-3.9\n",
      "  creating build\\src.win-amd64-3.9\\numpy\n",
      "  creating build\\src.win-amd64-3.9\\numpy\\distutils\n",
      "  building library \"npymath\" sources\n",
      "  No module named 'numpy.distutils._msvccompiler' in numpy.distutils; trying from distutils\n",
      "  customize GnuFCompiler\n",
      "  Could not locate executable g77\n",
      "  Could not locate executable f77\n",
      "  customize IntelVisualFCompiler\n",
      "  Could not locate executable ifort\n",
      "  Could not locate executable ifl\n",
      "  customize AbsoftFCompiler\n",
      "  Could not locate executable f90\n",
      "  customize CompaqVisualFCompiler\n",
      "  Could not locate executable DF\n",
      "  customize IntelItaniumVisualFCompiler\n",
      "  Could not locate executable efl\n",
      "  customize Gnu95FCompiler\n",
      "  Found executable C:\\mingw64\\bin\\gfortran.exe\n",
      "  Found executable C:\\mingw64\\bin\\gfortran.exe\n",
      "  customize Gnu95FCompiler\n",
      "  customize Gnu95FCompiler using config\n",
      "  D:\\SOFTWARE INSTALLED\\ANACONDA\\lib\\site-packages\\setuptools\\_distutils\\_msvccompiler.py:546: UserWarning: Fallback spawn triggered. Please update distutils monkeypatch.\n",
      "    warnings.warn(\"Fallback spawn triggered. Please update distutils monkeypatch.\")\n",
      "  C:\\Program Files\\Microsoft Visual Studio\\2022\\Community\\VC\\Tools\\MSVC\\14.35.32215\\bin\\HostX86\\x64\\cl.exe /c /nologo /O2 /W3 /GL /DNDEBUG /MD -Inumpy\\core\\src\\private -Inumpy\\core\\src -Inumpy\\core -Inumpy\\core\\src\\npymath -Inumpy\\core\\src\\multiarray -Inumpy\\core\\src\\umath -Inumpy\\core\\src\\npysort -Inumpy\\core\\include -I\"D:\\SOFTWARE INSTALLED\\ANACONDA\\include\" -I\"D:\\SOFTWARE INSTALLED\\ANACONDA\\Include\" -I\"C:\\Program Files\\Microsoft Visual Studio\\2022\\Community\\VC\\Tools\\MSVC\\14.35.32215\\include\" -I\"C:\\Program Files\\Microsoft Visual Studio\\2022\\Community\\VC\\Tools\\MSVC\\14.35.32215\\ATLMFC\\include\" -I\"C:\\Program Files\\Microsoft Visual Studio\\2022\\Community\\VC\\Auxiliary\\VS\\include\" -I\"C:\\Program Files (x86)\\Windows Kits\\10\\include\\10.0.22000.0\\ucrt\" -I\"C:\\Program Files (x86)\\Windows Kits\\10\\\\include\\10.0.22000.0\\\\um\" -I\"C:\\Program Files (x86)\\Windows Kits\\10\\\\include\\10.0.22000.0\\\\shared\" -I\"C:\\Program Files (x86)\\Windows Kits\\10\\\\include\\10.0.22000.0\\\\winrt\" -I\"C:\\Program Files (x86)\\Windows Kits\\10\\\\include\\10.0.22000.0\\\\cppwinrt\" -I\"C:\\Program Files (x86)\\Windows Kits\\NETFXSDK\\4.8\\include\\um\" /Tc_configtest.c /Fo_configtest.obj\n",
      "  Found executable C:\\Program Files\\Microsoft Visual Studio\\2022\\Community\\VC\\Tools\\MSVC\\14.35.32215\\bin\\HostX86\\x64\\cl.exe\n",
      "  Traceback (most recent call last):\n",
      "    File \"<string>\", line 2, in <module>\n",
      "    File \"<pip-setuptools-caller>\", line 34, in <module>\n",
      "    File \"C:\\Users\\Furqan Ali\\AppData\\Local\\Temp\\pip-install-grprk15s\\numpy_926e6dc5fcf64c8280c14b173551c684\\setup.py\", line 192, in <module>\n",
      "      setup_package()\n",
      "    File \"C:\\Users\\Furqan Ali\\AppData\\Local\\Temp\\pip-install-grprk15s\\numpy_926e6dc5fcf64c8280c14b173551c684\\setup.py\", line 172, in setup_package\n",
      "      setup(\n",
      "    File \"C:\\Users\\Furqan Ali\\AppData\\Local\\Temp\\pip-install-grprk15s\\numpy_926e6dc5fcf64c8280c14b173551c684\\numpy\\distutils\\core.py\", line 169, in setup\n",
      "      return old_setup(**new_attr)\n",
      "    File \"D:\\SOFTWARE INSTALLED\\ANACONDA\\lib\\site-packages\\setuptools\\__init__.py\", line 87, in setup\n",
      "      return distutils.core.setup(**attrs)\n",
      "    File \"D:\\SOFTWARE INSTALLED\\ANACONDA\\lib\\site-packages\\setuptools\\_distutils\\core.py\", line 185, in setup\n",
      "      return run_commands(dist)\n",
      "    File \"D:\\SOFTWARE INSTALLED\\ANACONDA\\lib\\site-packages\\setuptools\\_distutils\\core.py\", line 201, in run_commands\n",
      "      dist.run_commands()\n",
      "    File \"D:\\SOFTWARE INSTALLED\\ANACONDA\\lib\\site-packages\\setuptools\\_distutils\\dist.py\", line 969, in run_commands\n",
      "      self.run_command(cmd)\n",
      "    File \"D:\\SOFTWARE INSTALLED\\ANACONDA\\lib\\site-packages\\setuptools\\dist.py\", line 1208, in run_command\n",
      "      super().run_command(command)\n",
      "    File \"D:\\SOFTWARE INSTALLED\\ANACONDA\\lib\\site-packages\\setuptools\\_distutils\\dist.py\", line 988, in run_command\n",
      "      cmd_obj.run()\n",
      "    File \"C:\\Users\\Furqan Ali\\AppData\\Local\\Temp\\pip-install-grprk15s\\numpy_926e6dc5fcf64c8280c14b173551c684\\numpy\\distutils\\command\\egg_info.py\", line 10, in run\n",
      "      self.run_command(\"build_src\")\n",
      "    File \"D:\\SOFTWARE INSTALLED\\ANACONDA\\lib\\site-packages\\setuptools\\_distutils\\cmd.py\", line 318, in run_command\n",
      "      self.distribution.run_command(command)\n",
      "    File \"D:\\SOFTWARE INSTALLED\\ANACONDA\\lib\\site-packages\\setuptools\\dist.py\", line 1208, in run_command\n",
      "      super().run_command(command)\n",
      "    File \"D:\\SOFTWARE INSTALLED\\ANACONDA\\lib\\site-packages\\setuptools\\_distutils\\dist.py\", line 988, in run_command\n",
      "      cmd_obj.run()\n",
      "    File \"C:\\Users\\Furqan Ali\\AppData\\Local\\Temp\\pip-install-grprk15s\\numpy_926e6dc5fcf64c8280c14b173551c684\\numpy\\distutils\\command\\build_src.py\", line 153, in run\n",
      "      self.build_sources()\n",
      "    File \"C:\\Users\\Furqan Ali\\AppData\\Local\\Temp\\pip-install-grprk15s\\numpy_926e6dc5fcf64c8280c14b173551c684\\numpy\\distutils\\command\\build_src.py\", line 164, in build_sources\n",
      "      self.build_library_sources(*libname_info)\n",
      "    File \"C:\\Users\\Furqan Ali\\AppData\\Local\\Temp\\pip-install-grprk15s\\numpy_926e6dc5fcf64c8280c14b173551c684\\numpy\\distutils\\command\\build_src.py\", line 299, in build_library_sources\n",
      "      sources = self.generate_sources(sources, (lib_name, build_info))\n",
      "    File \"C:\\Users\\Furqan Ali\\AppData\\Local\\Temp\\pip-install-grprk15s\\numpy_926e6dc5fcf64c8280c14b173551c684\\numpy\\distutils\\command\\build_src.py\", line 386, in generate_sources\n",
      "      source = func(extension, build_dir)\n",
      "    File \"numpy\\core\\setup.py\", line 672, in get_mathlib_info\n",
      "      st = config_cmd.try_link('int main(void) { return 0;}')\n",
      "    File \"D:\\SOFTWARE INSTALLED\\ANACONDA\\lib\\site-packages\\setuptools\\_distutils\\command\\config.py\", line 250, in try_link\n",
      "      self._link(body, headers, include_dirs, libraries, library_dirs, lang)\n",
      "    File \"C:\\Users\\Furqan Ali\\AppData\\Local\\Temp\\pip-install-grprk15s\\numpy_926e6dc5fcf64c8280c14b173551c684\\numpy\\distutils\\command\\config.py\", line 148, in _link\n",
      "      return self._wrap_method(old_config._link, lang,\n",
      "    File \"C:\\Users\\Furqan Ali\\AppData\\Local\\Temp\\pip-install-grprk15s\\numpy_926e6dc5fcf64c8280c14b173551c684\\numpy\\distutils\\command\\config.py\", line 90, in _wrap_method\n",
      "      ret = mth(*((self,)+args))\n",
      "    File \"D:\\SOFTWARE INSTALLED\\ANACONDA\\lib\\site-packages\\setuptools\\_distutils\\command\\config.py\", line 135, in _link\n",
      "      self.compiler.link_executable(\n",
      "    File \"D:\\SOFTWARE INSTALLED\\ANACONDA\\lib\\site-packages\\setuptools\\_distutils\\ccompiler.py\", line 780, in link_executable\n",
      "      self.link(\n",
      "    File \"D:\\SOFTWARE INSTALLED\\ANACONDA\\lib\\site-packages\\setuptools\\_distutils\\_msvccompiler.py\", line 484, in link\n",
      "      lib_opts = gen_lib_options(self, library_dirs, runtime_library_dirs, libraries)\n",
      "    File \"D:\\SOFTWARE INSTALLED\\ANACONDA\\lib\\site-packages\\setuptools\\msvc.py\", line 228, in msvc14_gen_lib_options\n",
      "      if LegacyVersion(np.__version__) < LegacyVersion('1.11.2'):\n",
      "  AttributeError: module 'numpy' has no attribute '__version__'\n",
      "  [end of output]\n",
      "  \n",
      "  note: This error originates from a subprocess, and is likely not a problem with pip.\n",
      "error: metadata-generation-failed\n",
      "\n",
      "Encountered error while generating package metadata.\n",
      "\n",
      "See above for output.\n",
      "\n",
      "note: This is an issue with the package mentioned above, not pip.\n",
      "hint: See above for details.\n",
      "WARNING: Ignoring invalid distribution -andas (d:\\software installed\\anaconda\\lib\\site-packages)\n",
      "WARNING: Ignoring invalid distribution -andas (d:\\software installed\\anaconda\\lib\\site-packages)\n",
      "WARNING: Ignoring invalid distribution -andas (d:\\software installed\\anaconda\\lib\\site-packages)\n"
     ]
    }
   ],
   "source": [
    "!pip install numpy==1.8"
   ]
  },
  {
   "cell_type": "code",
   "execution_count": 3,
   "metadata": {
    "id": "JX-EY0-b-45h"
   },
   "outputs": [
    {
     "name": "stdout",
     "output_type": "stream",
     "text": [
      "Requirement already satisfied: numpy in d:\\software installed\\anaconda\\lib\\site-packages (1.24.3)\n",
      "Note: you may need to restart the kernel to use updated packages.\n"
     ]
    },
    {
     "name": "stderr",
     "output_type": "stream",
     "text": [
      "WARNING: Ignoring invalid distribution -andas (d:\\software installed\\anaconda\\lib\\site-packages)\n",
      "WARNING: Ignoring invalid distribution -andas (d:\\software installed\\anaconda\\lib\\site-packages)\n",
      "WARNING: Ignoring invalid distribution -andas (d:\\software installed\\anaconda\\lib\\site-packages)\n",
      "WARNING: Ignoring invalid distribution -andas (d:\\software installed\\anaconda\\lib\\site-packages)\n",
      "WARNING: Ignoring invalid distribution -andas (d:\\software installed\\anaconda\\lib\\site-packages)\n",
      "WARNING: Ignoring invalid distribution -andas (d:\\software installed\\anaconda\\lib\\site-packages)\n"
     ]
    }
   ],
   "source": [
    "pip install numpy --upgrade"
   ]
  },
  {
   "cell_type": "code",
   "execution_count": 1,
   "metadata": {
    "colab": {
     "base_uri": "https://localhost:8080/"
    },
    "id": "VXxmTjli2zHe",
    "outputId": "cff8ab9b-4c4e-4617-ca92-bed21ec50b9d"
   },
   "outputs": [],
   "source": [
    "import pandas as pd\n",
    "import numpy as np\n",
    "import nltk\n",
    "from nltk.stem import WordNetLemmatizer\n",
    "from sklearn.feature_extraction.text import CountVectorizer\n",
    "from sklearn.decomposition import LatentDirichletAllocation\n",
    "import pyLDAvis.lda_model\n",
    "\n",
    "#warnings.filterwarnings('ignore')"
   ]
  },
  {
   "cell_type": "code",
   "execution_count": 2,
   "metadata": {
    "colab": {
     "base_uri": "https://localhost:8080/"
    },
    "id": "RGJcVbQn2b8U",
    "outputId": "0d3d5cf0-3f7f-47fd-910f-6011696596d2"
   },
   "outputs": [],
   "source": [
    "# %% [code]"
   ]
  },
  {
   "cell_type": "markdown",
   "metadata": {
    "id": "7DaIuc1X2zHh"
   },
   "source": [
    "# Data Preparation"
   ]
  },
  {
   "cell_type": "markdown",
   "metadata": {
    "id": "_ThSLGB2HdYf"
   },
   "source": [
    "## Tweets_sport"
   ]
  },
  {
   "cell_type": "code",
   "execution_count": 3,
   "metadata": {
    "colab": {
     "base_uri": "https://localhost:8080/"
    },
    "id": "x_KovWsB0PwZ",
    "outputId": "7e801730-4341-495a-88e4-73366e5e9f46"
   },
   "outputs": [
    {
     "name": "stdout",
     "output_type": "stream",
     "text": [
      "<class 'pandas.core.frame.DataFrame'>\n",
      "RangeIndex: 13523 entries, 0 to 13522\n",
      "Data columns (total 14 columns):\n",
      " #   Column            Non-Null Count  Dtype  \n",
      "---  ------            --------------  -----  \n",
      " 0   id                13523 non-null  float64\n",
      " 1   text              13523 non-null  object \n",
      " 2   event_number      13523 non-null  int64  \n",
      " 3   player_dummy      13523 non-null  int64  \n",
      " 4   team_dummy        13523 non-null  int64  \n",
      " 5   weekday           13523 non-null  int64  \n",
      " 6   month             13523 non-null  int64  \n",
      " 7   day               13523 non-null  int64  \n",
      " 8   time              13523 non-null  object \n",
      " 9   user_screen_name  13523 non-null  object \n",
      " 10  retweets          13522 non-null  float64\n",
      " 11  likes             13522 non-null  float64\n",
      " 12  comments          13522 non-null  float64\n",
      " 13  Unnamed: 13       1 non-null      object \n",
      "dtypes: float64(4), int64(6), object(4)\n",
      "memory usage: 1.4+ MB\n"
     ]
    }
   ],
   "source": [
    "# Uploading .csv to dataframe and examining info\n",
    "data_twt=pd.read_csv('D:/WORK/Fiver/Ldgs/04/part 2/tweets_sport.csv', na_values = ' ')\n",
    "data_twt.info()"
   ]
  },
  {
   "cell_type": "code",
   "execution_count": 4,
   "metadata": {
    "colab": {
     "base_uri": "https://localhost:8080/",
     "height": 261
    },
    "id": "hLPDSZek2zHh",
    "outputId": "43af9f75-c2d8-457f-8810-14ff266bb27b"
   },
   "outputs": [
    {
     "data": {
      "text/html": [
       "<div>\n",
       "<style scoped>\n",
       "    .dataframe tbody tr th:only-of-type {\n",
       "        vertical-align: middle;\n",
       "    }\n",
       "\n",
       "    .dataframe tbody tr th {\n",
       "        vertical-align: top;\n",
       "    }\n",
       "\n",
       "    .dataframe thead th {\n",
       "        text-align: right;\n",
       "    }\n",
       "</style>\n",
       "<table border=\"1\" class=\"dataframe\">\n",
       "  <thead>\n",
       "    <tr style=\"text-align: right;\">\n",
       "      <th></th>\n",
       "      <th>id</th>\n",
       "      <th>text</th>\n",
       "      <th>event_number</th>\n",
       "      <th>player_dummy</th>\n",
       "      <th>team_dummy</th>\n",
       "      <th>weekday</th>\n",
       "      <th>month</th>\n",
       "      <th>day</th>\n",
       "      <th>time</th>\n",
       "      <th>user_screen_name</th>\n",
       "      <th>retweets</th>\n",
       "      <th>likes</th>\n",
       "      <th>comments</th>\n",
       "      <th>Unnamed: 13</th>\n",
       "    </tr>\n",
       "  </thead>\n",
       "  <tbody>\n",
       "    <tr>\n",
       "      <th>0</th>\n",
       "      <td>5.210000e+17</td>\n",
       "      <td>\"rt @dariofranchitti: this bathurst race has b...</td>\n",
       "      <td>11</td>\n",
       "      <td>0</td>\n",
       "      <td>0</td>\n",
       "      <td>7</td>\n",
       "      <td>10</td>\n",
       "      <td>12</td>\n",
       "      <td>7:28</td>\n",
       "      <td>007_dot</td>\n",
       "      <td>0.0</td>\n",
       "      <td>0.0</td>\n",
       "      <td>0.0</td>\n",
       "      <td></td>\n",
       "    </tr>\n",
       "    <tr>\n",
       "      <th>1</th>\n",
       "      <td>5.210000e+17</td>\n",
       "      <td>\"rt @wtf1couk: gp3 fans while you're waiting f...</td>\n",
       "      <td>11</td>\n",
       "      <td>0</td>\n",
       "      <td>0</td>\n",
       "      <td>7</td>\n",
       "      <td>10</td>\n",
       "      <td>12</td>\n",
       "      <td>7:28</td>\n",
       "      <td>007_dot</td>\n",
       "      <td>0.0</td>\n",
       "      <td>0.0</td>\n",
       "      <td>0.0</td>\n",
       "      <td>NaN</td>\n",
       "    </tr>\n",
       "    <tr>\n",
       "      <th>2</th>\n",
       "      <td>5.210000e+17</td>\n",
       "      <td>\"rt @sally_fitz: incredible final laps of #bat...</td>\n",
       "      <td>11</td>\n",
       "      <td>1</td>\n",
       "      <td>0</td>\n",
       "      <td>7</td>\n",
       "      <td>10</td>\n",
       "      <td>12</td>\n",
       "      <td>7:31</td>\n",
       "      <td>007cnt</td>\n",
       "      <td>0.0</td>\n",
       "      <td>0.0</td>\n",
       "      <td>0.0</td>\n",
       "      <td>NaN</td>\n",
       "    </tr>\n",
       "    <tr>\n",
       "      <th>3</th>\n",
       "      <td>5.210000e+17</td>\n",
       "      <td>\"rt @v8supercars: top 10 - mostert, moffat, pe...</td>\n",
       "      <td>11</td>\n",
       "      <td>0</td>\n",
       "      <td>0</td>\n",
       "      <td>7</td>\n",
       "      <td>10</td>\n",
       "      <td>12</td>\n",
       "      <td>9:04</td>\n",
       "      <td>007pixxx</td>\n",
       "      <td>0.0</td>\n",
       "      <td>0.0</td>\n",
       "      <td>0.0</td>\n",
       "      <td>NaN</td>\n",
       "    </tr>\n",
       "    <tr>\n",
       "      <th>4</th>\n",
       "      <td>5.210000e+17</td>\n",
       "      <td>\"#bathurst1000  i present to you, the fully st...</td>\n",
       "      <td>11</td>\n",
       "      <td>0</td>\n",
       "      <td>0</td>\n",
       "      <td>7</td>\n",
       "      <td>10</td>\n",
       "      <td>12</td>\n",
       "      <td>10:20</td>\n",
       "      <td>007pixxx</td>\n",
       "      <td>0.0</td>\n",
       "      <td>0.0</td>\n",
       "      <td>0.0</td>\n",
       "      <td>NaN</td>\n",
       "    </tr>\n",
       "  </tbody>\n",
       "</table>\n",
       "</div>"
      ],
      "text/plain": [
       "             id                                               text   \n",
       "0  5.210000e+17  \"rt @dariofranchitti: this bathurst race has b...  \\\n",
       "1  5.210000e+17  \"rt @wtf1couk: gp3 fans while you're waiting f...   \n",
       "2  5.210000e+17  \"rt @sally_fitz: incredible final laps of #bat...   \n",
       "3  5.210000e+17  \"rt @v8supercars: top 10 - mostert, moffat, pe...   \n",
       "4  5.210000e+17  \"#bathurst1000  i present to you, the fully st...   \n",
       "\n",
       "   event_number  player_dummy  team_dummy  weekday  month  day   time   \n",
       "0            11             0           0        7     10   12   7:28  \\\n",
       "1            11             0           0        7     10   12   7:28   \n",
       "2            11             1           0        7     10   12   7:31   \n",
       "3            11             0           0        7     10   12   9:04   \n",
       "4            11             0           0        7     10   12  10:20   \n",
       "\n",
       "  user_screen_name  retweets  likes  comments Unnamed: 13  \n",
       "0          007_dot       0.0    0.0       0.0              \n",
       "1          007_dot       0.0    0.0       0.0         NaN  \n",
       "2           007cnt       0.0    0.0       0.0         NaN  \n",
       "3         007pixxx       0.0    0.0       0.0         NaN  \n",
       "4         007pixxx       0.0    0.0       0.0         NaN  "
      ]
     },
     "execution_count": 4,
     "metadata": {},
     "output_type": "execute_result"
    }
   ],
   "source": [
    "# Check the dataset\n",
    "data_twt.head()"
   ]
  },
  {
   "cell_type": "code",
   "execution_count": 5,
   "metadata": {
    "colab": {
     "base_uri": "https://localhost:8080/",
     "height": 355
    },
    "id": "MTycAKNF2zHi",
    "outputId": "2714dc38-a667-4099-c4ba-9672ab310bb6"
   },
   "outputs": [
    {
     "data": {
      "text/html": [
       "<div>\n",
       "<style scoped>\n",
       "    .dataframe tbody tr th:only-of-type {\n",
       "        vertical-align: middle;\n",
       "    }\n",
       "\n",
       "    .dataframe tbody tr th {\n",
       "        vertical-align: top;\n",
       "    }\n",
       "\n",
       "    .dataframe thead th {\n",
       "        text-align: right;\n",
       "    }\n",
       "</style>\n",
       "<table border=\"1\" class=\"dataframe\">\n",
       "  <thead>\n",
       "    <tr style=\"text-align: right;\">\n",
       "      <th></th>\n",
       "      <th>id</th>\n",
       "      <th>event_number</th>\n",
       "      <th>player_dummy</th>\n",
       "      <th>team_dummy</th>\n",
       "      <th>weekday</th>\n",
       "      <th>month</th>\n",
       "      <th>day</th>\n",
       "      <th>retweets</th>\n",
       "      <th>likes</th>\n",
       "      <th>comments</th>\n",
       "    </tr>\n",
       "  </thead>\n",
       "  <tbody>\n",
       "    <tr>\n",
       "      <th>count</th>\n",
       "      <td>1.352300e+04</td>\n",
       "      <td>13523.000000</td>\n",
       "      <td>13523.000000</td>\n",
       "      <td>13523.000000</td>\n",
       "      <td>13523.000000</td>\n",
       "      <td>13523.000000</td>\n",
       "      <td>13523.000000</td>\n",
       "      <td>13522.000000</td>\n",
       "      <td>13522.000000</td>\n",
       "      <td>13522.000000</td>\n",
       "    </tr>\n",
       "    <tr>\n",
       "      <th>mean</th>\n",
       "      <td>5.098869e+17</td>\n",
       "      <td>9.730977</td>\n",
       "      <td>0.102936</td>\n",
       "      <td>0.008726</td>\n",
       "      <td>6.815426</td>\n",
       "      <td>8.971974</td>\n",
       "      <td>12.715817</td>\n",
       "      <td>0.338707</td>\n",
       "      <td>0.623281</td>\n",
       "      <td>0.113223</td>\n",
       "    </tr>\n",
       "    <tr>\n",
       "      <th>std</th>\n",
       "      <td>2.537884e+16</td>\n",
       "      <td>3.038715</td>\n",
       "      <td>0.303886</td>\n",
       "      <td>0.093007</td>\n",
       "      <td>0.444136</td>\n",
       "      <td>2.292286</td>\n",
       "      <td>5.488871</td>\n",
       "      <td>3.102980</td>\n",
       "      <td>5.086552</td>\n",
       "      <td>0.709985</td>\n",
       "    </tr>\n",
       "    <tr>\n",
       "      <th>min</th>\n",
       "      <td>4.390000e+17</td>\n",
       "      <td>1.000000</td>\n",
       "      <td>0.000000</td>\n",
       "      <td>0.000000</td>\n",
       "      <td>5.000000</td>\n",
       "      <td>2.000000</td>\n",
       "      <td>1.000000</td>\n",
       "      <td>0.000000</td>\n",
       "      <td>0.000000</td>\n",
       "      <td>0.000000</td>\n",
       "    </tr>\n",
       "    <tr>\n",
       "      <th>25%</th>\n",
       "      <td>5.210000e+17</td>\n",
       "      <td>11.000000</td>\n",
       "      <td>0.000000</td>\n",
       "      <td>0.000000</td>\n",
       "      <td>7.000000</td>\n",
       "      <td>10.000000</td>\n",
       "      <td>12.000000</td>\n",
       "      <td>0.000000</td>\n",
       "      <td>0.000000</td>\n",
       "      <td>0.000000</td>\n",
       "    </tr>\n",
       "    <tr>\n",
       "      <th>50%</th>\n",
       "      <td>5.210000e+17</td>\n",
       "      <td>11.000000</td>\n",
       "      <td>0.000000</td>\n",
       "      <td>0.000000</td>\n",
       "      <td>7.000000</td>\n",
       "      <td>10.000000</td>\n",
       "      <td>12.000000</td>\n",
       "      <td>0.000000</td>\n",
       "      <td>0.000000</td>\n",
       "      <td>0.000000</td>\n",
       "    </tr>\n",
       "    <tr>\n",
       "      <th>75%</th>\n",
       "      <td>5.210000e+17</td>\n",
       "      <td>11.000000</td>\n",
       "      <td>0.000000</td>\n",
       "      <td>0.000000</td>\n",
       "      <td>7.000000</td>\n",
       "      <td>10.000000</td>\n",
       "      <td>12.000000</td>\n",
       "      <td>0.000000</td>\n",
       "      <td>0.000000</td>\n",
       "      <td>0.000000</td>\n",
       "    </tr>\n",
       "    <tr>\n",
       "      <th>max</th>\n",
       "      <td>5.410000e+17</td>\n",
       "      <td>14.000000</td>\n",
       "      <td>1.000000</td>\n",
       "      <td>1.000000</td>\n",
       "      <td>7.000000</td>\n",
       "      <td>12.000000</td>\n",
       "      <td>29.000000</td>\n",
       "      <td>265.000000</td>\n",
       "      <td>303.000000</td>\n",
       "      <td>39.000000</td>\n",
       "    </tr>\n",
       "  </tbody>\n",
       "</table>\n",
       "</div>"
      ],
      "text/plain": [
       "                 id  event_number  player_dummy    team_dummy       weekday   \n",
       "count  1.352300e+04  13523.000000  13523.000000  13523.000000  13523.000000  \\\n",
       "mean   5.098869e+17      9.730977      0.102936      0.008726      6.815426   \n",
       "std    2.537884e+16      3.038715      0.303886      0.093007      0.444136   \n",
       "min    4.390000e+17      1.000000      0.000000      0.000000      5.000000   \n",
       "25%    5.210000e+17     11.000000      0.000000      0.000000      7.000000   \n",
       "50%    5.210000e+17     11.000000      0.000000      0.000000      7.000000   \n",
       "75%    5.210000e+17     11.000000      0.000000      0.000000      7.000000   \n",
       "max    5.410000e+17     14.000000      1.000000      1.000000      7.000000   \n",
       "\n",
       "              month           day      retweets         likes      comments  \n",
       "count  13523.000000  13523.000000  13522.000000  13522.000000  13522.000000  \n",
       "mean       8.971974     12.715817      0.338707      0.623281      0.113223  \n",
       "std        2.292286      5.488871      3.102980      5.086552      0.709985  \n",
       "min        2.000000      1.000000      0.000000      0.000000      0.000000  \n",
       "25%       10.000000     12.000000      0.000000      0.000000      0.000000  \n",
       "50%       10.000000     12.000000      0.000000      0.000000      0.000000  \n",
       "75%       10.000000     12.000000      0.000000      0.000000      0.000000  \n",
       "max       12.000000     29.000000    265.000000    303.000000     39.000000  "
      ]
     },
     "execution_count": 5,
     "metadata": {},
     "output_type": "execute_result"
    }
   ],
   "source": [
    "# Describing data\n",
    "data_twt.describe()"
   ]
  },
  {
   "cell_type": "code",
   "execution_count": 6,
   "metadata": {
    "colab": {
     "base_uri": "https://localhost:8080/"
    },
    "id": "C_tTL4kd2zHi",
    "outputId": "d7175964-cc51-4e37-867d-ac5e738bff60"
   },
   "outputs": [
    {
     "data": {
      "text/plain": [
       "Unnamed: 13         13522\n",
       "retweets                1\n",
       "likes                   1\n",
       "comments                1\n",
       "id                      0\n",
       "text                    0\n",
       "event_number            0\n",
       "player_dummy            0\n",
       "team_dummy              0\n",
       "weekday                 0\n",
       "month                   0\n",
       "day                     0\n",
       "time                    0\n",
       "user_screen_name        0\n",
       "dtype: int64"
      ]
     },
     "execution_count": 6,
     "metadata": {},
     "output_type": "execute_result"
    }
   ],
   "source": [
    "# Replace blanks with null values\n",
    "data_twt = data_twt.replace(' ', np.nan)\n",
    "\n",
    "# Confirming null values present in dataframe\n",
    "data_twt.isnull().sum().sort_values(ascending=False) # Sorted highest to lowest so any columns with nulls will appear at the top"
   ]
  },
  {
   "cell_type": "code",
   "execution_count": 7,
   "metadata": {
    "colab": {
     "base_uri": "https://localhost:8080/"
    },
    "id": "aSbLjuk8F8AX",
    "outputId": "adf6e15e-3b2e-4d9f-b852-e452fb4d6918"
   },
   "outputs": [
    {
     "data": {
      "text/plain": [
       "Unnamed: 13         13522\n",
       "id                      0\n",
       "text                    0\n",
       "event_number            0\n",
       "player_dummy            0\n",
       "team_dummy              0\n",
       "weekday                 0\n",
       "month                   0\n",
       "day                     0\n",
       "time                    0\n",
       "user_screen_name        0\n",
       "retweets                0\n",
       "likes                   0\n",
       "comments                0\n",
       "dtype: int64"
      ]
     },
     "execution_count": 7,
     "metadata": {},
     "output_type": "execute_result"
    }
   ],
   "source": [
    "# Replace the null values for numerical fields with mean\n",
    "cols = ['retweets','likes','comments']\n",
    "data_twt = data_twt.fillna(value=data_twt[cols].mean())\n",
    "\n",
    "# Checking there's no nulls left\n",
    "data_twt.isnull().sum().sort_values(ascending=False)"
   ]
  },
  {
   "cell_type": "markdown",
   "metadata": {
    "id": "OUfwIEm_EHFu"
   },
   "source": [
    "## Tv_rating"
   ]
  },
  {
   "cell_type": "code",
   "execution_count": 8,
   "metadata": {
    "colab": {
     "base_uri": "https://localhost:8080/"
    },
    "id": "mz3cvnB25T2C",
    "outputId": "40f6ea13-e418-4258-e3fa-bbe9736a5f16"
   },
   "outputs": [
    {
     "name": "stdout",
     "output_type": "stream",
     "text": [
      "<class 'pandas.core.frame.DataFrame'>\n",
      "RangeIndex: 3194 entries, 0 to 3193\n",
      "Data columns (total 7 columns):\n",
      " #   Column        Non-Null Count  Dtype \n",
      "---  ------        --------------  ----- \n",
      " 0   tv_channel    3194 non-null   object\n",
      " 1   city          3194 non-null   object\n",
      " 2   tvviewers     3194 non-null   int64 \n",
      " 3   start_time    3194 non-null   object\n",
      " 4   end_time      3194 non-null   object\n",
      " 5   event_number  3194 non-null   int64 \n",
      " 6   weekday       3194 non-null   int64 \n",
      "dtypes: int64(3), object(4)\n",
      "memory usage: 174.8+ KB\n"
     ]
    }
   ],
   "source": [
    "data_rtg=pd.read_csv('D:/WORK/Fiver/Ldgs/04/part 2/tv_rating.csv')\n",
    "data_rtg.info()"
   ]
  },
  {
   "cell_type": "code",
   "execution_count": 9,
   "metadata": {
    "colab": {
     "base_uri": "https://localhost:8080/",
     "height": 261
    },
    "id": "MTBjnjGVHLmx",
    "outputId": "55b2731a-8eb9-4f56-c7f4-d70c4abf1fe5"
   },
   "outputs": [
    {
     "data": {
      "text/html": [
       "<div>\n",
       "<style scoped>\n",
       "    .dataframe tbody tr th:only-of-type {\n",
       "        vertical-align: middle;\n",
       "    }\n",
       "\n",
       "    .dataframe tbody tr th {\n",
       "        vertical-align: top;\n",
       "    }\n",
       "\n",
       "    .dataframe thead th {\n",
       "        text-align: right;\n",
       "    }\n",
       "</style>\n",
       "<table border=\"1\" class=\"dataframe\">\n",
       "  <thead>\n",
       "    <tr style=\"text-align: right;\">\n",
       "      <th></th>\n",
       "      <th>tv_channel</th>\n",
       "      <th>city</th>\n",
       "      <th>tvviewers</th>\n",
       "      <th>start_time</th>\n",
       "      <th>end_time</th>\n",
       "      <th>event_number</th>\n",
       "      <th>weekday</th>\n",
       "    </tr>\n",
       "  </thead>\n",
       "  <tbody>\n",
       "    <tr>\n",
       "      <th>0</th>\n",
       "      <td>ATN7</td>\n",
       "      <td>Sydney</td>\n",
       "      <td>69</td>\n",
       "      <td>14:00</td>\n",
       "      <td>14:14</td>\n",
       "      <td>1</td>\n",
       "      <td>5</td>\n",
       "    </tr>\n",
       "    <tr>\n",
       "      <th>1</th>\n",
       "      <td>ATN7</td>\n",
       "      <td>Sydney</td>\n",
       "      <td>56</td>\n",
       "      <td>14:15</td>\n",
       "      <td>14:29</td>\n",
       "      <td>1</td>\n",
       "      <td>5</td>\n",
       "    </tr>\n",
       "    <tr>\n",
       "      <th>2</th>\n",
       "      <td>ATN7</td>\n",
       "      <td>Sydney</td>\n",
       "      <td>51</td>\n",
       "      <td>14:30</td>\n",
       "      <td>14:44</td>\n",
       "      <td>1</td>\n",
       "      <td>5</td>\n",
       "    </tr>\n",
       "    <tr>\n",
       "      <th>3</th>\n",
       "      <td>ATN7</td>\n",
       "      <td>Sydney</td>\n",
       "      <td>48</td>\n",
       "      <td>14:45</td>\n",
       "      <td>14:59</td>\n",
       "      <td>1</td>\n",
       "      <td>5</td>\n",
       "    </tr>\n",
       "    <tr>\n",
       "      <th>4</th>\n",
       "      <td>ATN7</td>\n",
       "      <td>Sydney</td>\n",
       "      <td>48</td>\n",
       "      <td>15:00</td>\n",
       "      <td>15:14</td>\n",
       "      <td>1</td>\n",
       "      <td>5</td>\n",
       "    </tr>\n",
       "  </tbody>\n",
       "</table>\n",
       "</div>"
      ],
      "text/plain": [
       "  tv_channel    city  tvviewers start_time end_time  event_number  weekday\n",
       "0       ATN7  Sydney         69      14:00    14:14             1        5\n",
       "1       ATN7  Sydney         56      14:15    14:29             1        5\n",
       "2       ATN7  Sydney         51      14:30    14:44             1        5\n",
       "3       ATN7  Sydney         48      14:45    14:59             1        5\n",
       "4       ATN7  Sydney         48      15:00    15:14             1        5"
      ]
     },
     "execution_count": 9,
     "metadata": {},
     "output_type": "execute_result"
    }
   ],
   "source": [
    "# Check the dataset\n",
    "data_rtg.head()"
   ]
  },
  {
   "cell_type": "code",
   "execution_count": 10,
   "metadata": {
    "colab": {
     "base_uri": "https://localhost:8080/",
     "height": 355
    },
    "id": "cg0Xa3JsHLmz",
    "outputId": "14e678a3-8bd6-401a-fa35-052df54f137c"
   },
   "outputs": [
    {
     "data": {
      "text/html": [
       "<div>\n",
       "<style scoped>\n",
       "    .dataframe tbody tr th:only-of-type {\n",
       "        vertical-align: middle;\n",
       "    }\n",
       "\n",
       "    .dataframe tbody tr th {\n",
       "        vertical-align: top;\n",
       "    }\n",
       "\n",
       "    .dataframe thead th {\n",
       "        text-align: right;\n",
       "    }\n",
       "</style>\n",
       "<table border=\"1\" class=\"dataframe\">\n",
       "  <thead>\n",
       "    <tr style=\"text-align: right;\">\n",
       "      <th></th>\n",
       "      <th>tvviewers</th>\n",
       "      <th>event_number</th>\n",
       "      <th>weekday</th>\n",
       "    </tr>\n",
       "  </thead>\n",
       "  <tbody>\n",
       "    <tr>\n",
       "      <th>count</th>\n",
       "      <td>3194.000000</td>\n",
       "      <td>3194.000000</td>\n",
       "      <td>3194.000000</td>\n",
       "    </tr>\n",
       "    <tr>\n",
       "      <th>mean</th>\n",
       "      <td>65.638698</td>\n",
       "      <td>7.556356</td>\n",
       "      <td>6.398560</td>\n",
       "    </tr>\n",
       "    <tr>\n",
       "      <th>std</th>\n",
       "      <td>75.464908</td>\n",
       "      <td>4.225938</td>\n",
       "      <td>0.606271</td>\n",
       "    </tr>\n",
       "    <tr>\n",
       "      <th>min</th>\n",
       "      <td>0.000000</td>\n",
       "      <td>1.000000</td>\n",
       "      <td>5.000000</td>\n",
       "    </tr>\n",
       "    <tr>\n",
       "      <th>25%</th>\n",
       "      <td>20.000000</td>\n",
       "      <td>4.000000</td>\n",
       "      <td>6.000000</td>\n",
       "    </tr>\n",
       "    <tr>\n",
       "      <th>50%</th>\n",
       "      <td>41.000000</td>\n",
       "      <td>8.000000</td>\n",
       "      <td>6.000000</td>\n",
       "    </tr>\n",
       "    <tr>\n",
       "      <th>75%</th>\n",
       "      <td>89.000000</td>\n",
       "      <td>11.000000</td>\n",
       "      <td>7.000000</td>\n",
       "    </tr>\n",
       "    <tr>\n",
       "      <th>max</th>\n",
       "      <td>752.000000</td>\n",
       "      <td>14.000000</td>\n",
       "      <td>7.000000</td>\n",
       "    </tr>\n",
       "  </tbody>\n",
       "</table>\n",
       "</div>"
      ],
      "text/plain": [
       "         tvviewers  event_number      weekday\n",
       "count  3194.000000   3194.000000  3194.000000\n",
       "mean     65.638698      7.556356     6.398560\n",
       "std      75.464908      4.225938     0.606271\n",
       "min       0.000000      1.000000     5.000000\n",
       "25%      20.000000      4.000000     6.000000\n",
       "50%      41.000000      8.000000     6.000000\n",
       "75%      89.000000     11.000000     7.000000\n",
       "max     752.000000     14.000000     7.000000"
      ]
     },
     "execution_count": 10,
     "metadata": {},
     "output_type": "execute_result"
    }
   ],
   "source": [
    "# Describing data\n",
    "data_rtg.describe()"
   ]
  },
  {
   "cell_type": "code",
   "execution_count": 11,
   "metadata": {
    "colab": {
     "base_uri": "https://localhost:8080/"
    },
    "id": "Slupt4jMHLmz",
    "outputId": "fc758629-bab8-47ee-ff57-16d3a9d1937f"
   },
   "outputs": [
    {
     "data": {
      "text/plain": [
       "tv_channel      0\n",
       "city            0\n",
       "tvviewers       0\n",
       "start_time      0\n",
       "end_time        0\n",
       "event_number    0\n",
       "weekday         0\n",
       "dtype: int64"
      ]
     },
     "execution_count": 11,
     "metadata": {},
     "output_type": "execute_result"
    }
   ],
   "source": [
    "# Replace blanks with null values\n",
    "data_rtg = data_rtg.replace(' ', np.nan)\n",
    "\n",
    "# Confirming no null values present in dataframe\n",
    "data_rtg.isnull().sum().sort_values(ascending=False) # Sorted highest to lowest so any columns with nulls will appear at the top"
   ]
  },
  {
   "cell_type": "markdown",
   "metadata": {
    "id": "GxKHBK30Hj-o"
   },
   "source": [
    "# Q1: EDA of binary variables (player, team, etc.) of all tweets"
   ]
  },
  {
   "cell_type": "code",
   "execution_count": 12,
   "metadata": {
    "colab": {
     "base_uri": "https://localhost:8080/"
    },
    "id": "xX_K1PJvHjMB",
    "outputId": "838fc45c-ac5b-484a-bf4d-d6c9d320ecea"
   },
   "outputs": [],
   "source": [
    "# WIP"
   ]
  },
  {
   "cell_type": "code",
   "execution_count": 13,
   "metadata": {
    "colab": {
     "base_uri": "https://localhost:8080/",
     "height": 261
    },
    "id": "UlB-xbMd9P3F",
    "outputId": "acd795f4-de68-4723-81e8-e46c5a2b4fab"
   },
   "outputs": [
    {
     "data": {
      "text/html": [
       "<div>\n",
       "<style scoped>\n",
       "    .dataframe tbody tr th:only-of-type {\n",
       "        vertical-align: middle;\n",
       "    }\n",
       "\n",
       "    .dataframe tbody tr th {\n",
       "        vertical-align: top;\n",
       "    }\n",
       "\n",
       "    .dataframe thead th {\n",
       "        text-align: right;\n",
       "    }\n",
       "</style>\n",
       "<table border=\"1\" class=\"dataframe\">\n",
       "  <thead>\n",
       "    <tr style=\"text-align: right;\">\n",
       "      <th></th>\n",
       "      <th>id</th>\n",
       "      <th>text</th>\n",
       "      <th>event_number</th>\n",
       "      <th>player_dummy</th>\n",
       "      <th>team_dummy</th>\n",
       "      <th>weekday</th>\n",
       "      <th>month</th>\n",
       "      <th>day</th>\n",
       "      <th>time</th>\n",
       "      <th>user_screen_name</th>\n",
       "      <th>retweets</th>\n",
       "      <th>likes</th>\n",
       "      <th>comments</th>\n",
       "      <th>Unnamed: 13</th>\n",
       "    </tr>\n",
       "  </thead>\n",
       "  <tbody>\n",
       "    <tr>\n",
       "      <th>0</th>\n",
       "      <td>5.210000e+17</td>\n",
       "      <td>\"rt @dariofranchitti: this bathurst race has b...</td>\n",
       "      <td>11</td>\n",
       "      <td>0</td>\n",
       "      <td>0</td>\n",
       "      <td>7</td>\n",
       "      <td>10</td>\n",
       "      <td>12</td>\n",
       "      <td>7:28</td>\n",
       "      <td>007_dot</td>\n",
       "      <td>0.0</td>\n",
       "      <td>0.0</td>\n",
       "      <td>0.0</td>\n",
       "      <td></td>\n",
       "    </tr>\n",
       "    <tr>\n",
       "      <th>1</th>\n",
       "      <td>5.210000e+17</td>\n",
       "      <td>\"rt @wtf1couk: gp3 fans while you're waiting f...</td>\n",
       "      <td>11</td>\n",
       "      <td>0</td>\n",
       "      <td>0</td>\n",
       "      <td>7</td>\n",
       "      <td>10</td>\n",
       "      <td>12</td>\n",
       "      <td>7:28</td>\n",
       "      <td>007_dot</td>\n",
       "      <td>0.0</td>\n",
       "      <td>0.0</td>\n",
       "      <td>0.0</td>\n",
       "      <td>NaN</td>\n",
       "    </tr>\n",
       "    <tr>\n",
       "      <th>2</th>\n",
       "      <td>5.210000e+17</td>\n",
       "      <td>\"rt @sally_fitz: incredible final laps of #bat...</td>\n",
       "      <td>11</td>\n",
       "      <td>1</td>\n",
       "      <td>0</td>\n",
       "      <td>7</td>\n",
       "      <td>10</td>\n",
       "      <td>12</td>\n",
       "      <td>7:31</td>\n",
       "      <td>007cnt</td>\n",
       "      <td>0.0</td>\n",
       "      <td>0.0</td>\n",
       "      <td>0.0</td>\n",
       "      <td>NaN</td>\n",
       "    </tr>\n",
       "    <tr>\n",
       "      <th>3</th>\n",
       "      <td>5.210000e+17</td>\n",
       "      <td>\"rt @v8supercars: top 10 - mostert, moffat, pe...</td>\n",
       "      <td>11</td>\n",
       "      <td>0</td>\n",
       "      <td>0</td>\n",
       "      <td>7</td>\n",
       "      <td>10</td>\n",
       "      <td>12</td>\n",
       "      <td>9:04</td>\n",
       "      <td>007pixxx</td>\n",
       "      <td>0.0</td>\n",
       "      <td>0.0</td>\n",
       "      <td>0.0</td>\n",
       "      <td>NaN</td>\n",
       "    </tr>\n",
       "    <tr>\n",
       "      <th>4</th>\n",
       "      <td>5.210000e+17</td>\n",
       "      <td>\"#bathurst1000  i present to you, the fully st...</td>\n",
       "      <td>11</td>\n",
       "      <td>0</td>\n",
       "      <td>0</td>\n",
       "      <td>7</td>\n",
       "      <td>10</td>\n",
       "      <td>12</td>\n",
       "      <td>10:20</td>\n",
       "      <td>007pixxx</td>\n",
       "      <td>0.0</td>\n",
       "      <td>0.0</td>\n",
       "      <td>0.0</td>\n",
       "      <td>NaN</td>\n",
       "    </tr>\n",
       "  </tbody>\n",
       "</table>\n",
       "</div>"
      ],
      "text/plain": [
       "             id                                               text   \n",
       "0  5.210000e+17  \"rt @dariofranchitti: this bathurst race has b...  \\\n",
       "1  5.210000e+17  \"rt @wtf1couk: gp3 fans while you're waiting f...   \n",
       "2  5.210000e+17  \"rt @sally_fitz: incredible final laps of #bat...   \n",
       "3  5.210000e+17  \"rt @v8supercars: top 10 - mostert, moffat, pe...   \n",
       "4  5.210000e+17  \"#bathurst1000  i present to you, the fully st...   \n",
       "\n",
       "   event_number  player_dummy  team_dummy  weekday  month  day   time   \n",
       "0            11             0           0        7     10   12   7:28  \\\n",
       "1            11             0           0        7     10   12   7:28   \n",
       "2            11             1           0        7     10   12   7:31   \n",
       "3            11             0           0        7     10   12   9:04   \n",
       "4            11             0           0        7     10   12  10:20   \n",
       "\n",
       "  user_screen_name  retweets  likes  comments Unnamed: 13  \n",
       "0          007_dot       0.0    0.0       0.0              \n",
       "1          007_dot       0.0    0.0       0.0         NaN  \n",
       "2           007cnt       0.0    0.0       0.0         NaN  \n",
       "3         007pixxx       0.0    0.0       0.0         NaN  \n",
       "4         007pixxx       0.0    0.0       0.0         NaN  "
      ]
     },
     "execution_count": 13,
     "metadata": {},
     "output_type": "execute_result"
    }
   ],
   "source": [
    "data_twt.head()"
   ]
  },
  {
   "cell_type": "code",
   "execution_count": 14,
   "metadata": {
    "colab": {
     "base_uri": "https://localhost:8080/"
    },
    "id": "YMdIxiB-_bDO",
    "outputId": "8c792713-543e-4ac9-962b-7fab17c3327c"
   },
   "outputs": [
    {
     "data": {
      "text/plain": [
       "event_number\n",
       "11    9620\n",
       "1      603\n",
       "12     503\n",
       "4      493\n",
       "3      344\n",
       "14     274\n",
       "10     273\n",
       "6      265\n",
       "9      233\n",
       "5      227\n",
       "7      217\n",
       "2      196\n",
       "8      149\n",
       "13     126\n",
       "Name: count, dtype: int64"
      ]
     },
     "execution_count": 14,
     "metadata": {},
     "output_type": "execute_result"
    }
   ],
   "source": [
    "data_twt['event_number'].value_counts()"
   ]
  },
  {
   "cell_type": "code",
   "execution_count": 25,
   "metadata": {
    "colab": {
     "base_uri": "https://localhost:8080/",
     "height": 368
    },
    "id": "3PUpuBml_5n-",
    "outputId": "869f9a9a-017b-496e-9cf8-099e3733bc52"
   },
   "outputs": [
    {
     "ename": "NameError",
     "evalue": "name 'species' is not defined",
     "output_type": "error",
     "traceback": [
      "\u001b[1;31m---------------------------------------------------------------------------\u001b[0m",
      "\u001b[1;31mNameError\u001b[0m                                 Traceback (most recent call last)",
      "Cell \u001b[1;32mIn[25], line 12\u001b[0m\n\u001b[0;32m      5\u001b[0m event \u001b[38;5;241m=\u001b[39m data_twt[\u001b[38;5;124m'\u001b[39m\u001b[38;5;124mevent_number\u001b[39m\u001b[38;5;124m'\u001b[39m]\n\u001b[0;32m      6\u001b[0m event_values \u001b[38;5;241m=\u001b[39m {\n\u001b[0;32m      7\u001b[0m     \u001b[38;5;124m'\u001b[39m\u001b[38;5;124mBill Depth\u001b[39m\u001b[38;5;124m'\u001b[39m: (\u001b[38;5;241m18.35\u001b[39m, \u001b[38;5;241m18.43\u001b[39m, \u001b[38;5;241m14.98\u001b[39m),\n\u001b[0;32m      8\u001b[0m     \u001b[38;5;124m'\u001b[39m\u001b[38;5;124mBill Length\u001b[39m\u001b[38;5;124m'\u001b[39m: (\u001b[38;5;241m38.79\u001b[39m, \u001b[38;5;241m48.83\u001b[39m, \u001b[38;5;241m47.50\u001b[39m),\n\u001b[0;32m      9\u001b[0m     \u001b[38;5;124m'\u001b[39m\u001b[38;5;124mFlipper Length\u001b[39m\u001b[38;5;124m'\u001b[39m: (\u001b[38;5;241m189.95\u001b[39m, \u001b[38;5;241m195.82\u001b[39m, \u001b[38;5;241m217.19\u001b[39m),\n\u001b[0;32m     10\u001b[0m }\n\u001b[1;32m---> 12\u001b[0m x \u001b[38;5;241m=\u001b[39m np\u001b[38;5;241m.\u001b[39marange(\u001b[38;5;28mlen\u001b[39m(\u001b[43mspecies\u001b[49m))  \u001b[38;5;66;03m# the label locations\u001b[39;00m\n\u001b[0;32m     13\u001b[0m width \u001b[38;5;241m=\u001b[39m \u001b[38;5;241m0.25\u001b[39m  \u001b[38;5;66;03m# the width of the bars\u001b[39;00m\n\u001b[0;32m     14\u001b[0m multiplier \u001b[38;5;241m=\u001b[39m \u001b[38;5;241m0\u001b[39m\n",
      "\u001b[1;31mNameError\u001b[0m: name 'species' is not defined"
     ]
    }
   ],
   "source": [
    "# data from https://allisonhorst.github.io/palmerpenguins/\n",
    "\n",
    "import matplotlib.pyplot as plt\n",
    "\n",
    "event = data_twt['event_number']\n",
    "event_values = {\n",
    "    'Bill Depth': (18.35, 18.43, 14.98),\n",
    "    'Bill Length': (38.79, 48.83, 47.50),\n",
    "    'Flipper Length': (189.95, 195.82, 217.19),\n",
    "}\n",
    "\n",
    "x = np.arange(len(species))  # the label locations\n",
    "width = 0.25  # the width of the bars\n",
    "multiplier = 0\n",
    "\n",
    "fig, ax = plt.subplots(layout='constrained')\n",
    "\n",
    "for attribute, measurement in penguin_means.items():\n",
    "    offset = width * multiplier\n",
    "    rects = ax.bar(x + offset, measurement, width, label=attribute)\n",
    "    ax.bar_label(rects, padding=3)\n",
    "    multiplier += 1\n",
    "\n",
    "# Add some text for labels, title and custom x-axis tick labels, etc.\n",
    "ax.set_ylabel('Length (mm)')\n",
    "ax.set_title('Penguin attributes by species')\n",
    "ax.set_xticks(x + width, species)\n",
    "ax.legend(loc='upper left', ncols=3)\n",
    "ax.set_ylim(0, 250)\n",
    "\n",
    "plt.show()"
   ]
  },
  {
   "cell_type": "code",
   "execution_count": 26,
   "metadata": {
    "colab": {
     "base_uri": "https://localhost:8080/",
     "height": 261
    },
    "id": "nTF23pNt9T-g",
    "outputId": "dbead01e-d725-4b2a-9a1f-8ea35fef68f8"
   },
   "outputs": [
    {
     "data": {
      "text/html": [
       "<div>\n",
       "<style scoped>\n",
       "    .dataframe tbody tr th:only-of-type {\n",
       "        vertical-align: middle;\n",
       "    }\n",
       "\n",
       "    .dataframe tbody tr th {\n",
       "        vertical-align: top;\n",
       "    }\n",
       "\n",
       "    .dataframe thead th {\n",
       "        text-align: right;\n",
       "    }\n",
       "</style>\n",
       "<table border=\"1\" class=\"dataframe\">\n",
       "  <thead>\n",
       "    <tr style=\"text-align: right;\">\n",
       "      <th></th>\n",
       "      <th>tv_channel</th>\n",
       "      <th>city</th>\n",
       "      <th>tvviewers</th>\n",
       "      <th>start_time</th>\n",
       "      <th>end_time</th>\n",
       "      <th>event_number</th>\n",
       "      <th>weekday</th>\n",
       "    </tr>\n",
       "  </thead>\n",
       "  <tbody>\n",
       "    <tr>\n",
       "      <th>0</th>\n",
       "      <td>ATN7</td>\n",
       "      <td>Sydney</td>\n",
       "      <td>69</td>\n",
       "      <td>14:00</td>\n",
       "      <td>14:14</td>\n",
       "      <td>1</td>\n",
       "      <td>5</td>\n",
       "    </tr>\n",
       "    <tr>\n",
       "      <th>1</th>\n",
       "      <td>ATN7</td>\n",
       "      <td>Sydney</td>\n",
       "      <td>56</td>\n",
       "      <td>14:15</td>\n",
       "      <td>14:29</td>\n",
       "      <td>1</td>\n",
       "      <td>5</td>\n",
       "    </tr>\n",
       "    <tr>\n",
       "      <th>2</th>\n",
       "      <td>ATN7</td>\n",
       "      <td>Sydney</td>\n",
       "      <td>51</td>\n",
       "      <td>14:30</td>\n",
       "      <td>14:44</td>\n",
       "      <td>1</td>\n",
       "      <td>5</td>\n",
       "    </tr>\n",
       "    <tr>\n",
       "      <th>3</th>\n",
       "      <td>ATN7</td>\n",
       "      <td>Sydney</td>\n",
       "      <td>48</td>\n",
       "      <td>14:45</td>\n",
       "      <td>14:59</td>\n",
       "      <td>1</td>\n",
       "      <td>5</td>\n",
       "    </tr>\n",
       "    <tr>\n",
       "      <th>4</th>\n",
       "      <td>ATN7</td>\n",
       "      <td>Sydney</td>\n",
       "      <td>48</td>\n",
       "      <td>15:00</td>\n",
       "      <td>15:14</td>\n",
       "      <td>1</td>\n",
       "      <td>5</td>\n",
       "    </tr>\n",
       "  </tbody>\n",
       "</table>\n",
       "</div>"
      ],
      "text/plain": [
       "  tv_channel    city  tvviewers start_time end_time  event_number  weekday\n",
       "0       ATN7  Sydney         69      14:00    14:14             1        5\n",
       "1       ATN7  Sydney         56      14:15    14:29             1        5\n",
       "2       ATN7  Sydney         51      14:30    14:44             1        5\n",
       "3       ATN7  Sydney         48      14:45    14:59             1        5\n",
       "4       ATN7  Sydney         48      15:00    15:14             1        5"
      ]
     },
     "execution_count": 26,
     "metadata": {},
     "output_type": "execute_result"
    }
   ],
   "source": [
    "data_rtg.head()"
   ]
  },
  {
   "cell_type": "markdown",
   "metadata": {
    "id": "Lbs4m37IHrwX"
   },
   "source": [
    "# Q2: What are the most common topics discussed by Supercar fans on Twitter during live racing events, and how do these topics relate to online user engagement and live television viewership?"
   ]
  },
  {
   "cell_type": "markdown",
   "metadata": {
    "id": "jP2375U0B0V_"
   },
   "source": [
    "## Topic Modelling"
   ]
  },
  {
   "cell_type": "code",
   "execution_count": 27,
   "metadata": {
    "colab": {
     "base_uri": "https://localhost:8080/"
    },
    "id": "LW1NLaro_sC5",
    "outputId": "347b8f97-6d12-4a1b-9217-0a50e5ab3c0c",
    "scrolled": true
   },
   "outputs": [
    {
     "name": "stdout",
     "output_type": "stream",
     "text": [
      "['\"rt @dariofranchitti: this bathurst race has been an absolute belter!! love the aussie commentary. was hoping for better for my mate @jcourtâ€¦\"', '\"rt @wtf1couk: gp3 fans while you\\'re waiting for the race to resume, flick over to the #bathurst1000. exciting final few laps.\"', '\"rt @sally_fitz: incredible final laps of #bathurst1000 remarkable comeback from @jamiewhincup coming from the back of the grid @redbullraciâ€¦\"']\n"
     ]
    }
   ],
   "source": [
    "# Isolate to just the tweet text\n",
    "text=data_twt['text']\n",
    "# Change the text to lower case\n",
    "text = text.map(lambda text: text.lower())\n",
    "# Convert data from pandas format to list values  \n",
    "text=text.values.tolist()\n",
    "\n",
    "#print the first 3 tweets\n",
    "print(text[:3])"
   ]
  },
  {
   "cell_type": "code",
   "execution_count": 28,
   "metadata": {
    "colab": {
     "base_uri": "https://localhost:8080/"
    },
    "id": "7FZdmgW__sC5",
    "outputId": "156aadcd-3efa-4aeb-c378-6e6b1305a7a9"
   },
   "outputs": [
    {
     "name": "stderr",
     "output_type": "stream",
     "text": [
      "[nltk_data] Downloading package wordnet to C:\\Users\\Furqan\n",
      "[nltk_data]     Ali\\AppData\\Roaming\\nltk_data...\n",
      "[nltk_data]   Package wordnet is already up-to-date!\n"
     ]
    },
    {
     "data": {
      "text/plain": [
       "True"
      ]
     },
     "execution_count": 28,
     "metadata": {},
     "output_type": "execute_result"
    }
   ],
   "source": [
    "# Download wordnet\n",
    "nltk.download('wordnet')"
   ]
  },
  {
   "cell_type": "code",
   "execution_count": 29,
   "metadata": {
    "colab": {
     "base_uri": "https://localhost:8080/"
    },
    "id": "y7bRcVKY_sC5",
    "outputId": "610943a2-3116-4952-db8b-c905ae0ef7a0"
   },
   "outputs": [],
   "source": [
    "# Conduct lemmatization for the words in the text\n",
    "tokens=[]\n",
    "for sent in text:\n",
    "    temp=[WordNetLemmatizer().lemmatize(word) for word in sent.split(\" \")]\n",
    "    tokens.append(temp)"
   ]
  },
  {
   "cell_type": "code",
   "execution_count": 30,
   "metadata": {
    "colab": {
     "base_uri": "https://localhost:8080/"
    },
    "id": "1Wm_ihQO_sC5",
    "outputId": "febddc56-6365-45e8-f086-1da347059b1a"
   },
   "outputs": [],
   "source": [
    "# Customized the stopwords\n",
    "from sklearn.feature_extraction import text # import cannot be moved to top or error occurs\n",
    "my_additional_stop_words = [\"bathurst\",\"adelaide\",\"http\",\"tas\",\"tcm\",\"darwin\",\"coateshire\",\"sandown\",\"clipsal\",\"sydney\", \"townsville\"]\n",
    "stop_words = text.ENGLISH_STOP_WORDS.union(my_additional_stop_words)"
   ]
  },
  {
   "cell_type": "markdown",
   "metadata": {
    "id": "uPgCTV7OgJLs"
   },
   "source": [
    "### Latent Dirichlet Allocation"
   ]
  },
  {
   "cell_type": "code",
   "execution_count": 31,
   "metadata": {
    "colab": {
     "base_uri": "https://localhost:8080/"
    },
    "id": "Yd2q7CVp_sC5",
    "outputId": "f9a40406-456a-4d66-c460-47bed4a926e2"
   },
   "outputs": [
    {
     "name": "stderr",
     "output_type": "stream",
     "text": [
      "<unknown>:9: DeprecationWarning: invalid escape sequence \\-\n"
     ]
    },
    {
     "name": "stdout",
     "output_type": "stream",
     "text": [
      "CPU times: total: 27.3 s\n",
      "Wall time: 27.6 s\n"
     ]
    }
   ],
   "source": [
    "%%time\n",
    "\n",
    "# Set how many topics we need\n",
    "NUM_TOPICS = 10\n",
    "data_twt['tokens']=tokens\n",
    "text_train = list(data_twt['tokens'].apply(lambda x: ' '.join(x)))\n",
    "\n",
    "# Convert a collection of text documents to a matrix of token counts\n",
    "vectoriser = CountVectorizer(min_df=5, max_df=0.9,\n",
    "                             stop_words=list(stop_words),lowercase=True, # Updated from tutorial code\n",
    "                             token_pattern='[a-zA-Z\\-][a-zA-Z\\-]{2,}')\n",
    "\n",
    "# Fit\n",
    "data_vectorized=vectoriser.fit_transform(text_train)\n",
    "\n",
    "# Build a Latent Dirichlet Allocation Model\n",
    "lda_model = LatentDirichletAllocation(n_components=NUM_TOPICS, max_iter=10, random_state=258, learning_method='online')\n",
    "lda_Z = lda_model.fit_transform(data_vectorized)\n"
   ]
  },
  {
   "cell_type": "code",
   "execution_count": 32,
   "metadata": {
    "colab": {
     "base_uri": "https://localhost:8080/"
    },
    "id": "rHZh_kkQ_sC5",
    "outputId": "1e4199d1-32e3-44a5-d2f2-a5c67a190ed3"
   },
   "outputs": [
    {
     "name": "stdout",
     "output_type": "stream",
     "text": [
      "(13523, 10)\n"
     ]
    }
   ],
   "source": [
    "# Print shape\n",
    "print(lda_Z.shape)"
   ]
  },
  {
   "cell_type": "code",
   "execution_count": 33,
   "metadata": {
    "colab": {
     "base_uri": "https://localhost:8080/"
    },
    "id": "Ol2fLmqI_sC6",
    "outputId": "3e9baf90-d336-4109-ae71-d60f2fd0510a",
    "scrolled": true
   },
   "outputs": [
    {
     "name": "stdout",
     "output_type": "stream",
     "text": [
      "LDA Model:\n",
      "Topic 1:\n",
      "[('morris', 607.0090904416668), ('chaz', 579.8046379508434), ('mostert', 542.3464781221942), ('paul', 531.4341916057526), ('just', 513.6636136315058), ('supercars', 431.8760032778609), ('mountain', 361.80821075336416), ('wow', 301.0098232730656), ('king', 268.26003200918177), ('xwrcjhmg', 206.1980304156728)]\n",
      "Topic 2:\n",
      "[('amp', 413.73167949706755), ('like', 327.6511433162216), ('day', 290.8138715867198), ('race', 148.34486606794226), ('start', 146.49978746828526), ('believe', 143.1790926982608), ('car', 127.8189733117516), ('thanks', 117.68380685793879), ('home', 116.12669092790851), ('job', 115.75436904959923)]\n",
      "Topic 3:\n",
      "[('car', 536.1150617409814), ('supercars', 370.24481507630844), ('fuel', 323.79145578324295), ('year', 256.2866649449783), ('whincup', 225.08046770848148), ('sport', 197.91005371165315), ('make', 192.33190699572577), ('safety', 177.19981686529334), ('svg', 171.29447437734493), ('got', 149.81890134761593)]\n",
      "Topic 4:\n",
      "[('amazing', 331.4420169949792), ('watch', 160.62620210362277), ('video', 142.89165575175764), ('feel', 128.0164157411352), ('motorsport', 114.63368087169378), ('absolutely', 91.21015853456244), ('hard', 90.07003044610367), ('supercars', 87.49185890008094), ('long', 86.76696381492624), ('finish', 85.81094163402138)]\n",
      "Topic 5:\n",
      "[('won', 277.17865186160344), ('best', 201.34711439907622), ('don', 134.44237290990665), ('run', 131.11276894384616), ('look', 120.1448213067534), ('dog', 104.52045538579851), ('want', 95.94543990437245), ('female', 95.04604196967549), ('lost', 87.0928085576185), ('free', 85.55994231859407)]\n",
      "Topic 6:\n",
      "[('ford', 399.04356825927334), ('race', 363.94462608955695), ('great', 247.02145529586022), ('time', 227.22064212639128), ('going', 215.54887966498555), ('love', 203.75508311964228), ('team', 181.5929858569842), ('shanevg', 160.75104196417396), ('driver', 146.84580394433422), ('day', 136.83242562120213)]\n",
      "Topic 7:\n",
      "[('australia', 430.43697625757756), ('bag', 338.26964407126684), ('fpr', 336.22322793437127), ('nissan', 279.29310816723347), ('chazmozzie', 244.5322270684604), ('come', 185.7025415309041), ('van', 185.0062523246327), ('did', 147.71558953560316), ('hour', 131.3124568699723), ('pin', 129.51888478553892)]\n",
      "Topic 8:\n",
      "[('whincup', 727.9074457023211), ('lap', 622.5651725138206), ('mostert', 619.1731230484124), ('win', 423.2262075654199), ('lowndes', 298.4210980049747), ('final', 294.68832617752594), ('supercars', 294.4559078397958), ('jamie', 275.26756181058937), ('chaz', 219.7839708498919), ('ford', 196.17941998892667)]\n",
      "Topic 9:\n",
      "[('race', 768.511919961482), ('winston', 550.8729416886703), ('finish', 447.49999874415465), ('racing', 287.5469705340461), ('today', 237.11956897444992), ('new', 219.46580864319827), ('holden', 204.77247841404193), ('supercars', 190.26103707586162), ('amp', 185.91267163946168), ('congrats', 185.59289842703592)]\n",
      "Topic 10:\n",
      "[('bonjour', 163.92382828052624), ('right', 161.79784752317886), ('pit', 143.8941814041747), ('know', 118.20042765803346), ('lens', 114.69020718235326), ('murah', 110.9698407963415), ('melbourne', 103.6302874980467), ('end', 100.43826804816057), ('fashion', 98.0817808003401), ('onlineshop', 93.37424698114242)]\n"
     ]
    }
   ],
   "source": [
    "# Getting top 10 words per topic\n",
    "def print_topics(model, vectoriser, top_n=10):\n",
    "    for idx, topic in enumerate(model.components_):\n",
    "        print(\"Topic %d:\" % (idx+1))\n",
    "        print([(vectoriser.get_feature_names_out()[i], topic[i]) # Updated from tutorial code\n",
    "                        for i in topic.argsort()[:-top_n - 1:-1]])\n",
    " \n",
    "print(\"LDA Model:\")\n",
    "print_topics(lda_model, vectoriser)"
   ]
  },
  {
   "cell_type": "code",
   "execution_count": 34,
   "metadata": {
    "colab": {
     "base_uri": "https://localhost:8080/"
    },
    "id": "NUAn-7LQ_sC6",
    "outputId": "8f48b95b-af02-41c5-a1ef-4510d9e072ea"
   },
   "outputs": [],
   "source": [
    "# Generating topic fields in df\n",
    "x = lda_model.transform(data_vectorized)\n",
    "\n",
    "topics=pd.DataFrame(x)\n",
    "topics.columns=['topic1','topic2','topic3','topic4','topic5','topic6','topic7','topic8','topic9','topic10']\n",
    "\n",
    "topics['tweet']=data_twt['text']\n",
    "topics['month']=data_twt['month']\n",
    "topics['day']=data_twt['day']\n",
    "pd.DataFrame(topics).to_csv('D:/WORK/Fiver/Ldgs/04/part 2/tweets_by_topics_all_new.csv',index=False)"
   ]
  },
  {
   "cell_type": "code",
   "execution_count": 35,
   "metadata": {
    "colab": {
     "base_uri": "https://localhost:8080/",
     "height": 478
    },
    "id": "Uk3wdZ1x_sC6",
    "outputId": "6d21a3ba-f1e9-4f2b-bece-c4f492f52e5b"
   },
   "outputs": [
    {
     "data": {
      "text/html": [
       "<div>\n",
       "<style scoped>\n",
       "    .dataframe tbody tr th:only-of-type {\n",
       "        vertical-align: middle;\n",
       "    }\n",
       "\n",
       "    .dataframe tbody tr th {\n",
       "        vertical-align: top;\n",
       "    }\n",
       "\n",
       "    .dataframe thead th {\n",
       "        text-align: right;\n",
       "    }\n",
       "</style>\n",
       "<table border=\"1\" class=\"dataframe\">\n",
       "  <thead>\n",
       "    <tr style=\"text-align: right;\">\n",
       "      <th></th>\n",
       "      <th>topic1</th>\n",
       "      <th>topic2</th>\n",
       "      <th>topic3</th>\n",
       "      <th>topic4</th>\n",
       "      <th>topic5</th>\n",
       "      <th>topic6</th>\n",
       "      <th>topic7</th>\n",
       "      <th>topic8</th>\n",
       "      <th>topic9</th>\n",
       "      <th>topic10</th>\n",
       "      <th>tweet</th>\n",
       "      <th>month</th>\n",
       "      <th>day</th>\n",
       "    </tr>\n",
       "  </thead>\n",
       "  <tbody>\n",
       "    <tr>\n",
       "      <th>0</th>\n",
       "      <td>0.008333</td>\n",
       "      <td>0.008333</td>\n",
       "      <td>0.008333</td>\n",
       "      <td>0.008333</td>\n",
       "      <td>0.008333</td>\n",
       "      <td>0.924999</td>\n",
       "      <td>0.008333</td>\n",
       "      <td>0.008333</td>\n",
       "      <td>0.008334</td>\n",
       "      <td>0.008333</td>\n",
       "      <td>\"rt @dariofranchitti: this bathurst race has b...</td>\n",
       "      <td>10</td>\n",
       "      <td>12</td>\n",
       "    </tr>\n",
       "    <tr>\n",
       "      <th>1</th>\n",
       "      <td>0.009091</td>\n",
       "      <td>0.009093</td>\n",
       "      <td>0.009095</td>\n",
       "      <td>0.009091</td>\n",
       "      <td>0.009092</td>\n",
       "      <td>0.009095</td>\n",
       "      <td>0.827256</td>\n",
       "      <td>0.100000</td>\n",
       "      <td>0.009097</td>\n",
       "      <td>0.009091</td>\n",
       "      <td>\"rt @wtf1couk: gp3 fans while you're waiting f...</td>\n",
       "      <td>10</td>\n",
       "      <td>12</td>\n",
       "    </tr>\n",
       "    <tr>\n",
       "      <th>2</th>\n",
       "      <td>0.008333</td>\n",
       "      <td>0.008333</td>\n",
       "      <td>0.008334</td>\n",
       "      <td>0.008334</td>\n",
       "      <td>0.008333</td>\n",
       "      <td>0.008333</td>\n",
       "      <td>0.008333</td>\n",
       "      <td>0.175000</td>\n",
       "      <td>0.758332</td>\n",
       "      <td>0.008333</td>\n",
       "      <td>\"rt @sally_fitz: incredible final laps of #bat...</td>\n",
       "      <td>10</td>\n",
       "      <td>12</td>\n",
       "    </tr>\n",
       "    <tr>\n",
       "      <th>3</th>\n",
       "      <td>0.008334</td>\n",
       "      <td>0.008333</td>\n",
       "      <td>0.008334</td>\n",
       "      <td>0.008333</td>\n",
       "      <td>0.008333</td>\n",
       "      <td>0.008333</td>\n",
       "      <td>0.008334</td>\n",
       "      <td>0.924998</td>\n",
       "      <td>0.008333</td>\n",
       "      <td>0.008333</td>\n",
       "      <td>\"rt @v8supercars: top 10 - mostert, moffat, pe...</td>\n",
       "      <td>10</td>\n",
       "      <td>12</td>\n",
       "    </tr>\n",
       "    <tr>\n",
       "      <th>4</th>\n",
       "      <td>0.025000</td>\n",
       "      <td>0.025000</td>\n",
       "      <td>0.025000</td>\n",
       "      <td>0.275001</td>\n",
       "      <td>0.025000</td>\n",
       "      <td>0.025015</td>\n",
       "      <td>0.025000</td>\n",
       "      <td>0.524984</td>\n",
       "      <td>0.025000</td>\n",
       "      <td>0.025000</td>\n",
       "      <td>\"#bathurst1000  i present to you, the fully st...</td>\n",
       "      <td>10</td>\n",
       "      <td>12</td>\n",
       "    </tr>\n",
       "    <tr>\n",
       "      <th>...</th>\n",
       "      <td>...</td>\n",
       "      <td>...</td>\n",
       "      <td>...</td>\n",
       "      <td>...</td>\n",
       "      <td>...</td>\n",
       "      <td>...</td>\n",
       "      <td>...</td>\n",
       "      <td>...</td>\n",
       "      <td>...</td>\n",
       "      <td>...</td>\n",
       "      <td>...</td>\n",
       "      <td>...</td>\n",
       "      <td>...</td>\n",
       "    </tr>\n",
       "    <tr>\n",
       "      <th>13518</th>\n",
       "      <td>0.016667</td>\n",
       "      <td>0.016667</td>\n",
       "      <td>0.016667</td>\n",
       "      <td>0.183333</td>\n",
       "      <td>0.016667</td>\n",
       "      <td>0.016670</td>\n",
       "      <td>0.683330</td>\n",
       "      <td>0.016667</td>\n",
       "      <td>0.016667</td>\n",
       "      <td>0.016667</td>\n",
       "      <td>\"oh, that is absolutely heartbreaking for shan...</td>\n",
       "      <td>10</td>\n",
       "      <td>12</td>\n",
       "    </tr>\n",
       "    <tr>\n",
       "      <th>13519</th>\n",
       "      <td>0.050000</td>\n",
       "      <td>0.050000</td>\n",
       "      <td>0.549994</td>\n",
       "      <td>0.050000</td>\n",
       "      <td>0.050000</td>\n",
       "      <td>0.050000</td>\n",
       "      <td>0.050000</td>\n",
       "      <td>0.050006</td>\n",
       "      <td>0.050000</td>\n",
       "      <td>0.050000</td>\n",
       "      <td>\"rt @off1cial_sport: clipsal 500 #adelaide htt...</td>\n",
       "      <td>3</td>\n",
       "      <td>1</td>\n",
       "    </tr>\n",
       "    <tr>\n",
       "      <th>13520</th>\n",
       "      <td>0.025004</td>\n",
       "      <td>0.274993</td>\n",
       "      <td>0.025000</td>\n",
       "      <td>0.525000</td>\n",
       "      <td>0.025000</td>\n",
       "      <td>0.025000</td>\n",
       "      <td>0.025000</td>\n",
       "      <td>0.025000</td>\n",
       "      <td>0.025003</td>\n",
       "      <td>0.025000</td>\n",
       "      <td>\"storm &amp;amp; sunset #adelaide http://t.co/8gym...</td>\n",
       "      <td>10</td>\n",
       "      <td>26</td>\n",
       "    </tr>\n",
       "    <tr>\n",
       "      <th>13521</th>\n",
       "      <td>0.016667</td>\n",
       "      <td>0.183332</td>\n",
       "      <td>0.016667</td>\n",
       "      <td>0.016667</td>\n",
       "      <td>0.183334</td>\n",
       "      <td>0.016671</td>\n",
       "      <td>0.349997</td>\n",
       "      <td>0.016667</td>\n",
       "      <td>0.016667</td>\n",
       "      <td>0.183332</td>\n",
       "      <td>\"\"you're a pack of arseholes\" still the greate...</td>\n",
       "      <td>10</td>\n",
       "      <td>12</td>\n",
       "    </tr>\n",
       "    <tr>\n",
       "      <th>13522</th>\n",
       "      <td>0.033333</td>\n",
       "      <td>0.033333</td>\n",
       "      <td>0.700000</td>\n",
       "      <td>0.033333</td>\n",
       "      <td>0.033333</td>\n",
       "      <td>0.033333</td>\n",
       "      <td>0.033333</td>\n",
       "      <td>0.033333</td>\n",
       "      <td>0.033333</td>\n",
       "      <td>0.033333</td>\n",
       "      <td>\"rt @nathanepic: omg so much drama :p #bathurs...</td>\n",
       "      <td>10</td>\n",
       "      <td>12</td>\n",
       "    </tr>\n",
       "  </tbody>\n",
       "</table>\n",
       "<p>13523 rows × 13 columns</p>\n",
       "</div>"
      ],
      "text/plain": [
       "         topic1    topic2    topic3    topic4    topic5    topic6    topic7   \n",
       "0      0.008333  0.008333  0.008333  0.008333  0.008333  0.924999  0.008333  \\\n",
       "1      0.009091  0.009093  0.009095  0.009091  0.009092  0.009095  0.827256   \n",
       "2      0.008333  0.008333  0.008334  0.008334  0.008333  0.008333  0.008333   \n",
       "3      0.008334  0.008333  0.008334  0.008333  0.008333  0.008333  0.008334   \n",
       "4      0.025000  0.025000  0.025000  0.275001  0.025000  0.025015  0.025000   \n",
       "...         ...       ...       ...       ...       ...       ...       ...   \n",
       "13518  0.016667  0.016667  0.016667  0.183333  0.016667  0.016670  0.683330   \n",
       "13519  0.050000  0.050000  0.549994  0.050000  0.050000  0.050000  0.050000   \n",
       "13520  0.025004  0.274993  0.025000  0.525000  0.025000  0.025000  0.025000   \n",
       "13521  0.016667  0.183332  0.016667  0.016667  0.183334  0.016671  0.349997   \n",
       "13522  0.033333  0.033333  0.700000  0.033333  0.033333  0.033333  0.033333   \n",
       "\n",
       "         topic8    topic9   topic10   \n",
       "0      0.008333  0.008334  0.008333  \\\n",
       "1      0.100000  0.009097  0.009091   \n",
       "2      0.175000  0.758332  0.008333   \n",
       "3      0.924998  0.008333  0.008333   \n",
       "4      0.524984  0.025000  0.025000   \n",
       "...         ...       ...       ...   \n",
       "13518  0.016667  0.016667  0.016667   \n",
       "13519  0.050006  0.050000  0.050000   \n",
       "13520  0.025000  0.025003  0.025000   \n",
       "13521  0.016667  0.016667  0.183332   \n",
       "13522  0.033333  0.033333  0.033333   \n",
       "\n",
       "                                                   tweet  month  day  \n",
       "0      \"rt @dariofranchitti: this bathurst race has b...     10   12  \n",
       "1      \"rt @wtf1couk: gp3 fans while you're waiting f...     10   12  \n",
       "2      \"rt @sally_fitz: incredible final laps of #bat...     10   12  \n",
       "3      \"rt @v8supercars: top 10 - mostert, moffat, pe...     10   12  \n",
       "4      \"#bathurst1000  i present to you, the fully st...     10   12  \n",
       "...                                                  ...    ...  ...  \n",
       "13518  \"oh, that is absolutely heartbreaking for shan...     10   12  \n",
       "13519  \"rt @off1cial_sport: clipsal 500 #adelaide htt...      3    1  \n",
       "13520  \"storm &amp; sunset #adelaide http://t.co/8gym...     10   26  \n",
       "13521  \"\"you're a pack of arseholes\" still the greate...     10   12  \n",
       "13522  \"rt @nathanepic: omg so much drama :p #bathurs...     10   12  \n",
       "\n",
       "[13523 rows x 13 columns]"
      ]
     },
     "execution_count": 35,
     "metadata": {},
     "output_type": "execute_result"
    }
   ],
   "source": [
    "topics"
   ]
  },
  {
   "cell_type": "markdown",
   "metadata": {
    "id": "O90Eaqys_sC6"
   },
   "source": [
    "## Topic Map"
   ]
  },
  {
   "cell_type": "code",
   "execution_count": null,
   "metadata": {
    "colab": {
     "base_uri": "https://localhost:8080/",
     "height": 916
    },
    "id": "EGpIijq_Mliz",
    "outputId": "94f501af-076e-4127-b616-776540c1655f"
   },
   "outputs": [],
   "source": [
    "pyLDAvis.enable_notebook()\n",
    "\n",
    "# Creating panel map for detailed topic and keyword examination\n",
    "panel = pyLDAvis.lda_model.prepare(lda_model, data_vectorized, vectoriser, sort_topics = False)\n",
    "panel"
   ]
  },
  {
   "cell_type": "markdown",
   "metadata": {
    "id": "FPndOocdJIxf"
   },
   "source": [
    "# Q3: How does the sentiment of live tweets during Supercar racing events impact online user engagement and live television viewership?"
   ]
  },
  {
   "cell_type": "markdown",
   "metadata": {
    "colab": {
     "base_uri": "https://localhost:8080/"
    },
    "id": "N-IS7EbJJJwx",
    "outputId": "2a4a80da-27b9-4c05-e747-0597342d2b29"
   },
   "source": [
    "The sentiment of live tweets during Supercar racing events can impact online user engagement and live television viewership in several ways. Positive sentiment expressed on social media can increase the excitement and enthusiasm for the event, which in turn can encourage more people to watch and engage with the event. Positive sentiment can also lead to increased sharing and discussion of content related to the event.\n",
    "On the other hand, negative sentiment expressed on social media can have a dampening effect on engagement and viewership. Negative sentiment can discourage people from watching or engaging with the event and can lead to decreased sharing and discussion of content related to the event."
   ]
  },
  {
   "cell_type": "code",
   "execution_count": 16,
   "metadata": {},
   "outputs": [],
   "source": [
    "import pandas as pd\n",
    "import nltk\n",
    "from nltk.sentiment.vader import SentimentIntensityAnalyzer\n"
   ]
  },
  {
   "cell_type": "code",
   "execution_count": 17,
   "metadata": {},
   "outputs": [],
   "source": [
    "tweet_data = pd.read_csv('D:/WORK/Fiver/Ldgs/04/part 2/tweets_sport.csv')\n",
    "tv_rating_data = pd.read_csv('D:/WORK/Fiver/Ldgs/04/part 2/tv_rating.csv')\n"
   ]
  },
  {
   "cell_type": "code",
   "execution_count": 18,
   "metadata": {},
   "outputs": [
    {
     "name": "stderr",
     "output_type": "stream",
     "text": [
      "[nltk_data] Downloading package vader_lexicon to C:\\Users\\Furqan\n",
      "[nltk_data]     Ali\\AppData\\Roaming\\nltk_data...\n",
      "[nltk_data]   Package vader_lexicon is already up-to-date!\n"
     ]
    }
   ],
   "source": [
    "nltk.download('vader_lexicon')\n",
    "sid = SentimentIntensityAnalyzer()\n",
    "\n",
    "tweet_data['sentiment'] = tweet_data['text'].apply(lambda x: sid.polarity_scores(x)['compound'])\n"
   ]
  },
  {
   "cell_type": "code",
   "execution_count": 19,
   "metadata": {},
   "outputs": [
    {
     "name": "stderr",
     "output_type": "stream",
     "text": [
      "C:\\Users\\Furqan Ali\\AppData\\Local\\Temp\\ipykernel_4052\\1671028379.py:1: UserWarning: Could not infer format, so each element will be parsed individually, falling back to `dateutil`. To ensure parsing is consistent and as-expected, please specify a format.\n",
      "  tweet_data['time'] = pd.to_datetime(tweet_data['time'])\n"
     ]
    }
   ],
   "source": [
    "\n",
    "tweet_data['time'] = pd.to_datetime(tweet_data['time'])\n",
    "tweet_data.set_index('time', inplace=True)"
   ]
  },
  {
   "cell_type": "code",
   "execution_count": 20,
   "metadata": {},
   "outputs": [],
   "source": [
    "# Convert the sentiment column to a numeric type\n",
    "tweet_data['sentiment'] = pd.to_numeric(tweet_data['sentiment'], errors='coerce')\n",
    "\n",
    "# Group the data by minute and calculate the mean sentiment and engagement\n",
    "tweet_data_grouped = tweet_data.resample('1min').agg({'sentiment': 'mean', 'retweets': 'sum', 'likes': 'sum'})\n",
    "tweet_data_grouped['engagement'] = tweet_data_grouped[['retweets', 'likes']].sum(axis=1)\n",
    "\n"
   ]
  },
  {
   "cell_type": "code",
   "execution_count": 21,
   "metadata": {},
   "outputs": [
    {
     "name": "stderr",
     "output_type": "stream",
     "text": [
      "C:\\Users\\Furqan Ali\\AppData\\Local\\Temp\\ipykernel_4052\\891056771.py:1: UserWarning: Could not infer format, so each element will be parsed individually, falling back to `dateutil`. To ensure parsing is consistent and as-expected, please specify a format.\n",
      "  tv_rating_data['start_time'] = pd.to_datetime(tv_rating_data['start_time'])\n",
      "C:\\Users\\Furqan Ali\\AppData\\Local\\Temp\\ipykernel_4052\\891056771.py:3: UserWarning: Could not infer format, so each element will be parsed individually, falling back to `dateutil`. To ensure parsing is consistent and as-expected, please specify a format.\n",
      "  tv_rating_data['end_time'] = pd.to_datetime(tv_rating_data['end_time'])\n"
     ]
    }
   ],
   "source": [
    "tv_rating_data['start_time'] = pd.to_datetime(tv_rating_data['start_time'])\n",
    "tv_rating_data.set_index('start_time', inplace=True)\n",
    "tv_rating_data['end_time'] = pd.to_datetime(tv_rating_data['end_time'])\n",
    "tv_rating_data.set_index('end_time', inplace=True)\n"
   ]
  },
  {
   "cell_type": "code",
   "execution_count": 22,
   "metadata": {},
   "outputs": [],
   "source": [
    "merged_data = tweet_data_grouped.join(tv_rating_data, how='outer')\n",
    "merged_data.dropna(inplace=True)"
   ]
  },
  {
   "cell_type": "code",
   "execution_count": null,
   "metadata": {},
   "outputs": [],
   "source": []
  },
  {
   "cell_type": "code",
   "execution_count": 23,
   "metadata": {},
   "outputs": [],
   "source": [
    "corr_sentiment_engagement = merged_data[['sentiment', 'engagement']].corr().iloc[0, 1]\n",
    "corr_sentiment_ratings = merged_data[['sentiment', 'tvviewers']].corr().iloc[0, 1]\n"
   ]
  },
  {
   "cell_type": "code",
   "execution_count": 24,
   "metadata": {},
   "outputs": [
    {
     "name": "stdout",
     "output_type": "stream",
     "text": [
      "Correlation between sentiment and engagement: -0.39085867008626496\n",
      "Correlation between sentiment and TV ratings: 0.01360700489625919\n"
     ]
    }
   ],
   "source": [
    "print(\"Correlation between sentiment and engagement:\", corr_sentiment_engagement)\n",
    "print(\"Correlation between sentiment and TV ratings:\", corr_sentiment_ratings)\n"
   ]
  },
  {
   "cell_type": "markdown",
   "metadata": {},
   "source": [
    "### results\n",
    "we had performed data aggregation and correlation analysis on two data sources: tweet_sport and Tv_rating.we aggregates tweet data by minute and calculates the mean sentiment and engagement, then calculates the correlation between sentiment and engagement, and sentiment and TV ratings, which shows us the relation between the tweets and tv rating.\n",
    "\n",
    "Important steps followed:\n",
    "\n",
    "•\tThe sentiment of each tweet is calculated using the sentiment analysis tool.<br>\n",
    "•\tThe polarity_scores function is used to calculate the sentiment score for each tweet.<br>\n",
    "•\tThe time column in the tweet data is converted to a pandas datetime format and set as the index for the data frame.<br>\n",
    "•\tThe sentiment column is converted to a numeric type so that it can be used for calculations later.<br>\n",
    "•\tThe tweet data is then resampled by minute and aggregated to calculate the mean sentiment and engagement (sum of retweets and likes) for each minute.<br>\n",
    "•\tThe TV rating data is similarly formatted by converting the start and end times to datetime format and setting them as the index for the data frame.<br>\n",
    "•\tThe tweet data and TV rating data are merged together using an outer join, so that all data is included even if there are missing values.<br>\n",
    "•\tAny rows with missing values are dropped from the merged data frame.\n",
    "•\tThe correlation between sentiment and engagement, as well as between sentiment and TV ratings, is calculated using the corr() function.<br>\n",
    "\n",
    "\n",
    "\n",
    "The output shows the correlation coefficients between the sentiment of tweets and two other variables: engagement (measured as the sum of retweets and likes) and TV ratings.<br>\n",
    "    \n",
    "•\tThe correlation coefficient between sentiment and engagement is -0.39, which indicates a moderate negative correlation. This means that as the sentiment of tweets becomes more negative, the level of engagement (retweets and likes) tends to decrease.<br>\n",
    "•\tThe correlation coefficient between sentiment and TV ratings is 0.01, which indicates a very weak positive correlation. This means that there is little to no relationship between the sentiment of tweets and TV ratings.<br>\n",
    "\n",
    "### Limitation :\n",
    "\n",
    "This analysis has some limitations that should be considered when interpreting the results.<br>\n",
    "Firstly, the sentiment analysis algorithm used in this analysis, the VADER algorithm, may not be entirely accurate in assessing the sentiment of tweets. The VADER algorithm is based on a lexicon of words that have been manually labeled with their sentiment score, which may not always capture the nuances and context of language used in tweets. Additionally, the sentiment score assigned to a tweet is based on a set of predetermined rules and heuristics, which may not always be applicable to different types of tweets or topics.\n",
    "<br>Secondly, the sample of tweets used in this analysis may not be representative of the entire population of tweets related to sports. The tweets were obtained from a single source, and only include tweets that contain certain keywords related to sports. This may lead to a biased sample that does not accurately reflect the sentiment or engagement of the broader population of tweets related to sports.\n",
    "<br>Thirdly, the analysis assumes that there is a causal relationship between sentiment and engagement or TV ratings. While there may be a correlation between these variables, it is not necessarily the case that changes in sentiment directly cause changes in engagement or TV ratings. Other factors, such as the timing of events or external news events, may also influence engagement or TV ratings and need to be accounted for in the analysis.\n",
    "\n",
    "<br>The analysis in question 3 only considers correlations between variables and does not establish any causal relationships.\n",
    "\n"
   ]
  },
  {
   "cell_type": "markdown",
   "metadata": {
    "id": "yTf7tAeIJM2A"
   },
   "source": [
    "# Q4: Can we predict online user engagement and live television viewership for Supercar racing events based on the content and sentiment of live tweets?"
   ]
  },
  {
   "cell_type": "markdown",
   "metadata": {
    "colab": {
     "base_uri": "https://localhost:8080/"
    },
    "id": "w72B_3P9JOy-",
    "outputId": "17e3b5cc-2502-4eb4-dd9d-89761aa1ceb2"
   },
   "source": [
    "it is possible to use the content and sentiment of live tweets to make predictions about online user engagement and live television viewership for Supercar racing events, but the accuracy of these predictions may depend on various factors.\n",
    "Quality:\n",
    "    The quality of the sentiment analysis algorithm used to analyze the tweets will be crucial in determining the accuracy of \n",
    "    the predictions.\n",
    "\n",
    "Size and Representativeness of sample:\n",
    "    The size and representativeness of the sample of tweets used to make predictions will also be important\n",
    "\n",
    "other factors such as the time of day, day of the week, and the specific Supercar racing event being analyzed may also impact the accuracy of the predictions."
   ]
  },
  {
   "cell_type": "markdown",
   "metadata": {
    "id": "g2ik8I2wJQQu"
   },
   "source": [
    "# Q5: What is the relationship between the time of day when tweets are posted and the online user engagement and live television viewership for Supercar racing events?"
   ]
  },
  {
   "cell_type": "markdown",
   "metadata": {
    "colab": {
     "base_uri": "https://localhost:8080/"
    },
    "id": "zLf0r9z0JSQJ",
    "outputId": "aa41b5e6-42fb-4bf7-c43b-f52594073e76"
   },
   "source": [
    "The relationship between the time of day when tweets are posted and the online user engagement and live television viewership for Supercar racing events can vary depending on several factors.\n",
    "\n",
    "For example, if the Supercar racing event is happening in a different time zone than the majority of its viewers, then the time of day when the event is happening may not align with peak engagement times for those viewers. In this case, tweets may still generate engagement, but it may not have as much impact on live television viewership.\n",
    "\n",
    "On the other hand, if the Supercar racing event is happening during peak viewing hours for its target audience, then tweets posted during that time may have a stronger impact on both online user engagement and live television viewership."
   ]
  },
  {
   "cell_type": "code",
   "execution_count": null,
   "metadata": {},
   "outputs": [],
   "source": []
  }
 ],
 "metadata": {
  "colab": {
   "provenance": [],
   "toc_visible": true
  },
  "kernelspec": {
   "display_name": "Python 3 (ipykernel)",
   "language": "python",
   "name": "python3"
  },
  "language_info": {
   "codemirror_mode": {
    "name": "ipython",
    "version": 3
   },
   "file_extension": ".py",
   "mimetype": "text/x-python",
   "name": "python",
   "nbconvert_exporter": "python",
   "pygments_lexer": "ipython3",
   "version": "3.9.16"
  }
 },
 "nbformat": 4,
 "nbformat_minor": 1
}
