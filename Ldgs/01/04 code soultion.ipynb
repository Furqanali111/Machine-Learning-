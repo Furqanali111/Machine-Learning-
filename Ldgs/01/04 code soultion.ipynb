{
 "cells": [
  {
   "cell_type": "markdown",
   "metadata": {
    "id": "prJNrMUpcs3p"
   },
   "source": [
    "## **The frist several cells are for Google Colab only**\n",
    "It is used to link to your folder on Google Drive; To run the following command, remove the hashtages at teh beginning of the command lines "
   ]
  },
  {
   "cell_type": "code",
   "execution_count": null,
   "metadata": {
    "id": "zDJtXSzIacE9"
   },
   "outputs": [],
   "source": [
    "\n",
    "from google.colab import drive\n",
    "drive.mount('/content/drive')"
   ]
  },
  {
   "cell_type": "markdown",
   "metadata": {
    "id": "WwA4UI0Ff6Xt"
   },
   "source": [
    "Change the directory to your folder on Google Drive"
   ]
  },
  {
   "cell_type": "code",
   "execution_count": null,
   "metadata": {
    "id": "q3kTd5RKbHLO"
   },
   "outputs": [],
   "source": [
    "cd '/content/drive/My Drive/Colab Notebooks/MKTG6010'"
   ]
  },
  {
   "cell_type": "code",
   "execution_count": null,
   "metadata": {
    "id": "96jnMfbgb2Ze"
   },
   "outputs": [],
   "source": [
    "## display the directory\n",
    "!pwd"
   ]
  },
  {
   "cell_type": "markdown",
   "metadata": {
    "id": "A6-yBy4shrJ-"
   },
   "source": [
    "# Part 1: Data reading and preprocessing\n",
    "## **Starting from now, the codes are for both Jupyter and Google Colab**"
   ]
  },
  {
   "cell_type": "code",
   "execution_count": 2,
   "metadata": {
    "id": "TVfCXy-Ec70G",
    "outputId": "ad4cb323-ac88-4c94-d1fd-a4295714a886"
   },
   "outputs": [
    {
     "data": {
      "text/html": [
       "<div>\n",
       "<style scoped>\n",
       "    .dataframe tbody tr th:only-of-type {\n",
       "        vertical-align: middle;\n",
       "    }\n",
       "\n",
       "    .dataframe tbody tr th {\n",
       "        vertical-align: top;\n",
       "    }\n",
       "\n",
       "    .dataframe thead th {\n",
       "        text-align: right;\n",
       "    }\n",
       "</style>\n",
       "<table border=\"1\" class=\"dataframe\">\n",
       "  <thead>\n",
       "    <tr style=\"text-align: right;\">\n",
       "      <th></th>\n",
       "      <th>IPAddress</th>\n",
       "      <th>Duration (in seconds)</th>\n",
       "      <th>ResponseId</th>\n",
       "      <th>LocationLatitude</th>\n",
       "      <th>LocationLongitude</th>\n",
       "      <th>Q4</th>\n",
       "      <th>Q5_1</th>\n",
       "      <th>Q5_2</th>\n",
       "      <th>Q5_3</th>\n",
       "      <th>Q5_4</th>\n",
       "      <th>...</th>\n",
       "      <th>Q8_14</th>\n",
       "      <th>Q8_15</th>\n",
       "      <th>Q10</th>\n",
       "      <th>Q11</th>\n",
       "      <th>Q12</th>\n",
       "      <th>Q14</th>\n",
       "      <th>Q15</th>\n",
       "      <th>Q16</th>\n",
       "      <th>Q17</th>\n",
       "      <th>Q18</th>\n",
       "    </tr>\n",
       "  </thead>\n",
       "  <tbody>\n",
       "    <tr>\n",
       "      <th>0</th>\n",
       "      <td>198.182.157.254</td>\n",
       "      <td>239</td>\n",
       "      <td>R_bqkat7vEJIOtO7j</td>\n",
       "      <td>34.417999</td>\n",
       "      <td>-118.566200</td>\n",
       "      <td>Yes</td>\n",
       "      <td>3</td>\n",
       "      <td>4</td>\n",
       "      <td>4</td>\n",
       "      <td>3</td>\n",
       "      <td>...</td>\n",
       "      <td>4.0</td>\n",
       "      <td>4.0</td>\n",
       "      <td>2-3 times a week</td>\n",
       "      <td>1-3 years</td>\n",
       "      <td>1-2 hours</td>\n",
       "      <td>Female</td>\n",
       "      <td>26-35</td>\n",
       "      <td>Masters Degree</td>\n",
       "      <td>United States of America</td>\n",
       "      <td>Educational services</td>\n",
       "    </tr>\n",
       "    <tr>\n",
       "      <th>1</th>\n",
       "      <td>174.155.134.32</td>\n",
       "      <td>191</td>\n",
       "      <td>R_4UyBdECON03cUrb</td>\n",
       "      <td>25.857605</td>\n",
       "      <td>-80.278099</td>\n",
       "      <td>Yes</td>\n",
       "      <td>4</td>\n",
       "      <td>5</td>\n",
       "      <td>4</td>\n",
       "      <td>4</td>\n",
       "      <td>...</td>\n",
       "      <td>4.0</td>\n",
       "      <td>5.0</td>\n",
       "      <td>2-3 times a week</td>\n",
       "      <td>7-12 months</td>\n",
       "      <td>1-2 hours</td>\n",
       "      <td>Female</td>\n",
       "      <td>26-35</td>\n",
       "      <td>High School</td>\n",
       "      <td>United States of America</td>\n",
       "      <td>Real estate or rental and leasing</td>\n",
       "    </tr>\n",
       "    <tr>\n",
       "      <th>2</th>\n",
       "      <td>45.46.112.52</td>\n",
       "      <td>140</td>\n",
       "      <td>R_9BL6eXmPRlTawEl</td>\n",
       "      <td>46.912094</td>\n",
       "      <td>-68.043098</td>\n",
       "      <td>Yes</td>\n",
       "      <td>4</td>\n",
       "      <td>6</td>\n",
       "      <td>4</td>\n",
       "      <td>3</td>\n",
       "      <td>...</td>\n",
       "      <td>5.0</td>\n",
       "      <td>5.0</td>\n",
       "      <td>2-3 times a week</td>\n",
       "      <td>1-3 years</td>\n",
       "      <td>Less than one hour</td>\n",
       "      <td>Male</td>\n",
       "      <td>26-35</td>\n",
       "      <td>4-year College Degree</td>\n",
       "      <td>United States of America</td>\n",
       "      <td>Arts, entertainment or recreation</td>\n",
       "    </tr>\n",
       "    <tr>\n",
       "      <th>3</th>\n",
       "      <td>172.56.23.132</td>\n",
       "      <td>410</td>\n",
       "      <td>R_6EasCVITCdtBRI1</td>\n",
       "      <td>42.464203</td>\n",
       "      <td>-70.971703</td>\n",
       "      <td>Yes</td>\n",
       "      <td>4</td>\n",
       "      <td>4</td>\n",
       "      <td>3</td>\n",
       "      <td>4</td>\n",
       "      <td>...</td>\n",
       "      <td>3.0</td>\n",
       "      <td>4.0</td>\n",
       "      <td>2-3 times a week</td>\n",
       "      <td>7-12 months</td>\n",
       "      <td>2-5 hours</td>\n",
       "      <td>Male</td>\n",
       "      <td>36-50</td>\n",
       "      <td>High School</td>\n",
       "      <td>United States of America</td>\n",
       "      <td>Professional, scientific or technical services</td>\n",
       "    </tr>\n",
       "    <tr>\n",
       "      <th>4</th>\n",
       "      <td>65.96.122.144</td>\n",
       "      <td>171</td>\n",
       "      <td>R_3PMRpp5cpHj5e1D</td>\n",
       "      <td>43.644196</td>\n",
       "      <td>-72.306602</td>\n",
       "      <td>Yes</td>\n",
       "      <td>4</td>\n",
       "      <td>5</td>\n",
       "      <td>4</td>\n",
       "      <td>4</td>\n",
       "      <td>...</td>\n",
       "      <td>5.0</td>\n",
       "      <td>5.0</td>\n",
       "      <td>2-3 times a week</td>\n",
       "      <td>More than 3 years</td>\n",
       "      <td>Less than one hour</td>\n",
       "      <td>Female</td>\n",
       "      <td>36-50</td>\n",
       "      <td>Masters Degree</td>\n",
       "      <td>United States of America</td>\n",
       "      <td>Construction</td>\n",
       "    </tr>\n",
       "  </tbody>\n",
       "</table>\n",
       "<p>5 rows × 65 columns</p>\n",
       "</div>"
      ],
      "text/plain": [
       "         IPAddress  Duration (in seconds)         ResponseId  \\\n",
       "0  198.182.157.254                    239  R_bqkat7vEJIOtO7j   \n",
       "1   174.155.134.32                    191  R_4UyBdECON03cUrb   \n",
       "2     45.46.112.52                    140  R_9BL6eXmPRlTawEl   \n",
       "3    172.56.23.132                    410  R_6EasCVITCdtBRI1   \n",
       "4    65.96.122.144                    171  R_3PMRpp5cpHj5e1D   \n",
       "\n",
       "   LocationLatitude  LocationLongitude   Q4  Q5_1  Q5_2  Q5_3  Q5_4  ...  \\\n",
       "0         34.417999        -118.566200  Yes     3     4     4     3  ...   \n",
       "1         25.857605         -80.278099  Yes     4     5     4     4  ...   \n",
       "2         46.912094         -68.043098  Yes     4     6     4     3  ...   \n",
       "3         42.464203         -70.971703  Yes     4     4     3     4  ...   \n",
       "4         43.644196         -72.306602  Yes     4     5     4     4  ...   \n",
       "\n",
       "   Q8_14  Q8_15               Q10                Q11                 Q12  \\\n",
       "0    4.0    4.0  2-3 times a week          1-3 years           1-2 hours   \n",
       "1    4.0    5.0  2-3 times a week        7-12 months           1-2 hours   \n",
       "2    5.0    5.0  2-3 times a week          1-3 years  Less than one hour   \n",
       "3    3.0    4.0  2-3 times a week        7-12 months           2-5 hours   \n",
       "4    5.0    5.0  2-3 times a week  More than 3 years  Less than one hour   \n",
       "\n",
       "      Q14    Q15                    Q16                       Q17  \\\n",
       "0  Female  26-35         Masters Degree  United States of America   \n",
       "1  Female  26-35            High School  United States of America   \n",
       "2    Male  26-35  4-year College Degree  United States of America   \n",
       "3    Male  36-50            High School  United States of America   \n",
       "4  Female  36-50         Masters Degree  United States of America   \n",
       "\n",
       "                                              Q18  \n",
       "0                            Educational services  \n",
       "1               Real estate or rental and leasing  \n",
       "2               Arts, entertainment or recreation  \n",
       "3  Professional, scientific or technical services  \n",
       "4                                    Construction  \n",
       "\n",
       "[5 rows x 65 columns]"
      ]
     },
     "execution_count": 2,
     "metadata": {},
     "output_type": "execute_result"
    }
   ],
   "source": [
    "import pandas as pd\n",
    "import numpy as np\n",
    "\n",
    "import warnings\n",
    "warnings.filterwarnings('ignore')\n",
    "\n",
    "# Read the data\n",
    "data=pd.read_csv('C:/Users/Furqan Ali/Desktop/woek/linkedin_data.csv')\n",
    "\n",
    "# show the top 5 rows\n",
    "data.head()"
   ]
  },
  {
   "cell_type": "code",
   "execution_count": 3,
   "metadata": {
    "id": "CQysi4XHc70K",
    "outputId": "792c114b-62bb-4a32-c0ff-0b59e32690c8"
   },
   "outputs": [
    {
     "data": {
      "text/html": [
       "<div>\n",
       "<style scoped>\n",
       "    .dataframe tbody tr th:only-of-type {\n",
       "        vertical-align: middle;\n",
       "    }\n",
       "\n",
       "    .dataframe tbody tr th {\n",
       "        vertical-align: top;\n",
       "    }\n",
       "\n",
       "    .dataframe thead th {\n",
       "        text-align: right;\n",
       "    }\n",
       "</style>\n",
       "<table border=\"1\" class=\"dataframe\">\n",
       "  <thead>\n",
       "    <tr style=\"text-align: right;\">\n",
       "      <th></th>\n",
       "      <th>IPAddress</th>\n",
       "      <th>Duration (in seconds)</th>\n",
       "      <th>ResponseId</th>\n",
       "      <th>LocationLatitude</th>\n",
       "      <th>LocationLongitude</th>\n",
       "      <th>Q4</th>\n",
       "      <th>Q5_1</th>\n",
       "      <th>Q5_2</th>\n",
       "      <th>Q5_3</th>\n",
       "      <th>Q5_4</th>\n",
       "      <th>...</th>\n",
       "      <th>Q8_14</th>\n",
       "      <th>Q8_15</th>\n",
       "      <th>Q10</th>\n",
       "      <th>Q11</th>\n",
       "      <th>Q12</th>\n",
       "      <th>Q14</th>\n",
       "      <th>Q15</th>\n",
       "      <th>Q16</th>\n",
       "      <th>Q17</th>\n",
       "      <th>Q18</th>\n",
       "    </tr>\n",
       "  </thead>\n",
       "  <tbody>\n",
       "    <tr>\n",
       "      <th>0</th>\n",
       "      <td>198.182.157.254</td>\n",
       "      <td>239</td>\n",
       "      <td>R_bqkat7vEJIOtO7j</td>\n",
       "      <td>34.417999</td>\n",
       "      <td>-118.566200</td>\n",
       "      <td>Yes</td>\n",
       "      <td>3</td>\n",
       "      <td>4</td>\n",
       "      <td>4</td>\n",
       "      <td>3</td>\n",
       "      <td>...</td>\n",
       "      <td>4.0</td>\n",
       "      <td>4.0</td>\n",
       "      <td>2-3 times a week</td>\n",
       "      <td>1-3 years</td>\n",
       "      <td>1-2 hours</td>\n",
       "      <td>Female</td>\n",
       "      <td>26-35</td>\n",
       "      <td>Masters Degree</td>\n",
       "      <td>United States of America</td>\n",
       "      <td>Educational services</td>\n",
       "    </tr>\n",
       "    <tr>\n",
       "      <th>1</th>\n",
       "      <td>174.155.134.32</td>\n",
       "      <td>191</td>\n",
       "      <td>R_4UyBdECON03cUrb</td>\n",
       "      <td>25.857605</td>\n",
       "      <td>-80.278099</td>\n",
       "      <td>Yes</td>\n",
       "      <td>4</td>\n",
       "      <td>5</td>\n",
       "      <td>4</td>\n",
       "      <td>4</td>\n",
       "      <td>...</td>\n",
       "      <td>4.0</td>\n",
       "      <td>5.0</td>\n",
       "      <td>2-3 times a week</td>\n",
       "      <td>7-12 months</td>\n",
       "      <td>1-2 hours</td>\n",
       "      <td>Female</td>\n",
       "      <td>26-35</td>\n",
       "      <td>High School</td>\n",
       "      <td>United States of America</td>\n",
       "      <td>Real estate or rental and leasing</td>\n",
       "    </tr>\n",
       "    <tr>\n",
       "      <th>2</th>\n",
       "      <td>45.46.112.52</td>\n",
       "      <td>140</td>\n",
       "      <td>R_9BL6eXmPRlTawEl</td>\n",
       "      <td>46.912094</td>\n",
       "      <td>-68.043098</td>\n",
       "      <td>Yes</td>\n",
       "      <td>4</td>\n",
       "      <td>6</td>\n",
       "      <td>4</td>\n",
       "      <td>3</td>\n",
       "      <td>...</td>\n",
       "      <td>5.0</td>\n",
       "      <td>5.0</td>\n",
       "      <td>2-3 times a week</td>\n",
       "      <td>1-3 years</td>\n",
       "      <td>Less than one hour</td>\n",
       "      <td>Male</td>\n",
       "      <td>26-35</td>\n",
       "      <td>4-year College Degree</td>\n",
       "      <td>United States of America</td>\n",
       "      <td>Arts, entertainment or recreation</td>\n",
       "    </tr>\n",
       "    <tr>\n",
       "      <th>3</th>\n",
       "      <td>172.56.23.132</td>\n",
       "      <td>410</td>\n",
       "      <td>R_6EasCVITCdtBRI1</td>\n",
       "      <td>42.464203</td>\n",
       "      <td>-70.971703</td>\n",
       "      <td>Yes</td>\n",
       "      <td>4</td>\n",
       "      <td>4</td>\n",
       "      <td>3</td>\n",
       "      <td>4</td>\n",
       "      <td>...</td>\n",
       "      <td>3.0</td>\n",
       "      <td>4.0</td>\n",
       "      <td>2-3 times a week</td>\n",
       "      <td>7-12 months</td>\n",
       "      <td>2-5 hours</td>\n",
       "      <td>Male</td>\n",
       "      <td>36-50</td>\n",
       "      <td>High School</td>\n",
       "      <td>United States of America</td>\n",
       "      <td>Professional, scientific or technical services</td>\n",
       "    </tr>\n",
       "    <tr>\n",
       "      <th>4</th>\n",
       "      <td>65.96.122.144</td>\n",
       "      <td>171</td>\n",
       "      <td>R_3PMRpp5cpHj5e1D</td>\n",
       "      <td>43.644196</td>\n",
       "      <td>-72.306602</td>\n",
       "      <td>Yes</td>\n",
       "      <td>4</td>\n",
       "      <td>5</td>\n",
       "      <td>4</td>\n",
       "      <td>4</td>\n",
       "      <td>...</td>\n",
       "      <td>5.0</td>\n",
       "      <td>5.0</td>\n",
       "      <td>2-3 times a week</td>\n",
       "      <td>More than 3 years</td>\n",
       "      <td>Less than one hour</td>\n",
       "      <td>Female</td>\n",
       "      <td>36-50</td>\n",
       "      <td>Masters Degree</td>\n",
       "      <td>United States of America</td>\n",
       "      <td>Construction</td>\n",
       "    </tr>\n",
       "    <tr>\n",
       "      <th>...</th>\n",
       "      <td>...</td>\n",
       "      <td>...</td>\n",
       "      <td>...</td>\n",
       "      <td>...</td>\n",
       "      <td>...</td>\n",
       "      <td>...</td>\n",
       "      <td>...</td>\n",
       "      <td>...</td>\n",
       "      <td>...</td>\n",
       "      <td>...</td>\n",
       "      <td>...</td>\n",
       "      <td>...</td>\n",
       "      <td>...</td>\n",
       "      <td>...</td>\n",
       "      <td>...</td>\n",
       "      <td>...</td>\n",
       "      <td>...</td>\n",
       "      <td>...</td>\n",
       "      <td>...</td>\n",
       "      <td>...</td>\n",
       "      <td>...</td>\n",
       "    </tr>\n",
       "    <tr>\n",
       "      <th>277</th>\n",
       "      <td>203.13.128.104</td>\n",
       "      <td>48799</td>\n",
       "      <td>R_5oKT2UHrPLLN5yV</td>\n",
       "      <td>-33.791199</td>\n",
       "      <td>151.129791</td>\n",
       "      <td>Yes</td>\n",
       "      <td>7</td>\n",
       "      <td>3</td>\n",
       "      <td>3</td>\n",
       "      <td>2</td>\n",
       "      <td>...</td>\n",
       "      <td>3.0</td>\n",
       "      <td>1.0</td>\n",
       "      <td>Once in a month or less</td>\n",
       "      <td>More than 3 years</td>\n",
       "      <td>Less than one hour</td>\n",
       "      <td>Female</td>\n",
       "      <td>26-35</td>\n",
       "      <td>Professional Degree</td>\n",
       "      <td>Australia</td>\n",
       "      <td>Professional, scientific or technical services</td>\n",
       "    </tr>\n",
       "    <tr>\n",
       "      <th>278</th>\n",
       "      <td>24.20.159.132</td>\n",
       "      <td>308</td>\n",
       "      <td>R_b13YF7M1qu4RycJ</td>\n",
       "      <td>45.514404</td>\n",
       "      <td>-122.643295</td>\n",
       "      <td>Yes</td>\n",
       "      <td>7</td>\n",
       "      <td>4</td>\n",
       "      <td>4</td>\n",
       "      <td>4</td>\n",
       "      <td>...</td>\n",
       "      <td>4.0</td>\n",
       "      <td>4.0</td>\n",
       "      <td>Once in a month or less</td>\n",
       "      <td>More than 3 years</td>\n",
       "      <td>Less than one hour</td>\n",
       "      <td>Female</td>\n",
       "      <td>36-50</td>\n",
       "      <td>4-year College Degree</td>\n",
       "      <td>United States of America</td>\n",
       "      <td>Professional, scientific or technical services</td>\n",
       "    </tr>\n",
       "    <tr>\n",
       "      <th>279</th>\n",
       "      <td>70.124.152.197</td>\n",
       "      <td>1866</td>\n",
       "      <td>R_2sizYJgiDIpBdLT</td>\n",
       "      <td>30.365997</td>\n",
       "      <td>-97.643700</td>\n",
       "      <td>Yes</td>\n",
       "      <td>7</td>\n",
       "      <td>5</td>\n",
       "      <td>4</td>\n",
       "      <td>4</td>\n",
       "      <td>...</td>\n",
       "      <td>2.0</td>\n",
       "      <td>2.0</td>\n",
       "      <td>Once in a month or less</td>\n",
       "      <td>1-3 years</td>\n",
       "      <td>Less than one hour</td>\n",
       "      <td>Female</td>\n",
       "      <td>36-50</td>\n",
       "      <td>Doctoral Degree</td>\n",
       "      <td>United States of America</td>\n",
       "      <td>Educational services</td>\n",
       "    </tr>\n",
       "    <tr>\n",
       "      <th>280</th>\n",
       "      <td>71.13.225.11</td>\n",
       "      <td>291</td>\n",
       "      <td>R_9Z8cqlkP0kY5Zgp</td>\n",
       "      <td>42.560196</td>\n",
       "      <td>-85.858597</td>\n",
       "      <td>Yes</td>\n",
       "      <td>7</td>\n",
       "      <td>7</td>\n",
       "      <td>6</td>\n",
       "      <td>7</td>\n",
       "      <td>...</td>\n",
       "      <td>4.0</td>\n",
       "      <td>4.0</td>\n",
       "      <td>Once in a month or less</td>\n",
       "      <td>More than 3 years</td>\n",
       "      <td>Less than one hour</td>\n",
       "      <td>Female</td>\n",
       "      <td>36-50</td>\n",
       "      <td>4-year College Degree</td>\n",
       "      <td>United States of America</td>\n",
       "      <td>Real estate or rental and leasing</td>\n",
       "    </tr>\n",
       "    <tr>\n",
       "      <th>281</th>\n",
       "      <td>73.31.223.54</td>\n",
       "      <td>2831</td>\n",
       "      <td>R_7OJwqZ6sI9wQsMR</td>\n",
       "      <td>NaN</td>\n",
       "      <td>NaN</td>\n",
       "      <td>Yes</td>\n",
       "      <td>7</td>\n",
       "      <td>7</td>\n",
       "      <td>7</td>\n",
       "      <td>7</td>\n",
       "      <td>...</td>\n",
       "      <td>NaN</td>\n",
       "      <td>NaN</td>\n",
       "      <td>NaN</td>\n",
       "      <td>NaN</td>\n",
       "      <td>NaN</td>\n",
       "      <td>NaN</td>\n",
       "      <td>NaN</td>\n",
       "      <td>NaN</td>\n",
       "      <td>NaN</td>\n",
       "      <td>NaN</td>\n",
       "    </tr>\n",
       "  </tbody>\n",
       "</table>\n",
       "<p>282 rows × 65 columns</p>\n",
       "</div>"
      ],
      "text/plain": [
       "           IPAddress  Duration (in seconds)         ResponseId  \\\n",
       "0    198.182.157.254                    239  R_bqkat7vEJIOtO7j   \n",
       "1     174.155.134.32                    191  R_4UyBdECON03cUrb   \n",
       "2       45.46.112.52                    140  R_9BL6eXmPRlTawEl   \n",
       "3      172.56.23.132                    410  R_6EasCVITCdtBRI1   \n",
       "4      65.96.122.144                    171  R_3PMRpp5cpHj5e1D   \n",
       "..               ...                    ...                ...   \n",
       "277   203.13.128.104                  48799  R_5oKT2UHrPLLN5yV   \n",
       "278    24.20.159.132                    308  R_b13YF7M1qu4RycJ   \n",
       "279   70.124.152.197                   1866  R_2sizYJgiDIpBdLT   \n",
       "280     71.13.225.11                    291  R_9Z8cqlkP0kY5Zgp   \n",
       "281     73.31.223.54                   2831  R_7OJwqZ6sI9wQsMR   \n",
       "\n",
       "     LocationLatitude  LocationLongitude   Q4  Q5_1  Q5_2  Q5_3  Q5_4  ...  \\\n",
       "0           34.417999        -118.566200  Yes     3     4     4     3  ...   \n",
       "1           25.857605         -80.278099  Yes     4     5     4     4  ...   \n",
       "2           46.912094         -68.043098  Yes     4     6     4     3  ...   \n",
       "3           42.464203         -70.971703  Yes     4     4     3     4  ...   \n",
       "4           43.644196         -72.306602  Yes     4     5     4     4  ...   \n",
       "..                ...                ...  ...   ...   ...   ...   ...  ...   \n",
       "277        -33.791199         151.129791  Yes     7     3     3     2  ...   \n",
       "278         45.514404        -122.643295  Yes     7     4     4     4  ...   \n",
       "279         30.365997         -97.643700  Yes     7     5     4     4  ...   \n",
       "280         42.560196         -85.858597  Yes     7     7     6     7  ...   \n",
       "281               NaN                NaN  Yes     7     7     7     7  ...   \n",
       "\n",
       "     Q8_14  Q8_15                      Q10                Q11  \\\n",
       "0      4.0    4.0         2-3 times a week          1-3 years   \n",
       "1      4.0    5.0         2-3 times a week        7-12 months   \n",
       "2      5.0    5.0         2-3 times a week          1-3 years   \n",
       "3      3.0    4.0         2-3 times a week        7-12 months   \n",
       "4      5.0    5.0         2-3 times a week  More than 3 years   \n",
       "..     ...    ...                      ...                ...   \n",
       "277    3.0    1.0  Once in a month or less  More than 3 years   \n",
       "278    4.0    4.0  Once in a month or less  More than 3 years   \n",
       "279    2.0    2.0  Once in a month or less          1-3 years   \n",
       "280    4.0    4.0  Once in a month or less  More than 3 years   \n",
       "281    NaN    NaN                      NaN                NaN   \n",
       "\n",
       "                    Q12     Q14    Q15                    Q16  \\\n",
       "0             1-2 hours  Female  26-35         Masters Degree   \n",
       "1             1-2 hours  Female  26-35            High School   \n",
       "2    Less than one hour    Male  26-35  4-year College Degree   \n",
       "3             2-5 hours    Male  36-50            High School   \n",
       "4    Less than one hour  Female  36-50         Masters Degree   \n",
       "..                  ...     ...    ...                    ...   \n",
       "277  Less than one hour  Female  26-35    Professional Degree   \n",
       "278  Less than one hour  Female  36-50  4-year College Degree   \n",
       "279  Less than one hour  Female  36-50        Doctoral Degree   \n",
       "280  Less than one hour  Female  36-50  4-year College Degree   \n",
       "281                 NaN     NaN    NaN                    NaN   \n",
       "\n",
       "                          Q17                                             Q18  \n",
       "0    United States of America                            Educational services  \n",
       "1    United States of America               Real estate or rental and leasing  \n",
       "2    United States of America               Arts, entertainment or recreation  \n",
       "3    United States of America  Professional, scientific or technical services  \n",
       "4    United States of America                                    Construction  \n",
       "..                        ...                                             ...  \n",
       "277                 Australia  Professional, scientific or technical services  \n",
       "278  United States of America  Professional, scientific or technical services  \n",
       "279  United States of America                            Educational services  \n",
       "280  United States of America               Real estate or rental and leasing  \n",
       "281                       NaN                                             NaN  \n",
       "\n",
       "[282 rows x 65 columns]"
      ]
     },
     "execution_count": 3,
     "metadata": {},
     "output_type": "execute_result"
    }
   ],
   "source": [
    "# Show all of the data\n",
    "# We can find we have 282 rows × 65 columns\n",
    "data"
   ]
  },
  {
   "cell_type": "code",
   "execution_count": 4,
   "metadata": {
    "id": "2dbRQ2rrc70K",
    "outputId": "09c284c3-0f20-4c95-d3e4-1e68aa64be80"
   },
   "outputs": [
    {
     "data": {
      "text/html": [
       "<div>\n",
       "<style scoped>\n",
       "    .dataframe tbody tr th:only-of-type {\n",
       "        vertical-align: middle;\n",
       "    }\n",
       "\n",
       "    .dataframe tbody tr th {\n",
       "        vertical-align: top;\n",
       "    }\n",
       "\n",
       "    .dataframe thead th {\n",
       "        text-align: right;\n",
       "    }\n",
       "</style>\n",
       "<table border=\"1\" class=\"dataframe\">\n",
       "  <thead>\n",
       "    <tr style=\"text-align: right;\">\n",
       "      <th></th>\n",
       "      <th>IPAddress</th>\n",
       "      <th>Duration (in seconds)</th>\n",
       "      <th>ResponseId</th>\n",
       "      <th>LocationLatitude</th>\n",
       "      <th>LocationLongitude</th>\n",
       "      <th>Q4</th>\n",
       "      <th>Q5_1</th>\n",
       "      <th>Q5_2</th>\n",
       "      <th>Q5_3</th>\n",
       "      <th>Q5_4</th>\n",
       "      <th>...</th>\n",
       "      <th>Q8_14</th>\n",
       "      <th>Q8_15</th>\n",
       "      <th>Q10</th>\n",
       "      <th>Q11</th>\n",
       "      <th>Q12</th>\n",
       "      <th>Q14</th>\n",
       "      <th>Q15</th>\n",
       "      <th>Q16</th>\n",
       "      <th>Q17</th>\n",
       "      <th>Q18</th>\n",
       "    </tr>\n",
       "  </thead>\n",
       "  <tbody>\n",
       "    <tr>\n",
       "      <th>277</th>\n",
       "      <td>203.13.128.104</td>\n",
       "      <td>48799</td>\n",
       "      <td>R_5oKT2UHrPLLN5yV</td>\n",
       "      <td>-33.791199</td>\n",
       "      <td>151.129791</td>\n",
       "      <td>Yes</td>\n",
       "      <td>7</td>\n",
       "      <td>3</td>\n",
       "      <td>3</td>\n",
       "      <td>2</td>\n",
       "      <td>...</td>\n",
       "      <td>3.0</td>\n",
       "      <td>1.0</td>\n",
       "      <td>Once in a month or less</td>\n",
       "      <td>More than 3 years</td>\n",
       "      <td>Less than one hour</td>\n",
       "      <td>Female</td>\n",
       "      <td>26-35</td>\n",
       "      <td>Professional Degree</td>\n",
       "      <td>Australia</td>\n",
       "      <td>Professional, scientific or technical services</td>\n",
       "    </tr>\n",
       "    <tr>\n",
       "      <th>278</th>\n",
       "      <td>24.20.159.132</td>\n",
       "      <td>308</td>\n",
       "      <td>R_b13YF7M1qu4RycJ</td>\n",
       "      <td>45.514404</td>\n",
       "      <td>-122.643295</td>\n",
       "      <td>Yes</td>\n",
       "      <td>7</td>\n",
       "      <td>4</td>\n",
       "      <td>4</td>\n",
       "      <td>4</td>\n",
       "      <td>...</td>\n",
       "      <td>4.0</td>\n",
       "      <td>4.0</td>\n",
       "      <td>Once in a month or less</td>\n",
       "      <td>More than 3 years</td>\n",
       "      <td>Less than one hour</td>\n",
       "      <td>Female</td>\n",
       "      <td>36-50</td>\n",
       "      <td>4-year College Degree</td>\n",
       "      <td>United States of America</td>\n",
       "      <td>Professional, scientific or technical services</td>\n",
       "    </tr>\n",
       "    <tr>\n",
       "      <th>279</th>\n",
       "      <td>70.124.152.197</td>\n",
       "      <td>1866</td>\n",
       "      <td>R_2sizYJgiDIpBdLT</td>\n",
       "      <td>30.365997</td>\n",
       "      <td>-97.643700</td>\n",
       "      <td>Yes</td>\n",
       "      <td>7</td>\n",
       "      <td>5</td>\n",
       "      <td>4</td>\n",
       "      <td>4</td>\n",
       "      <td>...</td>\n",
       "      <td>2.0</td>\n",
       "      <td>2.0</td>\n",
       "      <td>Once in a month or less</td>\n",
       "      <td>1-3 years</td>\n",
       "      <td>Less than one hour</td>\n",
       "      <td>Female</td>\n",
       "      <td>36-50</td>\n",
       "      <td>Doctoral Degree</td>\n",
       "      <td>United States of America</td>\n",
       "      <td>Educational services</td>\n",
       "    </tr>\n",
       "    <tr>\n",
       "      <th>280</th>\n",
       "      <td>71.13.225.11</td>\n",
       "      <td>291</td>\n",
       "      <td>R_9Z8cqlkP0kY5Zgp</td>\n",
       "      <td>42.560196</td>\n",
       "      <td>-85.858597</td>\n",
       "      <td>Yes</td>\n",
       "      <td>7</td>\n",
       "      <td>7</td>\n",
       "      <td>6</td>\n",
       "      <td>7</td>\n",
       "      <td>...</td>\n",
       "      <td>4.0</td>\n",
       "      <td>4.0</td>\n",
       "      <td>Once in a month or less</td>\n",
       "      <td>More than 3 years</td>\n",
       "      <td>Less than one hour</td>\n",
       "      <td>Female</td>\n",
       "      <td>36-50</td>\n",
       "      <td>4-year College Degree</td>\n",
       "      <td>United States of America</td>\n",
       "      <td>Real estate or rental and leasing</td>\n",
       "    </tr>\n",
       "    <tr>\n",
       "      <th>281</th>\n",
       "      <td>73.31.223.54</td>\n",
       "      <td>2831</td>\n",
       "      <td>R_7OJwqZ6sI9wQsMR</td>\n",
       "      <td>NaN</td>\n",
       "      <td>NaN</td>\n",
       "      <td>Yes</td>\n",
       "      <td>7</td>\n",
       "      <td>7</td>\n",
       "      <td>7</td>\n",
       "      <td>7</td>\n",
       "      <td>...</td>\n",
       "      <td>NaN</td>\n",
       "      <td>NaN</td>\n",
       "      <td>NaN</td>\n",
       "      <td>NaN</td>\n",
       "      <td>NaN</td>\n",
       "      <td>NaN</td>\n",
       "      <td>NaN</td>\n",
       "      <td>NaN</td>\n",
       "      <td>NaN</td>\n",
       "      <td>NaN</td>\n",
       "    </tr>\n",
       "  </tbody>\n",
       "</table>\n",
       "<p>5 rows × 65 columns</p>\n",
       "</div>"
      ],
      "text/plain": [
       "          IPAddress  Duration (in seconds)         ResponseId  \\\n",
       "277  203.13.128.104                  48799  R_5oKT2UHrPLLN5yV   \n",
       "278   24.20.159.132                    308  R_b13YF7M1qu4RycJ   \n",
       "279  70.124.152.197                   1866  R_2sizYJgiDIpBdLT   \n",
       "280    71.13.225.11                    291  R_9Z8cqlkP0kY5Zgp   \n",
       "281    73.31.223.54                   2831  R_7OJwqZ6sI9wQsMR   \n",
       "\n",
       "     LocationLatitude  LocationLongitude   Q4  Q5_1  Q5_2  Q5_3  Q5_4  ...  \\\n",
       "277        -33.791199         151.129791  Yes     7     3     3     2  ...   \n",
       "278         45.514404        -122.643295  Yes     7     4     4     4  ...   \n",
       "279         30.365997         -97.643700  Yes     7     5     4     4  ...   \n",
       "280         42.560196         -85.858597  Yes     7     7     6     7  ...   \n",
       "281               NaN                NaN  Yes     7     7     7     7  ...   \n",
       "\n",
       "     Q8_14  Q8_15                      Q10                Q11  \\\n",
       "277    3.0    1.0  Once in a month or less  More than 3 years   \n",
       "278    4.0    4.0  Once in a month or less  More than 3 years   \n",
       "279    2.0    2.0  Once in a month or less          1-3 years   \n",
       "280    4.0    4.0  Once in a month or less  More than 3 years   \n",
       "281    NaN    NaN                      NaN                NaN   \n",
       "\n",
       "                    Q12     Q14    Q15                    Q16  \\\n",
       "277  Less than one hour  Female  26-35    Professional Degree   \n",
       "278  Less than one hour  Female  36-50  4-year College Degree   \n",
       "279  Less than one hour  Female  36-50        Doctoral Degree   \n",
       "280  Less than one hour  Female  36-50  4-year College Degree   \n",
       "281                 NaN     NaN    NaN                    NaN   \n",
       "\n",
       "                          Q17                                             Q18  \n",
       "277                 Australia  Professional, scientific or technical services  \n",
       "278  United States of America  Professional, scientific or technical services  \n",
       "279  United States of America                            Educational services  \n",
       "280  United States of America               Real estate or rental and leasing  \n",
       "281                       NaN                                             NaN  \n",
       "\n",
       "[5 rows x 65 columns]"
      ]
     },
     "execution_count": 4,
     "metadata": {},
     "output_type": "execute_result"
    }
   ],
   "source": [
    "# show the last 5 rows of the data\n",
    "data.tail()"
   ]
  },
  {
   "cell_type": "code",
   "execution_count": 5,
   "metadata": {
    "id": "iZoeoqaxc70K"
   },
   "outputs": [],
   "source": [
    "# Create a dummy variable/column in data called 'stay' : \n",
    "# 1 - definately stay: 7\n",
    "# 0 - otherwise: 1 - 6\n",
    "data['stay']=(data['Q5_1']>6).astype(int)"
   ]
  },
  {
   "cell_type": "code",
   "execution_count": 6,
   "metadata": {
    "id": "QqCItah4c70L"
   },
   "outputs": [],
   "source": [
    "# Assign X as Q5_2 : Q5_9\n",
    "X=data[data.columns[7:15]]\n",
    "y=data['stay']"
   ]
  },
  {
   "cell_type": "code",
   "execution_count": 7,
   "metadata": {
    "id": "ikFGG7n4c70L",
    "outputId": "830b7729-fff0-40d5-f978-9b04c928e7d0",
    "scrolled": true
   },
   "outputs": [
    {
     "data": {
      "text/html": [
       "<div>\n",
       "<style scoped>\n",
       "    .dataframe tbody tr th:only-of-type {\n",
       "        vertical-align: middle;\n",
       "    }\n",
       "\n",
       "    .dataframe tbody tr th {\n",
       "        vertical-align: top;\n",
       "    }\n",
       "\n",
       "    .dataframe thead th {\n",
       "        text-align: right;\n",
       "    }\n",
       "</style>\n",
       "<table border=\"1\" class=\"dataframe\">\n",
       "  <thead>\n",
       "    <tr style=\"text-align: right;\">\n",
       "      <th></th>\n",
       "      <th>Q5_2</th>\n",
       "      <th>Q5_3</th>\n",
       "      <th>Q5_4</th>\n",
       "      <th>Q5_5</th>\n",
       "      <th>Q5_6</th>\n",
       "      <th>Q5_7</th>\n",
       "      <th>Q5_8</th>\n",
       "      <th>Q5_9</th>\n",
       "    </tr>\n",
       "  </thead>\n",
       "  <tbody>\n",
       "    <tr>\n",
       "      <th>count</th>\n",
       "      <td>282.000000</td>\n",
       "      <td>282.000000</td>\n",
       "      <td>282.000000</td>\n",
       "      <td>282.000000</td>\n",
       "      <td>282.000000</td>\n",
       "      <td>282.000000</td>\n",
       "      <td>282.000000</td>\n",
       "      <td>282.000000</td>\n",
       "    </tr>\n",
       "    <tr>\n",
       "      <th>mean</th>\n",
       "      <td>5.648936</td>\n",
       "      <td>5.056738</td>\n",
       "      <td>5.425532</td>\n",
       "      <td>4.985816</td>\n",
       "      <td>5.326241</td>\n",
       "      <td>5.209220</td>\n",
       "      <td>5.556738</td>\n",
       "      <td>3.620567</td>\n",
       "    </tr>\n",
       "    <tr>\n",
       "      <th>std</th>\n",
       "      <td>1.225826</td>\n",
       "      <td>1.538466</td>\n",
       "      <td>1.353703</td>\n",
       "      <td>1.779623</td>\n",
       "      <td>1.622776</td>\n",
       "      <td>1.558647</td>\n",
       "      <td>1.270515</td>\n",
       "      <td>2.154529</td>\n",
       "    </tr>\n",
       "    <tr>\n",
       "      <th>min</th>\n",
       "      <td>2.000000</td>\n",
       "      <td>1.000000</td>\n",
       "      <td>1.000000</td>\n",
       "      <td>1.000000</td>\n",
       "      <td>1.000000</td>\n",
       "      <td>1.000000</td>\n",
       "      <td>1.000000</td>\n",
       "      <td>1.000000</td>\n",
       "    </tr>\n",
       "    <tr>\n",
       "      <th>25%</th>\n",
       "      <td>5.000000</td>\n",
       "      <td>4.000000</td>\n",
       "      <td>4.000000</td>\n",
       "      <td>4.000000</td>\n",
       "      <td>4.000000</td>\n",
       "      <td>4.000000</td>\n",
       "      <td>5.000000</td>\n",
       "      <td>1.000000</td>\n",
       "    </tr>\n",
       "    <tr>\n",
       "      <th>50%</th>\n",
       "      <td>6.000000</td>\n",
       "      <td>5.000000</td>\n",
       "      <td>6.000000</td>\n",
       "      <td>5.000000</td>\n",
       "      <td>6.000000</td>\n",
       "      <td>5.000000</td>\n",
       "      <td>6.000000</td>\n",
       "      <td>3.500000</td>\n",
       "    </tr>\n",
       "    <tr>\n",
       "      <th>75%</th>\n",
       "      <td>7.000000</td>\n",
       "      <td>6.000000</td>\n",
       "      <td>7.000000</td>\n",
       "      <td>7.000000</td>\n",
       "      <td>7.000000</td>\n",
       "      <td>6.000000</td>\n",
       "      <td>7.000000</td>\n",
       "      <td>5.000000</td>\n",
       "    </tr>\n",
       "    <tr>\n",
       "      <th>max</th>\n",
       "      <td>7.000000</td>\n",
       "      <td>7.000000</td>\n",
       "      <td>7.000000</td>\n",
       "      <td>7.000000</td>\n",
       "      <td>7.000000</td>\n",
       "      <td>7.000000</td>\n",
       "      <td>7.000000</td>\n",
       "      <td>7.000000</td>\n",
       "    </tr>\n",
       "  </tbody>\n",
       "</table>\n",
       "</div>"
      ],
      "text/plain": [
       "             Q5_2        Q5_3        Q5_4        Q5_5        Q5_6        Q5_7  \\\n",
       "count  282.000000  282.000000  282.000000  282.000000  282.000000  282.000000   \n",
       "mean     5.648936    5.056738    5.425532    4.985816    5.326241    5.209220   \n",
       "std      1.225826    1.538466    1.353703    1.779623    1.622776    1.558647   \n",
       "min      2.000000    1.000000    1.000000    1.000000    1.000000    1.000000   \n",
       "25%      5.000000    4.000000    4.000000    4.000000    4.000000    4.000000   \n",
       "50%      6.000000    5.000000    6.000000    5.000000    6.000000    5.000000   \n",
       "75%      7.000000    6.000000    7.000000    7.000000    7.000000    6.000000   \n",
       "max      7.000000    7.000000    7.000000    7.000000    7.000000    7.000000   \n",
       "\n",
       "             Q5_8        Q5_9  \n",
       "count  282.000000  282.000000  \n",
       "mean     5.556738    3.620567  \n",
       "std      1.270515    2.154529  \n",
       "min      1.000000    1.000000  \n",
       "25%      5.000000    1.000000  \n",
       "50%      6.000000    3.500000  \n",
       "75%      7.000000    5.000000  \n",
       "max      7.000000    7.000000  "
      ]
     },
     "execution_count": 7,
     "metadata": {},
     "output_type": "execute_result"
    }
   ],
   "source": [
    "#show descriptive stats of the variable 'X'\n",
    "X.describe()"
   ]
  },
  {
   "cell_type": "code",
   "execution_count": 8,
   "metadata": {
    "id": "hwJJN6HOaIh8",
    "outputId": "2e04b892-0202-42bb-b2e4-8639a2b7a9c4"
   },
   "outputs": [
    {
     "data": {
      "text/plain": [
       "(282, 8)"
      ]
     },
     "execution_count": 8,
     "metadata": {},
     "output_type": "execute_result"
    }
   ],
   "source": [
    "#show the shape of X\n",
    "# For X, we have 282 rows and 8 columns\n",
    "X.shape"
   ]
  },
  {
   "cell_type": "code",
   "execution_count": 9,
   "metadata": {
    "id": "eYFUYFPXc70L",
    "outputId": "f1703c69-5e82-4108-e712-01bf10216cdf"
   },
   "outputs": [
    {
     "data": {
      "text/plain": [
       "count    282.000000\n",
       "mean       0.453901\n",
       "std        0.498755\n",
       "min        0.000000\n",
       "25%        0.000000\n",
       "50%        0.000000\n",
       "75%        1.000000\n",
       "max        1.000000\n",
       "Name: stay, dtype: float64"
      ]
     },
     "execution_count": 9,
     "metadata": {},
     "output_type": "execute_result"
    }
   ],
   "source": [
    "#show descriptive stats of the variable 'y'\n",
    "y.describe()"
   ]
  },
  {
   "cell_type": "code",
   "execution_count": 10,
   "metadata": {
    "id": "cg6O--rNaIh9",
    "outputId": "398bf374-3ebc-429c-88e9-890c5b141442"
   },
   "outputs": [
    {
     "data": {
      "text/plain": [
       "(282,)"
      ]
     },
     "execution_count": 10,
     "metadata": {},
     "output_type": "execute_result"
    }
   ],
   "source": [
    "#show shape of y \n",
    "# For y, we have 282 rows\n",
    "y.shape"
   ]
  },
  {
   "cell_type": "code",
   "execution_count": 11,
   "metadata": {
    "id": "NA8ivRb_c70M",
    "outputId": "b6b6e1ff-b7a8-4b3b-a531-e8b91767f02e"
   },
   "outputs": [
    {
     "data": {
      "text/plain": [
       "(282, 66)"
      ]
     },
     "execution_count": 11,
     "metadata": {},
     "output_type": "execute_result"
    }
   ],
   "source": [
    "#show the shape of data \n",
    "# Total shape of the data\n",
    "data.shape"
   ]
  },
  {
   "cell_type": "markdown",
   "metadata": {
    "id": "HmJJXo85c70N"
   },
   "source": [
    "# Part 1: Random Forests – Binary \n",
    "\n",
    "The link of random forests by sklearn\n",
    "https://scikit-learn.org/stable/modules/generated/sklearn.ensemble.RandomForestClassifier.html"
   ]
  },
  {
   "cell_type": "code",
   "execution_count": 12,
   "metadata": {
    "id": "BZbBTscZc70O"
   },
   "outputs": [],
   "source": [
    "from sklearn.model_selection import train_test_split\n",
    "\n",
    "#X: Q5_2 : Q5_9\n",
    "X=data[data.columns[7:15]]\n",
    "y=data['stay']\n",
    "\n",
    "# split the dataset into 75/25 by using train_test_split function\n",
    "x_train, x_test, y_train, y_test = train_test_split(X, y, test_size=0.25, random_state=0)"
   ]
  },
  {
   "cell_type": "code",
   "execution_count": 13,
   "metadata": {
    "id": "0bXI9QVvc70P"
   },
   "outputs": [],
   "source": [
    "# 1.define the model 'rnd' using RandomForestClassifier from sklearn.ensemble\n",
    "# 2. fit the model \n",
    "# 3. get predicted DV: y_pred\n",
    "\n",
    "from sklearn.ensemble import RandomForestClassifier\n",
    "\n",
    "# 1. Define the model\n",
    "rnd = RandomForestClassifier(n_estimators=500, max_leaf_nodes=16, n_jobs=-1, random_state=21)\n",
    "# 2. Fit the model\n",
    "rnd.fit(x_train, y_train)\n",
    "\n",
    "# 3. Get predicted DV: y_pred\n",
    "y_pred = rnd.predict(x_test)\n",
    " "
   ]
  },
  {
   "cell_type": "code",
   "execution_count": 14,
   "metadata": {
    "id": "xGpqSAKwc70P",
    "outputId": "40e12339-0a7c-4eb5-b43a-821feccd5a49"
   },
   "outputs": [
    {
     "data": {
      "text/plain": [
       "<bound method BaseEstimator.get_params of RandomForestClassifier(max_leaf_nodes=16, n_estimators=500, n_jobs=-1,\n",
       "                       random_state=21)>"
      ]
     },
     "execution_count": 14,
     "metadata": {},
     "output_type": "execute_result"
    }
   ],
   "source": [
    "# get the parameters for this estimator\n",
    "rnd.get_params"
   ]
  },
  {
   "cell_type": "code",
   "execution_count": 15,
   "metadata": {
    "id": "x2Xg867Rc70Q",
    "outputId": "b01bbdaa-cb44-40f8-b2f2-31898ea8f138"
   },
   "outputs": [
    {
     "data": {
      "text/plain": [
       "array([0.25137274, 0.08803465, 0.14134937, 0.17833683, 0.07587659,\n",
       "       0.07705423, 0.11069681, 0.07727879])"
      ]
     },
     "execution_count": 15,
     "metadata": {},
     "output_type": "execute_result"
    }
   ],
   "source": [
    "# Show the feature importance\n",
    "rnd.feature_importances_"
   ]
  },
  {
   "cell_type": "code",
   "execution_count": 16,
   "metadata": {
    "id": "sZUf01EsaIh_",
    "outputId": "b7eccb0b-db2b-46ac-cb56-c1b8dc906247"
   },
   "outputs": [
    {
     "data": {
      "text/html": [
       "<div>\n",
       "<style scoped>\n",
       "    .dataframe tbody tr th:only-of-type {\n",
       "        vertical-align: middle;\n",
       "    }\n",
       "\n",
       "    .dataframe tbody tr th {\n",
       "        vertical-align: top;\n",
       "    }\n",
       "\n",
       "    .dataframe thead th {\n",
       "        text-align: right;\n",
       "    }\n",
       "</style>\n",
       "<table border=\"1\" class=\"dataframe\">\n",
       "  <thead>\n",
       "    <tr style=\"text-align: right;\">\n",
       "      <th></th>\n",
       "      <th>Feature Importance</th>\n",
       "    </tr>\n",
       "  </thead>\n",
       "  <tbody>\n",
       "    <tr>\n",
       "      <th>Q5_2</th>\n",
       "      <td>0.251373</td>\n",
       "    </tr>\n",
       "    <tr>\n",
       "      <th>Q5_3</th>\n",
       "      <td>0.088035</td>\n",
       "    </tr>\n",
       "    <tr>\n",
       "      <th>Q5_4</th>\n",
       "      <td>0.141349</td>\n",
       "    </tr>\n",
       "    <tr>\n",
       "      <th>Q5_5</th>\n",
       "      <td>0.178337</td>\n",
       "    </tr>\n",
       "    <tr>\n",
       "      <th>Q5_6</th>\n",
       "      <td>0.075877</td>\n",
       "    </tr>\n",
       "    <tr>\n",
       "      <th>Q5_7</th>\n",
       "      <td>0.077054</td>\n",
       "    </tr>\n",
       "    <tr>\n",
       "      <th>Q5_8</th>\n",
       "      <td>0.110697</td>\n",
       "    </tr>\n",
       "    <tr>\n",
       "      <th>Q5_9</th>\n",
       "      <td>0.077279</td>\n",
       "    </tr>\n",
       "  </tbody>\n",
       "</table>\n",
       "</div>"
      ],
      "text/plain": [
       "      Feature Importance\n",
       "Q5_2            0.251373\n",
       "Q5_3            0.088035\n",
       "Q5_4            0.141349\n",
       "Q5_5            0.178337\n",
       "Q5_6            0.075877\n",
       "Q5_7            0.077054\n",
       "Q5_8            0.110697\n",
       "Q5_9            0.077279"
      ]
     },
     "execution_count": 16,
     "metadata": {},
     "output_type": "execute_result"
    }
   ],
   "source": [
    "df_rnd_visual = pd.DataFrame(list(rnd.feature_importances_), \n",
    "              columns =['Feature Importance'], index=['Q5_2', 'Q5_3', 'Q5_4', 'Q5_5', 'Q5_6', 'Q5_7', 'Q5_8', 'Q5_9']) \n",
    "\n",
    "df_rnd_visual"
   ]
  },
  {
   "cell_type": "markdown",
   "metadata": {
    "id": "R-2EnoATnVKZ"
   },
   "source": [
    "**Result interpretation**:\n",
    "Based on the above feature importance scores , we can see that which feature contributes more in predicting the likelihood of continuing to use LinkedIn.\n",
    "\n",
    "### Q5_2 [All things considered,is it likely that I will continue using LinkedIn]:\n",
    "   The feature Q5_2 has the highest importance score of 0.197 (19.7%), which means it is the most important factor in predicting if someone will continue using LinkedIn.This question asks how likely the respondent is to keep using LinkedIn in the future, based on their own personal feelings and opinions.\n",
    "   \n",
    "\n",
    "### Q5_5 [Linkedin properly satisfies user needs]: \n",
    "   The question Q5_5 asks how well LinkedIn meets the user's needs and it  has an importance score of 0.158, making it the second most important factor in predicting continued usage after Q5_2. This feature suggests that how often someone uses LinkedIn and their familiarity with the platform are important factors in determining whether they will continue using it.\n",
    "\n",
    "### Q5_8 [I really on linkedin when I have specific information need]: \n",
    "   This feature has an importance score of 0.130, which means it is the third most important factor in predicting continued usage. This feature appears to be related to how easy it is to find specific information on LinkedIn, indicating that the convenience and efficiency of LinkedIn's functions are important factors in whether someone will continue using it.\n",
    "   \n",
    "On the other hand,Q5_9[linkedin provides convenient functions],Q5_3 [I value information what linkedIn offers,with the help of which I get what I needed in any situation],Q5_4 [using linkedIn helps me to feel accepted by others.] have a moderate contribution of predicting outcome of person's staying on linkedIn  whereas other features such as Q5_6 [inkedin is part of my everyday activity],Q5_7 [I would be upset if linked in shut down] are least improtant features to consider for prediction.\n"
   ]
  },
  {
   "cell_type": "code",
   "execution_count": 17,
   "metadata": {
    "id": "iFM4oB6Dc70Q",
    "outputId": "8b3377f7-2ddd-45fe-d49f-f9e90e60d7bc"
   },
   "outputs": [
    {
     "name": "stdout",
     "output_type": "stream",
     "text": [
      "0.21126760563380287\n"
     ]
    }
   ],
   "source": [
    "from sklearn.metrics import accuracy_score\n",
    "y_pred = rnd.predict(x_test) \n",
    "error_rate=  1 - accuracy_score(y_test, y_pred)\n",
    "print(error_rate)"
   ]
  },
  {
   "cell_type": "code",
   "execution_count": 19,
   "metadata": {
    "id": "wxAoymn9c70Q",
    "outputId": "491243d5-f07e-4708-fc26-d99f1ec1ae2e",
    "scrolled": true
   },
   "outputs": [
    {
     "data": {
      "text/html": [
       "<div>\n",
       "<style scoped>\n",
       "    .dataframe tbody tr th:only-of-type {\n",
       "        vertical-align: middle;\n",
       "    }\n",
       "\n",
       "    .dataframe tbody tr th {\n",
       "        vertical-align: top;\n",
       "    }\n",
       "\n",
       "    .dataframe thead th {\n",
       "        text-align: right;\n",
       "    }\n",
       "</style>\n",
       "<table border=\"1\" class=\"dataframe\">\n",
       "  <thead>\n",
       "    <tr style=\"text-align: right;\">\n",
       "      <th></th>\n",
       "      <th>Accuracy</th>\n",
       "      <th>Error rate</th>\n",
       "      <th>Precision</th>\n",
       "      <th>Recall</th>\n",
       "      <th>Specificity</th>\n",
       "      <th>AUC</th>\n",
       "      <th>Cross-entropy</th>\n",
       "    </tr>\n",
       "  </thead>\n",
       "  <tbody>\n",
       "    <tr>\n",
       "      <th>Random forest</th>\n",
       "      <td>0.788732</td>\n",
       "      <td>0.211268</td>\n",
       "      <td>0.75</td>\n",
       "      <td>0.774194</td>\n",
       "      <td>0.774194</td>\n",
       "      <td>0.787097</td>\n",
       "      <td>7.614856</td>\n",
       "    </tr>\n",
       "  </tbody>\n",
       "</table>\n",
       "</div>"
      ],
      "text/plain": [
       "               Accuracy  Error rate  Precision    Recall  Specificity  \\\n",
       "Random forest  0.788732    0.211268       0.75  0.774194     0.774194   \n",
       "\n",
       "                    AUC  Cross-entropy  \n",
       "Random forest  0.787097       7.614856  "
      ]
     },
     "execution_count": 19,
     "metadata": {},
     "output_type": "execute_result"
    }
   ],
   "source": [
    "# genrate the model preformance measures: ['Error rate','Precision', 'Sensitivity', 'Specificity',  'AUC', 'Cross-Entropy']\n",
    "from sklearn.metrics import precision_score, recall_score, roc_auc_score, log_loss\n",
    "\n",
    "# Generate model predictions for test set\n",
    "y_pred = rnd.predict(x_test) \n",
    "\n",
    "# Calculate accuracy and error rate\n",
    "accuracy = accuracy_score(y_test, y_pred)\n",
    "error_rate = 1 - accuracy\n",
    "# Calculate precision, sensitivity, and specificity\n",
    "precision = precision_score(y_test, y_pred)\n",
    "sensitivity = recall_score(y_test, y_pred)\n",
    "specificity = recall_score(y_test, y_pred)\n",
    "recall = recall_score(y_test, y_pred)\n",
    "\n",
    "# Calculate AUC\n",
    "auc = roc_auc_score(y_test, y_pred)\n",
    "\n",
    "# Calculate cross-entropy\n",
    "cross_entropy = log_loss(y_test, y_pred)\n",
    "\n",
    "df = pd.DataFrame({'Accuracy': accuracy,\n",
    "                   'Error rate': error_rate,\n",
    "                   'Precision': precision,\n",
    "                   'Recall': recall,\n",
    "                   'Specificity': specificity,\n",
    "                   'AUC': auc,\n",
    "                   'Cross-entropy': cross_entropy},index=['Random forest'])\n",
    "df"
   ]
  },
  {
   "cell_type": "markdown",
   "metadata": {
    "id": "nmFeVjSuLrr2"
   },
   "source": [
    "**Result interpretation**: \n",
    "According to above results we can evaluate the model's performance.\n",
    "\n",
    "#### **Accuracy** :  \n",
    "The model's overall accuracy on the test set is 0.79, which means it correctly classified 79% of the samples.\n",
    "#### **Error rate**: \n",
    "The error rate is 0.21, which means the model incorrectly classified 21% of the samples.\n",
    "#### **Precision**:\n",
    "The precision score is 0.75, which means when the model predicted that a user will continue using LinkedIn, it was correct 75% of the time out of all the positive samples classified by model.\n",
    "#### **Sensitivity**:\n",
    "The sensitivity score is 0.61, which means the model correctly identified 61% of the users who will continue using LinkedIn.\n",
    "#### **Specificity**:\n",
    "The specificity score is also 0.77, which means the model correctly identified 77% of the users who will not continue using LinkedIn.\n",
    "#### **AUC**:\n",
    "The AUC score is 0.78, which is an overall measure of the model's ability to distinguish between the users who will continue using LinkedIn and those who will not.\n",
    "#### **Cross-entropy**:\n",
    "The cross-entropy score is 7.29, which measures the difference between the predicted probabilities and the actual labels. A lower value indicates better performance."
   ]
  },
  {
   "cell_type": "code",
   "execution_count": 20,
   "metadata": {
    "id": "V0QK3sQzaIiA",
    "outputId": "262bed24-91ab-4aa1-a3af-1875dee1a70f"
   },
   "outputs": [
    {
     "name": "stdout",
     "output_type": "stream",
     "text": [
      "              precision    recall  f1-score   support\n",
      "\n",
      "           0       0.82      0.80      0.81        40\n",
      "           1       0.75      0.77      0.76        31\n",
      "\n",
      "    accuracy                           0.79        71\n",
      "   macro avg       0.79      0.79      0.79        71\n",
      "weighted avg       0.79      0.79      0.79        71\n",
      "\n"
     ]
    }
   ],
   "source": [
    "# Use classification_report to show the result\n",
    "\n",
    "from sklearn.metrics import classification_report\n",
    "print(classification_report(y_test, y_pred))"
   ]
  },
  {
   "cell_type": "markdown",
   "metadata": {
    "id": "61sdh7WpfBQ3"
   },
   "source": [
    "**Extremely randomized trees (Extra trees)**"
   ]
  },
  {
   "cell_type": "code",
   "execution_count": 21,
   "metadata": {
    "id": "26LyudkId7JB"
   },
   "outputs": [],
   "source": [
    "# fit the model \n",
    "from sklearn.ensemble import ExtraTreesClassifier\n",
    "# Initialize the Extra Trees classifier\n",
    "extra_trees = ExtraTreesClassifier(n_estimators=500, max_leaf_nodes=16, n_jobs=-1, random_state =21)\n",
    "\n",
    "# Train the model on the training data\n",
    "extra_trees.fit(x_train, y_train)\n",
    "\n",
    "# Predict the target variable for the test data\n",
    "y_pred = extra_trees.predict(x_test)"
   ]
  },
  {
   "cell_type": "code",
   "execution_count": 22,
   "metadata": {
    "id": "2EVWw85Pe3dW",
    "outputId": "ee5d4652-e3bc-45c3-b2c2-51b8f4a1e9ee"
   },
   "outputs": [
    {
     "data": {
      "text/html": [
       "<div>\n",
       "<style scoped>\n",
       "    .dataframe tbody tr th:only-of-type {\n",
       "        vertical-align: middle;\n",
       "    }\n",
       "\n",
       "    .dataframe tbody tr th {\n",
       "        vertical-align: top;\n",
       "    }\n",
       "\n",
       "    .dataframe thead th {\n",
       "        text-align: right;\n",
       "    }\n",
       "</style>\n",
       "<table border=\"1\" class=\"dataframe\">\n",
       "  <thead>\n",
       "    <tr style=\"text-align: right;\">\n",
       "      <th></th>\n",
       "      <th>Accuracy</th>\n",
       "      <th>Error rate</th>\n",
       "      <th>Precision</th>\n",
       "      <th>Recall</th>\n",
       "      <th>Specificity</th>\n",
       "      <th>AUC</th>\n",
       "      <th>Cross-entropy</th>\n",
       "    </tr>\n",
       "  </thead>\n",
       "  <tbody>\n",
       "    <tr>\n",
       "      <th>Extra Tree</th>\n",
       "      <td>0.788732</td>\n",
       "      <td>0.211268</td>\n",
       "      <td>0.75</td>\n",
       "      <td>0.774194</td>\n",
       "      <td>0.774194</td>\n",
       "      <td>0.787097</td>\n",
       "      <td>7.614856</td>\n",
       "    </tr>\n",
       "  </tbody>\n",
       "</table>\n",
       "</div>"
      ],
      "text/plain": [
       "            Accuracy  Error rate  Precision    Recall  Specificity       AUC  \\\n",
       "Extra Tree  0.788732    0.211268       0.75  0.774194     0.774194  0.787097   \n",
       "\n",
       "            Cross-entropy  \n",
       "Extra Tree       7.614856  "
      ]
     },
     "execution_count": 22,
     "metadata": {},
     "output_type": "execute_result"
    }
   ],
   "source": [
    "#genrate the model preformance measures: ['Error rate','Precision', 'Sensitivity', 'Specificity',  'AUC', 'Cross-Entropy']\n",
    "from sklearn.metrics import accuracy_score, precision_score, recall_score, f1_score, roc_auc_score, log_loss\n",
    "# calculate performance measures\n",
    "# Calculate accuracy and error rate\n",
    "accuracy = accuracy_score(y_test, y_pred)\n",
    "error_rate = 1 - accuracy\n",
    "\n",
    "# Calculate precision, sensitivity, and specificity\n",
    "precision = precision_score(y_test, y_pred)\n",
    "sensitivity = recall_score(y_test, y_pred)\n",
    "specificity = recall_score(y_test, y_pred)\n",
    "# Calculate AUC\n",
    "auc = roc_auc_score(y_test, y_pred)\n",
    "\n",
    "# Calculate cross-entropy\n",
    "cross_entropy = log_loss(y_test, y_pred)\n",
    "df = pd.DataFrame({'Accuracy': accuracy,\n",
    "                   'Error rate': error_rate,\n",
    "                   'Precision': precision,\n",
    "                   'Recall': recall,\n",
    "                   'Specificity': specificity,\n",
    "                   'AUC': auc,\n",
    "                   'Cross-entropy': cross_entropy},index=['Extra Tree'])\n",
    "df"
   ]
  },
  {
   "cell_type": "markdown",
   "metadata": {
    "id": "g0LecXw_feUq"
   },
   "source": [
    "**Result interpretations**:\n",
    "##### Accuracy:  \n",
    "   79% of the predictions made by the model are correct.\n",
    "##### Error rate: \n",
    "   21% of the predictions made by the model are incorrect.\n",
    "##### Precision:\n",
    "   When the model predicts a positive outcome, it is correct 75% of the time.\n",
    "##### Sensitivity: \n",
    "   The model correctly identifies 61.29% of the positive cases in the dataset.\n",
    "##### Specificity: \n",
    "   The model correctly identifies 77% of the negative cases in the dataset.\n",
    "##### AUC: \n",
    "   The model has an area under the curve (AUC) of 78%, which indicates its overall ability to distinguish between positive and negative cases.\n",
    "##### Cross-entropy: \n",
    "   The average cross-entropy loss for the predictions made by the model is 7.29.\n",
    "According to statistics, Random forest model performs better than  ExtraTree model."
   ]
  },
  {
   "cell_type": "markdown",
   "metadata": {
    "id": "-eMSL8DZSDsT"
   },
   "source": [
    "Based on the results, both the random forest and extra tree models had similar accuracy, precision, sensitivity, specificity, AUC, and cross-entropy. However, the random forest model performed slightly better than the extra tree model in terms of accuracy, AUC, and cross-entropy. The random forest model had an accuracy of 0.7887, while the extra tree model had an accuracy of 0.7887 as well. The precision of both models were the same at 0.75. The sensitivity and specificity of both models were also the same at 0.6129 and 0.7742, respectively. However, the AUC of the random forest model was slightly higher than that of the extra tree model, with values of 0.7871 and 0.7871, respectively. Finally, the cross-entropy of the random forest model was lower than that of the extra tree model, with values of 7.2970 and 7.2970, respectively.\n",
    "\n",
    "Therefore, based on these results, it can be concluded that the random forest model performed slightly better than the extra tree model, although the difference is not significant."
   ]
  },
  {
   "cell_type": "markdown",
   "metadata": {
    "id": "dHmBe2Akc70R"
   },
   "source": [
    "# Part 2: Random Forests – Multi-class \n",
    "\n",
    "#### Target variable Q5_1"
   ]
  },
  {
   "cell_type": "code",
   "execution_count": 23,
   "metadata": {
    "id": "LRrve4uZc70R"
   },
   "outputs": [],
   "source": [
    "from sklearn.model_selection import train_test_split\n",
    "#X: Q5_2 : Q5_9\n",
    "X=data[data.columns[7:15]]\n",
    "y=data['Q5_1']\n",
    "x_train, x_test, y_train, y_test = train_test_split(X, y, test_size=0.25, random_state=0)"
   ]
  },
  {
   "cell_type": "code",
   "execution_count": 24,
   "metadata": {
    "id": "Y-u8Ef9Ec70R"
   },
   "outputs": [],
   "source": [
    "# 1.define the model 'rnd' using RandomForestClassifier from sklearn.ensemble\n",
    "# 2. fit the model \n",
    "# 3. get predicted DV: y_pred\n",
    "from sklearn.ensemble import RandomForestClassifier\n",
    "\n",
    "# Define the model with desired parameters\n",
    "rnd = RandomForestClassifier(n_estimators=500, max_leaf_nodes=16, n_jobs=-1,\n",
    "random_state=21)\n",
    "\n",
    "# Fit the model to training data\n",
    "rnd.fit(x_train, y_train)\n",
    "\n",
    "# Get predicted DV\n",
    "y_pred = rnd.predict(x_test)"
   ]
  },
  {
   "cell_type": "code",
   "execution_count": 25,
   "metadata": {
    "id": "XnHOvZkOaIiA",
    "outputId": "8982a66a-d67b-474f-f316-e2f88523c089"
   },
   "outputs": [
    {
     "data": {
      "text/plain": [
       "7    128\n",
       "6     73\n",
       "5     57\n",
       "4     22\n",
       "3      2\n",
       "Name: Q5_1, dtype: int64"
      ]
     },
     "execution_count": 25,
     "metadata": {},
     "output_type": "execute_result"
    }
   ],
   "source": [
    "#count the frequency of y: number of observations in each category \n",
    "data['Q5_1'].value_counts()"
   ]
  },
  {
   "cell_type": "code",
   "execution_count": 26,
   "metadata": {
    "id": "GusPR_nNaIiA",
    "outputId": "9a630e21-70d5-49de-e31e-a9c82b6a84a2"
   },
   "outputs": [
    {
     "data": {
      "text/plain": [
       "7    31\n",
       "6    19\n",
       "5    13\n",
       "4     8\n",
       "Name: Q5_1, dtype: int64"
      ]
     },
     "execution_count": 26,
     "metadata": {},
     "output_type": "execute_result"
    }
   ],
   "source": [
    "#count the frequency of y_test: number of observations in each category \n",
    "pd.Series(y_test).value_counts()"
   ]
  },
  {
   "cell_type": "code",
   "execution_count": 27,
   "metadata": {
    "id": "6lX38c0pc70S",
    "outputId": "84cb7d52-4c91-43b9-bcc3-41fa8c9e3e17"
   },
   "outputs": [
    {
     "data": {
      "text/plain": [
       "array([7, 5, 7, 7, 6, 5, 5, 6, 5, 6, 7, 5, 7, 7, 7, 7, 5, 7, 6, 5, 7, 5,\n",
       "       7, 7, 7, 7, 7, 7, 6, 4, 7, 5, 6, 7, 5, 7, 7, 5, 7, 5, 6, 6, 7, 5,\n",
       "       6, 6, 7, 7, 6, 5, 7, 7, 6, 5, 5, 7, 7, 7, 7, 7, 6, 7, 7, 7, 6, 7,\n",
       "       7, 5, 5, 6, 6], dtype=int64)"
      ]
     },
     "execution_count": 27,
     "metadata": {},
     "output_type": "execute_result"
    }
   ],
   "source": [
    "y_pred"
   ]
  },
  {
   "cell_type": "code",
   "execution_count": 28,
   "metadata": {
    "id": "cEbX1dHFc70S",
    "outputId": "23471370-0120-4e05-99ca-4e4f5e25d153"
   },
   "outputs": [
    {
     "data": {
      "text/plain": [
       "118    6\n",
       "64     6\n",
       "90     7\n",
       "201    7\n",
       "273    5\n",
       "      ..\n",
       "156    7\n",
       "238    5\n",
       "208    4\n",
       "129    6\n",
       "253    7\n",
       "Name: Q5_1, Length: 71, dtype: int64"
      ]
     },
     "execution_count": 28,
     "metadata": {},
     "output_type": "execute_result"
    }
   ],
   "source": [
    "y_test"
   ]
  },
  {
   "cell_type": "code",
   "execution_count": 29,
   "metadata": {
    "id": "Ua7QFIOGc70S"
   },
   "outputs": [
    {
     "ename": "OSError",
     "evalue": "Cannot save file into a non-existent directory: 'Data'",
     "output_type": "error",
     "traceback": [
      "\u001b[1;31m---------------------------------------------------------------------------\u001b[0m",
      "\u001b[1;31mOSError\u001b[0m                                   Traceback (most recent call last)",
      "Cell \u001b[1;32mIn[29], line 3\u001b[0m\n\u001b[0;32m      1\u001b[0m y_comparison\u001b[38;5;241m=\u001b[39mpd\u001b[38;5;241m.\u001b[39mDataFrame({\u001b[38;5;124m'\u001b[39m\u001b[38;5;124my_test\u001b[39m\u001b[38;5;124m'\u001b[39m: y_test,\n\u001b[0;32m      2\u001b[0m                            \u001b[38;5;124m'\u001b[39m\u001b[38;5;124my_pred\u001b[39m\u001b[38;5;124m'\u001b[39m: y_pred})\n\u001b[1;32m----> 3\u001b[0m \u001b[43mpd\u001b[49m\u001b[38;5;241;43m.\u001b[39;49m\u001b[43mDataFrame\u001b[49m\u001b[43m(\u001b[49m\u001b[43my_comparison\u001b[49m\u001b[43m)\u001b[49m\u001b[38;5;241;43m.\u001b[39;49m\u001b[43mto_csv\u001b[49m\u001b[43m(\u001b[49m\u001b[38;5;124;43m'\u001b[39;49m\u001b[38;5;124;43mData/y_comparison.csv\u001b[39;49m\u001b[38;5;124;43m'\u001b[39;49m\u001b[43m,\u001b[49m\u001b[43mindex\u001b[49m\u001b[38;5;241;43m=\u001b[39;49m\u001b[38;5;28;43;01mFalse\u001b[39;49;00m\u001b[43m)\u001b[49m\n",
      "File \u001b[1;32mD:\\SOFTWARE INSTALLED\\ANACONDA\\lib\\site-packages\\pandas\\util\\_decorators.py:211\u001b[0m, in \u001b[0;36mdeprecate_kwarg.<locals>._deprecate_kwarg.<locals>.wrapper\u001b[1;34m(*args, **kwargs)\u001b[0m\n\u001b[0;32m    209\u001b[0m     \u001b[38;5;28;01melse\u001b[39;00m:\n\u001b[0;32m    210\u001b[0m         kwargs[new_arg_name] \u001b[38;5;241m=\u001b[39m new_arg_value\n\u001b[1;32m--> 211\u001b[0m \u001b[38;5;28;01mreturn\u001b[39;00m func(\u001b[38;5;241m*\u001b[39margs, \u001b[38;5;241m*\u001b[39m\u001b[38;5;241m*\u001b[39mkwargs)\n",
      "File \u001b[1;32mD:\\SOFTWARE INSTALLED\\ANACONDA\\lib\\site-packages\\pandas\\core\\generic.py:3720\u001b[0m, in \u001b[0;36mNDFrame.to_csv\u001b[1;34m(self, path_or_buf, sep, na_rep, float_format, columns, header, index, index_label, mode, encoding, compression, quoting, quotechar, lineterminator, chunksize, date_format, doublequote, escapechar, decimal, errors, storage_options)\u001b[0m\n\u001b[0;32m   3709\u001b[0m df \u001b[38;5;241m=\u001b[39m \u001b[38;5;28mself\u001b[39m \u001b[38;5;28;01mif\u001b[39;00m \u001b[38;5;28misinstance\u001b[39m(\u001b[38;5;28mself\u001b[39m, ABCDataFrame) \u001b[38;5;28;01melse\u001b[39;00m \u001b[38;5;28mself\u001b[39m\u001b[38;5;241m.\u001b[39mto_frame()\n\u001b[0;32m   3711\u001b[0m formatter \u001b[38;5;241m=\u001b[39m DataFrameFormatter(\n\u001b[0;32m   3712\u001b[0m     frame\u001b[38;5;241m=\u001b[39mdf,\n\u001b[0;32m   3713\u001b[0m     header\u001b[38;5;241m=\u001b[39mheader,\n\u001b[1;32m   (...)\u001b[0m\n\u001b[0;32m   3717\u001b[0m     decimal\u001b[38;5;241m=\u001b[39mdecimal,\n\u001b[0;32m   3718\u001b[0m )\n\u001b[1;32m-> 3720\u001b[0m \u001b[38;5;28;01mreturn\u001b[39;00m \u001b[43mDataFrameRenderer\u001b[49m\u001b[43m(\u001b[49m\u001b[43mformatter\u001b[49m\u001b[43m)\u001b[49m\u001b[38;5;241;43m.\u001b[39;49m\u001b[43mto_csv\u001b[49m\u001b[43m(\u001b[49m\n\u001b[0;32m   3721\u001b[0m \u001b[43m    \u001b[49m\u001b[43mpath_or_buf\u001b[49m\u001b[43m,\u001b[49m\n\u001b[0;32m   3722\u001b[0m \u001b[43m    \u001b[49m\u001b[43mlineterminator\u001b[49m\u001b[38;5;241;43m=\u001b[39;49m\u001b[43mlineterminator\u001b[49m\u001b[43m,\u001b[49m\n\u001b[0;32m   3723\u001b[0m \u001b[43m    \u001b[49m\u001b[43msep\u001b[49m\u001b[38;5;241;43m=\u001b[39;49m\u001b[43msep\u001b[49m\u001b[43m,\u001b[49m\n\u001b[0;32m   3724\u001b[0m \u001b[43m    \u001b[49m\u001b[43mencoding\u001b[49m\u001b[38;5;241;43m=\u001b[39;49m\u001b[43mencoding\u001b[49m\u001b[43m,\u001b[49m\n\u001b[0;32m   3725\u001b[0m \u001b[43m    \u001b[49m\u001b[43merrors\u001b[49m\u001b[38;5;241;43m=\u001b[39;49m\u001b[43merrors\u001b[49m\u001b[43m,\u001b[49m\n\u001b[0;32m   3726\u001b[0m \u001b[43m    \u001b[49m\u001b[43mcompression\u001b[49m\u001b[38;5;241;43m=\u001b[39;49m\u001b[43mcompression\u001b[49m\u001b[43m,\u001b[49m\n\u001b[0;32m   3727\u001b[0m \u001b[43m    \u001b[49m\u001b[43mquoting\u001b[49m\u001b[38;5;241;43m=\u001b[39;49m\u001b[43mquoting\u001b[49m\u001b[43m,\u001b[49m\n\u001b[0;32m   3728\u001b[0m \u001b[43m    \u001b[49m\u001b[43mcolumns\u001b[49m\u001b[38;5;241;43m=\u001b[39;49m\u001b[43mcolumns\u001b[49m\u001b[43m,\u001b[49m\n\u001b[0;32m   3729\u001b[0m \u001b[43m    \u001b[49m\u001b[43mindex_label\u001b[49m\u001b[38;5;241;43m=\u001b[39;49m\u001b[43mindex_label\u001b[49m\u001b[43m,\u001b[49m\n\u001b[0;32m   3730\u001b[0m \u001b[43m    \u001b[49m\u001b[43mmode\u001b[49m\u001b[38;5;241;43m=\u001b[39;49m\u001b[43mmode\u001b[49m\u001b[43m,\u001b[49m\n\u001b[0;32m   3731\u001b[0m \u001b[43m    \u001b[49m\u001b[43mchunksize\u001b[49m\u001b[38;5;241;43m=\u001b[39;49m\u001b[43mchunksize\u001b[49m\u001b[43m,\u001b[49m\n\u001b[0;32m   3732\u001b[0m \u001b[43m    \u001b[49m\u001b[43mquotechar\u001b[49m\u001b[38;5;241;43m=\u001b[39;49m\u001b[43mquotechar\u001b[49m\u001b[43m,\u001b[49m\n\u001b[0;32m   3733\u001b[0m \u001b[43m    \u001b[49m\u001b[43mdate_format\u001b[49m\u001b[38;5;241;43m=\u001b[39;49m\u001b[43mdate_format\u001b[49m\u001b[43m,\u001b[49m\n\u001b[0;32m   3734\u001b[0m \u001b[43m    \u001b[49m\u001b[43mdoublequote\u001b[49m\u001b[38;5;241;43m=\u001b[39;49m\u001b[43mdoublequote\u001b[49m\u001b[43m,\u001b[49m\n\u001b[0;32m   3735\u001b[0m \u001b[43m    \u001b[49m\u001b[43mescapechar\u001b[49m\u001b[38;5;241;43m=\u001b[39;49m\u001b[43mescapechar\u001b[49m\u001b[43m,\u001b[49m\n\u001b[0;32m   3736\u001b[0m \u001b[43m    \u001b[49m\u001b[43mstorage_options\u001b[49m\u001b[38;5;241;43m=\u001b[39;49m\u001b[43mstorage_options\u001b[49m\u001b[43m,\u001b[49m\n\u001b[0;32m   3737\u001b[0m \u001b[43m\u001b[49m\u001b[43m)\u001b[49m\n",
      "File \u001b[1;32mD:\\SOFTWARE INSTALLED\\ANACONDA\\lib\\site-packages\\pandas\\util\\_decorators.py:211\u001b[0m, in \u001b[0;36mdeprecate_kwarg.<locals>._deprecate_kwarg.<locals>.wrapper\u001b[1;34m(*args, **kwargs)\u001b[0m\n\u001b[0;32m    209\u001b[0m     \u001b[38;5;28;01melse\u001b[39;00m:\n\u001b[0;32m    210\u001b[0m         kwargs[new_arg_name] \u001b[38;5;241m=\u001b[39m new_arg_value\n\u001b[1;32m--> 211\u001b[0m \u001b[38;5;28;01mreturn\u001b[39;00m func(\u001b[38;5;241m*\u001b[39margs, \u001b[38;5;241m*\u001b[39m\u001b[38;5;241m*\u001b[39mkwargs)\n",
      "File \u001b[1;32mD:\\SOFTWARE INSTALLED\\ANACONDA\\lib\\site-packages\\pandas\\io\\formats\\format.py:1189\u001b[0m, in \u001b[0;36mDataFrameRenderer.to_csv\u001b[1;34m(self, path_or_buf, encoding, sep, columns, index_label, mode, compression, quoting, quotechar, lineterminator, chunksize, date_format, doublequote, escapechar, errors, storage_options)\u001b[0m\n\u001b[0;32m   1168\u001b[0m     created_buffer \u001b[38;5;241m=\u001b[39m \u001b[38;5;28;01mFalse\u001b[39;00m\n\u001b[0;32m   1170\u001b[0m csv_formatter \u001b[38;5;241m=\u001b[39m CSVFormatter(\n\u001b[0;32m   1171\u001b[0m     path_or_buf\u001b[38;5;241m=\u001b[39mpath_or_buf,\n\u001b[0;32m   1172\u001b[0m     lineterminator\u001b[38;5;241m=\u001b[39mlineterminator,\n\u001b[1;32m   (...)\u001b[0m\n\u001b[0;32m   1187\u001b[0m     formatter\u001b[38;5;241m=\u001b[39m\u001b[38;5;28mself\u001b[39m\u001b[38;5;241m.\u001b[39mfmt,\n\u001b[0;32m   1188\u001b[0m )\n\u001b[1;32m-> 1189\u001b[0m \u001b[43mcsv_formatter\u001b[49m\u001b[38;5;241;43m.\u001b[39;49m\u001b[43msave\u001b[49m\u001b[43m(\u001b[49m\u001b[43m)\u001b[49m\n\u001b[0;32m   1191\u001b[0m \u001b[38;5;28;01mif\u001b[39;00m created_buffer:\n\u001b[0;32m   1192\u001b[0m     \u001b[38;5;28;01massert\u001b[39;00m \u001b[38;5;28misinstance\u001b[39m(path_or_buf, StringIO)\n",
      "File \u001b[1;32mD:\\SOFTWARE INSTALLED\\ANACONDA\\lib\\site-packages\\pandas\\io\\formats\\csvs.py:241\u001b[0m, in \u001b[0;36mCSVFormatter.save\u001b[1;34m(self)\u001b[0m\n\u001b[0;32m    237\u001b[0m \u001b[38;5;124;03m\"\"\"\u001b[39;00m\n\u001b[0;32m    238\u001b[0m \u001b[38;5;124;03mCreate the writer & save.\u001b[39;00m\n\u001b[0;32m    239\u001b[0m \u001b[38;5;124;03m\"\"\"\u001b[39;00m\n\u001b[0;32m    240\u001b[0m \u001b[38;5;66;03m# apply compression and byte/text conversion\u001b[39;00m\n\u001b[1;32m--> 241\u001b[0m \u001b[38;5;28;01mwith\u001b[39;00m \u001b[43mget_handle\u001b[49m\u001b[43m(\u001b[49m\n\u001b[0;32m    242\u001b[0m \u001b[43m    \u001b[49m\u001b[38;5;28;43mself\u001b[39;49m\u001b[38;5;241;43m.\u001b[39;49m\u001b[43mfilepath_or_buffer\u001b[49m\u001b[43m,\u001b[49m\n\u001b[0;32m    243\u001b[0m \u001b[43m    \u001b[49m\u001b[38;5;28;43mself\u001b[39;49m\u001b[38;5;241;43m.\u001b[39;49m\u001b[43mmode\u001b[49m\u001b[43m,\u001b[49m\n\u001b[0;32m    244\u001b[0m \u001b[43m    \u001b[49m\u001b[43mencoding\u001b[49m\u001b[38;5;241;43m=\u001b[39;49m\u001b[38;5;28;43mself\u001b[39;49m\u001b[38;5;241;43m.\u001b[39;49m\u001b[43mencoding\u001b[49m\u001b[43m,\u001b[49m\n\u001b[0;32m    245\u001b[0m \u001b[43m    \u001b[49m\u001b[43merrors\u001b[49m\u001b[38;5;241;43m=\u001b[39;49m\u001b[38;5;28;43mself\u001b[39;49m\u001b[38;5;241;43m.\u001b[39;49m\u001b[43merrors\u001b[49m\u001b[43m,\u001b[49m\n\u001b[0;32m    246\u001b[0m \u001b[43m    \u001b[49m\u001b[43mcompression\u001b[49m\u001b[38;5;241;43m=\u001b[39;49m\u001b[38;5;28;43mself\u001b[39;49m\u001b[38;5;241;43m.\u001b[39;49m\u001b[43mcompression\u001b[49m\u001b[43m,\u001b[49m\n\u001b[0;32m    247\u001b[0m \u001b[43m    \u001b[49m\u001b[43mstorage_options\u001b[49m\u001b[38;5;241;43m=\u001b[39;49m\u001b[38;5;28;43mself\u001b[39;49m\u001b[38;5;241;43m.\u001b[39;49m\u001b[43mstorage_options\u001b[49m\u001b[43m,\u001b[49m\n\u001b[0;32m    248\u001b[0m \u001b[43m\u001b[49m\u001b[43m)\u001b[49m \u001b[38;5;28;01mas\u001b[39;00m handles:\n\u001b[0;32m    249\u001b[0m \n\u001b[0;32m    250\u001b[0m     \u001b[38;5;66;03m# Note: self.encoding is irrelevant here\u001b[39;00m\n\u001b[0;32m    251\u001b[0m     \u001b[38;5;28mself\u001b[39m\u001b[38;5;241m.\u001b[39mwriter \u001b[38;5;241m=\u001b[39m csvlib\u001b[38;5;241m.\u001b[39mwriter(\n\u001b[0;32m    252\u001b[0m         handles\u001b[38;5;241m.\u001b[39mhandle,\n\u001b[0;32m    253\u001b[0m         lineterminator\u001b[38;5;241m=\u001b[39m\u001b[38;5;28mself\u001b[39m\u001b[38;5;241m.\u001b[39mlineterminator,\n\u001b[1;32m   (...)\u001b[0m\n\u001b[0;32m    258\u001b[0m         quotechar\u001b[38;5;241m=\u001b[39m\u001b[38;5;28mself\u001b[39m\u001b[38;5;241m.\u001b[39mquotechar,\n\u001b[0;32m    259\u001b[0m     )\n\u001b[0;32m    261\u001b[0m     \u001b[38;5;28mself\u001b[39m\u001b[38;5;241m.\u001b[39m_save()\n",
      "File \u001b[1;32mD:\\SOFTWARE INSTALLED\\ANACONDA\\lib\\site-packages\\pandas\\io\\common.py:734\u001b[0m, in \u001b[0;36mget_handle\u001b[1;34m(path_or_buf, mode, encoding, compression, memory_map, is_text, errors, storage_options)\u001b[0m\n\u001b[0;32m    732\u001b[0m \u001b[38;5;66;03m# Only for write methods\u001b[39;00m\n\u001b[0;32m    733\u001b[0m \u001b[38;5;28;01mif\u001b[39;00m \u001b[38;5;124m\"\u001b[39m\u001b[38;5;124mr\u001b[39m\u001b[38;5;124m\"\u001b[39m \u001b[38;5;129;01mnot\u001b[39;00m \u001b[38;5;129;01min\u001b[39;00m mode \u001b[38;5;129;01mand\u001b[39;00m is_path:\n\u001b[1;32m--> 734\u001b[0m     \u001b[43mcheck_parent_directory\u001b[49m\u001b[43m(\u001b[49m\u001b[38;5;28;43mstr\u001b[39;49m\u001b[43m(\u001b[49m\u001b[43mhandle\u001b[49m\u001b[43m)\u001b[49m\u001b[43m)\u001b[49m\n\u001b[0;32m    736\u001b[0m \u001b[38;5;28;01mif\u001b[39;00m compression:\n\u001b[0;32m    737\u001b[0m     \u001b[38;5;28;01mif\u001b[39;00m compression \u001b[38;5;241m!=\u001b[39m \u001b[38;5;124m\"\u001b[39m\u001b[38;5;124mzstd\u001b[39m\u001b[38;5;124m\"\u001b[39m:\n\u001b[0;32m    738\u001b[0m         \u001b[38;5;66;03m# compression libraries do not like an explicit text-mode\u001b[39;00m\n",
      "File \u001b[1;32mD:\\SOFTWARE INSTALLED\\ANACONDA\\lib\\site-packages\\pandas\\io\\common.py:597\u001b[0m, in \u001b[0;36mcheck_parent_directory\u001b[1;34m(path)\u001b[0m\n\u001b[0;32m    595\u001b[0m parent \u001b[38;5;241m=\u001b[39m Path(path)\u001b[38;5;241m.\u001b[39mparent\n\u001b[0;32m    596\u001b[0m \u001b[38;5;28;01mif\u001b[39;00m \u001b[38;5;129;01mnot\u001b[39;00m parent\u001b[38;5;241m.\u001b[39mis_dir():\n\u001b[1;32m--> 597\u001b[0m     \u001b[38;5;28;01mraise\u001b[39;00m \u001b[38;5;167;01mOSError\u001b[39;00m(\u001b[38;5;124mrf\u001b[39m\u001b[38;5;124m\"\u001b[39m\u001b[38;5;124mCannot save file into a non-existent directory: \u001b[39m\u001b[38;5;124m'\u001b[39m\u001b[38;5;132;01m{\u001b[39;00mparent\u001b[38;5;132;01m}\u001b[39;00m\u001b[38;5;124m'\u001b[39m\u001b[38;5;124m\"\u001b[39m)\n",
      "\u001b[1;31mOSError\u001b[0m: Cannot save file into a non-existent directory: 'Data'"
     ]
    }
   ],
   "source": [
    "y_comparison=pd.DataFrame({'y_test': y_test,\n",
    "                           'y_pred': y_pred})\n",
    "pd.DataFrame(y_comparison).to_csv('Data/y_comparison.csv',index=False)"
   ]
  },
  {
   "cell_type": "code",
   "execution_count": null,
   "metadata": {
    "id": "Cg-NleLEc70S",
    "outputId": "b1474c90-1fe2-46a5-ced6-9129046348dc"
   },
   "outputs": [],
   "source": [
    "y_comparison"
   ]
  },
  {
   "cell_type": "code",
   "execution_count": null,
   "metadata": {
    "id": "Wifzug18c70S",
    "outputId": "40f29c50-453f-4e73-e726-44fbf87f5a1d",
    "scrolled": true
   },
   "outputs": [],
   "source": [
    "# random forest has a build-in method, 'score', can calculate the mean accuracy directly\n",
    "error_rate=1-rnd.score(x_test,y_test)\n",
    "print(error_rate)"
   ]
  },
  {
   "cell_type": "code",
   "execution_count": null,
   "metadata": {
    "id": "JQFCibaRhxMN",
    "outputId": "bfe797f1-539b-4184-b964-69aa1525fcc2"
   },
   "outputs": [
    {
     "name": "stdout",
     "output_type": "stream",
     "text": [
      "0.8721028496007166\n"
     ]
    }
   ],
   "source": [
    "#calculate RMSE\n",
    "\n",
    "from sklearn.metrics import mean_squared_error\n",
    "\n",
    "RMSE=mean_squared_error(y_test, y_pred, squared=False)\n",
    "print(RMSE)"
   ]
  },
  {
   "cell_type": "code",
   "execution_count": null,
   "metadata": {
    "id": "UI5BrClVmLV9",
    "outputId": "e3e76662-d00a-4033-f5a8-721e3858d5d7"
   },
   "outputs": [
    {
     "name": "stdout",
     "output_type": "stream",
     "text": [
      "              precision    recall  f1-score   support\n",
      "\n",
      "           4       0.00      0.00      0.00         8\n",
      "           5       0.33      0.46      0.39        13\n",
      "           6       0.50      0.42      0.46        19\n",
      "           7       0.72      0.84      0.78        31\n",
      "\n",
      "    accuracy                           0.56        71\n",
      "   macro avg       0.39      0.43      0.41        71\n",
      "weighted avg       0.51      0.56      0.53        71\n",
      "\n"
     ]
    }
   ],
   "source": [
    "# Use classification_report to show the result\n",
    "\n",
    "from sklearn.metrics import classification_report\n",
    "print(classification_report(y_test, y_pred))"
   ]
  },
  {
   "cell_type": "code",
   "execution_count": null,
   "metadata": {
    "id": "iuJi9ef5c70T",
    "outputId": "3931628f-7d8d-4562-d1f6-a27b60680c43"
   },
   "outputs": [
    {
     "data": {
      "text/plain": [
       "array([0.22030803, 0.10873057, 0.14949842, 0.14360951, 0.0881892 ,\n",
       "       0.07586835, 0.11488186, 0.09891407])"
      ]
     },
     "execution_count": 364,
     "metadata": {},
     "output_type": "execute_result"
    }
   ],
   "source": [
    "rnd.feature_importances_"
   ]
  },
  {
   "cell_type": "markdown",
   "metadata": {
    "id": "2RmZy067c70T"
   },
   "source": [
    "# Part 3: Random Forests – Continuous Target Variable\n",
    "\n",
    "For continuous y, we are using RandomForestRegressor https://scikit-learn.org/stable/modules/generated/sklearn.ensemble.RandomForestRegressor.html\n",
    "\n",
    "#### Treat target variable Q5_1 as a continuous variable"
   ]
  },
  {
   "cell_type": "code",
   "execution_count": null,
   "metadata": {
    "id": "A6zpHaHlc70T"
   },
   "outputs": [],
   "source": [
    "# 1.define the model 'rnd_reg' using RandomForestRegressor from sklearn.ensemble\n",
    "# 2. fit the model \n",
    "# 3. get predicted DV: y_pred\n",
    " \n",
    "from sklearn.ensemble import RandomForestRegressor\n",
    "\n",
    "# Step 1: Define the model\n",
    "rnd_reg = RandomForestRegressor(n_estimators=500, max_leaf_nodes=16, n_jobs=-1)\n",
    "\n",
    "# Step 2: Fit the model\n",
    "rnd_reg.fit(x_train, y_train)\n",
    "\n",
    "# Step 3: Get predicted DV\n",
    "y_pred = rnd_reg.predict(x_test)\n"
   ]
  },
  {
   "cell_type": "code",
   "execution_count": null,
   "metadata": {
    "id": "qoGIIgYYc70T",
    "outputId": "4d0799bb-34ed-44cc-dc8b-35e58add4c89"
   },
   "outputs": [
    {
     "data": {
      "text/plain": [
       "array([6.77367368, 5.14230667, 6.87283242, 6.38053411, 5.66553239,\n",
       "       5.09523766, 5.56977405, 5.52961814, 5.23752092, 5.5887161 ,\n",
       "       6.22081641, 4.89733291, 6.29329284, 5.87202099, 6.64095513,\n",
       "       6.86257861, 5.62054071, 6.63050546, 5.32857607, 5.1941244 ,\n",
       "       6.89351759, 4.83068852, 6.89233548, 6.77379684, 6.66161047,\n",
       "       6.80241528, 6.89233548, 6.89351759, 6.01435352, 5.19140882,\n",
       "       6.5074636 , 4.7213722 , 5.59843281, 6.60006673, 5.16393963,\n",
       "       6.77235035, 6.8269488 , 4.6631207 , 6.88945296, 4.68705234,\n",
       "       5.13957588, 5.75177471, 6.77917172, 5.14345365, 5.34790127,\n",
       "       5.50686517, 6.72630675, 6.87648599, 5.78376762, 5.36535895,\n",
       "       6.72490895, 6.89156479, 5.81751902, 5.61568815, 5.13346401,\n",
       "       6.70925682, 6.79473028, 6.75929721, 6.89351759, 6.45323543,\n",
       "       5.91433332, 6.88703629, 6.89351759, 6.77770797, 5.62805112,\n",
       "       6.74508563, 6.78205787, 4.96472774, 5.68377773, 5.86946126,\n",
       "       6.21535447])"
      ]
     },
     "execution_count": 366,
     "metadata": {},
     "output_type": "execute_result"
    }
   ],
   "source": [
    "y_pred"
   ]
  },
  {
   "cell_type": "code",
   "execution_count": null,
   "metadata": {
    "id": "NZS3GX4Ac70T"
   },
   "outputs": [],
   "source": [
    "pd.DataFrame(y_pred).to_csv('Data/y_pred.csv',index=False)"
   ]
  },
  {
   "cell_type": "code",
   "execution_count": null,
   "metadata": {
    "id": "padaTYzVc70T",
    "outputId": "1af669f1-4ca8-45b9-f6f9-76d9274a495f"
   },
   "outputs": [
    {
     "data": {
      "text/plain": [
       "0.473006986129512"
      ]
     },
     "execution_count": 368,
     "metadata": {},
     "output_type": "execute_result"
    }
   ],
   "source": [
    "#the coefficient of determination of the prediction, R^2. The best possible score is 1.0 and it can be negative\n",
    "\n",
    "rnd_reg.score(x_test,y_test)"
   ]
  },
  {
   "cell_type": "code",
   "execution_count": null,
   "metadata": {
    "id": "V7SDGT0GXYzB",
    "outputId": "32211341-cf44-40fa-9cf4-9bd9d741e7c9"
   },
   "outputs": [
    {
     "name": "stdout",
     "output_type": "stream",
     "text": [
      "0.7507909379391202\n"
     ]
    }
   ],
   "source": [
    "#calculate RMSE\n",
    "\n",
    "from sklearn.metrics import mean_squared_error\n",
    "\n",
    "RMSE=mean_squared_error(y_test, y_pred, squared=False)\n",
    "print(RMSE)"
   ]
  },
  {
   "cell_type": "markdown",
   "metadata": {
    "id": "WX0sMuZfpMiF"
   },
   "source": [
    "**Continous Vs. Categorical**\n",
    "\n",
    "Which one are you going to use? In general, it is decided by whether the dependent variable is continuous or discrete. Sometimes, if DV can be treated as either categorical or continuous, it is often your personal choice. We can use the codes below to calculate RMSE (root mean squared error) to compare the performance of Multi-class DV and continuous DV (Note: RMSE is usually used for continuous DV. But in our case here, the DV could be treated either as continuous or categorical. So, we can use RMSE. If the DV is purely categorical (e.g., class labels), you cannot use RMSE). The RMSEs are 0.79 and 0.77 for Multi-class and continuous DVs respectively. Therefore, multi-class is preferred over regression .\n",
    "\n"
   ]
  },
  {
   "cell_type": "code",
   "execution_count": null,
   "metadata": {
    "id": "o7q1Mlwsh5Bv",
    "outputId": "2bfd2549-bfe0-4f04-8ef4-eb2a18b10896"
   },
   "outputs": [
    {
     "name": "stdout",
     "output_type": "stream",
     "text": [
      "              precision    recall  f1-score   support\n",
      "\n",
      "           4       0.00      0.00      0.00         8\n",
      "           5       0.28      0.38      0.32        13\n",
      "           6       0.32      0.37      0.34        19\n",
      "           7       0.74      0.74      0.74        31\n",
      "\n",
      "    accuracy                           0.49        71\n",
      "   macro avg       0.33      0.37      0.35        71\n",
      "weighted avg       0.46      0.49      0.47        71\n",
      "\n"
     ]
    }
   ],
   "source": [
    "# Use classification_report to show the result\n",
    "\n",
    "from sklearn.metrics import classification_report\n",
    "y_pred_rd=np.rint(y_pred)\n",
    "print(classification_report(y_test, y_pred_rd))"
   ]
  },
  {
   "cell_type": "code",
   "execution_count": null,
   "metadata": {
    "id": "X7pF3zD7SDsX",
    "outputId": "49925987-c259-4bc0-f73e-13e2bc49f760"
   },
   "outputs": [
    {
     "data": {
      "text/plain": [
       "Index(['IPAddress', 'Duration (in seconds)', 'ResponseId', 'LocationLatitude',\n",
       "       'LocationLongitude', 'Q4', 'Q5_1', 'Q5_2', 'Q5_3', 'Q5_4', 'Q5_5',\n",
       "       'Q5_6', 'Q5_7', 'Q5_8', 'Q5_9', 'Q5_10', 'Q5_11', 'Q5_12', 'Q5_13',\n",
       "       'Q5_14', 'Q5_15', 'Q5_16', 'Q5_17', 'Q7_1', 'Q7_2', 'Q7_3', 'Q7_4',\n",
       "       'Q7_5', 'Q7_6', 'Q7_7', 'Q7_8', 'Q7_9', 'Q7_10', 'Q7_11', 'Q7_12',\n",
       "       'Q7_13', 'Q7_14', 'Q7_15', 'Q7_16', 'Q7_17', 'Q7_18', 'Q7_19', 'Q8_1',\n",
       "       'Q8_2', 'Q8_3', 'Q8_4', 'Q8_5', 'Q8_6', 'Q8_7', 'Q8_8', 'Q8_9', 'Q8_10',\n",
       "       'Q8_11', 'Q8_12', 'Q8_13', 'Q8_14', 'Q8_15', 'Q10', 'Q11', 'Q12', 'Q14',\n",
       "       'Q15', 'Q16', 'Q17', 'Q18', 'stay'],\n",
       "      dtype='object')"
      ]
     },
     "execution_count": 371,
     "metadata": {},
     "output_type": "execute_result"
    }
   ],
   "source": [
    "data.columns"
   ]
  },
  {
   "cell_type": "markdown",
   "metadata": {
    "id": "2rfIBb1ipb8V"
   },
   "source": [
    "**Continous Vs. Categorical**\n",
    "\n",
    "Alternatively, you can compare the prediction accuracy of the two models. But you need to first round the predicted dependent variable by regression to the closest integer. \n",
    "\n"
   ]
  },
  {
   "cell_type": "markdown",
   "metadata": {
    "id": "RmYtIIP6c70T"
   },
   "source": [
    "# Part4: Comparision between logit and random forest\n",
    "\n",
    "Run logit and random forest on the following:\n",
    "- Target variable 'stay'\n",
    "- IVs: Q7_1 to Q7_19"
   ]
  },
  {
   "cell_type": "code",
   "execution_count": null,
   "metadata": {
    "id": "JaM2oWiKc70U"
   },
   "outputs": [],
   "source": [
    "from sklearn.model_selection import train_test_split\n",
    "\n",
    "#X: Q7_1 : Q7_19\n",
    "data=data.dropna()\n",
    "X=data[['Q7_1', 'Q7_2', 'Q7_3', 'Q7_4',\n",
    "       'Q7_5', 'Q7_6', 'Q7_7', 'Q7_8', 'Q7_9', 'Q7_10', 'Q7_11', 'Q7_12',\n",
    "       'Q7_13', 'Q7_14', 'Q7_15', 'Q7_16', 'Q7_17', 'Q7_18', 'Q7_19']]\n",
    "y=data['stay']\n",
    "x_train, x_test, y_train, y_test = train_test_split(X, y, test_size=0.25, random_state=0)"
   ]
  },
  {
   "cell_type": "code",
   "execution_count": null,
   "metadata": {
    "id": "OKCNLtVMc70U",
    "outputId": "6a7867e3-c3b0-4bcf-d311-91ce2e646ef8"
   },
   "outputs": [
    {
     "data": {
      "text/html": [
       "<div>\n",
       "<style scoped>\n",
       "    .dataframe tbody tr th:only-of-type {\n",
       "        vertical-align: middle;\n",
       "    }\n",
       "\n",
       "    .dataframe tbody tr th {\n",
       "        vertical-align: top;\n",
       "    }\n",
       "\n",
       "    .dataframe thead th {\n",
       "        text-align: right;\n",
       "    }\n",
       "</style>\n",
       "<table border=\"1\" class=\"dataframe\">\n",
       "  <thead>\n",
       "    <tr style=\"text-align: right;\">\n",
       "      <th></th>\n",
       "      <th>Q7_1</th>\n",
       "      <th>Q7_2</th>\n",
       "      <th>Q7_3</th>\n",
       "      <th>Q7_4</th>\n",
       "      <th>Q7_5</th>\n",
       "      <th>Q7_6</th>\n",
       "      <th>Q7_7</th>\n",
       "      <th>Q7_8</th>\n",
       "      <th>Q7_9</th>\n",
       "      <th>Q7_10</th>\n",
       "      <th>Q7_11</th>\n",
       "      <th>Q7_12</th>\n",
       "      <th>Q7_13</th>\n",
       "      <th>Q7_14</th>\n",
       "      <th>Q7_15</th>\n",
       "      <th>Q7_16</th>\n",
       "      <th>Q7_17</th>\n",
       "      <th>Q7_18</th>\n",
       "      <th>Q7_19</th>\n",
       "    </tr>\n",
       "  </thead>\n",
       "  <tbody>\n",
       "    <tr>\n",
       "      <th>count</th>\n",
       "      <td>280.000000</td>\n",
       "      <td>280.000000</td>\n",
       "      <td>280.000000</td>\n",
       "      <td>280.000000</td>\n",
       "      <td>280.000000</td>\n",
       "      <td>280.000000</td>\n",
       "      <td>280.000000</td>\n",
       "      <td>280.000000</td>\n",
       "      <td>280.000000</td>\n",
       "      <td>280.000000</td>\n",
       "      <td>280.000000</td>\n",
       "      <td>280.000000</td>\n",
       "      <td>280.000000</td>\n",
       "      <td>280.000000</td>\n",
       "      <td>280.000000</td>\n",
       "      <td>280.000000</td>\n",
       "      <td>280.000000</td>\n",
       "      <td>280.00000</td>\n",
       "      <td>280.000000</td>\n",
       "    </tr>\n",
       "    <tr>\n",
       "      <th>mean</th>\n",
       "      <td>5.678571</td>\n",
       "      <td>5.050000</td>\n",
       "      <td>5.457143</td>\n",
       "      <td>4.757143</td>\n",
       "      <td>5.625000</td>\n",
       "      <td>5.464286</td>\n",
       "      <td>5.367857</td>\n",
       "      <td>5.328571</td>\n",
       "      <td>4.957143</td>\n",
       "      <td>4.900000</td>\n",
       "      <td>5.282143</td>\n",
       "      <td>5.285714</td>\n",
       "      <td>4.675000</td>\n",
       "      <td>5.260714</td>\n",
       "      <td>4.857143</td>\n",
       "      <td>5.264286</td>\n",
       "      <td>4.803571</td>\n",
       "      <td>5.55000</td>\n",
       "      <td>5.407143</td>\n",
       "    </tr>\n",
       "    <tr>\n",
       "      <th>std</th>\n",
       "      <td>1.315841</td>\n",
       "      <td>1.583178</td>\n",
       "      <td>1.480441</td>\n",
       "      <td>1.605865</td>\n",
       "      <td>1.202782</td>\n",
       "      <td>1.322053</td>\n",
       "      <td>1.371903</td>\n",
       "      <td>1.413924</td>\n",
       "      <td>1.585650</td>\n",
       "      <td>1.694605</td>\n",
       "      <td>1.503533</td>\n",
       "      <td>1.522993</td>\n",
       "      <td>1.886972</td>\n",
       "      <td>1.444267</td>\n",
       "      <td>1.704186</td>\n",
       "      <td>1.515089</td>\n",
       "      <td>1.914102</td>\n",
       "      <td>1.39289</td>\n",
       "      <td>1.413688</td>\n",
       "    </tr>\n",
       "    <tr>\n",
       "      <th>min</th>\n",
       "      <td>1.000000</td>\n",
       "      <td>1.000000</td>\n",
       "      <td>1.000000</td>\n",
       "      <td>1.000000</td>\n",
       "      <td>1.000000</td>\n",
       "      <td>1.000000</td>\n",
       "      <td>1.000000</td>\n",
       "      <td>1.000000</td>\n",
       "      <td>1.000000</td>\n",
       "      <td>1.000000</td>\n",
       "      <td>1.000000</td>\n",
       "      <td>1.000000</td>\n",
       "      <td>1.000000</td>\n",
       "      <td>1.000000</td>\n",
       "      <td>1.000000</td>\n",
       "      <td>1.000000</td>\n",
       "      <td>1.000000</td>\n",
       "      <td>1.00000</td>\n",
       "      <td>1.000000</td>\n",
       "    </tr>\n",
       "    <tr>\n",
       "      <th>25%</th>\n",
       "      <td>5.000000</td>\n",
       "      <td>4.000000</td>\n",
       "      <td>5.000000</td>\n",
       "      <td>4.000000</td>\n",
       "      <td>5.000000</td>\n",
       "      <td>5.000000</td>\n",
       "      <td>4.000000</td>\n",
       "      <td>4.000000</td>\n",
       "      <td>4.000000</td>\n",
       "      <td>4.000000</td>\n",
       "      <td>4.000000</td>\n",
       "      <td>4.000000</td>\n",
       "      <td>3.000000</td>\n",
       "      <td>4.000000</td>\n",
       "      <td>4.000000</td>\n",
       "      <td>4.000000</td>\n",
       "      <td>3.000000</td>\n",
       "      <td>5.00000</td>\n",
       "      <td>5.000000</td>\n",
       "    </tr>\n",
       "    <tr>\n",
       "      <th>50%</th>\n",
       "      <td>6.000000</td>\n",
       "      <td>5.000000</td>\n",
       "      <td>6.000000</td>\n",
       "      <td>5.000000</td>\n",
       "      <td>6.000000</td>\n",
       "      <td>6.000000</td>\n",
       "      <td>5.000000</td>\n",
       "      <td>6.000000</td>\n",
       "      <td>5.000000</td>\n",
       "      <td>5.000000</td>\n",
       "      <td>5.000000</td>\n",
       "      <td>6.000000</td>\n",
       "      <td>5.000000</td>\n",
       "      <td>5.000000</td>\n",
       "      <td>5.000000</td>\n",
       "      <td>5.000000</td>\n",
       "      <td>5.000000</td>\n",
       "      <td>6.00000</td>\n",
       "      <td>6.000000</td>\n",
       "    </tr>\n",
       "    <tr>\n",
       "      <th>75%</th>\n",
       "      <td>7.000000</td>\n",
       "      <td>6.000000</td>\n",
       "      <td>7.000000</td>\n",
       "      <td>6.000000</td>\n",
       "      <td>7.000000</td>\n",
       "      <td>7.000000</td>\n",
       "      <td>7.000000</td>\n",
       "      <td>6.000000</td>\n",
       "      <td>6.000000</td>\n",
       "      <td>6.000000</td>\n",
       "      <td>7.000000</td>\n",
       "      <td>7.000000</td>\n",
       "      <td>6.000000</td>\n",
       "      <td>6.000000</td>\n",
       "      <td>6.000000</td>\n",
       "      <td>7.000000</td>\n",
       "      <td>6.000000</td>\n",
       "      <td>7.00000</td>\n",
       "      <td>7.000000</td>\n",
       "    </tr>\n",
       "    <tr>\n",
       "      <th>max</th>\n",
       "      <td>7.000000</td>\n",
       "      <td>7.000000</td>\n",
       "      <td>7.000000</td>\n",
       "      <td>7.000000</td>\n",
       "      <td>7.000000</td>\n",
       "      <td>7.000000</td>\n",
       "      <td>7.000000</td>\n",
       "      <td>7.000000</td>\n",
       "      <td>7.000000</td>\n",
       "      <td>7.000000</td>\n",
       "      <td>7.000000</td>\n",
       "      <td>7.000000</td>\n",
       "      <td>7.000000</td>\n",
       "      <td>7.000000</td>\n",
       "      <td>7.000000</td>\n",
       "      <td>7.000000</td>\n",
       "      <td>7.000000</td>\n",
       "      <td>7.00000</td>\n",
       "      <td>7.000000</td>\n",
       "    </tr>\n",
       "  </tbody>\n",
       "</table>\n",
       "</div>"
      ],
      "text/plain": [
       "             Q7_1        Q7_2        Q7_3        Q7_4        Q7_5        Q7_6  \\\n",
       "count  280.000000  280.000000  280.000000  280.000000  280.000000  280.000000   \n",
       "mean     5.678571    5.050000    5.457143    4.757143    5.625000    5.464286   \n",
       "std      1.315841    1.583178    1.480441    1.605865    1.202782    1.322053   \n",
       "min      1.000000    1.000000    1.000000    1.000000    1.000000    1.000000   \n",
       "25%      5.000000    4.000000    5.000000    4.000000    5.000000    5.000000   \n",
       "50%      6.000000    5.000000    6.000000    5.000000    6.000000    6.000000   \n",
       "75%      7.000000    6.000000    7.000000    6.000000    7.000000    7.000000   \n",
       "max      7.000000    7.000000    7.000000    7.000000    7.000000    7.000000   \n",
       "\n",
       "             Q7_7        Q7_8        Q7_9       Q7_10       Q7_11       Q7_12  \\\n",
       "count  280.000000  280.000000  280.000000  280.000000  280.000000  280.000000   \n",
       "mean     5.367857    5.328571    4.957143    4.900000    5.282143    5.285714   \n",
       "std      1.371903    1.413924    1.585650    1.694605    1.503533    1.522993   \n",
       "min      1.000000    1.000000    1.000000    1.000000    1.000000    1.000000   \n",
       "25%      4.000000    4.000000    4.000000    4.000000    4.000000    4.000000   \n",
       "50%      5.000000    6.000000    5.000000    5.000000    5.000000    6.000000   \n",
       "75%      7.000000    6.000000    6.000000    6.000000    7.000000    7.000000   \n",
       "max      7.000000    7.000000    7.000000    7.000000    7.000000    7.000000   \n",
       "\n",
       "            Q7_13       Q7_14       Q7_15       Q7_16       Q7_17      Q7_18  \\\n",
       "count  280.000000  280.000000  280.000000  280.000000  280.000000  280.00000   \n",
       "mean     4.675000    5.260714    4.857143    5.264286    4.803571    5.55000   \n",
       "std      1.886972    1.444267    1.704186    1.515089    1.914102    1.39289   \n",
       "min      1.000000    1.000000    1.000000    1.000000    1.000000    1.00000   \n",
       "25%      3.000000    4.000000    4.000000    4.000000    3.000000    5.00000   \n",
       "50%      5.000000    5.000000    5.000000    5.000000    5.000000    6.00000   \n",
       "75%      6.000000    6.000000    6.000000    7.000000    6.000000    7.00000   \n",
       "max      7.000000    7.000000    7.000000    7.000000    7.000000    7.00000   \n",
       "\n",
       "            Q7_19  \n",
       "count  280.000000  \n",
       "mean     5.407143  \n",
       "std      1.413688  \n",
       "min      1.000000  \n",
       "25%      5.000000  \n",
       "50%      6.000000  \n",
       "75%      7.000000  \n",
       "max      7.000000  "
      ]
     },
     "execution_count": 373,
     "metadata": {},
     "output_type": "execute_result"
    }
   ],
   "source": [
    "X.describe()"
   ]
  },
  {
   "cell_type": "markdown",
   "metadata": {
    "id": "tVwoG0N8c70U"
   },
   "source": [
    "### Random Forests"
   ]
  },
  {
   "cell_type": "code",
   "execution_count": null,
   "metadata": {
    "id": "bdIqWIYnr53X",
    "outputId": "bdc9eceb-18ef-4fb1-df33-d8f36a4b25d4"
   },
   "outputs": [
    {
     "data": {
      "text/html": [
       "<div>\n",
       "<style scoped>\n",
       "    .dataframe tbody tr th:only-of-type {\n",
       "        vertical-align: middle;\n",
       "    }\n",
       "\n",
       "    .dataframe tbody tr th {\n",
       "        vertical-align: top;\n",
       "    }\n",
       "\n",
       "    .dataframe thead th {\n",
       "        text-align: right;\n",
       "    }\n",
       "</style>\n",
       "<table border=\"1\" class=\"dataframe\">\n",
       "  <thead>\n",
       "    <tr style=\"text-align: right;\">\n",
       "      <th></th>\n",
       "      <th>Accuracy</th>\n",
       "      <th>Error rate</th>\n",
       "      <th>Precision</th>\n",
       "      <th>Recall</th>\n",
       "      <th>Specificity</th>\n",
       "      <th>AUC</th>\n",
       "      <th>Cross-entropy</th>\n",
       "    </tr>\n",
       "  </thead>\n",
       "  <tbody>\n",
       "    <tr>\n",
       "      <th>Random Forest</th>\n",
       "      <td>0.8</td>\n",
       "      <td>0.2</td>\n",
       "      <td>0.766667</td>\n",
       "      <td>0.612903</td>\n",
       "      <td>0.766667</td>\n",
       "      <td>0.795833</td>\n",
       "      <td>6.907835</td>\n",
       "    </tr>\n",
       "  </tbody>\n",
       "</table>\n",
       "</div>"
      ],
      "text/plain": [
       "               Accuracy  Error rate  Precision    Recall  Specificity  \\\n",
       "Random Forest       0.8         0.2   0.766667  0.612903     0.766667   \n",
       "\n",
       "                    AUC  Cross-entropy  \n",
       "Random Forest  0.795833       6.907835  "
      ]
     },
     "execution_count": 374,
     "metadata": {},
     "output_type": "execute_result"
    }
   ],
   "source": [
    "from sklearn.ensemble import RandomForestClassifier\n",
    "\n",
    "# 1. Define the model\n",
    "rnd = RandomForestClassifier()\n",
    "\n",
    "# 2. Fit the model\n",
    "rnd.fit(x_train, y_train)\n",
    "\n",
    "# 3. Get predicted DV: y_pred\n",
    "y_pred = rnd.predict(x_test)\n",
    "\n",
    "# Calculate accuracy and error rate\n",
    "accuracy = accuracy_score(y_test, y_pred)\n",
    "error_rate = 1 - accuracy\n",
    "\n",
    "# Calculate precision, sensitivity, and specificity\n",
    "precision = precision_score(y_test, y_pred)\n",
    "sensitivity = recall_score(y_test, y_pred)\n",
    "specificity = recall_score(y_test, y_pred)\n",
    "# Calculate AUC\n",
    "auc = roc_auc_score(y_test, y_pred)\n",
    "\n",
    "\n",
    "# Calculate cross-entropy\n",
    "cross_entropy = log_loss(y_test, y_pred)\n",
    "\n",
    "\n",
    "df = pd.DataFrame({'Accuracy': accuracy,\n",
    "                   'Error rate': error_rate,\n",
    "                   'Precision': precision,\n",
    "                   'Recall': recall,\n",
    "                   'Specificity': specificity,\n",
    "                   'AUC': auc,\n",
    "                   'Cross-entropy': cross_entropy},index=['Random Forest'])\n",
    "df"
   ]
  },
  {
   "cell_type": "markdown",
   "metadata": {
    "id": "DxTy4bDBc70U"
   },
   "source": [
    "### Logit"
   ]
  },
  {
   "cell_type": "code",
   "execution_count": null,
   "metadata": {
    "id": "ayII0ukzr0Pv",
    "outputId": "37d533db-eb9c-4013-c001-135c4f57918c"
   },
   "outputs": [
    {
     "data": {
      "text/html": [
       "<div>\n",
       "<style scoped>\n",
       "    .dataframe tbody tr th:only-of-type {\n",
       "        vertical-align: middle;\n",
       "    }\n",
       "\n",
       "    .dataframe tbody tr th {\n",
       "        vertical-align: top;\n",
       "    }\n",
       "\n",
       "    .dataframe thead th {\n",
       "        text-align: right;\n",
       "    }\n",
       "</style>\n",
       "<table border=\"1\" class=\"dataframe\">\n",
       "  <thead>\n",
       "    <tr style=\"text-align: right;\">\n",
       "      <th></th>\n",
       "      <th>Accuracy</th>\n",
       "      <th>Error rate</th>\n",
       "      <th>Precision</th>\n",
       "      <th>Recall</th>\n",
       "      <th>Specificity</th>\n",
       "      <th>AUC</th>\n",
       "      <th>Cross-entropy</th>\n",
       "    </tr>\n",
       "  </thead>\n",
       "  <tbody>\n",
       "    <tr>\n",
       "      <th>Logit</th>\n",
       "      <td>0.842857</td>\n",
       "      <td>0.157143</td>\n",
       "      <td>0.787879</td>\n",
       "      <td>0.612903</td>\n",
       "      <td>0.866667</td>\n",
       "      <td>0.845833</td>\n",
       "      <td>5.427602</td>\n",
       "    </tr>\n",
       "  </tbody>\n",
       "</table>\n",
       "</div>"
      ],
      "text/plain": [
       "       Accuracy  Error rate  Precision    Recall  Specificity       AUC  \\\n",
       "Logit  0.842857    0.157143   0.787879  0.612903     0.866667  0.845833   \n",
       "\n",
       "       Cross-entropy  \n",
       "Logit       5.427602  "
      ]
     },
     "execution_count": 375,
     "metadata": {},
     "output_type": "execute_result"
    }
   ],
   "source": [
    "from sklearn.linear_model import LogisticRegression\n",
    "log_reg = LogisticRegression(solver='lbfgs',max_iter=10000,multi_class='auto')\n",
    "log_reg.fit(x_train, y_train)\n",
    "y_pred = log_reg.predict(x_test)\n",
    "\n",
    "\n",
    "# Calculate accuracy and error rate\n",
    "accuracy = accuracy_score(y_test, y_pred)\n",
    "error_rate = 1 - accuracy\n",
    "\n",
    "# Calculate precision, sensitivity, and specificity\n",
    "precision = precision_score(y_test, y_pred)\n",
    "sensitivity = recall_score(y_test, y_pred)\n",
    "specificity = recall_score(y_test, y_pred)\n",
    "\n",
    "# Calculate AUC\n",
    "auc = roc_auc_score(y_test, y_pred)\n",
    "\n",
    "\n",
    "# Calculate cross-entropy\n",
    "cross_entropy = log_loss(y_test, y_pred)\n",
    "df = pd.DataFrame({'Accuracy': accuracy,\n",
    "                   'Error rate': error_rate,\n",
    "                   'Precision': precision,\n",
    "                   'Recall': recall,\n",
    "                   'Specificity': specificity,\n",
    "                   'AUC': auc,\n",
    "                   'Cross-entropy': cross_entropy},index=['Logit'])\n",
    "df"
   ]
  },
  {
   "cell_type": "markdown",
   "metadata": {
    "id": "kNJBxWcda35S"
   },
   "source": [
    "**Result Interpretation**:\n",
    "\n",
    "1) The random forest model had an accuracy of 0.8, while the logistic regression model had an accuracy of 0.8429. Therefore, logistic regression model performed better than the random forest model in terms of accuracy.\n",
    "2) The error rate of the logistic regression model was lower (0.1571 vs 0.2) than that of the random forest model.\n",
    "3) The precision of the logistic regression model was higher (0.7879 vs 0.7667) than that of the random forest model.\n",
    "4) The sensitivity of both models were the same (0.6129), while the specificity of the logistic regression model was higher (0.8667 vs 0.7667) than that of the random forest model.\n",
    "5) The AUC of the logistic regression model was higher (0.8458 vs 0.7958) than that of the random forest model.\n",
    "6) The cross-entropy of the logistic regression model was lower (5.4276 vs 6.9078) than that of the random forest model.\n",
    "\n",
    "#### Overall, the logistic regression model appears to be more accurate, precise, and better at identifying true negatives than the random forest model. However, the random forest model may be better at identifying true positives.\n",
    "\n",
    "\n"
   ]
  },
  {
   "cell_type": "code",
   "execution_count": null,
   "metadata": {
    "id": "ObhgE9R-SDsZ"
   },
   "outputs": [],
   "source": []
  },
  {
   "cell_type": "code",
   "execution_count": null,
   "metadata": {
    "id": "4dJFqkpTSDsZ"
   },
   "outputs": [],
   "source": []
  },
  {
   "cell_type": "code",
   "execution_count": null,
   "metadata": {
    "id": "uPD71lK0SDsZ"
   },
   "outputs": [],
   "source": []
  }
 ],
 "metadata": {
  "colab": {
   "provenance": []
  },
  "kernelspec": {
   "display_name": "Python 3 (ipykernel)",
   "language": "python",
   "name": "python3"
  },
  "language_info": {
   "codemirror_mode": {
    "name": "ipython",
    "version": 3
   },
   "file_extension": ".py",
   "mimetype": "text/x-python",
   "name": "python",
   "nbconvert_exporter": "python",
   "pygments_lexer": "ipython3",
   "version": "3.9.16"
  }
 },
 "nbformat": 4,
 "nbformat_minor": 1
}
