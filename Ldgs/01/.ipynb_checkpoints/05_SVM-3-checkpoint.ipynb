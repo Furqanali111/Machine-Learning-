{
 "cells": [
  {
   "cell_type": "markdown",
   "metadata": {
    "id": "prJNrMUpcs3p"
   },
   "source": [
    "## **The frist several cells are for Google Colab only**\n",
    "It is used to link to your folder on Google Drive; To run the following command, remove the hashtages at teh beginning of the command lines "
   ]
  },
  {
   "cell_type": "code",
   "execution_count": null,
   "metadata": {
    "id": "zDJtXSzIacE9"
   },
   "outputs": [],
   "source": [
    "from google.colab import drive\n",
    "drive.mount('/content/drive')"
   ]
  },
  {
   "cell_type": "markdown",
   "metadata": {
    "id": "WwA4UI0Ff6Xt"
   },
   "source": [
    "Change the directory to your folder on Google Drive"
   ]
  },
  {
   "cell_type": "code",
   "execution_count": null,
   "metadata": {
    "id": "q3kTd5RKbHLO"
   },
   "outputs": [],
   "source": [
    "cd '/content/drive/My Drive/Colab Notebooks/MKTG6010'"
   ]
  },
  {
   "cell_type": "code",
   "execution_count": null,
   "metadata": {
    "id": "96jnMfbgb2Ze"
   },
   "outputs": [],
   "source": [
    "## display the directory\n",
    "!pwd"
   ]
  },
  {
   "cell_type": "markdown",
   "metadata": {
    "id": "A6-yBy4shrJ-"
   },
   "source": [
    "## **Starting from now, the codes are for either Jupyter or Google Colab**"
   ]
  },
  {
   "cell_type": "code",
   "execution_count": 1,
   "metadata": {
    "id": "qYCzvUL0bPxz"
   },
   "outputs": [
    {
     "data": {
      "text/html": [
       "<div>\n",
       "<style scoped>\n",
       "    .dataframe tbody tr th:only-of-type {\n",
       "        vertical-align: middle;\n",
       "    }\n",
       "\n",
       "    .dataframe tbody tr th {\n",
       "        vertical-align: top;\n",
       "    }\n",
       "\n",
       "    .dataframe thead th {\n",
       "        text-align: right;\n",
       "    }\n",
       "</style>\n",
       "<table border=\"1\" class=\"dataframe\">\n",
       "  <thead>\n",
       "    <tr style=\"text-align: right;\">\n",
       "      <th></th>\n",
       "      <th>IPAddress</th>\n",
       "      <th>Duration (in seconds)</th>\n",
       "      <th>ResponseId</th>\n",
       "      <th>LocationLatitude</th>\n",
       "      <th>LocationLongitude</th>\n",
       "      <th>Q4</th>\n",
       "      <th>Q5_1</th>\n",
       "      <th>Q5_2</th>\n",
       "      <th>Q5_3</th>\n",
       "      <th>Q5_4</th>\n",
       "      <th>...</th>\n",
       "      <th>Q8_14</th>\n",
       "      <th>Q8_15</th>\n",
       "      <th>Q10</th>\n",
       "      <th>Q11</th>\n",
       "      <th>Q12</th>\n",
       "      <th>Q14</th>\n",
       "      <th>Q15</th>\n",
       "      <th>Q16</th>\n",
       "      <th>Q17</th>\n",
       "      <th>Q18</th>\n",
       "    </tr>\n",
       "  </thead>\n",
       "  <tbody>\n",
       "    <tr>\n",
       "      <th>0</th>\n",
       "      <td>198.182.157.254</td>\n",
       "      <td>239</td>\n",
       "      <td>R_bqkat7vEJIOtO7j</td>\n",
       "      <td>34.417999</td>\n",
       "      <td>-118.566200</td>\n",
       "      <td>Yes</td>\n",
       "      <td>3</td>\n",
       "      <td>4</td>\n",
       "      <td>4</td>\n",
       "      <td>3</td>\n",
       "      <td>...</td>\n",
       "      <td>4.0</td>\n",
       "      <td>4.0</td>\n",
       "      <td>2-3 times a week</td>\n",
       "      <td>1-3 years</td>\n",
       "      <td>1-2 hours</td>\n",
       "      <td>Female</td>\n",
       "      <td>26-35</td>\n",
       "      <td>Masters Degree</td>\n",
       "      <td>United States of America</td>\n",
       "      <td>Educational services</td>\n",
       "    </tr>\n",
       "    <tr>\n",
       "      <th>1</th>\n",
       "      <td>174.155.134.32</td>\n",
       "      <td>191</td>\n",
       "      <td>R_4UyBdECON03cUrb</td>\n",
       "      <td>25.857605</td>\n",
       "      <td>-80.278099</td>\n",
       "      <td>Yes</td>\n",
       "      <td>4</td>\n",
       "      <td>5</td>\n",
       "      <td>4</td>\n",
       "      <td>4</td>\n",
       "      <td>...</td>\n",
       "      <td>4.0</td>\n",
       "      <td>5.0</td>\n",
       "      <td>2-3 times a week</td>\n",
       "      <td>7-12 months</td>\n",
       "      <td>1-2 hours</td>\n",
       "      <td>Female</td>\n",
       "      <td>26-35</td>\n",
       "      <td>High School</td>\n",
       "      <td>United States of America</td>\n",
       "      <td>Real estate or rental and leasing</td>\n",
       "    </tr>\n",
       "    <tr>\n",
       "      <th>2</th>\n",
       "      <td>45.46.112.52</td>\n",
       "      <td>140</td>\n",
       "      <td>R_9BL6eXmPRlTawEl</td>\n",
       "      <td>46.912094</td>\n",
       "      <td>-68.043098</td>\n",
       "      <td>Yes</td>\n",
       "      <td>4</td>\n",
       "      <td>6</td>\n",
       "      <td>4</td>\n",
       "      <td>3</td>\n",
       "      <td>...</td>\n",
       "      <td>5.0</td>\n",
       "      <td>5.0</td>\n",
       "      <td>2-3 times a week</td>\n",
       "      <td>1-3 years</td>\n",
       "      <td>Less than one hour</td>\n",
       "      <td>Male</td>\n",
       "      <td>26-35</td>\n",
       "      <td>4-year College Degree</td>\n",
       "      <td>United States of America</td>\n",
       "      <td>Arts, entertainment or recreation</td>\n",
       "    </tr>\n",
       "    <tr>\n",
       "      <th>3</th>\n",
       "      <td>172.56.23.132</td>\n",
       "      <td>410</td>\n",
       "      <td>R_6EasCVITCdtBRI1</td>\n",
       "      <td>42.464203</td>\n",
       "      <td>-70.971703</td>\n",
       "      <td>Yes</td>\n",
       "      <td>4</td>\n",
       "      <td>4</td>\n",
       "      <td>3</td>\n",
       "      <td>4</td>\n",
       "      <td>...</td>\n",
       "      <td>3.0</td>\n",
       "      <td>4.0</td>\n",
       "      <td>2-3 times a week</td>\n",
       "      <td>7-12 months</td>\n",
       "      <td>2-5 hours</td>\n",
       "      <td>Male</td>\n",
       "      <td>36-50</td>\n",
       "      <td>High School</td>\n",
       "      <td>United States of America</td>\n",
       "      <td>Professional, scientific or technical services</td>\n",
       "    </tr>\n",
       "    <tr>\n",
       "      <th>4</th>\n",
       "      <td>65.96.122.144</td>\n",
       "      <td>171</td>\n",
       "      <td>R_3PMRpp5cpHj5e1D</td>\n",
       "      <td>43.644196</td>\n",
       "      <td>-72.306602</td>\n",
       "      <td>Yes</td>\n",
       "      <td>4</td>\n",
       "      <td>5</td>\n",
       "      <td>4</td>\n",
       "      <td>4</td>\n",
       "      <td>...</td>\n",
       "      <td>5.0</td>\n",
       "      <td>5.0</td>\n",
       "      <td>2-3 times a week</td>\n",
       "      <td>More than 3 years</td>\n",
       "      <td>Less than one hour</td>\n",
       "      <td>Female</td>\n",
       "      <td>36-50</td>\n",
       "      <td>Masters Degree</td>\n",
       "      <td>United States of America</td>\n",
       "      <td>Construction</td>\n",
       "    </tr>\n",
       "  </tbody>\n",
       "</table>\n",
       "<p>5 rows × 65 columns</p>\n",
       "</div>"
      ],
      "text/plain": [
       "         IPAddress  Duration (in seconds)         ResponseId  \\\n",
       "0  198.182.157.254                    239  R_bqkat7vEJIOtO7j   \n",
       "1   174.155.134.32                    191  R_4UyBdECON03cUrb   \n",
       "2     45.46.112.52                    140  R_9BL6eXmPRlTawEl   \n",
       "3    172.56.23.132                    410  R_6EasCVITCdtBRI1   \n",
       "4    65.96.122.144                    171  R_3PMRpp5cpHj5e1D   \n",
       "\n",
       "   LocationLatitude  LocationLongitude   Q4  Q5_1  Q5_2  Q5_3  Q5_4  ...  \\\n",
       "0         34.417999        -118.566200  Yes     3     4     4     3  ...   \n",
       "1         25.857605         -80.278099  Yes     4     5     4     4  ...   \n",
       "2         46.912094         -68.043098  Yes     4     6     4     3  ...   \n",
       "3         42.464203         -70.971703  Yes     4     4     3     4  ...   \n",
       "4         43.644196         -72.306602  Yes     4     5     4     4  ...   \n",
       "\n",
       "   Q8_14  Q8_15               Q10                Q11                 Q12  \\\n",
       "0    4.0    4.0  2-3 times a week          1-3 years           1-2 hours   \n",
       "1    4.0    5.0  2-3 times a week        7-12 months           1-2 hours   \n",
       "2    5.0    5.0  2-3 times a week          1-3 years  Less than one hour   \n",
       "3    3.0    4.0  2-3 times a week        7-12 months           2-5 hours   \n",
       "4    5.0    5.0  2-3 times a week  More than 3 years  Less than one hour   \n",
       "\n",
       "      Q14    Q15                    Q16                       Q17  \\\n",
       "0  Female  26-35         Masters Degree  United States of America   \n",
       "1  Female  26-35            High School  United States of America   \n",
       "2    Male  26-35  4-year College Degree  United States of America   \n",
       "3    Male  36-50            High School  United States of America   \n",
       "4  Female  36-50         Masters Degree  United States of America   \n",
       "\n",
       "                                              Q18  \n",
       "0                            Educational services  \n",
       "1               Real estate or rental and leasing  \n",
       "2               Arts, entertainment or recreation  \n",
       "3  Professional, scientific or technical services  \n",
       "4                                    Construction  \n",
       "\n",
       "[5 rows x 65 columns]"
      ]
     },
     "execution_count": 1,
     "metadata": {},
     "output_type": "execute_result"
    }
   ],
   "source": [
    "import pandas as pd\n",
    "import numpy as np\n",
    "\n",
    "data=pd.read_csv('C:/Users/Furqan Ali/Desktop/woek/linkedin_data.csv')\n",
    "data.head()"
   ]
  },
  {
   "cell_type": "code",
   "execution_count": 2,
   "metadata": {
    "id": "3sssoPaTbPx5"
   },
   "outputs": [
    {
     "data": {
      "text/html": [
       "<div>\n",
       "<style scoped>\n",
       "    .dataframe tbody tr th:only-of-type {\n",
       "        vertical-align: middle;\n",
       "    }\n",
       "\n",
       "    .dataframe tbody tr th {\n",
       "        vertical-align: top;\n",
       "    }\n",
       "\n",
       "    .dataframe thead th {\n",
       "        text-align: right;\n",
       "    }\n",
       "</style>\n",
       "<table border=\"1\" class=\"dataframe\">\n",
       "  <thead>\n",
       "    <tr style=\"text-align: right;\">\n",
       "      <th></th>\n",
       "      <th>IPAddress</th>\n",
       "      <th>Duration (in seconds)</th>\n",
       "      <th>ResponseId</th>\n",
       "      <th>LocationLatitude</th>\n",
       "      <th>LocationLongitude</th>\n",
       "      <th>Q4</th>\n",
       "      <th>Q5_1</th>\n",
       "      <th>Q5_2</th>\n",
       "      <th>Q5_3</th>\n",
       "      <th>Q5_4</th>\n",
       "      <th>...</th>\n",
       "      <th>Q8_14</th>\n",
       "      <th>Q8_15</th>\n",
       "      <th>Q10</th>\n",
       "      <th>Q11</th>\n",
       "      <th>Q12</th>\n",
       "      <th>Q14</th>\n",
       "      <th>Q15</th>\n",
       "      <th>Q16</th>\n",
       "      <th>Q17</th>\n",
       "      <th>Q18</th>\n",
       "    </tr>\n",
       "  </thead>\n",
       "  <tbody>\n",
       "    <tr>\n",
       "      <th>0</th>\n",
       "      <td>198.182.157.254</td>\n",
       "      <td>239</td>\n",
       "      <td>R_bqkat7vEJIOtO7j</td>\n",
       "      <td>34.417999</td>\n",
       "      <td>-118.566200</td>\n",
       "      <td>Yes</td>\n",
       "      <td>3</td>\n",
       "      <td>4</td>\n",
       "      <td>4</td>\n",
       "      <td>3</td>\n",
       "      <td>...</td>\n",
       "      <td>4.0</td>\n",
       "      <td>4.0</td>\n",
       "      <td>2-3 times a week</td>\n",
       "      <td>1-3 years</td>\n",
       "      <td>1-2 hours</td>\n",
       "      <td>Female</td>\n",
       "      <td>26-35</td>\n",
       "      <td>Masters Degree</td>\n",
       "      <td>United States of America</td>\n",
       "      <td>Educational services</td>\n",
       "    </tr>\n",
       "    <tr>\n",
       "      <th>1</th>\n",
       "      <td>174.155.134.32</td>\n",
       "      <td>191</td>\n",
       "      <td>R_4UyBdECON03cUrb</td>\n",
       "      <td>25.857605</td>\n",
       "      <td>-80.278099</td>\n",
       "      <td>Yes</td>\n",
       "      <td>4</td>\n",
       "      <td>5</td>\n",
       "      <td>4</td>\n",
       "      <td>4</td>\n",
       "      <td>...</td>\n",
       "      <td>4.0</td>\n",
       "      <td>5.0</td>\n",
       "      <td>2-3 times a week</td>\n",
       "      <td>7-12 months</td>\n",
       "      <td>1-2 hours</td>\n",
       "      <td>Female</td>\n",
       "      <td>26-35</td>\n",
       "      <td>High School</td>\n",
       "      <td>United States of America</td>\n",
       "      <td>Real estate or rental and leasing</td>\n",
       "    </tr>\n",
       "    <tr>\n",
       "      <th>2</th>\n",
       "      <td>45.46.112.52</td>\n",
       "      <td>140</td>\n",
       "      <td>R_9BL6eXmPRlTawEl</td>\n",
       "      <td>46.912094</td>\n",
       "      <td>-68.043098</td>\n",
       "      <td>Yes</td>\n",
       "      <td>4</td>\n",
       "      <td>6</td>\n",
       "      <td>4</td>\n",
       "      <td>3</td>\n",
       "      <td>...</td>\n",
       "      <td>5.0</td>\n",
       "      <td>5.0</td>\n",
       "      <td>2-3 times a week</td>\n",
       "      <td>1-3 years</td>\n",
       "      <td>Less than one hour</td>\n",
       "      <td>Male</td>\n",
       "      <td>26-35</td>\n",
       "      <td>4-year College Degree</td>\n",
       "      <td>United States of America</td>\n",
       "      <td>Arts, entertainment or recreation</td>\n",
       "    </tr>\n",
       "    <tr>\n",
       "      <th>3</th>\n",
       "      <td>172.56.23.132</td>\n",
       "      <td>410</td>\n",
       "      <td>R_6EasCVITCdtBRI1</td>\n",
       "      <td>42.464203</td>\n",
       "      <td>-70.971703</td>\n",
       "      <td>Yes</td>\n",
       "      <td>4</td>\n",
       "      <td>4</td>\n",
       "      <td>3</td>\n",
       "      <td>4</td>\n",
       "      <td>...</td>\n",
       "      <td>3.0</td>\n",
       "      <td>4.0</td>\n",
       "      <td>2-3 times a week</td>\n",
       "      <td>7-12 months</td>\n",
       "      <td>2-5 hours</td>\n",
       "      <td>Male</td>\n",
       "      <td>36-50</td>\n",
       "      <td>High School</td>\n",
       "      <td>United States of America</td>\n",
       "      <td>Professional, scientific or technical services</td>\n",
       "    </tr>\n",
       "    <tr>\n",
       "      <th>4</th>\n",
       "      <td>65.96.122.144</td>\n",
       "      <td>171</td>\n",
       "      <td>R_3PMRpp5cpHj5e1D</td>\n",
       "      <td>43.644196</td>\n",
       "      <td>-72.306602</td>\n",
       "      <td>Yes</td>\n",
       "      <td>4</td>\n",
       "      <td>5</td>\n",
       "      <td>4</td>\n",
       "      <td>4</td>\n",
       "      <td>...</td>\n",
       "      <td>5.0</td>\n",
       "      <td>5.0</td>\n",
       "      <td>2-3 times a week</td>\n",
       "      <td>More than 3 years</td>\n",
       "      <td>Less than one hour</td>\n",
       "      <td>Female</td>\n",
       "      <td>36-50</td>\n",
       "      <td>Masters Degree</td>\n",
       "      <td>United States of America</td>\n",
       "      <td>Construction</td>\n",
       "    </tr>\n",
       "    <tr>\n",
       "      <th>...</th>\n",
       "      <td>...</td>\n",
       "      <td>...</td>\n",
       "      <td>...</td>\n",
       "      <td>...</td>\n",
       "      <td>...</td>\n",
       "      <td>...</td>\n",
       "      <td>...</td>\n",
       "      <td>...</td>\n",
       "      <td>...</td>\n",
       "      <td>...</td>\n",
       "      <td>...</td>\n",
       "      <td>...</td>\n",
       "      <td>...</td>\n",
       "      <td>...</td>\n",
       "      <td>...</td>\n",
       "      <td>...</td>\n",
       "      <td>...</td>\n",
       "      <td>...</td>\n",
       "      <td>...</td>\n",
       "      <td>...</td>\n",
       "      <td>...</td>\n",
       "    </tr>\n",
       "    <tr>\n",
       "      <th>277</th>\n",
       "      <td>203.13.128.104</td>\n",
       "      <td>48799</td>\n",
       "      <td>R_5oKT2UHrPLLN5yV</td>\n",
       "      <td>-33.791199</td>\n",
       "      <td>151.129791</td>\n",
       "      <td>Yes</td>\n",
       "      <td>7</td>\n",
       "      <td>3</td>\n",
       "      <td>3</td>\n",
       "      <td>2</td>\n",
       "      <td>...</td>\n",
       "      <td>3.0</td>\n",
       "      <td>1.0</td>\n",
       "      <td>Once in a month or less</td>\n",
       "      <td>More than 3 years</td>\n",
       "      <td>Less than one hour</td>\n",
       "      <td>Female</td>\n",
       "      <td>26-35</td>\n",
       "      <td>Professional Degree</td>\n",
       "      <td>Australia</td>\n",
       "      <td>Professional, scientific or technical services</td>\n",
       "    </tr>\n",
       "    <tr>\n",
       "      <th>278</th>\n",
       "      <td>24.20.159.132</td>\n",
       "      <td>308</td>\n",
       "      <td>R_b13YF7M1qu4RycJ</td>\n",
       "      <td>45.514404</td>\n",
       "      <td>-122.643295</td>\n",
       "      <td>Yes</td>\n",
       "      <td>7</td>\n",
       "      <td>4</td>\n",
       "      <td>4</td>\n",
       "      <td>4</td>\n",
       "      <td>...</td>\n",
       "      <td>4.0</td>\n",
       "      <td>4.0</td>\n",
       "      <td>Once in a month or less</td>\n",
       "      <td>More than 3 years</td>\n",
       "      <td>Less than one hour</td>\n",
       "      <td>Female</td>\n",
       "      <td>36-50</td>\n",
       "      <td>4-year College Degree</td>\n",
       "      <td>United States of America</td>\n",
       "      <td>Professional, scientific or technical services</td>\n",
       "    </tr>\n",
       "    <tr>\n",
       "      <th>279</th>\n",
       "      <td>70.124.152.197</td>\n",
       "      <td>1866</td>\n",
       "      <td>R_2sizYJgiDIpBdLT</td>\n",
       "      <td>30.365997</td>\n",
       "      <td>-97.643700</td>\n",
       "      <td>Yes</td>\n",
       "      <td>7</td>\n",
       "      <td>5</td>\n",
       "      <td>4</td>\n",
       "      <td>4</td>\n",
       "      <td>...</td>\n",
       "      <td>2.0</td>\n",
       "      <td>2.0</td>\n",
       "      <td>Once in a month or less</td>\n",
       "      <td>1-3 years</td>\n",
       "      <td>Less than one hour</td>\n",
       "      <td>Female</td>\n",
       "      <td>36-50</td>\n",
       "      <td>Doctoral Degree</td>\n",
       "      <td>United States of America</td>\n",
       "      <td>Educational services</td>\n",
       "    </tr>\n",
       "    <tr>\n",
       "      <th>280</th>\n",
       "      <td>71.13.225.11</td>\n",
       "      <td>291</td>\n",
       "      <td>R_9Z8cqlkP0kY5Zgp</td>\n",
       "      <td>42.560196</td>\n",
       "      <td>-85.858597</td>\n",
       "      <td>Yes</td>\n",
       "      <td>7</td>\n",
       "      <td>7</td>\n",
       "      <td>6</td>\n",
       "      <td>7</td>\n",
       "      <td>...</td>\n",
       "      <td>4.0</td>\n",
       "      <td>4.0</td>\n",
       "      <td>Once in a month or less</td>\n",
       "      <td>More than 3 years</td>\n",
       "      <td>Less than one hour</td>\n",
       "      <td>Female</td>\n",
       "      <td>36-50</td>\n",
       "      <td>4-year College Degree</td>\n",
       "      <td>United States of America</td>\n",
       "      <td>Real estate or rental and leasing</td>\n",
       "    </tr>\n",
       "    <tr>\n",
       "      <th>281</th>\n",
       "      <td>73.31.223.54</td>\n",
       "      <td>2831</td>\n",
       "      <td>R_7OJwqZ6sI9wQsMR</td>\n",
       "      <td>NaN</td>\n",
       "      <td>NaN</td>\n",
       "      <td>Yes</td>\n",
       "      <td>7</td>\n",
       "      <td>7</td>\n",
       "      <td>7</td>\n",
       "      <td>7</td>\n",
       "      <td>...</td>\n",
       "      <td>NaN</td>\n",
       "      <td>NaN</td>\n",
       "      <td>NaN</td>\n",
       "      <td>NaN</td>\n",
       "      <td>NaN</td>\n",
       "      <td>NaN</td>\n",
       "      <td>NaN</td>\n",
       "      <td>NaN</td>\n",
       "      <td>NaN</td>\n",
       "      <td>NaN</td>\n",
       "    </tr>\n",
       "  </tbody>\n",
       "</table>\n",
       "<p>282 rows × 65 columns</p>\n",
       "</div>"
      ],
      "text/plain": [
       "           IPAddress  Duration (in seconds)         ResponseId  \\\n",
       "0    198.182.157.254                    239  R_bqkat7vEJIOtO7j   \n",
       "1     174.155.134.32                    191  R_4UyBdECON03cUrb   \n",
       "2       45.46.112.52                    140  R_9BL6eXmPRlTawEl   \n",
       "3      172.56.23.132                    410  R_6EasCVITCdtBRI1   \n",
       "4      65.96.122.144                    171  R_3PMRpp5cpHj5e1D   \n",
       "..               ...                    ...                ...   \n",
       "277   203.13.128.104                  48799  R_5oKT2UHrPLLN5yV   \n",
       "278    24.20.159.132                    308  R_b13YF7M1qu4RycJ   \n",
       "279   70.124.152.197                   1866  R_2sizYJgiDIpBdLT   \n",
       "280     71.13.225.11                    291  R_9Z8cqlkP0kY5Zgp   \n",
       "281     73.31.223.54                   2831  R_7OJwqZ6sI9wQsMR   \n",
       "\n",
       "     LocationLatitude  LocationLongitude   Q4  Q5_1  Q5_2  Q5_3  Q5_4  ...  \\\n",
       "0           34.417999        -118.566200  Yes     3     4     4     3  ...   \n",
       "1           25.857605         -80.278099  Yes     4     5     4     4  ...   \n",
       "2           46.912094         -68.043098  Yes     4     6     4     3  ...   \n",
       "3           42.464203         -70.971703  Yes     4     4     3     4  ...   \n",
       "4           43.644196         -72.306602  Yes     4     5     4     4  ...   \n",
       "..                ...                ...  ...   ...   ...   ...   ...  ...   \n",
       "277        -33.791199         151.129791  Yes     7     3     3     2  ...   \n",
       "278         45.514404        -122.643295  Yes     7     4     4     4  ...   \n",
       "279         30.365997         -97.643700  Yes     7     5     4     4  ...   \n",
       "280         42.560196         -85.858597  Yes     7     7     6     7  ...   \n",
       "281               NaN                NaN  Yes     7     7     7     7  ...   \n",
       "\n",
       "     Q8_14  Q8_15                      Q10                Q11  \\\n",
       "0      4.0    4.0         2-3 times a week          1-3 years   \n",
       "1      4.0    5.0         2-3 times a week        7-12 months   \n",
       "2      5.0    5.0         2-3 times a week          1-3 years   \n",
       "3      3.0    4.0         2-3 times a week        7-12 months   \n",
       "4      5.0    5.0         2-3 times a week  More than 3 years   \n",
       "..     ...    ...                      ...                ...   \n",
       "277    3.0    1.0  Once in a month or less  More than 3 years   \n",
       "278    4.0    4.0  Once in a month or less  More than 3 years   \n",
       "279    2.0    2.0  Once in a month or less          1-3 years   \n",
       "280    4.0    4.0  Once in a month or less  More than 3 years   \n",
       "281    NaN    NaN                      NaN                NaN   \n",
       "\n",
       "                    Q12     Q14    Q15                    Q16  \\\n",
       "0             1-2 hours  Female  26-35         Masters Degree   \n",
       "1             1-2 hours  Female  26-35            High School   \n",
       "2    Less than one hour    Male  26-35  4-year College Degree   \n",
       "3             2-5 hours    Male  36-50            High School   \n",
       "4    Less than one hour  Female  36-50         Masters Degree   \n",
       "..                  ...     ...    ...                    ...   \n",
       "277  Less than one hour  Female  26-35    Professional Degree   \n",
       "278  Less than one hour  Female  36-50  4-year College Degree   \n",
       "279  Less than one hour  Female  36-50        Doctoral Degree   \n",
       "280  Less than one hour  Female  36-50  4-year College Degree   \n",
       "281                 NaN     NaN    NaN                    NaN   \n",
       "\n",
       "                          Q17                                             Q18  \n",
       "0    United States of America                            Educational services  \n",
       "1    United States of America               Real estate or rental and leasing  \n",
       "2    United States of America               Arts, entertainment or recreation  \n",
       "3    United States of America  Professional, scientific or technical services  \n",
       "4    United States of America                                    Construction  \n",
       "..                        ...                                             ...  \n",
       "277                 Australia  Professional, scientific or technical services  \n",
       "278  United States of America  Professional, scientific or technical services  \n",
       "279  United States of America                            Educational services  \n",
       "280  United States of America               Real estate or rental and leasing  \n",
       "281                       NaN                                             NaN  \n",
       "\n",
       "[282 rows x 65 columns]"
      ]
     },
     "execution_count": 2,
     "metadata": {},
     "output_type": "execute_result"
    }
   ],
   "source": [
    "data"
   ]
  },
  {
   "cell_type": "code",
   "execution_count": 3,
   "metadata": {
    "id": "o1ztRsXAbPx6"
   },
   "outputs": [],
   "source": [
    "data.drop(data.index[0],inplace=True)"
   ]
  },
  {
   "cell_type": "code",
   "execution_count": 4,
   "metadata": {
    "id": "O3_xsz8ZbPx6"
   },
   "outputs": [
    {
     "data": {
      "text/html": [
       "<div>\n",
       "<style scoped>\n",
       "    .dataframe tbody tr th:only-of-type {\n",
       "        vertical-align: middle;\n",
       "    }\n",
       "\n",
       "    .dataframe tbody tr th {\n",
       "        vertical-align: top;\n",
       "    }\n",
       "\n",
       "    .dataframe thead th {\n",
       "        text-align: right;\n",
       "    }\n",
       "</style>\n",
       "<table border=\"1\" class=\"dataframe\">\n",
       "  <thead>\n",
       "    <tr style=\"text-align: right;\">\n",
       "      <th></th>\n",
       "      <th>IPAddress</th>\n",
       "      <th>Duration (in seconds)</th>\n",
       "      <th>ResponseId</th>\n",
       "      <th>LocationLatitude</th>\n",
       "      <th>LocationLongitude</th>\n",
       "      <th>Q4</th>\n",
       "      <th>Q5_1</th>\n",
       "      <th>Q5_2</th>\n",
       "      <th>Q5_3</th>\n",
       "      <th>Q5_4</th>\n",
       "      <th>...</th>\n",
       "      <th>Q8_13</th>\n",
       "      <th>Q8_14</th>\n",
       "      <th>Q10</th>\n",
       "      <th>Q11</th>\n",
       "      <th>Q12</th>\n",
       "      <th>Q14</th>\n",
       "      <th>Q15</th>\n",
       "      <th>Q16</th>\n",
       "      <th>Q17</th>\n",
       "      <th>Q18</th>\n",
       "    </tr>\n",
       "  </thead>\n",
       "  <tbody>\n",
       "    <tr>\n",
       "      <th>1</th>\n",
       "      <td>174.155.134.32</td>\n",
       "      <td>191</td>\n",
       "      <td>R_4UyBdECON03cUrb</td>\n",
       "      <td>25.857605</td>\n",
       "      <td>-80.278099</td>\n",
       "      <td>Yes</td>\n",
       "      <td>4</td>\n",
       "      <td>5</td>\n",
       "      <td>4</td>\n",
       "      <td>4</td>\n",
       "      <td>...</td>\n",
       "      <td>4.0</td>\n",
       "      <td>4.0</td>\n",
       "      <td>2-3 times a week</td>\n",
       "      <td>7-12 months</td>\n",
       "      <td>1-2 hours</td>\n",
       "      <td>Female</td>\n",
       "      <td>26-35</td>\n",
       "      <td>High School</td>\n",
       "      <td>United States of America</td>\n",
       "      <td>Real estate or rental and leasing</td>\n",
       "    </tr>\n",
       "    <tr>\n",
       "      <th>2</th>\n",
       "      <td>45.46.112.52</td>\n",
       "      <td>140</td>\n",
       "      <td>R_9BL6eXmPRlTawEl</td>\n",
       "      <td>46.912094</td>\n",
       "      <td>-68.043098</td>\n",
       "      <td>Yes</td>\n",
       "      <td>4</td>\n",
       "      <td>6</td>\n",
       "      <td>4</td>\n",
       "      <td>3</td>\n",
       "      <td>...</td>\n",
       "      <td>4.0</td>\n",
       "      <td>5.0</td>\n",
       "      <td>2-3 times a week</td>\n",
       "      <td>1-3 years</td>\n",
       "      <td>Less than one hour</td>\n",
       "      <td>Male</td>\n",
       "      <td>26-35</td>\n",
       "      <td>4-year College Degree</td>\n",
       "      <td>United States of America</td>\n",
       "      <td>Arts, entertainment or recreation</td>\n",
       "    </tr>\n",
       "    <tr>\n",
       "      <th>3</th>\n",
       "      <td>172.56.23.132</td>\n",
       "      <td>410</td>\n",
       "      <td>R_6EasCVITCdtBRI1</td>\n",
       "      <td>42.464203</td>\n",
       "      <td>-70.971703</td>\n",
       "      <td>Yes</td>\n",
       "      <td>4</td>\n",
       "      <td>4</td>\n",
       "      <td>3</td>\n",
       "      <td>4</td>\n",
       "      <td>...</td>\n",
       "      <td>3.0</td>\n",
       "      <td>3.0</td>\n",
       "      <td>2-3 times a week</td>\n",
       "      <td>7-12 months</td>\n",
       "      <td>2-5 hours</td>\n",
       "      <td>Male</td>\n",
       "      <td>36-50</td>\n",
       "      <td>High School</td>\n",
       "      <td>United States of America</td>\n",
       "      <td>Professional, scientific or technical services</td>\n",
       "    </tr>\n",
       "    <tr>\n",
       "      <th>4</th>\n",
       "      <td>65.96.122.144</td>\n",
       "      <td>171</td>\n",
       "      <td>R_3PMRpp5cpHj5e1D</td>\n",
       "      <td>43.644196</td>\n",
       "      <td>-72.306602</td>\n",
       "      <td>Yes</td>\n",
       "      <td>4</td>\n",
       "      <td>5</td>\n",
       "      <td>4</td>\n",
       "      <td>4</td>\n",
       "      <td>...</td>\n",
       "      <td>7.0</td>\n",
       "      <td>5.0</td>\n",
       "      <td>2-3 times a week</td>\n",
       "      <td>More than 3 years</td>\n",
       "      <td>Less than one hour</td>\n",
       "      <td>Female</td>\n",
       "      <td>36-50</td>\n",
       "      <td>Masters Degree</td>\n",
       "      <td>United States of America</td>\n",
       "      <td>Construction</td>\n",
       "    </tr>\n",
       "    <tr>\n",
       "      <th>5</th>\n",
       "      <td>68.112.234.118</td>\n",
       "      <td>219</td>\n",
       "      <td>R_3lV20yTSoLXFX4p</td>\n",
       "      <td>42.272293</td>\n",
       "      <td>-72.402000</td>\n",
       "      <td>Yes</td>\n",
       "      <td>4</td>\n",
       "      <td>5</td>\n",
       "      <td>5</td>\n",
       "      <td>6</td>\n",
       "      <td>...</td>\n",
       "      <td>4.0</td>\n",
       "      <td>5.0</td>\n",
       "      <td>2-3 times a week</td>\n",
       "      <td>1-3 years</td>\n",
       "      <td>2-5 hours</td>\n",
       "      <td>Female</td>\n",
       "      <td>26-35</td>\n",
       "      <td>4-year College Degree</td>\n",
       "      <td>United States of America</td>\n",
       "      <td>Other services (except public administration)</td>\n",
       "    </tr>\n",
       "    <tr>\n",
       "      <th>...</th>\n",
       "      <td>...</td>\n",
       "      <td>...</td>\n",
       "      <td>...</td>\n",
       "      <td>...</td>\n",
       "      <td>...</td>\n",
       "      <td>...</td>\n",
       "      <td>...</td>\n",
       "      <td>...</td>\n",
       "      <td>...</td>\n",
       "      <td>...</td>\n",
       "      <td>...</td>\n",
       "      <td>...</td>\n",
       "      <td>...</td>\n",
       "      <td>...</td>\n",
       "      <td>...</td>\n",
       "      <td>...</td>\n",
       "      <td>...</td>\n",
       "      <td>...</td>\n",
       "      <td>...</td>\n",
       "      <td>...</td>\n",
       "      <td>...</td>\n",
       "    </tr>\n",
       "    <tr>\n",
       "      <th>277</th>\n",
       "      <td>203.13.128.104</td>\n",
       "      <td>48799</td>\n",
       "      <td>R_5oKT2UHrPLLN5yV</td>\n",
       "      <td>-33.791199</td>\n",
       "      <td>151.129791</td>\n",
       "      <td>Yes</td>\n",
       "      <td>7</td>\n",
       "      <td>3</td>\n",
       "      <td>3</td>\n",
       "      <td>2</td>\n",
       "      <td>...</td>\n",
       "      <td>4.0</td>\n",
       "      <td>3.0</td>\n",
       "      <td>Once in a month or less</td>\n",
       "      <td>More than 3 years</td>\n",
       "      <td>Less than one hour</td>\n",
       "      <td>Female</td>\n",
       "      <td>26-35</td>\n",
       "      <td>Professional Degree</td>\n",
       "      <td>Australia</td>\n",
       "      <td>Professional, scientific or technical services</td>\n",
       "    </tr>\n",
       "    <tr>\n",
       "      <th>278</th>\n",
       "      <td>24.20.159.132</td>\n",
       "      <td>308</td>\n",
       "      <td>R_b13YF7M1qu4RycJ</td>\n",
       "      <td>45.514404</td>\n",
       "      <td>-122.643295</td>\n",
       "      <td>Yes</td>\n",
       "      <td>7</td>\n",
       "      <td>4</td>\n",
       "      <td>4</td>\n",
       "      <td>4</td>\n",
       "      <td>...</td>\n",
       "      <td>4.0</td>\n",
       "      <td>4.0</td>\n",
       "      <td>Once in a month or less</td>\n",
       "      <td>More than 3 years</td>\n",
       "      <td>Less than one hour</td>\n",
       "      <td>Female</td>\n",
       "      <td>36-50</td>\n",
       "      <td>4-year College Degree</td>\n",
       "      <td>United States of America</td>\n",
       "      <td>Professional, scientific or technical services</td>\n",
       "    </tr>\n",
       "    <tr>\n",
       "      <th>279</th>\n",
       "      <td>70.124.152.197</td>\n",
       "      <td>1866</td>\n",
       "      <td>R_2sizYJgiDIpBdLT</td>\n",
       "      <td>30.365997</td>\n",
       "      <td>-97.643700</td>\n",
       "      <td>Yes</td>\n",
       "      <td>7</td>\n",
       "      <td>5</td>\n",
       "      <td>4</td>\n",
       "      <td>4</td>\n",
       "      <td>...</td>\n",
       "      <td>4.0</td>\n",
       "      <td>2.0</td>\n",
       "      <td>Once in a month or less</td>\n",
       "      <td>1-3 years</td>\n",
       "      <td>Less than one hour</td>\n",
       "      <td>Female</td>\n",
       "      <td>36-50</td>\n",
       "      <td>Doctoral Degree</td>\n",
       "      <td>United States of America</td>\n",
       "      <td>Educational services</td>\n",
       "    </tr>\n",
       "    <tr>\n",
       "      <th>280</th>\n",
       "      <td>71.13.225.11</td>\n",
       "      <td>291</td>\n",
       "      <td>R_9Z8cqlkP0kY5Zgp</td>\n",
       "      <td>42.560196</td>\n",
       "      <td>-85.858597</td>\n",
       "      <td>Yes</td>\n",
       "      <td>7</td>\n",
       "      <td>7</td>\n",
       "      <td>6</td>\n",
       "      <td>7</td>\n",
       "      <td>...</td>\n",
       "      <td>5.0</td>\n",
       "      <td>4.0</td>\n",
       "      <td>Once in a month or less</td>\n",
       "      <td>More than 3 years</td>\n",
       "      <td>Less than one hour</td>\n",
       "      <td>Female</td>\n",
       "      <td>36-50</td>\n",
       "      <td>4-year College Degree</td>\n",
       "      <td>United States of America</td>\n",
       "      <td>Real estate or rental and leasing</td>\n",
       "    </tr>\n",
       "    <tr>\n",
       "      <th>281</th>\n",
       "      <td>73.31.223.54</td>\n",
       "      <td>2831</td>\n",
       "      <td>R_7OJwqZ6sI9wQsMR</td>\n",
       "      <td>NaN</td>\n",
       "      <td>NaN</td>\n",
       "      <td>Yes</td>\n",
       "      <td>7</td>\n",
       "      <td>7</td>\n",
       "      <td>7</td>\n",
       "      <td>7</td>\n",
       "      <td>...</td>\n",
       "      <td>NaN</td>\n",
       "      <td>NaN</td>\n",
       "      <td>NaN</td>\n",
       "      <td>NaN</td>\n",
       "      <td>NaN</td>\n",
       "      <td>NaN</td>\n",
       "      <td>NaN</td>\n",
       "      <td>NaN</td>\n",
       "      <td>NaN</td>\n",
       "      <td>NaN</td>\n",
       "    </tr>\n",
       "  </tbody>\n",
       "</table>\n",
       "<p>281 rows × 63 columns</p>\n",
       "</div>"
      ],
      "text/plain": [
       "          IPAddress  Duration (in seconds)         ResponseId  \\\n",
       "1    174.155.134.32                    191  R_4UyBdECON03cUrb   \n",
       "2      45.46.112.52                    140  R_9BL6eXmPRlTawEl   \n",
       "3     172.56.23.132                    410  R_6EasCVITCdtBRI1   \n",
       "4     65.96.122.144                    171  R_3PMRpp5cpHj5e1D   \n",
       "5    68.112.234.118                    219  R_3lV20yTSoLXFX4p   \n",
       "..              ...                    ...                ...   \n",
       "277  203.13.128.104                  48799  R_5oKT2UHrPLLN5yV   \n",
       "278   24.20.159.132                    308  R_b13YF7M1qu4RycJ   \n",
       "279  70.124.152.197                   1866  R_2sizYJgiDIpBdLT   \n",
       "280    71.13.225.11                    291  R_9Z8cqlkP0kY5Zgp   \n",
       "281    73.31.223.54                   2831  R_7OJwqZ6sI9wQsMR   \n",
       "\n",
       "     LocationLatitude  LocationLongitude   Q4  Q5_1  Q5_2  Q5_3  Q5_4  ...  \\\n",
       "1           25.857605         -80.278099  Yes     4     5     4     4  ...   \n",
       "2           46.912094         -68.043098  Yes     4     6     4     3  ...   \n",
       "3           42.464203         -70.971703  Yes     4     4     3     4  ...   \n",
       "4           43.644196         -72.306602  Yes     4     5     4     4  ...   \n",
       "5           42.272293         -72.402000  Yes     4     5     5     6  ...   \n",
       "..                ...                ...  ...   ...   ...   ...   ...  ...   \n",
       "277        -33.791199         151.129791  Yes     7     3     3     2  ...   \n",
       "278         45.514404        -122.643295  Yes     7     4     4     4  ...   \n",
       "279         30.365997         -97.643700  Yes     7     5     4     4  ...   \n",
       "280         42.560196         -85.858597  Yes     7     7     6     7  ...   \n",
       "281               NaN                NaN  Yes     7     7     7     7  ...   \n",
       "\n",
       "     Q8_13  Q8_14                      Q10                Q11  \\\n",
       "1      4.0    4.0         2-3 times a week        7-12 months   \n",
       "2      4.0    5.0         2-3 times a week          1-3 years   \n",
       "3      3.0    3.0         2-3 times a week        7-12 months   \n",
       "4      7.0    5.0         2-3 times a week  More than 3 years   \n",
       "5      4.0    5.0         2-3 times a week          1-3 years   \n",
       "..     ...    ...                      ...                ...   \n",
       "277    4.0    3.0  Once in a month or less  More than 3 years   \n",
       "278    4.0    4.0  Once in a month or less  More than 3 years   \n",
       "279    4.0    2.0  Once in a month or less          1-3 years   \n",
       "280    5.0    4.0  Once in a month or less  More than 3 years   \n",
       "281    NaN    NaN                      NaN                NaN   \n",
       "\n",
       "                    Q12     Q14    Q15                    Q16  \\\n",
       "1             1-2 hours  Female  26-35            High School   \n",
       "2    Less than one hour    Male  26-35  4-year College Degree   \n",
       "3             2-5 hours    Male  36-50            High School   \n",
       "4    Less than one hour  Female  36-50         Masters Degree   \n",
       "5             2-5 hours  Female  26-35  4-year College Degree   \n",
       "..                  ...     ...    ...                    ...   \n",
       "277  Less than one hour  Female  26-35    Professional Degree   \n",
       "278  Less than one hour  Female  36-50  4-year College Degree   \n",
       "279  Less than one hour  Female  36-50        Doctoral Degree   \n",
       "280  Less than one hour  Female  36-50  4-year College Degree   \n",
       "281                 NaN     NaN    NaN                    NaN   \n",
       "\n",
       "                          Q17                                             Q18  \n",
       "1    United States of America               Real estate or rental and leasing  \n",
       "2    United States of America               Arts, entertainment or recreation  \n",
       "3    United States of America  Professional, scientific or technical services  \n",
       "4    United States of America                                    Construction  \n",
       "5    United States of America   Other services (except public administration)  \n",
       "..                        ...                                             ...  \n",
       "277                 Australia  Professional, scientific or technical services  \n",
       "278  United States of America  Professional, scientific or technical services  \n",
       "279  United States of America                            Educational services  \n",
       "280  United States of America               Real estate or rental and leasing  \n",
       "281                       NaN                                             NaN  \n",
       "\n",
       "[281 rows x 63 columns]"
      ]
     },
     "execution_count": 4,
     "metadata": {},
     "output_type": "execute_result"
    }
   ],
   "source": [
    "data.drop(columns=['Q7_1','Q8_15'])"
   ]
  },
  {
   "cell_type": "code",
   "execution_count": 5,
   "metadata": {
    "id": "UFKsW_qDbPx7"
   },
   "outputs": [],
   "source": [
    "#data.drop(data.columns['Q7_1':'Q8_15'],axis=1,inplace=True)"
   ]
  },
  {
   "cell_type": "code",
   "execution_count": 6,
   "metadata": {
    "id": "UO-CVAB9bPx7"
   },
   "outputs": [],
   "source": [
    "for col in data.columns:\n",
    "    if 'Q7' in col:\n",
    "        del data[col]"
   ]
  },
  {
   "cell_type": "code",
   "execution_count": 7,
   "metadata": {
    "id": "zH9C6M43bPx8"
   },
   "outputs": [],
   "source": [
    "for col in data.columns:\n",
    "    if 'Q8' in col:\n",
    "        del data[col]"
   ]
  },
  {
   "cell_type": "code",
   "execution_count": 8,
   "metadata": {
    "id": "yoLWLXxGbPx8"
   },
   "outputs": [
    {
     "data": {
      "text/html": [
       "<div>\n",
       "<style scoped>\n",
       "    .dataframe tbody tr th:only-of-type {\n",
       "        vertical-align: middle;\n",
       "    }\n",
       "\n",
       "    .dataframe tbody tr th {\n",
       "        vertical-align: top;\n",
       "    }\n",
       "\n",
       "    .dataframe thead th {\n",
       "        text-align: right;\n",
       "    }\n",
       "</style>\n",
       "<table border=\"1\" class=\"dataframe\">\n",
       "  <thead>\n",
       "    <tr style=\"text-align: right;\">\n",
       "      <th></th>\n",
       "      <th>IPAddress</th>\n",
       "      <th>Duration (in seconds)</th>\n",
       "      <th>ResponseId</th>\n",
       "      <th>LocationLatitude</th>\n",
       "      <th>LocationLongitude</th>\n",
       "      <th>Q4</th>\n",
       "      <th>Q5_1</th>\n",
       "      <th>Q5_2</th>\n",
       "      <th>Q5_3</th>\n",
       "      <th>Q5_4</th>\n",
       "      <th>...</th>\n",
       "      <th>Q5_16</th>\n",
       "      <th>Q5_17</th>\n",
       "      <th>Q10</th>\n",
       "      <th>Q11</th>\n",
       "      <th>Q12</th>\n",
       "      <th>Q14</th>\n",
       "      <th>Q15</th>\n",
       "      <th>Q16</th>\n",
       "      <th>Q17</th>\n",
       "      <th>Q18</th>\n",
       "    </tr>\n",
       "  </thead>\n",
       "  <tbody>\n",
       "    <tr>\n",
       "      <th>277</th>\n",
       "      <td>203.13.128.104</td>\n",
       "      <td>48799</td>\n",
       "      <td>R_5oKT2UHrPLLN5yV</td>\n",
       "      <td>-33.791199</td>\n",
       "      <td>151.129791</td>\n",
       "      <td>Yes</td>\n",
       "      <td>7</td>\n",
       "      <td>3</td>\n",
       "      <td>3</td>\n",
       "      <td>2</td>\n",
       "      <td>...</td>\n",
       "      <td>7</td>\n",
       "      <td>1</td>\n",
       "      <td>Once in a month or less</td>\n",
       "      <td>More than 3 years</td>\n",
       "      <td>Less than one hour</td>\n",
       "      <td>Female</td>\n",
       "      <td>26-35</td>\n",
       "      <td>Professional Degree</td>\n",
       "      <td>Australia</td>\n",
       "      <td>Professional, scientific or technical services</td>\n",
       "    </tr>\n",
       "    <tr>\n",
       "      <th>278</th>\n",
       "      <td>24.20.159.132</td>\n",
       "      <td>308</td>\n",
       "      <td>R_b13YF7M1qu4RycJ</td>\n",
       "      <td>45.514404</td>\n",
       "      <td>-122.643295</td>\n",
       "      <td>Yes</td>\n",
       "      <td>7</td>\n",
       "      <td>4</td>\n",
       "      <td>4</td>\n",
       "      <td>4</td>\n",
       "      <td>...</td>\n",
       "      <td>4</td>\n",
       "      <td>4</td>\n",
       "      <td>Once in a month or less</td>\n",
       "      <td>More than 3 years</td>\n",
       "      <td>Less than one hour</td>\n",
       "      <td>Female</td>\n",
       "      <td>36-50</td>\n",
       "      <td>4-year College Degree</td>\n",
       "      <td>United States of America</td>\n",
       "      <td>Professional, scientific or technical services</td>\n",
       "    </tr>\n",
       "    <tr>\n",
       "      <th>279</th>\n",
       "      <td>70.124.152.197</td>\n",
       "      <td>1866</td>\n",
       "      <td>R_2sizYJgiDIpBdLT</td>\n",
       "      <td>30.365997</td>\n",
       "      <td>-97.643700</td>\n",
       "      <td>Yes</td>\n",
       "      <td>7</td>\n",
       "      <td>5</td>\n",
       "      <td>4</td>\n",
       "      <td>4</td>\n",
       "      <td>...</td>\n",
       "      <td>3</td>\n",
       "      <td>4</td>\n",
       "      <td>Once in a month or less</td>\n",
       "      <td>1-3 years</td>\n",
       "      <td>Less than one hour</td>\n",
       "      <td>Female</td>\n",
       "      <td>36-50</td>\n",
       "      <td>Doctoral Degree</td>\n",
       "      <td>United States of America</td>\n",
       "      <td>Educational services</td>\n",
       "    </tr>\n",
       "    <tr>\n",
       "      <th>280</th>\n",
       "      <td>71.13.225.11</td>\n",
       "      <td>291</td>\n",
       "      <td>R_9Z8cqlkP0kY5Zgp</td>\n",
       "      <td>42.560196</td>\n",
       "      <td>-85.858597</td>\n",
       "      <td>Yes</td>\n",
       "      <td>7</td>\n",
       "      <td>7</td>\n",
       "      <td>6</td>\n",
       "      <td>7</td>\n",
       "      <td>...</td>\n",
       "      <td>6</td>\n",
       "      <td>5</td>\n",
       "      <td>Once in a month or less</td>\n",
       "      <td>More than 3 years</td>\n",
       "      <td>Less than one hour</td>\n",
       "      <td>Female</td>\n",
       "      <td>36-50</td>\n",
       "      <td>4-year College Degree</td>\n",
       "      <td>United States of America</td>\n",
       "      <td>Real estate or rental and leasing</td>\n",
       "    </tr>\n",
       "    <tr>\n",
       "      <th>281</th>\n",
       "      <td>73.31.223.54</td>\n",
       "      <td>2831</td>\n",
       "      <td>R_7OJwqZ6sI9wQsMR</td>\n",
       "      <td>NaN</td>\n",
       "      <td>NaN</td>\n",
       "      <td>Yes</td>\n",
       "      <td>7</td>\n",
       "      <td>7</td>\n",
       "      <td>7</td>\n",
       "      <td>7</td>\n",
       "      <td>...</td>\n",
       "      <td>7</td>\n",
       "      <td>5</td>\n",
       "      <td>NaN</td>\n",
       "      <td>NaN</td>\n",
       "      <td>NaN</td>\n",
       "      <td>NaN</td>\n",
       "      <td>NaN</td>\n",
       "      <td>NaN</td>\n",
       "      <td>NaN</td>\n",
       "      <td>NaN</td>\n",
       "    </tr>\n",
       "  </tbody>\n",
       "</table>\n",
       "<p>5 rows × 31 columns</p>\n",
       "</div>"
      ],
      "text/plain": [
       "          IPAddress  Duration (in seconds)         ResponseId  \\\n",
       "277  203.13.128.104                  48799  R_5oKT2UHrPLLN5yV   \n",
       "278   24.20.159.132                    308  R_b13YF7M1qu4RycJ   \n",
       "279  70.124.152.197                   1866  R_2sizYJgiDIpBdLT   \n",
       "280    71.13.225.11                    291  R_9Z8cqlkP0kY5Zgp   \n",
       "281    73.31.223.54                   2831  R_7OJwqZ6sI9wQsMR   \n",
       "\n",
       "     LocationLatitude  LocationLongitude   Q4  Q5_1  Q5_2  Q5_3  Q5_4  ...  \\\n",
       "277        -33.791199         151.129791  Yes     7     3     3     2  ...   \n",
       "278         45.514404        -122.643295  Yes     7     4     4     4  ...   \n",
       "279         30.365997         -97.643700  Yes     7     5     4     4  ...   \n",
       "280         42.560196         -85.858597  Yes     7     7     6     7  ...   \n",
       "281               NaN                NaN  Yes     7     7     7     7  ...   \n",
       "\n",
       "     Q5_16  Q5_17                      Q10                Q11  \\\n",
       "277      7      1  Once in a month or less  More than 3 years   \n",
       "278      4      4  Once in a month or less  More than 3 years   \n",
       "279      3      4  Once in a month or less          1-3 years   \n",
       "280      6      5  Once in a month or less  More than 3 years   \n",
       "281      7      5                      NaN                NaN   \n",
       "\n",
       "                    Q12     Q14    Q15                    Q16  \\\n",
       "277  Less than one hour  Female  26-35    Professional Degree   \n",
       "278  Less than one hour  Female  36-50  4-year College Degree   \n",
       "279  Less than one hour  Female  36-50        Doctoral Degree   \n",
       "280  Less than one hour  Female  36-50  4-year College Degree   \n",
       "281                 NaN     NaN    NaN                    NaN   \n",
       "\n",
       "                          Q17                                             Q18  \n",
       "277                 Australia  Professional, scientific or technical services  \n",
       "278  United States of America  Professional, scientific or technical services  \n",
       "279  United States of America                            Educational services  \n",
       "280  United States of America               Real estate or rental and leasing  \n",
       "281                       NaN                                             NaN  \n",
       "\n",
       "[5 rows x 31 columns]"
      ]
     },
     "execution_count": 8,
     "metadata": {},
     "output_type": "execute_result"
    }
   ],
   "source": [
    "data.tail()"
   ]
  },
  {
   "cell_type": "code",
   "execution_count": 9,
   "metadata": {
    "id": "ZEuwp3tdbPx9"
   },
   "outputs": [],
   "source": [
    "#Create a dummy variable: 1 - definately stay; 0 - otherwise\n",
    "data['stay']=(data['Q5_1']>6).astype(int)"
   ]
  },
  {
   "cell_type": "code",
   "execution_count": 10,
   "metadata": {
    "id": "WzkCIyuLbPx9"
   },
   "outputs": [],
   "source": [
    "#X: Q5_2 : Q5_9\n",
    "X=data[data.columns[7:15]]\n",
    "y=data['stay']"
   ]
  },
  {
   "cell_type": "code",
   "execution_count": 11,
   "metadata": {
    "id": "G3RAqKCybPx-"
   },
   "outputs": [
    {
     "data": {
      "text/html": [
       "<div>\n",
       "<style scoped>\n",
       "    .dataframe tbody tr th:only-of-type {\n",
       "        vertical-align: middle;\n",
       "    }\n",
       "\n",
       "    .dataframe tbody tr th {\n",
       "        vertical-align: top;\n",
       "    }\n",
       "\n",
       "    .dataframe thead th {\n",
       "        text-align: right;\n",
       "    }\n",
       "</style>\n",
       "<table border=\"1\" class=\"dataframe\">\n",
       "  <thead>\n",
       "    <tr style=\"text-align: right;\">\n",
       "      <th></th>\n",
       "      <th>Q5_2</th>\n",
       "      <th>Q5_3</th>\n",
       "      <th>Q5_4</th>\n",
       "      <th>Q5_5</th>\n",
       "      <th>Q5_6</th>\n",
       "      <th>Q5_7</th>\n",
       "      <th>Q5_8</th>\n",
       "      <th>Q5_9</th>\n",
       "    </tr>\n",
       "  </thead>\n",
       "  <tbody>\n",
       "    <tr>\n",
       "      <th>count</th>\n",
       "      <td>281.000000</td>\n",
       "      <td>281.000000</td>\n",
       "      <td>281.000000</td>\n",
       "      <td>281.000000</td>\n",
       "      <td>281.000000</td>\n",
       "      <td>281.000000</td>\n",
       "      <td>281.000000</td>\n",
       "      <td>281.000000</td>\n",
       "    </tr>\n",
       "    <tr>\n",
       "      <th>mean</th>\n",
       "      <td>5.654804</td>\n",
       "      <td>5.060498</td>\n",
       "      <td>5.434164</td>\n",
       "      <td>4.989324</td>\n",
       "      <td>5.330961</td>\n",
       "      <td>5.213523</td>\n",
       "      <td>5.562278</td>\n",
       "      <td>3.619217</td>\n",
       "    </tr>\n",
       "    <tr>\n",
       "      <th>std</th>\n",
       "      <td>1.224039</td>\n",
       "      <td>1.539911</td>\n",
       "      <td>1.348322</td>\n",
       "      <td>1.781821</td>\n",
       "      <td>1.623731</td>\n",
       "      <td>1.559749</td>\n",
       "      <td>1.269364</td>\n",
       "      <td>2.158253</td>\n",
       "    </tr>\n",
       "    <tr>\n",
       "      <th>min</th>\n",
       "      <td>2.000000</td>\n",
       "      <td>1.000000</td>\n",
       "      <td>1.000000</td>\n",
       "      <td>1.000000</td>\n",
       "      <td>1.000000</td>\n",
       "      <td>1.000000</td>\n",
       "      <td>1.000000</td>\n",
       "      <td>1.000000</td>\n",
       "    </tr>\n",
       "    <tr>\n",
       "      <th>25%</th>\n",
       "      <td>5.000000</td>\n",
       "      <td>4.000000</td>\n",
       "      <td>4.000000</td>\n",
       "      <td>4.000000</td>\n",
       "      <td>4.000000</td>\n",
       "      <td>4.000000</td>\n",
       "      <td>5.000000</td>\n",
       "      <td>1.000000</td>\n",
       "    </tr>\n",
       "    <tr>\n",
       "      <th>50%</th>\n",
       "      <td>6.000000</td>\n",
       "      <td>5.000000</td>\n",
       "      <td>6.000000</td>\n",
       "      <td>5.000000</td>\n",
       "      <td>6.000000</td>\n",
       "      <td>5.000000</td>\n",
       "      <td>6.000000</td>\n",
       "      <td>3.000000</td>\n",
       "    </tr>\n",
       "    <tr>\n",
       "      <th>75%</th>\n",
       "      <td>7.000000</td>\n",
       "      <td>6.000000</td>\n",
       "      <td>7.000000</td>\n",
       "      <td>7.000000</td>\n",
       "      <td>7.000000</td>\n",
       "      <td>6.000000</td>\n",
       "      <td>7.000000</td>\n",
       "      <td>5.000000</td>\n",
       "    </tr>\n",
       "    <tr>\n",
       "      <th>max</th>\n",
       "      <td>7.000000</td>\n",
       "      <td>7.000000</td>\n",
       "      <td>7.000000</td>\n",
       "      <td>7.000000</td>\n",
       "      <td>7.000000</td>\n",
       "      <td>7.000000</td>\n",
       "      <td>7.000000</td>\n",
       "      <td>7.000000</td>\n",
       "    </tr>\n",
       "  </tbody>\n",
       "</table>\n",
       "</div>"
      ],
      "text/plain": [
       "             Q5_2        Q5_3        Q5_4        Q5_5        Q5_6        Q5_7  \\\n",
       "count  281.000000  281.000000  281.000000  281.000000  281.000000  281.000000   \n",
       "mean     5.654804    5.060498    5.434164    4.989324    5.330961    5.213523   \n",
       "std      1.224039    1.539911    1.348322    1.781821    1.623731    1.559749   \n",
       "min      2.000000    1.000000    1.000000    1.000000    1.000000    1.000000   \n",
       "25%      5.000000    4.000000    4.000000    4.000000    4.000000    4.000000   \n",
       "50%      6.000000    5.000000    6.000000    5.000000    6.000000    5.000000   \n",
       "75%      7.000000    6.000000    7.000000    7.000000    7.000000    6.000000   \n",
       "max      7.000000    7.000000    7.000000    7.000000    7.000000    7.000000   \n",
       "\n",
       "             Q5_8        Q5_9  \n",
       "count  281.000000  281.000000  \n",
       "mean     5.562278    3.619217  \n",
       "std      1.269364    2.158253  \n",
       "min      1.000000    1.000000  \n",
       "25%      5.000000    1.000000  \n",
       "50%      6.000000    3.000000  \n",
       "75%      7.000000    5.000000  \n",
       "max      7.000000    7.000000  "
      ]
     },
     "execution_count": 11,
     "metadata": {},
     "output_type": "execute_result"
    }
   ],
   "source": [
    "X.describe()"
   ]
  },
  {
   "cell_type": "code",
   "execution_count": 12,
   "metadata": {
    "id": "v_FbUE_gbPx-"
   },
   "outputs": [
    {
     "data": {
      "text/plain": [
       "count    281.000000\n",
       "mean       0.455516\n",
       "std        0.498906\n",
       "min        0.000000\n",
       "25%        0.000000\n",
       "50%        0.000000\n",
       "75%        1.000000\n",
       "max        1.000000\n",
       "Name: stay, dtype: float64"
      ]
     },
     "execution_count": 12,
     "metadata": {},
     "output_type": "execute_result"
    }
   ],
   "source": [
    "y.describe()"
   ]
  },
  {
   "cell_type": "code",
   "execution_count": 13,
   "metadata": {
    "id": "MJkSbuwzbPx_"
   },
   "outputs": [
    {
     "data": {
      "text/plain": [
       "(281, 32)"
      ]
     },
     "execution_count": 13,
     "metadata": {},
     "output_type": "execute_result"
    }
   ],
   "source": [
    "data.shape"
   ]
  },
  {
   "cell_type": "markdown",
   "metadata": {
    "id": "LYkbVF0vbPx_"
   },
   "source": [
    "# SVM\n",
    "\n",
    "sklearn LinearSVC: https://scikit-learn.org/stable/modules/generated/sklearn.svm.LinearSVC.html\n",
    "\n",
    "sklearn SVM: https://scikit-learn.org/stable/modules/generated/sklearn.svm.SVC.html\n"
   ]
  },
  {
   "cell_type": "markdown",
   "metadata": {
    "id": "qGXF4hJZZcKr"
   },
   "source": [
    "## Part 3: SVM - Binary"
   ]
  },
  {
   "cell_type": "code",
   "execution_count": 32,
   "metadata": {
    "id": "rOfBZT44bPyB"
   },
   "outputs": [],
   "source": [
    "from sklearn.model_selection import train_test_split\n",
    "#X: Q5_2 : Q5_9\n",
    "X=data[data.columns[7:15]]\n",
    "y=data['stay']\n",
    "x_train, x_test, y_train, y_test = train_test_split(X, y, test_size=0.25, random_state=0)"
   ]
  },
  {
   "cell_type": "code",
   "execution_count": 33,
   "metadata": {
    "id": "j4qOdM6NbPyB"
   },
   "outputs": [
    {
     "name": "stderr",
     "output_type": "stream",
     "text": [
      "D:\\SOFTWARE INSTALLED\\ANACONDA\\lib\\site-packages\\sklearn\\svm\\_base.py:1244: ConvergenceWarning: Liblinear failed to converge, increase the number of iterations.\n",
      "  warnings.warn(\n"
     ]
    },
    {
     "data": {
      "text/html": [
       "<style>#sk-container-id-2 {color: black;background-color: white;}#sk-container-id-2 pre{padding: 0;}#sk-container-id-2 div.sk-toggleable {background-color: white;}#sk-container-id-2 label.sk-toggleable__label {cursor: pointer;display: block;width: 100%;margin-bottom: 0;padding: 0.3em;box-sizing: border-box;text-align: center;}#sk-container-id-2 label.sk-toggleable__label-arrow:before {content: \"▸\";float: left;margin-right: 0.25em;color: #696969;}#sk-container-id-2 label.sk-toggleable__label-arrow:hover:before {color: black;}#sk-container-id-2 div.sk-estimator:hover label.sk-toggleable__label-arrow:before {color: black;}#sk-container-id-2 div.sk-toggleable__content {max-height: 0;max-width: 0;overflow: hidden;text-align: left;background-color: #f0f8ff;}#sk-container-id-2 div.sk-toggleable__content pre {margin: 0.2em;color: black;border-radius: 0.25em;background-color: #f0f8ff;}#sk-container-id-2 input.sk-toggleable__control:checked~div.sk-toggleable__content {max-height: 200px;max-width: 100%;overflow: auto;}#sk-container-id-2 input.sk-toggleable__control:checked~label.sk-toggleable__label-arrow:before {content: \"▾\";}#sk-container-id-2 div.sk-estimator input.sk-toggleable__control:checked~label.sk-toggleable__label {background-color: #d4ebff;}#sk-container-id-2 div.sk-label input.sk-toggleable__control:checked~label.sk-toggleable__label {background-color: #d4ebff;}#sk-container-id-2 input.sk-hidden--visually {border: 0;clip: rect(1px 1px 1px 1px);clip: rect(1px, 1px, 1px, 1px);height: 1px;margin: -1px;overflow: hidden;padding: 0;position: absolute;width: 1px;}#sk-container-id-2 div.sk-estimator {font-family: monospace;background-color: #f0f8ff;border: 1px dotted black;border-radius: 0.25em;box-sizing: border-box;margin-bottom: 0.5em;}#sk-container-id-2 div.sk-estimator:hover {background-color: #d4ebff;}#sk-container-id-2 div.sk-parallel-item::after {content: \"\";width: 100%;border-bottom: 1px solid gray;flex-grow: 1;}#sk-container-id-2 div.sk-label:hover label.sk-toggleable__label {background-color: #d4ebff;}#sk-container-id-2 div.sk-serial::before {content: \"\";position: absolute;border-left: 1px solid gray;box-sizing: border-box;top: 0;bottom: 0;left: 50%;z-index: 0;}#sk-container-id-2 div.sk-serial {display: flex;flex-direction: column;align-items: center;background-color: white;padding-right: 0.2em;padding-left: 0.2em;position: relative;}#sk-container-id-2 div.sk-item {position: relative;z-index: 1;}#sk-container-id-2 div.sk-parallel {display: flex;align-items: stretch;justify-content: center;background-color: white;position: relative;}#sk-container-id-2 div.sk-item::before, #sk-container-id-2 div.sk-parallel-item::before {content: \"\";position: absolute;border-left: 1px solid gray;box-sizing: border-box;top: 0;bottom: 0;left: 50%;z-index: -1;}#sk-container-id-2 div.sk-parallel-item {display: flex;flex-direction: column;z-index: 1;position: relative;background-color: white;}#sk-container-id-2 div.sk-parallel-item:first-child::after {align-self: flex-end;width: 50%;}#sk-container-id-2 div.sk-parallel-item:last-child::after {align-self: flex-start;width: 50%;}#sk-container-id-2 div.sk-parallel-item:only-child::after {width: 0;}#sk-container-id-2 div.sk-dashed-wrapped {border: 1px dashed gray;margin: 0 0.4em 0.5em 0.4em;box-sizing: border-box;padding-bottom: 0.4em;background-color: white;}#sk-container-id-2 div.sk-label label {font-family: monospace;font-weight: bold;display: inline-block;line-height: 1.2em;}#sk-container-id-2 div.sk-label-container {text-align: center;}#sk-container-id-2 div.sk-container {/* jupyter's `normalize.less` sets `[hidden] { display: none; }` but bootstrap.min.css set `[hidden] { display: none !important; }` so we also need the `!important` here to be able to override the default hidden behavior on the sphinx rendered scikit-learn.org. See: https://github.com/scikit-learn/scikit-learn/issues/21755 */display: inline-block !important;position: relative;}#sk-container-id-2 div.sk-text-repr-fallback {display: none;}</style><div id=\"sk-container-id-2\" class=\"sk-top-container\"><div class=\"sk-text-repr-fallback\"><pre>Pipeline(steps=[(&#x27;scaler&#x27;, StandardScaler(with_mean=False)),\n",
       "                (&#x27;linear_svc&#x27;, LinearSVC(C=1, loss=&#x27;hinge&#x27;))])</pre><b>In a Jupyter environment, please rerun this cell to show the HTML representation or trust the notebook. <br />On GitHub, the HTML representation is unable to render, please try loading this page with nbviewer.org.</b></div><div class=\"sk-container\" hidden><div class=\"sk-item sk-dashed-wrapped\"><div class=\"sk-label-container\"><div class=\"sk-label sk-toggleable\"><input class=\"sk-toggleable__control sk-hidden--visually\" id=\"sk-estimator-id-4\" type=\"checkbox\" ><label for=\"sk-estimator-id-4\" class=\"sk-toggleable__label sk-toggleable__label-arrow\">Pipeline</label><div class=\"sk-toggleable__content\"><pre>Pipeline(steps=[(&#x27;scaler&#x27;, StandardScaler(with_mean=False)),\n",
       "                (&#x27;linear_svc&#x27;, LinearSVC(C=1, loss=&#x27;hinge&#x27;))])</pre></div></div></div><div class=\"sk-serial\"><div class=\"sk-item\"><div class=\"sk-estimator sk-toggleable\"><input class=\"sk-toggleable__control sk-hidden--visually\" id=\"sk-estimator-id-5\" type=\"checkbox\" ><label for=\"sk-estimator-id-5\" class=\"sk-toggleable__label sk-toggleable__label-arrow\">StandardScaler</label><div class=\"sk-toggleable__content\"><pre>StandardScaler(with_mean=False)</pre></div></div></div><div class=\"sk-item\"><div class=\"sk-estimator sk-toggleable\"><input class=\"sk-toggleable__control sk-hidden--visually\" id=\"sk-estimator-id-6\" type=\"checkbox\" ><label for=\"sk-estimator-id-6\" class=\"sk-toggleable__label sk-toggleable__label-arrow\">LinearSVC</label><div class=\"sk-toggleable__content\"><pre>LinearSVC(C=1, loss=&#x27;hinge&#x27;)</pre></div></div></div></div></div></div></div>"
      ],
      "text/plain": [
       "Pipeline(steps=[('scaler', StandardScaler(with_mean=False)),\n",
       "                ('linear_svc', LinearSVC(C=1, loss='hinge'))])"
      ]
     },
     "execution_count": 33,
     "metadata": {},
     "output_type": "execute_result"
    }
   ],
   "source": [
    "# use Pipeline and LinearSVC to define SVM_clf \n",
    "# fir the model SVM_clf\n",
    "...\n",
    "from sklearn.pipeline import Pipeline\n",
    "from sklearn.preprocessing import StandardScaler\n",
    "from sklearn.svm import LinearSVC\n",
    "\n",
    "SVM_clf = Pipeline([\n",
    "         (\"scaler\", StandardScaler(with_mean=False)), \n",
    "         (\"linear_svc\", LinearSVC(C=1, loss=\"hinge\")), \n",
    "     ])\n",
    "SVM_clf.fit(x_train, y_train)\n",
    "\n"
   ]
  },
  {
   "cell_type": "code",
   "execution_count": 34,
   "metadata": {
    "id": "nKd2xyUlbPyC"
   },
   "outputs": [
    {
     "data": {
      "text/html": [
       "<div>\n",
       "<style scoped>\n",
       "    .dataframe tbody tr th:only-of-type {\n",
       "        vertical-align: middle;\n",
       "    }\n",
       "\n",
       "    .dataframe tbody tr th {\n",
       "        vertical-align: top;\n",
       "    }\n",
       "\n",
       "    .dataframe thead th {\n",
       "        text-align: right;\n",
       "    }\n",
       "</style>\n",
       "<table border=\"1\" class=\"dataframe\">\n",
       "  <thead>\n",
       "    <tr style=\"text-align: right;\">\n",
       "      <th></th>\n",
       "      <th>Error rate</th>\n",
       "      <th>Precision</th>\n",
       "      <th>Sensitivity</th>\n",
       "      <th>Specificity</th>\n",
       "      <th>AUC</th>\n",
       "    </tr>\n",
       "  </thead>\n",
       "  <tbody>\n",
       "    <tr>\n",
       "      <th>SVM</th>\n",
       "      <td>0.183099</td>\n",
       "      <td>0.75</td>\n",
       "      <td>0.870968</td>\n",
       "      <td>0.775</td>\n",
       "      <td>0.847581</td>\n",
       "    </tr>\n",
       "  </tbody>\n",
       "</table>\n",
       "</div>"
      ],
      "text/plain": [
       "     Error rate  Precision  Sensitivity  Specificity       AUC\n",
       "SVM    0.183099       0.75     0.870968        0.775  0.847581"
      ]
     },
     "execution_count": 34,
     "metadata": {},
     "output_type": "execute_result"
    }
   ],
   "source": [
    "from sklearn.metrics import accuracy_score, confusion_matrix, roc_auc_score\n",
    "from sklearn.metrics import precision_score, log_loss\n",
    "\n",
    "columns=['Error rate', 'Precision', 'Sensitivity', 'Specificity', 'AUC']\n",
    "rows=['SVM']\n",
    "\n",
    "results=pd.DataFrame(0.0, columns=columns, index=rows) \n",
    "\n",
    "# step3: get prediction\n",
    "y_pred = SVM_clf.predict(x_test) \n",
    "#y_prob = SVM_clf.predict_proba(x_test)[:,1]\n",
    "\n",
    "confusion  = confusion_matrix(y_test, y_pred) \n",
    "results.iloc[0,0]=  1 - accuracy_score(y_test, y_pred)\n",
    "results.iloc[0,1]=  precision_score(y_test, y_pred)\n",
    "results.iloc[0,2]=  confusion[1,1]/np.sum(confusion[1,:])\n",
    "results.iloc[0,3]=  confusion[0,0]/np.sum(confusion[0,:])\n",
    "\n",
    "y_df = SVM_clf.decision_function(x_test)\n",
    "results.iloc[0, 4]=  roc_auc_score(y_test, y_df)  \n",
    "#results.iloc[0, 4]=  roc_auc_score(y_test, y_prob)     \n",
    "#results.iloc[0, 5]=  log_loss(y_test, y_prob)   \n",
    "results"
   ]
  },
  {
   "cell_type": "code",
   "execution_count": 35,
   "metadata": {},
   "outputs": [
    {
     "name": "stdout",
     "output_type": "stream",
     "text": [
      "[0.23661972 0.00140845 0.02394366 0.05774648 0.00422535 0.03098592\n",
      " 0.05774648 0.00704225]\n"
     ]
    }
   ],
   "source": [
    "from sklearn.inspection import permutation_importance\n",
    "\n",
    "# calculate permutation feature importance\n",
    "result = permutation_importance(SVM_clf, x_test, y_test, n_repeats=10, random_state=0)\n",
    "\n",
    "# get feature importances\n",
    "importances = result.importances_mean\n",
    "print(importances)"
   ]
  },
  {
   "cell_type": "markdown",
   "metadata": {
    "id": "93alf9xl2lis"
   },
   "source": [
    "**Result Interpretation**:\n",
    "..."
   ]
  },
  {
   "cell_type": "code",
   "execution_count": 17,
   "metadata": {
    "id": "-tQwSCLtbPyE"
   },
   "outputs": [
    {
     "data": {
      "text/plain": [
       "array([1, 0, 1, 0, 1, 1, 1, 1, 0, 1, 0, 0, 1, 1, 0, 1, 0, 0, 0, 0, 0, 1,\n",
       "       1, 0, 0, 0, 1, 1, 0, 0, 0, 1, 0, 1, 0, 0, 1, 1, 0, 1, 0, 0, 1, 1,\n",
       "       0, 0, 0, 0, 1, 1, 1, 0, 0, 0, 1, 1, 0, 1, 0, 1, 1, 1, 0, 0, 1, 1,\n",
       "       1, 1, 1, 1, 0])"
      ]
     },
     "execution_count": 17,
     "metadata": {},
     "output_type": "execute_result"
    }
   ],
   "source": [
    "y_pred"
   ]
  },
  {
   "cell_type": "code",
   "execution_count": 19,
   "metadata": {
    "id": "FbN9pQogbPyE"
   },
   "outputs": [
    {
     "data": {
      "image/png": "[encoded data removed]",
      "text/plain": [
       "<Figure size 640x480 with 1 Axes>"
      ]
     },
     "metadata": {},
     "output_type": "display_data"
    }
   ],
   "source": [
    "from matplotlib import pyplot as plt\n",
    "from sklearn import svm\n",
    "\n",
    "# A function to visualise the feature importance or coef\n",
    "def f_importances(coef, names):\n",
    "    imp = coef\n",
    "    imp,names = zip(*sorted(zip(imp,names)))\n",
    "    plt.barh(range(len(names)), imp, align='center')\n",
    "    plt.yticks(range(len(names)), names)\n",
    "    plt.show()\n",
    "\n",
    "features_names = ['q5_2', 'q5_3','q5_4','q5_5','q5_6','q5_7','q5_8','q5_9']\n",
    "svm = svm.SVC(kernel='linear',max_iter=10000000)\n",
    "svm.fit(x_train,y_train)\n",
    "svm.coef_\n",
    "f_importances(svm.coef_[0], features_names)"
   ]
  },
  {
   "cell_type": "markdown",
   "metadata": {
    "id": "vfBYgW3g2wCZ"
   },
   "source": [
    "**Result Interpretation**:\n",
    "..."
   ]
  },
  {
   "cell_type": "markdown",
   "metadata": {
    "id": "ZAeUAjaobPyF"
   },
   "source": [
    "## Part 4: SVM – Multi-class"
   ]
  },
  {
   "cell_type": "code",
   "execution_count": 20,
   "metadata": {
    "id": "TK1p5jMDbPyF"
   },
   "outputs": [],
   "source": [
    "from sklearn.model_selection import train_test_split\n",
    "#X: Q5_2 : Q5_9\n",
    "X=data[data.columns[7:15]]\n",
    "y=data['Q5_1']\n",
    "x_train, x_test, y_train, y_test = train_test_split(X, y, test_size=0.25, random_state=0)"
   ]
  },
  {
   "cell_type": "code",
   "execution_count": 21,
   "metadata": {
    "id": "TwF7EMDobPyG"
   },
   "outputs": [
    {
     "data": {
      "text/plain": [
       "7    128\n",
       "6     73\n",
       "5     57\n",
       "4     22\n",
       "3      1\n",
       "Name: Q5_1, dtype: int64"
      ]
     },
     "execution_count": 21,
     "metadata": {},
     "output_type": "execute_result"
    }
   ],
   "source": [
    "y.value_counts()"
   ]
  },
  {
   "cell_type": "code",
   "execution_count": 22,
   "metadata": {
    "id": "IcLI0PpFbPyG"
   },
   "outputs": [
    {
     "data": {
      "text/plain": [
       "Ellipsis"
      ]
     },
     "execution_count": 22,
     "metadata": {},
     "output_type": "execute_result"
    }
   ],
   "source": [
    "# use Pipeline and LinearSVC to define SVM_clf \n",
    "# fir the model SVM_clf\n",
    "SVM_clf = Pipeline([\n",
    "         (\"scaler\", StandardScaler(with_mean=False)), \n",
    "         (\"linear_svc\", LinearSVC(C=1, loss=\"hinge\",max_iter=1000000)), \n",
    "     ])\n",
    "SVM_clf.fit(x_train, y_train)\n",
    "\n",
    "..."
   ]
  },
  {
   "cell_type": "code",
   "execution_count": 28,
   "metadata": {},
   "outputs": [
    {
     "name": "stdout",
     "output_type": "stream",
     "text": [
      "Accuracy:  0.49295774647887325\n",
      "Precision:  0.3357394366197183\n",
      "Recall:  0.49295774647887325\n",
      "F1 score:  0.39860541589905113\n",
      "error_rate:  0.5070422535211268\n",
      "Confusion matrix:\n",
      " [[ 0  0  0  0  1]\n",
      " [ 0  0  6  0  2]\n",
      " [ 0  0  8  2  6]\n",
      " [ 0  0  3  0 12]\n",
      " [ 0  0  3  1 27]]\n"
     ]
    },
    {
     "name": "stderr",
     "output_type": "stream",
     "text": [
      "D:\\SOFTWARE INSTALLED\\ANACONDA\\lib\\site-packages\\sklearn\\metrics\\_classification.py:1344: UndefinedMetricWarning: Precision is ill-defined and being set to 0.0 in labels with no predicted samples. Use `zero_division` parameter to control this behavior.\n",
      "  _warn_prf(average, modifier, msg_start, len(result))\n"
     ]
    }
   ],
   "source": [
    "from sklearn.metrics import accuracy_score, precision_score, recall_score, f1_score, confusion_matrix\n",
    "\n",
    "# Predict on test set\n",
    "y_pred = SVM_clf.predict(x_test)\n",
    "\n",
    "# Calculate evaluation metrics\n",
    "accuracy = accuracy_score(y_test, y_pred)\n",
    "precision = precision_score(y_test, y_pred, average='weighted')\n",
    "recall = recall_score(y_test, y_pred, average='weighted')\n",
    "f1 = f1_score(y_test, y_pred, average='weighted')\n",
    "confusion_mat = confusion_matrix(y_test, y_pred)\n",
    "error_rate=1-SVM_clf.score(x_test,y_test)\n",
    "\n",
    "print(\"Accuracy: \", accuracy)\n",
    "print(\"Precision: \", precision)\n",
    "print(\"Recall: \", recall)\n",
    "print(\"F1 score: \", f1)\n",
    "print(\"error_rate: \",error_rate)\n",
    "print(\"Confusion matrix:\\n\", confusion_mat)\n"
   ]
  },
  {
   "cell_type": "code",
   "execution_count": 31,
   "metadata": {},
   "outputs": [
    {
     "name": "stdout",
     "output_type": "stream",
     "text": [
      "[ 0.05211268 -0.00140845  0.00704225  0.00140845 -0.01830986 -0.04647887\n",
      "  0.03239437 -0.01408451]\n"
     ]
    }
   ],
   "source": [
    "from sklearn.inspection import permutation_importance\n",
    "\n",
    "# calculate permutation feature importance\n",
    "result = permutation_importance(SVM_clf, x_test, y_test, n_repeats=10, random_state=0)\n",
    "\n",
    "# get feature importances\n",
    "importances = result.importances_mean\n",
    "print(importances)"
   ]
  },
  {
   "cell_type": "code",
   "execution_count": 26,
   "metadata": {
    "id": "eGuo-n2nbPyH"
   },
   "outputs": [
    {
     "name": "stdout",
     "output_type": "stream",
     "text": [
      "[7 6 7 5 7 7 7 7 5 7 5 7 7 7 7 7 6 5 5 5 5 7 7 5 5 5 7 7 5 5 7 7 7 7 7 5 7\n",
      " 7 5 7 5 7 7 7 6 7 7 7 7 7 7 5 7 5 7 7 5 7 7 7 7 7 7 5 7 7 7 7 7 7 5]\n"
     ]
    }
   ],
   "source": [
    "# step3: predic the result\n",
    "y_pred=SVM_clf.predict(x_test)\n",
    "print(y_pred)"
   ]
  },
  {
   "cell_type": "code",
   "execution_count": 27,
   "metadata": {
    "id": "hGnvf72LbPyH"
   },
   "outputs": [
    {
     "data": {
      "text/plain": [
       "0.5070422535211268"
      ]
     },
     "execution_count": 27,
     "metadata": {},
     "output_type": "execute_result"
    }
   ],
   "source": [
    "error_rate=1-SVM_clf.score(x_test,y_test)\n",
    "error_rate"
   ]
  },
  {
   "cell_type": "code",
   "execution_count": 38,
   "metadata": {
    "id": "RzA2t7d6bPyI"
   },
   "outputs": [
    {
     "ename": "OSError",
     "evalue": "Cannot save file into a non-existent directory: 'Data'",
     "output_type": "error",
     "traceback": [
      "\u001b[1;31m---------------------------------------------------------------------------\u001b[0m",
      "\u001b[1;31mOSError\u001b[0m                                   Traceback (most recent call last)",
      "Cell \u001b[1;32mIn[38], line 3\u001b[0m\n\u001b[0;32m      1\u001b[0m y_comparison\u001b[38;5;241m=\u001b[39mpd\u001b[38;5;241m.\u001b[39mDataFrame({\u001b[38;5;124m'\u001b[39m\u001b[38;5;124my_test\u001b[39m\u001b[38;5;124m'\u001b[39m: y_test,\n\u001b[0;32m      2\u001b[0m                            \u001b[38;5;124m'\u001b[39m\u001b[38;5;124my_pred\u001b[39m\u001b[38;5;124m'\u001b[39m: y_pred})\n\u001b[1;32m----> 3\u001b[0m \u001b[43mpd\u001b[49m\u001b[38;5;241;43m.\u001b[39;49m\u001b[43mDataFrame\u001b[49m\u001b[43m(\u001b[49m\u001b[43my_comparison\u001b[49m\u001b[43m)\u001b[49m\u001b[38;5;241;43m.\u001b[39;49m\u001b[43mto_csv\u001b[49m\u001b[43m(\u001b[49m\u001b[38;5;124;43m'\u001b[39;49m\u001b[38;5;124;43mData/y_comparison.csv\u001b[39;49m\u001b[38;5;124;43m'\u001b[39;49m\u001b[43m,\u001b[49m\u001b[43mindex\u001b[49m\u001b[38;5;241;43m=\u001b[39;49m\u001b[38;5;28;43;01mFalse\u001b[39;49;00m\u001b[43m)\u001b[49m\n",
      "File \u001b[1;32mD:\\SOFTWARE INSTALLED\\ANACONDA\\lib\\site-packages\\pandas\\util\\_decorators.py:211\u001b[0m, in \u001b[0;36mdeprecate_kwarg.<locals>._deprecate_kwarg.<locals>.wrapper\u001b[1;34m(*args, **kwargs)\u001b[0m\n\u001b[0;32m    209\u001b[0m     \u001b[38;5;28;01melse\u001b[39;00m:\n\u001b[0;32m    210\u001b[0m         kwargs[new_arg_name] \u001b[38;5;241m=\u001b[39m new_arg_value\n\u001b[1;32m--> 211\u001b[0m \u001b[38;5;28;01mreturn\u001b[39;00m func(\u001b[38;5;241m*\u001b[39margs, \u001b[38;5;241m*\u001b[39m\u001b[38;5;241m*\u001b[39mkwargs)\n",
      "File \u001b[1;32mD:\\SOFTWARE INSTALLED\\ANACONDA\\lib\\site-packages\\pandas\\core\\generic.py:3720\u001b[0m, in \u001b[0;36mNDFrame.to_csv\u001b[1;34m(self, path_or_buf, sep, na_rep, float_format, columns, header, index, index_label, mode, encoding, compression, quoting, quotechar, lineterminator, chunksize, date_format, doublequote, escapechar, decimal, errors, storage_options)\u001b[0m\n\u001b[0;32m   3709\u001b[0m df \u001b[38;5;241m=\u001b[39m \u001b[38;5;28mself\u001b[39m \u001b[38;5;28;01mif\u001b[39;00m \u001b[38;5;28misinstance\u001b[39m(\u001b[38;5;28mself\u001b[39m, ABCDataFrame) \u001b[38;5;28;01melse\u001b[39;00m \u001b[38;5;28mself\u001b[39m\u001b[38;5;241m.\u001b[39mto_frame()\n\u001b[0;32m   3711\u001b[0m formatter \u001b[38;5;241m=\u001b[39m DataFrameFormatter(\n\u001b[0;32m   3712\u001b[0m     frame\u001b[38;5;241m=\u001b[39mdf,\n\u001b[0;32m   3713\u001b[0m     header\u001b[38;5;241m=\u001b[39mheader,\n\u001b[1;32m   (...)\u001b[0m\n\u001b[0;32m   3717\u001b[0m     decimal\u001b[38;5;241m=\u001b[39mdecimal,\n\u001b[0;32m   3718\u001b[0m )\n\u001b[1;32m-> 3720\u001b[0m \u001b[38;5;28;01mreturn\u001b[39;00m \u001b[43mDataFrameRenderer\u001b[49m\u001b[43m(\u001b[49m\u001b[43mformatter\u001b[49m\u001b[43m)\u001b[49m\u001b[38;5;241;43m.\u001b[39;49m\u001b[43mto_csv\u001b[49m\u001b[43m(\u001b[49m\n\u001b[0;32m   3721\u001b[0m \u001b[43m    \u001b[49m\u001b[43mpath_or_buf\u001b[49m\u001b[43m,\u001b[49m\n\u001b[0;32m   3722\u001b[0m \u001b[43m    \u001b[49m\u001b[43mlineterminator\u001b[49m\u001b[38;5;241;43m=\u001b[39;49m\u001b[43mlineterminator\u001b[49m\u001b[43m,\u001b[49m\n\u001b[0;32m   3723\u001b[0m \u001b[43m    \u001b[49m\u001b[43msep\u001b[49m\u001b[38;5;241;43m=\u001b[39;49m\u001b[43msep\u001b[49m\u001b[43m,\u001b[49m\n\u001b[0;32m   3724\u001b[0m \u001b[43m    \u001b[49m\u001b[43mencoding\u001b[49m\u001b[38;5;241;43m=\u001b[39;49m\u001b[43mencoding\u001b[49m\u001b[43m,\u001b[49m\n\u001b[0;32m   3725\u001b[0m \u001b[43m    \u001b[49m\u001b[43merrors\u001b[49m\u001b[38;5;241;43m=\u001b[39;49m\u001b[43merrors\u001b[49m\u001b[43m,\u001b[49m\n\u001b[0;32m   3726\u001b[0m \u001b[43m    \u001b[49m\u001b[43mcompression\u001b[49m\u001b[38;5;241;43m=\u001b[39;49m\u001b[43mcompression\u001b[49m\u001b[43m,\u001b[49m\n\u001b[0;32m   3727\u001b[0m \u001b[43m    \u001b[49m\u001b[43mquoting\u001b[49m\u001b[38;5;241;43m=\u001b[39;49m\u001b[43mquoting\u001b[49m\u001b[43m,\u001b[49m\n\u001b[0;32m   3728\u001b[0m \u001b[43m    \u001b[49m\u001b[43mcolumns\u001b[49m\u001b[38;5;241;43m=\u001b[39;49m\u001b[43mcolumns\u001b[49m\u001b[43m,\u001b[49m\n\u001b[0;32m   3729\u001b[0m \u001b[43m    \u001b[49m\u001b[43mindex_label\u001b[49m\u001b[38;5;241;43m=\u001b[39;49m\u001b[43mindex_label\u001b[49m\u001b[43m,\u001b[49m\n\u001b[0;32m   3730\u001b[0m \u001b[43m    \u001b[49m\u001b[43mmode\u001b[49m\u001b[38;5;241;43m=\u001b[39;49m\u001b[43mmode\u001b[49m\u001b[43m,\u001b[49m\n\u001b[0;32m   3731\u001b[0m \u001b[43m    \u001b[49m\u001b[43mchunksize\u001b[49m\u001b[38;5;241;43m=\u001b[39;49m\u001b[43mchunksize\u001b[49m\u001b[43m,\u001b[49m\n\u001b[0;32m   3732\u001b[0m \u001b[43m    \u001b[49m\u001b[43mquotechar\u001b[49m\u001b[38;5;241;43m=\u001b[39;49m\u001b[43mquotechar\u001b[49m\u001b[43m,\u001b[49m\n\u001b[0;32m   3733\u001b[0m \u001b[43m    \u001b[49m\u001b[43mdate_format\u001b[49m\u001b[38;5;241;43m=\u001b[39;49m\u001b[43mdate_format\u001b[49m\u001b[43m,\u001b[49m\n\u001b[0;32m   3734\u001b[0m \u001b[43m    \u001b[49m\u001b[43mdoublequote\u001b[49m\u001b[38;5;241;43m=\u001b[39;49m\u001b[43mdoublequote\u001b[49m\u001b[43m,\u001b[49m\n\u001b[0;32m   3735\u001b[0m \u001b[43m    \u001b[49m\u001b[43mescapechar\u001b[49m\u001b[38;5;241;43m=\u001b[39;49m\u001b[43mescapechar\u001b[49m\u001b[43m,\u001b[49m\n\u001b[0;32m   3736\u001b[0m \u001b[43m    \u001b[49m\u001b[43mstorage_options\u001b[49m\u001b[38;5;241;43m=\u001b[39;49m\u001b[43mstorage_options\u001b[49m\u001b[43m,\u001b[49m\n\u001b[0;32m   3737\u001b[0m \u001b[43m\u001b[49m\u001b[43m)\u001b[49m\n",
      "File \u001b[1;32mD:\\SOFTWARE INSTALLED\\ANACONDA\\lib\\site-packages\\pandas\\util\\_decorators.py:211\u001b[0m, in \u001b[0;36mdeprecate_kwarg.<locals>._deprecate_kwarg.<locals>.wrapper\u001b[1;34m(*args, **kwargs)\u001b[0m\n\u001b[0;32m    209\u001b[0m     \u001b[38;5;28;01melse\u001b[39;00m:\n\u001b[0;32m    210\u001b[0m         kwargs[new_arg_name] \u001b[38;5;241m=\u001b[39m new_arg_value\n\u001b[1;32m--> 211\u001b[0m \u001b[38;5;28;01mreturn\u001b[39;00m func(\u001b[38;5;241m*\u001b[39margs, \u001b[38;5;241m*\u001b[39m\u001b[38;5;241m*\u001b[39mkwargs)\n",
      "File \u001b[1;32mD:\\SOFTWARE INSTALLED\\ANACONDA\\lib\\site-packages\\pandas\\io\\formats\\format.py:1189\u001b[0m, in \u001b[0;36mDataFrameRenderer.to_csv\u001b[1;34m(self, path_or_buf, encoding, sep, columns, index_label, mode, compression, quoting, quotechar, lineterminator, chunksize, date_format, doublequote, escapechar, errors, storage_options)\u001b[0m\n\u001b[0;32m   1168\u001b[0m     created_buffer \u001b[38;5;241m=\u001b[39m \u001b[38;5;28;01mFalse\u001b[39;00m\n\u001b[0;32m   1170\u001b[0m csv_formatter \u001b[38;5;241m=\u001b[39m CSVFormatter(\n\u001b[0;32m   1171\u001b[0m     path_or_buf\u001b[38;5;241m=\u001b[39mpath_or_buf,\n\u001b[0;32m   1172\u001b[0m     lineterminator\u001b[38;5;241m=\u001b[39mlineterminator,\n\u001b[1;32m   (...)\u001b[0m\n\u001b[0;32m   1187\u001b[0m     formatter\u001b[38;5;241m=\u001b[39m\u001b[38;5;28mself\u001b[39m\u001b[38;5;241m.\u001b[39mfmt,\n\u001b[0;32m   1188\u001b[0m )\n\u001b[1;32m-> 1189\u001b[0m \u001b[43mcsv_formatter\u001b[49m\u001b[38;5;241;43m.\u001b[39;49m\u001b[43msave\u001b[49m\u001b[43m(\u001b[49m\u001b[43m)\u001b[49m\n\u001b[0;32m   1191\u001b[0m \u001b[38;5;28;01mif\u001b[39;00m created_buffer:\n\u001b[0;32m   1192\u001b[0m     \u001b[38;5;28;01massert\u001b[39;00m \u001b[38;5;28misinstance\u001b[39m(path_or_buf, StringIO)\n",
      "File \u001b[1;32mD:\\SOFTWARE INSTALLED\\ANACONDA\\lib\\site-packages\\pandas\\io\\formats\\csvs.py:241\u001b[0m, in \u001b[0;36mCSVFormatter.save\u001b[1;34m(self)\u001b[0m\n\u001b[0;32m    237\u001b[0m \u001b[38;5;124;03m\"\"\"\u001b[39;00m\n\u001b[0;32m    238\u001b[0m \u001b[38;5;124;03mCreate the writer & save.\u001b[39;00m\n\u001b[0;32m    239\u001b[0m \u001b[38;5;124;03m\"\"\"\u001b[39;00m\n\u001b[0;32m    240\u001b[0m \u001b[38;5;66;03m# apply compression and byte/text conversion\u001b[39;00m\n\u001b[1;32m--> 241\u001b[0m \u001b[38;5;28;01mwith\u001b[39;00m \u001b[43mget_handle\u001b[49m\u001b[43m(\u001b[49m\n\u001b[0;32m    242\u001b[0m \u001b[43m    \u001b[49m\u001b[38;5;28;43mself\u001b[39;49m\u001b[38;5;241;43m.\u001b[39;49m\u001b[43mfilepath_or_buffer\u001b[49m\u001b[43m,\u001b[49m\n\u001b[0;32m    243\u001b[0m \u001b[43m    \u001b[49m\u001b[38;5;28;43mself\u001b[39;49m\u001b[38;5;241;43m.\u001b[39;49m\u001b[43mmode\u001b[49m\u001b[43m,\u001b[49m\n\u001b[0;32m    244\u001b[0m \u001b[43m    \u001b[49m\u001b[43mencoding\u001b[49m\u001b[38;5;241;43m=\u001b[39;49m\u001b[38;5;28;43mself\u001b[39;49m\u001b[38;5;241;43m.\u001b[39;49m\u001b[43mencoding\u001b[49m\u001b[43m,\u001b[49m\n\u001b[0;32m    245\u001b[0m \u001b[43m    \u001b[49m\u001b[43merrors\u001b[49m\u001b[38;5;241;43m=\u001b[39;49m\u001b[38;5;28;43mself\u001b[39;49m\u001b[38;5;241;43m.\u001b[39;49m\u001b[43merrors\u001b[49m\u001b[43m,\u001b[49m\n\u001b[0;32m    246\u001b[0m \u001b[43m    \u001b[49m\u001b[43mcompression\u001b[49m\u001b[38;5;241;43m=\u001b[39;49m\u001b[38;5;28;43mself\u001b[39;49m\u001b[38;5;241;43m.\u001b[39;49m\u001b[43mcompression\u001b[49m\u001b[43m,\u001b[49m\n\u001b[0;32m    247\u001b[0m \u001b[43m    \u001b[49m\u001b[43mstorage_options\u001b[49m\u001b[38;5;241;43m=\u001b[39;49m\u001b[38;5;28;43mself\u001b[39;49m\u001b[38;5;241;43m.\u001b[39;49m\u001b[43mstorage_options\u001b[49m\u001b[43m,\u001b[49m\n\u001b[0;32m    248\u001b[0m \u001b[43m\u001b[49m\u001b[43m)\u001b[49m \u001b[38;5;28;01mas\u001b[39;00m handles:\n\u001b[0;32m    249\u001b[0m \n\u001b[0;32m    250\u001b[0m     \u001b[38;5;66;03m# Note: self.encoding is irrelevant here\u001b[39;00m\n\u001b[0;32m    251\u001b[0m     \u001b[38;5;28mself\u001b[39m\u001b[38;5;241m.\u001b[39mwriter \u001b[38;5;241m=\u001b[39m csvlib\u001b[38;5;241m.\u001b[39mwriter(\n\u001b[0;32m    252\u001b[0m         handles\u001b[38;5;241m.\u001b[39mhandle,\n\u001b[0;32m    253\u001b[0m         lineterminator\u001b[38;5;241m=\u001b[39m\u001b[38;5;28mself\u001b[39m\u001b[38;5;241m.\u001b[39mlineterminator,\n\u001b[1;32m   (...)\u001b[0m\n\u001b[0;32m    258\u001b[0m         quotechar\u001b[38;5;241m=\u001b[39m\u001b[38;5;28mself\u001b[39m\u001b[38;5;241m.\u001b[39mquotechar,\n\u001b[0;32m    259\u001b[0m     )\n\u001b[0;32m    261\u001b[0m     \u001b[38;5;28mself\u001b[39m\u001b[38;5;241m.\u001b[39m_save()\n",
      "File \u001b[1;32mD:\\SOFTWARE INSTALLED\\ANACONDA\\lib\\site-packages\\pandas\\io\\common.py:734\u001b[0m, in \u001b[0;36mget_handle\u001b[1;34m(path_or_buf, mode, encoding, compression, memory_map, is_text, errors, storage_options)\u001b[0m\n\u001b[0;32m    732\u001b[0m \u001b[38;5;66;03m# Only for write methods\u001b[39;00m\n\u001b[0;32m    733\u001b[0m \u001b[38;5;28;01mif\u001b[39;00m \u001b[38;5;124m\"\u001b[39m\u001b[38;5;124mr\u001b[39m\u001b[38;5;124m\"\u001b[39m \u001b[38;5;129;01mnot\u001b[39;00m \u001b[38;5;129;01min\u001b[39;00m mode \u001b[38;5;129;01mand\u001b[39;00m is_path:\n\u001b[1;32m--> 734\u001b[0m     \u001b[43mcheck_parent_directory\u001b[49m\u001b[43m(\u001b[49m\u001b[38;5;28;43mstr\u001b[39;49m\u001b[43m(\u001b[49m\u001b[43mhandle\u001b[49m\u001b[43m)\u001b[49m\u001b[43m)\u001b[49m\n\u001b[0;32m    736\u001b[0m \u001b[38;5;28;01mif\u001b[39;00m compression:\n\u001b[0;32m    737\u001b[0m     \u001b[38;5;28;01mif\u001b[39;00m compression \u001b[38;5;241m!=\u001b[39m \u001b[38;5;124m\"\u001b[39m\u001b[38;5;124mzstd\u001b[39m\u001b[38;5;124m\"\u001b[39m:\n\u001b[0;32m    738\u001b[0m         \u001b[38;5;66;03m# compression libraries do not like an explicit text-mode\u001b[39;00m\n",
      "File \u001b[1;32mD:\\SOFTWARE INSTALLED\\ANACONDA\\lib\\site-packages\\pandas\\io\\common.py:597\u001b[0m, in \u001b[0;36mcheck_parent_directory\u001b[1;34m(path)\u001b[0m\n\u001b[0;32m    595\u001b[0m parent \u001b[38;5;241m=\u001b[39m Path(path)\u001b[38;5;241m.\u001b[39mparent\n\u001b[0;32m    596\u001b[0m \u001b[38;5;28;01mif\u001b[39;00m \u001b[38;5;129;01mnot\u001b[39;00m parent\u001b[38;5;241m.\u001b[39mis_dir():\n\u001b[1;32m--> 597\u001b[0m     \u001b[38;5;28;01mraise\u001b[39;00m \u001b[38;5;167;01mOSError\u001b[39;00m(\u001b[38;5;124mrf\u001b[39m\u001b[38;5;124m\"\u001b[39m\u001b[38;5;124mCannot save file into a non-existent directory: \u001b[39m\u001b[38;5;124m'\u001b[39m\u001b[38;5;132;01m{\u001b[39;00mparent\u001b[38;5;132;01m}\u001b[39;00m\u001b[38;5;124m'\u001b[39m\u001b[38;5;124m\"\u001b[39m)\n",
      "\u001b[1;31mOSError\u001b[0m: Cannot save file into a non-existent directory: 'Data'"
     ]
    }
   ],
   "source": [
    "y_comparison=pd.DataFrame({'y_test': y_test,\n",
    "                           'y_pred': y_pred})\n",
    "pd.DataFrame(y_comparison).to_csv('Data/y_comparison.csv',index=False)"
   ]
  },
  {
   "cell_type": "markdown",
   "metadata": {
    "id": "1kveGZVhbPyI"
   },
   "source": [
    "## Non-linear SVC"
   ]
  },
  {
   "cell_type": "code",
   "execution_count": 28,
   "metadata": {
    "id": "eq4zY-HwbPyJ"
   },
   "outputs": [],
   "source": [
    "from sklearn.model_selection import train_test_split\n",
    "#X: Q5_2 : Q5_9\n",
    "X=data[data.columns[7:15]]\n",
    "y=data['stay']\n",
    "x_train, x_test, y_train, y_test = train_test_split(X, y, test_size=0.25, random_state=0)"
   ]
  },
  {
   "cell_type": "code",
   "execution_count": 29,
   "metadata": {
    "id": "88DbcJaLbPyJ"
   },
   "outputs": [
    {
     "data": {
      "text/html": [
       "<style>#sk-container-id-3 {color: black;background-color: white;}#sk-container-id-3 pre{padding: 0;}#sk-container-id-3 div.sk-toggleable {background-color: white;}#sk-container-id-3 label.sk-toggleable__label {cursor: pointer;display: block;width: 100%;margin-bottom: 0;padding: 0.3em;box-sizing: border-box;text-align: center;}#sk-container-id-3 label.sk-toggleable__label-arrow:before {content: \"▸\";float: left;margin-right: 0.25em;color: #696969;}#sk-container-id-3 label.sk-toggleable__label-arrow:hover:before {color: black;}#sk-container-id-3 div.sk-estimator:hover label.sk-toggleable__label-arrow:before {color: black;}#sk-container-id-3 div.sk-toggleable__content {max-height: 0;max-width: 0;overflow: hidden;text-align: left;background-color: #f0f8ff;}#sk-container-id-3 div.sk-toggleable__content pre {margin: 0.2em;color: black;border-radius: 0.25em;background-color: #f0f8ff;}#sk-container-id-3 input.sk-toggleable__control:checked~div.sk-toggleable__content {max-height: 200px;max-width: 100%;overflow: auto;}#sk-container-id-3 input.sk-toggleable__control:checked~label.sk-toggleable__label-arrow:before {content: \"▾\";}#sk-container-id-3 div.sk-estimator input.sk-toggleable__control:checked~label.sk-toggleable__label {background-color: #d4ebff;}#sk-container-id-3 div.sk-label input.sk-toggleable__control:checked~label.sk-toggleable__label {background-color: #d4ebff;}#sk-container-id-3 input.sk-hidden--visually {border: 0;clip: rect(1px 1px 1px 1px);clip: rect(1px, 1px, 1px, 1px);height: 1px;margin: -1px;overflow: hidden;padding: 0;position: absolute;width: 1px;}#sk-container-id-3 div.sk-estimator {font-family: monospace;background-color: #f0f8ff;border: 1px dotted black;border-radius: 0.25em;box-sizing: border-box;margin-bottom: 0.5em;}#sk-container-id-3 div.sk-estimator:hover {background-color: #d4ebff;}#sk-container-id-3 div.sk-parallel-item::after {content: \"\";width: 100%;border-bottom: 1px solid gray;flex-grow: 1;}#sk-container-id-3 div.sk-label:hover label.sk-toggleable__label {background-color: #d4ebff;}#sk-container-id-3 div.sk-serial::before {content: \"\";position: absolute;border-left: 1px solid gray;box-sizing: border-box;top: 0;bottom: 0;left: 50%;z-index: 0;}#sk-container-id-3 div.sk-serial {display: flex;flex-direction: column;align-items: center;background-color: white;padding-right: 0.2em;padding-left: 0.2em;position: relative;}#sk-container-id-3 div.sk-item {position: relative;z-index: 1;}#sk-container-id-3 div.sk-parallel {display: flex;align-items: stretch;justify-content: center;background-color: white;position: relative;}#sk-container-id-3 div.sk-item::before, #sk-container-id-3 div.sk-parallel-item::before {content: \"\";position: absolute;border-left: 1px solid gray;box-sizing: border-box;top: 0;bottom: 0;left: 50%;z-index: -1;}#sk-container-id-3 div.sk-parallel-item {display: flex;flex-direction: column;z-index: 1;position: relative;background-color: white;}#sk-container-id-3 div.sk-parallel-item:first-child::after {align-self: flex-end;width: 50%;}#sk-container-id-3 div.sk-parallel-item:last-child::after {align-self: flex-start;width: 50%;}#sk-container-id-3 div.sk-parallel-item:only-child::after {width: 0;}#sk-container-id-3 div.sk-dashed-wrapped {border: 1px dashed gray;margin: 0 0.4em 0.5em 0.4em;box-sizing: border-box;padding-bottom: 0.4em;background-color: white;}#sk-container-id-3 div.sk-label label {font-family: monospace;font-weight: bold;display: inline-block;line-height: 1.2em;}#sk-container-id-3 div.sk-label-container {text-align: center;}#sk-container-id-3 div.sk-container {/* jupyter's `normalize.less` sets `[hidden] { display: none; }` but bootstrap.min.css set `[hidden] { display: none !important; }` so we also need the `!important` here to be able to override the default hidden behavior on the sphinx rendered scikit-learn.org. See: https://github.com/scikit-learn/scikit-learn/issues/21755 */display: inline-block !important;position: relative;}#sk-container-id-3 div.sk-text-repr-fallback {display: none;}</style><div id=\"sk-container-id-3\" class=\"sk-top-container\"><div class=\"sk-text-repr-fallback\"><pre>Pipeline(steps=[(&#x27;scaler&#x27;, StandardScaler()),\n",
       "                (&#x27;svm_clf&#x27;, SVC(C=5, coef0=1, kernel=&#x27;poly&#x27;))])</pre><b>In a Jupyter environment, please rerun this cell to show the HTML representation or trust the notebook. <br />On GitHub, the HTML representation is unable to render, please try loading this page with nbviewer.org.</b></div><div class=\"sk-container\" hidden><div class=\"sk-item sk-dashed-wrapped\"><div class=\"sk-label-container\"><div class=\"sk-label sk-toggleable\"><input class=\"sk-toggleable__control sk-hidden--visually\" id=\"sk-estimator-id-7\" type=\"checkbox\" ><label for=\"sk-estimator-id-7\" class=\"sk-toggleable__label sk-toggleable__label-arrow\">Pipeline</label><div class=\"sk-toggleable__content\"><pre>Pipeline(steps=[(&#x27;scaler&#x27;, StandardScaler()),\n",
       "                (&#x27;svm_clf&#x27;, SVC(C=5, coef0=1, kernel=&#x27;poly&#x27;))])</pre></div></div></div><div class=\"sk-serial\"><div class=\"sk-item\"><div class=\"sk-estimator sk-toggleable\"><input class=\"sk-toggleable__control sk-hidden--visually\" id=\"sk-estimator-id-8\" type=\"checkbox\" ><label for=\"sk-estimator-id-8\" class=\"sk-toggleable__label sk-toggleable__label-arrow\">StandardScaler</label><div class=\"sk-toggleable__content\"><pre>StandardScaler()</pre></div></div></div><div class=\"sk-item\"><div class=\"sk-estimator sk-toggleable\"><input class=\"sk-toggleable__control sk-hidden--visually\" id=\"sk-estimator-id-9\" type=\"checkbox\" ><label for=\"sk-estimator-id-9\" class=\"sk-toggleable__label sk-toggleable__label-arrow\">SVC</label><div class=\"sk-toggleable__content\"><pre>SVC(C=5, coef0=1, kernel=&#x27;poly&#x27;)</pre></div></div></div></div></div></div></div>"
      ],
      "text/plain": [
       "Pipeline(steps=[('scaler', StandardScaler()),\n",
       "                ('svm_clf', SVC(C=5, coef0=1, kernel='poly'))])"
      ]
     },
     "execution_count": 29,
     "metadata": {},
     "output_type": "execute_result"
    }
   ],
   "source": [
    "# We use kernel = \"poly\" to do polynominal \n",
    "\n",
    "# use Pipeline and SVC to define poly_kernel_SVM_clf  \n",
    "# fit the model SVM_clf\n",
    "...\n",
    "from sklearn.svm import SVC\n",
    "poly_kernel_svm_clf = Pipeline([ \n",
    "                  (\"scaler\", StandardScaler()),\n",
    "                  (\"svm_clf\", SVC(kernel=\"poly\", degree=3, coef0=1, C=5))  ])\n",
    "poly_kernel_svm_clf.fit(X, y)\n",
    "\n",
    "# fit the SVM classifier to the training data\n",
    "\n"
   ]
  },
  {
   "cell_type": "code",
   "execution_count": 30,
   "metadata": {
    "id": "E6mpCry3bPyJ"
   },
   "outputs": [
    {
     "name": "stdout",
     "output_type": "stream",
     "text": [
      "[1 0 1 1 0 0 1 1 0 1 0 0 0 1 0 1 1 1 0 0 0 1 0 0 0 0 1 1 0 0 0 1 0 1 0 0 1\n",
      " 1 0 1 1 0 1 1 0 0 0 0 0 1 1 0 0 0 1 1 0 1 0 1 1 1 0 0 0 1 1 1 1 1 0]\n"
     ]
    }
   ],
   "source": [
    "y_pred = poly_kernel_svm_clf.predict(x_test) \n",
    "print(y_pred)"
   ]
  },
  {
   "cell_type": "code",
   "execution_count": 31,
   "metadata": {
    "id": "5O31AnU7bPyK"
   },
   "outputs": [
    {
     "data": {
      "text/plain": [
       "0.04225352112676062"
      ]
     },
     "execution_count": 31,
     "metadata": {},
     "output_type": "execute_result"
    }
   ],
   "source": [
    "error_rate=1-poly_kernel_svm_clf.score(x_test,y_test)\n",
    "error_rate"
   ]
  },
  {
   "cell_type": "code",
   "execution_count": 34,
   "metadata": {
    "id": "d0LYQjrwbPyK",
    "scrolled": true
   },
   "outputs": [
    {
     "data": {
      "text/html": [
       "<div>\n",
       "<style scoped>\n",
       "    .dataframe tbody tr th:only-of-type {\n",
       "        vertical-align: middle;\n",
       "    }\n",
       "\n",
       "    .dataframe tbody tr th {\n",
       "        vertical-align: top;\n",
       "    }\n",
       "\n",
       "    .dataframe thead th {\n",
       "        text-align: right;\n",
       "    }\n",
       "</style>\n",
       "<table border=\"1\" class=\"dataframe\">\n",
       "  <thead>\n",
       "    <tr style=\"text-align: right;\">\n",
       "      <th></th>\n",
       "      <th>Error rate</th>\n",
       "      <th>Precision</th>\n",
       "      <th>Sensitivity</th>\n",
       "      <th>Specificity</th>\n",
       "      <th>AUC</th>\n",
       "    </tr>\n",
       "  </thead>\n",
       "  <tbody>\n",
       "    <tr>\n",
       "      <th>SVM</th>\n",
       "      <td>0.042254</td>\n",
       "      <td>0.911765</td>\n",
       "      <td>1.0</td>\n",
       "      <td>0.925</td>\n",
       "      <td>0.979839</td>\n",
       "    </tr>\n",
       "  </tbody>\n",
       "</table>\n",
       "</div>"
      ],
      "text/plain": [
       "     Error rate  Precision  Sensitivity  Specificity       AUC\n",
       "SVM    0.042254   0.911765          1.0        0.925  0.979839"
      ]
     },
     "execution_count": 34,
     "metadata": {},
     "output_type": "execute_result"
    }
   ],
   "source": [
    "from sklearn.metrics import accuracy_score, confusion_matrix, roc_auc_score\n",
    "from sklearn.metrics import precision_score, log_loss\n",
    "\n",
    "columns=['Error rate','Precision', 'Sensitivity', 'Specificity',  'AUC']\n",
    "rows=['SVM']\n",
    "\n",
    "results=pd.DataFrame(0.0, columns=columns, index=rows) \n",
    "\n",
    "\n",
    "y_pred = poly_kernel_svm_clf.predict(x_test) \n",
    "#y_prob = SVM_clf.predict_proba(x_test)[:,1]\n",
    "\n",
    "confusion  = confusion_matrix(y_test, y_pred) \n",
    "results.iloc[0,0]=  1 - accuracy_score(y_test, y_pred)\n",
    "results.iloc[0,1]=  precision_score(y_test, y_pred)\n",
    "results.iloc[0,2]=  confusion[1,1]/np.sum(confusion[1,:])\n",
    "results.iloc[0,3]=  confusion[0,0]/np.sum(confusion[0,:])\n",
    "\n",
    "y_df = poly_kernel_svm_clf.decision_function(x_test)\n",
    "results.iloc[0, 4]=  roc_auc_score(y_test, y_df)  \n",
    "\n",
    "results"
   ]
  },
  {
   "cell_type": "markdown",
   "metadata": {
    "id": "T33ccHhFbPyK"
   },
   "source": [
    "## Continuous Y"
   ]
  },
  {
   "cell_type": "code",
   "execution_count": 35,
   "metadata": {
    "id": "G6r1B72nbPyK"
   },
   "outputs": [],
   "source": [
    "from sklearn.model_selection import train_test_split\n",
    "#X: Q5_2 : Q5_9\n",
    "X=data[data.columns[7:15]]\n",
    "y=data['Q5_1']\n",
    "x_train, x_test, y_train, y_test = train_test_split(X, y, test_size=0.25, random_state=0)"
   ]
  },
  {
   "cell_type": "code",
   "execution_count": 36,
   "metadata": {
    "id": "GhhR3iZ0bPyL"
   },
   "outputs": [
    {
     "data": {
      "text/html": [
       "<style>#sk-container-id-4 {color: black;background-color: white;}#sk-container-id-4 pre{padding: 0;}#sk-container-id-4 div.sk-toggleable {background-color: white;}#sk-container-id-4 label.sk-toggleable__label {cursor: pointer;display: block;width: 100%;margin-bottom: 0;padding: 0.3em;box-sizing: border-box;text-align: center;}#sk-container-id-4 label.sk-toggleable__label-arrow:before {content: \"▸\";float: left;margin-right: 0.25em;color: #696969;}#sk-container-id-4 label.sk-toggleable__label-arrow:hover:before {color: black;}#sk-container-id-4 div.sk-estimator:hover label.sk-toggleable__label-arrow:before {color: black;}#sk-container-id-4 div.sk-toggleable__content {max-height: 0;max-width: 0;overflow: hidden;text-align: left;background-color: #f0f8ff;}#sk-container-id-4 div.sk-toggleable__content pre {margin: 0.2em;color: black;border-radius: 0.25em;background-color: #f0f8ff;}#sk-container-id-4 input.sk-toggleable__control:checked~div.sk-toggleable__content {max-height: 200px;max-width: 100%;overflow: auto;}#sk-container-id-4 input.sk-toggleable__control:checked~label.sk-toggleable__label-arrow:before {content: \"▾\";}#sk-container-id-4 div.sk-estimator input.sk-toggleable__control:checked~label.sk-toggleable__label {background-color: #d4ebff;}#sk-container-id-4 div.sk-label input.sk-toggleable__control:checked~label.sk-toggleable__label {background-color: #d4ebff;}#sk-container-id-4 input.sk-hidden--visually {border: 0;clip: rect(1px 1px 1px 1px);clip: rect(1px, 1px, 1px, 1px);height: 1px;margin: -1px;overflow: hidden;padding: 0;position: absolute;width: 1px;}#sk-container-id-4 div.sk-estimator {font-family: monospace;background-color: #f0f8ff;border: 1px dotted black;border-radius: 0.25em;box-sizing: border-box;margin-bottom: 0.5em;}#sk-container-id-4 div.sk-estimator:hover {background-color: #d4ebff;}#sk-container-id-4 div.sk-parallel-item::after {content: \"\";width: 100%;border-bottom: 1px solid gray;flex-grow: 1;}#sk-container-id-4 div.sk-label:hover label.sk-toggleable__label {background-color: #d4ebff;}#sk-container-id-4 div.sk-serial::before {content: \"\";position: absolute;border-left: 1px solid gray;box-sizing: border-box;top: 0;bottom: 0;left: 50%;z-index: 0;}#sk-container-id-4 div.sk-serial {display: flex;flex-direction: column;align-items: center;background-color: white;padding-right: 0.2em;padding-left: 0.2em;position: relative;}#sk-container-id-4 div.sk-item {position: relative;z-index: 1;}#sk-container-id-4 div.sk-parallel {display: flex;align-items: stretch;justify-content: center;background-color: white;position: relative;}#sk-container-id-4 div.sk-item::before, #sk-container-id-4 div.sk-parallel-item::before {content: \"\";position: absolute;border-left: 1px solid gray;box-sizing: border-box;top: 0;bottom: 0;left: 50%;z-index: -1;}#sk-container-id-4 div.sk-parallel-item {display: flex;flex-direction: column;z-index: 1;position: relative;background-color: white;}#sk-container-id-4 div.sk-parallel-item:first-child::after {align-self: flex-end;width: 50%;}#sk-container-id-4 div.sk-parallel-item:last-child::after {align-self: flex-start;width: 50%;}#sk-container-id-4 div.sk-parallel-item:only-child::after {width: 0;}#sk-container-id-4 div.sk-dashed-wrapped {border: 1px dashed gray;margin: 0 0.4em 0.5em 0.4em;box-sizing: border-box;padding-bottom: 0.4em;background-color: white;}#sk-container-id-4 div.sk-label label {font-family: monospace;font-weight: bold;display: inline-block;line-height: 1.2em;}#sk-container-id-4 div.sk-label-container {text-align: center;}#sk-container-id-4 div.sk-container {/* jupyter's `normalize.less` sets `[hidden] { display: none; }` but bootstrap.min.css set `[hidden] { display: none !important; }` so we also need the `!important` here to be able to override the default hidden behavior on the sphinx rendered scikit-learn.org. See: https://github.com/scikit-learn/scikit-learn/issues/21755 */display: inline-block !important;position: relative;}#sk-container-id-4 div.sk-text-repr-fallback {display: none;}</style><div id=\"sk-container-id-4\" class=\"sk-top-container\"><div class=\"sk-text-repr-fallback\"><pre>Pipeline(steps=[(&#x27;scaler&#x27;, StandardScaler(with_mean=False)),\n",
       "                (&#x27;svr&#x27;, SVR(epsilon=0.2))])</pre><b>In a Jupyter environment, please rerun this cell to show the HTML representation or trust the notebook. <br />On GitHub, the HTML representation is unable to render, please try loading this page with nbviewer.org.</b></div><div class=\"sk-container\" hidden><div class=\"sk-item sk-dashed-wrapped\"><div class=\"sk-label-container\"><div class=\"sk-label sk-toggleable\"><input class=\"sk-toggleable__control sk-hidden--visually\" id=\"sk-estimator-id-10\" type=\"checkbox\" ><label for=\"sk-estimator-id-10\" class=\"sk-toggleable__label sk-toggleable__label-arrow\">Pipeline</label><div class=\"sk-toggleable__content\"><pre>Pipeline(steps=[(&#x27;scaler&#x27;, StandardScaler(with_mean=False)),\n",
       "                (&#x27;svr&#x27;, SVR(epsilon=0.2))])</pre></div></div></div><div class=\"sk-serial\"><div class=\"sk-item\"><div class=\"sk-estimator sk-toggleable\"><input class=\"sk-toggleable__control sk-hidden--visually\" id=\"sk-estimator-id-11\" type=\"checkbox\" ><label for=\"sk-estimator-id-11\" class=\"sk-toggleable__label sk-toggleable__label-arrow\">StandardScaler</label><div class=\"sk-toggleable__content\"><pre>StandardScaler(with_mean=False)</pre></div></div></div><div class=\"sk-item\"><div class=\"sk-estimator sk-toggleable\"><input class=\"sk-toggleable__control sk-hidden--visually\" id=\"sk-estimator-id-12\" type=\"checkbox\" ><label for=\"sk-estimator-id-12\" class=\"sk-toggleable__label sk-toggleable__label-arrow\">SVR</label><div class=\"sk-toggleable__content\"><pre>SVR(epsilon=0.2)</pre></div></div></div></div></div></div></div>"
      ],
      "text/plain": [
       "Pipeline(steps=[('scaler', StandardScaler(with_mean=False)),\n",
       "                ('svr', SVR(epsilon=0.2))])"
      ]
     },
     "execution_count": 36,
     "metadata": {},
     "output_type": "execute_result"
    }
   ],
   "source": [
    "# use Pipeline and SVR to define the model SVR\n",
    "# fit the model SVR\n",
    "...\n",
    "from sklearn.preprocessing import StandardScaler\n",
    "from sklearn.svm import SVR\n",
    "\n",
    "SVR = Pipeline([\n",
    "         (\"scaler\", StandardScaler(with_mean=False)), \n",
    "         ('svr', SVR(epsilon=0.2)), \n",
    "     ])\n",
    "SVR.fit(x_train, y_train)\n",
    "\n",
    "\n",
    "\n"
   ]
  },
  {
   "cell_type": "code",
   "execution_count": 37,
   "metadata": {
    "id": "wzsu1XSgbPyL"
   },
   "outputs": [],
   "source": [
    "y_pred_reg=SVR.predict(x_test)"
   ]
  },
  {
   "cell_type": "code",
   "execution_count": 38,
   "metadata": {
    "id": "CpJJJUa7bPyL"
   },
   "outputs": [
    {
     "ename": "OSError",
     "evalue": "Cannot save file into a non-existent directory: 'Data'",
     "output_type": "error",
     "traceback": [
      "\u001b[1;31m---------------------------------------------------------------------------\u001b[0m",
      "\u001b[1;31mOSError\u001b[0m                                   Traceback (most recent call last)",
      "Cell \u001b[1;32mIn[38], line 4\u001b[0m\n\u001b[0;32m      1\u001b[0m y_comparison\u001b[38;5;241m=\u001b[39mpd\u001b[38;5;241m.\u001b[39mDataFrame({\u001b[38;5;124m'\u001b[39m\u001b[38;5;124my_test\u001b[39m\u001b[38;5;124m'\u001b[39m: y_test,\n\u001b[0;32m      2\u001b[0m                            \u001b[38;5;124m'\u001b[39m\u001b[38;5;124my_pred\u001b[39m\u001b[38;5;124m'\u001b[39m: y_pred,\n\u001b[0;32m      3\u001b[0m                            \u001b[38;5;124m'\u001b[39m\u001b[38;5;124my_pred_reg\u001b[39m\u001b[38;5;124m'\u001b[39m: y_pred_reg})\n\u001b[1;32m----> 4\u001b[0m \u001b[43mpd\u001b[49m\u001b[38;5;241;43m.\u001b[39;49m\u001b[43mDataFrame\u001b[49m\u001b[43m(\u001b[49m\u001b[43my_comparison\u001b[49m\u001b[43m)\u001b[49m\u001b[38;5;241;43m.\u001b[39;49m\u001b[43mto_csv\u001b[49m\u001b[43m(\u001b[49m\u001b[38;5;124;43m'\u001b[39;49m\u001b[38;5;124;43mData/y_comparison.csv\u001b[39;49m\u001b[38;5;124;43m'\u001b[39;49m\u001b[43m,\u001b[49m\u001b[43mindex\u001b[49m\u001b[38;5;241;43m=\u001b[39;49m\u001b[38;5;28;43;01mFalse\u001b[39;49;00m\u001b[43m)\u001b[49m\n",
      "File \u001b[1;32mD:\\SOFTWARE INSTALLED\\ANACONDA\\lib\\site-packages\\pandas\\util\\_decorators.py:211\u001b[0m, in \u001b[0;36mdeprecate_kwarg.<locals>._deprecate_kwarg.<locals>.wrapper\u001b[1;34m(*args, **kwargs)\u001b[0m\n\u001b[0;32m    209\u001b[0m     \u001b[38;5;28;01melse\u001b[39;00m:\n\u001b[0;32m    210\u001b[0m         kwargs[new_arg_name] \u001b[38;5;241m=\u001b[39m new_arg_value\n\u001b[1;32m--> 211\u001b[0m \u001b[38;5;28;01mreturn\u001b[39;00m func(\u001b[38;5;241m*\u001b[39margs, \u001b[38;5;241m*\u001b[39m\u001b[38;5;241m*\u001b[39mkwargs)\n",
      "File \u001b[1;32mD:\\SOFTWARE INSTALLED\\ANACONDA\\lib\\site-packages\\pandas\\core\\generic.py:3720\u001b[0m, in \u001b[0;36mNDFrame.to_csv\u001b[1;34m(self, path_or_buf, sep, na_rep, float_format, columns, header, index, index_label, mode, encoding, compression, quoting, quotechar, lineterminator, chunksize, date_format, doublequote, escapechar, decimal, errors, storage_options)\u001b[0m\n\u001b[0;32m   3709\u001b[0m df \u001b[38;5;241m=\u001b[39m \u001b[38;5;28mself\u001b[39m \u001b[38;5;28;01mif\u001b[39;00m \u001b[38;5;28misinstance\u001b[39m(\u001b[38;5;28mself\u001b[39m, ABCDataFrame) \u001b[38;5;28;01melse\u001b[39;00m \u001b[38;5;28mself\u001b[39m\u001b[38;5;241m.\u001b[39mto_frame()\n\u001b[0;32m   3711\u001b[0m formatter \u001b[38;5;241m=\u001b[39m DataFrameFormatter(\n\u001b[0;32m   3712\u001b[0m     frame\u001b[38;5;241m=\u001b[39mdf,\n\u001b[0;32m   3713\u001b[0m     header\u001b[38;5;241m=\u001b[39mheader,\n\u001b[1;32m   (...)\u001b[0m\n\u001b[0;32m   3717\u001b[0m     decimal\u001b[38;5;241m=\u001b[39mdecimal,\n\u001b[0;32m   3718\u001b[0m )\n\u001b[1;32m-> 3720\u001b[0m \u001b[38;5;28;01mreturn\u001b[39;00m \u001b[43mDataFrameRenderer\u001b[49m\u001b[43m(\u001b[49m\u001b[43mformatter\u001b[49m\u001b[43m)\u001b[49m\u001b[38;5;241;43m.\u001b[39;49m\u001b[43mto_csv\u001b[49m\u001b[43m(\u001b[49m\n\u001b[0;32m   3721\u001b[0m \u001b[43m    \u001b[49m\u001b[43mpath_or_buf\u001b[49m\u001b[43m,\u001b[49m\n\u001b[0;32m   3722\u001b[0m \u001b[43m    \u001b[49m\u001b[43mlineterminator\u001b[49m\u001b[38;5;241;43m=\u001b[39;49m\u001b[43mlineterminator\u001b[49m\u001b[43m,\u001b[49m\n\u001b[0;32m   3723\u001b[0m \u001b[43m    \u001b[49m\u001b[43msep\u001b[49m\u001b[38;5;241;43m=\u001b[39;49m\u001b[43msep\u001b[49m\u001b[43m,\u001b[49m\n\u001b[0;32m   3724\u001b[0m \u001b[43m    \u001b[49m\u001b[43mencoding\u001b[49m\u001b[38;5;241;43m=\u001b[39;49m\u001b[43mencoding\u001b[49m\u001b[43m,\u001b[49m\n\u001b[0;32m   3725\u001b[0m \u001b[43m    \u001b[49m\u001b[43merrors\u001b[49m\u001b[38;5;241;43m=\u001b[39;49m\u001b[43merrors\u001b[49m\u001b[43m,\u001b[49m\n\u001b[0;32m   3726\u001b[0m \u001b[43m    \u001b[49m\u001b[43mcompression\u001b[49m\u001b[38;5;241;43m=\u001b[39;49m\u001b[43mcompression\u001b[49m\u001b[43m,\u001b[49m\n\u001b[0;32m   3727\u001b[0m \u001b[43m    \u001b[49m\u001b[43mquoting\u001b[49m\u001b[38;5;241;43m=\u001b[39;49m\u001b[43mquoting\u001b[49m\u001b[43m,\u001b[49m\n\u001b[0;32m   3728\u001b[0m \u001b[43m    \u001b[49m\u001b[43mcolumns\u001b[49m\u001b[38;5;241;43m=\u001b[39;49m\u001b[43mcolumns\u001b[49m\u001b[43m,\u001b[49m\n\u001b[0;32m   3729\u001b[0m \u001b[43m    \u001b[49m\u001b[43mindex_label\u001b[49m\u001b[38;5;241;43m=\u001b[39;49m\u001b[43mindex_label\u001b[49m\u001b[43m,\u001b[49m\n\u001b[0;32m   3730\u001b[0m \u001b[43m    \u001b[49m\u001b[43mmode\u001b[49m\u001b[38;5;241;43m=\u001b[39;49m\u001b[43mmode\u001b[49m\u001b[43m,\u001b[49m\n\u001b[0;32m   3731\u001b[0m \u001b[43m    \u001b[49m\u001b[43mchunksize\u001b[49m\u001b[38;5;241;43m=\u001b[39;49m\u001b[43mchunksize\u001b[49m\u001b[43m,\u001b[49m\n\u001b[0;32m   3732\u001b[0m \u001b[43m    \u001b[49m\u001b[43mquotechar\u001b[49m\u001b[38;5;241;43m=\u001b[39;49m\u001b[43mquotechar\u001b[49m\u001b[43m,\u001b[49m\n\u001b[0;32m   3733\u001b[0m \u001b[43m    \u001b[49m\u001b[43mdate_format\u001b[49m\u001b[38;5;241;43m=\u001b[39;49m\u001b[43mdate_format\u001b[49m\u001b[43m,\u001b[49m\n\u001b[0;32m   3734\u001b[0m \u001b[43m    \u001b[49m\u001b[43mdoublequote\u001b[49m\u001b[38;5;241;43m=\u001b[39;49m\u001b[43mdoublequote\u001b[49m\u001b[43m,\u001b[49m\n\u001b[0;32m   3735\u001b[0m \u001b[43m    \u001b[49m\u001b[43mescapechar\u001b[49m\u001b[38;5;241;43m=\u001b[39;49m\u001b[43mescapechar\u001b[49m\u001b[43m,\u001b[49m\n\u001b[0;32m   3736\u001b[0m \u001b[43m    \u001b[49m\u001b[43mstorage_options\u001b[49m\u001b[38;5;241;43m=\u001b[39;49m\u001b[43mstorage_options\u001b[49m\u001b[43m,\u001b[49m\n\u001b[0;32m   3737\u001b[0m \u001b[43m\u001b[49m\u001b[43m)\u001b[49m\n",
      "File \u001b[1;32mD:\\SOFTWARE INSTALLED\\ANACONDA\\lib\\site-packages\\pandas\\util\\_decorators.py:211\u001b[0m, in \u001b[0;36mdeprecate_kwarg.<locals>._deprecate_kwarg.<locals>.wrapper\u001b[1;34m(*args, **kwargs)\u001b[0m\n\u001b[0;32m    209\u001b[0m     \u001b[38;5;28;01melse\u001b[39;00m:\n\u001b[0;32m    210\u001b[0m         kwargs[new_arg_name] \u001b[38;5;241m=\u001b[39m new_arg_value\n\u001b[1;32m--> 211\u001b[0m \u001b[38;5;28;01mreturn\u001b[39;00m func(\u001b[38;5;241m*\u001b[39margs, \u001b[38;5;241m*\u001b[39m\u001b[38;5;241m*\u001b[39mkwargs)\n",
      "File \u001b[1;32mD:\\SOFTWARE INSTALLED\\ANACONDA\\lib\\site-packages\\pandas\\io\\formats\\format.py:1189\u001b[0m, in \u001b[0;36mDataFrameRenderer.to_csv\u001b[1;34m(self, path_or_buf, encoding, sep, columns, index_label, mode, compression, quoting, quotechar, lineterminator, chunksize, date_format, doublequote, escapechar, errors, storage_options)\u001b[0m\n\u001b[0;32m   1168\u001b[0m     created_buffer \u001b[38;5;241m=\u001b[39m \u001b[38;5;28;01mFalse\u001b[39;00m\n\u001b[0;32m   1170\u001b[0m csv_formatter \u001b[38;5;241m=\u001b[39m CSVFormatter(\n\u001b[0;32m   1171\u001b[0m     path_or_buf\u001b[38;5;241m=\u001b[39mpath_or_buf,\n\u001b[0;32m   1172\u001b[0m     lineterminator\u001b[38;5;241m=\u001b[39mlineterminator,\n\u001b[1;32m   (...)\u001b[0m\n\u001b[0;32m   1187\u001b[0m     formatter\u001b[38;5;241m=\u001b[39m\u001b[38;5;28mself\u001b[39m\u001b[38;5;241m.\u001b[39mfmt,\n\u001b[0;32m   1188\u001b[0m )\n\u001b[1;32m-> 1189\u001b[0m \u001b[43mcsv_formatter\u001b[49m\u001b[38;5;241;43m.\u001b[39;49m\u001b[43msave\u001b[49m\u001b[43m(\u001b[49m\u001b[43m)\u001b[49m\n\u001b[0;32m   1191\u001b[0m \u001b[38;5;28;01mif\u001b[39;00m created_buffer:\n\u001b[0;32m   1192\u001b[0m     \u001b[38;5;28;01massert\u001b[39;00m \u001b[38;5;28misinstance\u001b[39m(path_or_buf, StringIO)\n",
      "File \u001b[1;32mD:\\SOFTWARE INSTALLED\\ANACONDA\\lib\\site-packages\\pandas\\io\\formats\\csvs.py:241\u001b[0m, in \u001b[0;36mCSVFormatter.save\u001b[1;34m(self)\u001b[0m\n\u001b[0;32m    237\u001b[0m \u001b[38;5;124;03m\"\"\"\u001b[39;00m\n\u001b[0;32m    238\u001b[0m \u001b[38;5;124;03mCreate the writer & save.\u001b[39;00m\n\u001b[0;32m    239\u001b[0m \u001b[38;5;124;03m\"\"\"\u001b[39;00m\n\u001b[0;32m    240\u001b[0m \u001b[38;5;66;03m# apply compression and byte/text conversion\u001b[39;00m\n\u001b[1;32m--> 241\u001b[0m \u001b[38;5;28;01mwith\u001b[39;00m \u001b[43mget_handle\u001b[49m\u001b[43m(\u001b[49m\n\u001b[0;32m    242\u001b[0m \u001b[43m    \u001b[49m\u001b[38;5;28;43mself\u001b[39;49m\u001b[38;5;241;43m.\u001b[39;49m\u001b[43mfilepath_or_buffer\u001b[49m\u001b[43m,\u001b[49m\n\u001b[0;32m    243\u001b[0m \u001b[43m    \u001b[49m\u001b[38;5;28;43mself\u001b[39;49m\u001b[38;5;241;43m.\u001b[39;49m\u001b[43mmode\u001b[49m\u001b[43m,\u001b[49m\n\u001b[0;32m    244\u001b[0m \u001b[43m    \u001b[49m\u001b[43mencoding\u001b[49m\u001b[38;5;241;43m=\u001b[39;49m\u001b[38;5;28;43mself\u001b[39;49m\u001b[38;5;241;43m.\u001b[39;49m\u001b[43mencoding\u001b[49m\u001b[43m,\u001b[49m\n\u001b[0;32m    245\u001b[0m \u001b[43m    \u001b[49m\u001b[43merrors\u001b[49m\u001b[38;5;241;43m=\u001b[39;49m\u001b[38;5;28;43mself\u001b[39;49m\u001b[38;5;241;43m.\u001b[39;49m\u001b[43merrors\u001b[49m\u001b[43m,\u001b[49m\n\u001b[0;32m    246\u001b[0m \u001b[43m    \u001b[49m\u001b[43mcompression\u001b[49m\u001b[38;5;241;43m=\u001b[39;49m\u001b[38;5;28;43mself\u001b[39;49m\u001b[38;5;241;43m.\u001b[39;49m\u001b[43mcompression\u001b[49m\u001b[43m,\u001b[49m\n\u001b[0;32m    247\u001b[0m \u001b[43m    \u001b[49m\u001b[43mstorage_options\u001b[49m\u001b[38;5;241;43m=\u001b[39;49m\u001b[38;5;28;43mself\u001b[39;49m\u001b[38;5;241;43m.\u001b[39;49m\u001b[43mstorage_options\u001b[49m\u001b[43m,\u001b[49m\n\u001b[0;32m    248\u001b[0m \u001b[43m\u001b[49m\u001b[43m)\u001b[49m \u001b[38;5;28;01mas\u001b[39;00m handles:\n\u001b[0;32m    249\u001b[0m \n\u001b[0;32m    250\u001b[0m     \u001b[38;5;66;03m# Note: self.encoding is irrelevant here\u001b[39;00m\n\u001b[0;32m    251\u001b[0m     \u001b[38;5;28mself\u001b[39m\u001b[38;5;241m.\u001b[39mwriter \u001b[38;5;241m=\u001b[39m csvlib\u001b[38;5;241m.\u001b[39mwriter(\n\u001b[0;32m    252\u001b[0m         handles\u001b[38;5;241m.\u001b[39mhandle,\n\u001b[0;32m    253\u001b[0m         lineterminator\u001b[38;5;241m=\u001b[39m\u001b[38;5;28mself\u001b[39m\u001b[38;5;241m.\u001b[39mlineterminator,\n\u001b[1;32m   (...)\u001b[0m\n\u001b[0;32m    258\u001b[0m         quotechar\u001b[38;5;241m=\u001b[39m\u001b[38;5;28mself\u001b[39m\u001b[38;5;241m.\u001b[39mquotechar,\n\u001b[0;32m    259\u001b[0m     )\n\u001b[0;32m    261\u001b[0m     \u001b[38;5;28mself\u001b[39m\u001b[38;5;241m.\u001b[39m_save()\n",
      "File \u001b[1;32mD:\\SOFTWARE INSTALLED\\ANACONDA\\lib\\site-packages\\pandas\\io\\common.py:734\u001b[0m, in \u001b[0;36mget_handle\u001b[1;34m(path_or_buf, mode, encoding, compression, memory_map, is_text, errors, storage_options)\u001b[0m\n\u001b[0;32m    732\u001b[0m \u001b[38;5;66;03m# Only for write methods\u001b[39;00m\n\u001b[0;32m    733\u001b[0m \u001b[38;5;28;01mif\u001b[39;00m \u001b[38;5;124m\"\u001b[39m\u001b[38;5;124mr\u001b[39m\u001b[38;5;124m\"\u001b[39m \u001b[38;5;129;01mnot\u001b[39;00m \u001b[38;5;129;01min\u001b[39;00m mode \u001b[38;5;129;01mand\u001b[39;00m is_path:\n\u001b[1;32m--> 734\u001b[0m     \u001b[43mcheck_parent_directory\u001b[49m\u001b[43m(\u001b[49m\u001b[38;5;28;43mstr\u001b[39;49m\u001b[43m(\u001b[49m\u001b[43mhandle\u001b[49m\u001b[43m)\u001b[49m\u001b[43m)\u001b[49m\n\u001b[0;32m    736\u001b[0m \u001b[38;5;28;01mif\u001b[39;00m compression:\n\u001b[0;32m    737\u001b[0m     \u001b[38;5;28;01mif\u001b[39;00m compression \u001b[38;5;241m!=\u001b[39m \u001b[38;5;124m\"\u001b[39m\u001b[38;5;124mzstd\u001b[39m\u001b[38;5;124m\"\u001b[39m:\n\u001b[0;32m    738\u001b[0m         \u001b[38;5;66;03m# compression libraries do not like an explicit text-mode\u001b[39;00m\n",
      "File \u001b[1;32mD:\\SOFTWARE INSTALLED\\ANACONDA\\lib\\site-packages\\pandas\\io\\common.py:597\u001b[0m, in \u001b[0;36mcheck_parent_directory\u001b[1;34m(path)\u001b[0m\n\u001b[0;32m    595\u001b[0m parent \u001b[38;5;241m=\u001b[39m Path(path)\u001b[38;5;241m.\u001b[39mparent\n\u001b[0;32m    596\u001b[0m \u001b[38;5;28;01mif\u001b[39;00m \u001b[38;5;129;01mnot\u001b[39;00m parent\u001b[38;5;241m.\u001b[39mis_dir():\n\u001b[1;32m--> 597\u001b[0m     \u001b[38;5;28;01mraise\u001b[39;00m \u001b[38;5;167;01mOSError\u001b[39;00m(\u001b[38;5;124mrf\u001b[39m\u001b[38;5;124m\"\u001b[39m\u001b[38;5;124mCannot save file into a non-existent directory: \u001b[39m\u001b[38;5;124m'\u001b[39m\u001b[38;5;132;01m{\u001b[39;00mparent\u001b[38;5;132;01m}\u001b[39;00m\u001b[38;5;124m'\u001b[39m\u001b[38;5;124m\"\u001b[39m)\n",
      "\u001b[1;31mOSError\u001b[0m: Cannot save file into a non-existent directory: 'Data'"
     ]
    }
   ],
   "source": [
    "y_comparison=pd.DataFrame({'y_test': y_test,\n",
    "                           'y_pred': y_pred,\n",
    "                           'y_pred_reg': y_pred_reg})\n",
    "pd.DataFrame(y_comparison).to_csv('Data/y_comparison.csv',index=False)"
   ]
  },
  {
   "cell_type": "code",
   "execution_count": null,
   "metadata": {
    "id": "wGs03eMSbPyM"
   },
   "outputs": [],
   "source": [
    "#generate R squared\n",
    "y_pred_reg=SVR.predict(x_test)\n",
    "R2=SVR.score(x_test,y_test)\n",
    "\n",
    "..."
   ]
  },
  {
   "cell_type": "markdown",
   "metadata": {
    "id": "y4UYzdnHbPyM"
   },
   "source": [
    "## Part 5: Comparision between XGB and SVM"
   ]
  },
  {
   "cell_type": "code",
   "execution_count": 1,
   "metadata": {
    "id": "Kl-JcfHibPyM"
   },
   "outputs": [
    {
     "data": {
      "text/html": [
       "<div>\n",
       "<style scoped>\n",
       "    .dataframe tbody tr th:only-of-type {\n",
       "        vertical-align: middle;\n",
       "    }\n",
       "\n",
       "    .dataframe tbody tr th {\n",
       "        vertical-align: top;\n",
       "    }\n",
       "\n",
       "    .dataframe thead th {\n",
       "        text-align: right;\n",
       "    }\n",
       "</style>\n",
       "<table border=\"1\" class=\"dataframe\">\n",
       "  <thead>\n",
       "    <tr style=\"text-align: right;\">\n",
       "      <th></th>\n",
       "      <th>IPAddress</th>\n",
       "      <th>Duration (in seconds)</th>\n",
       "      <th>ResponseId</th>\n",
       "      <th>LocationLatitude</th>\n",
       "      <th>LocationLongitude</th>\n",
       "      <th>Q4</th>\n",
       "      <th>Q5_1</th>\n",
       "      <th>Q5_2</th>\n",
       "      <th>Q5_3</th>\n",
       "      <th>Q5_4</th>\n",
       "      <th>...</th>\n",
       "      <th>Q8_14</th>\n",
       "      <th>Q8_15</th>\n",
       "      <th>Q10</th>\n",
       "      <th>Q11</th>\n",
       "      <th>Q12</th>\n",
       "      <th>Q14</th>\n",
       "      <th>Q15</th>\n",
       "      <th>Q16</th>\n",
       "      <th>Q17</th>\n",
       "      <th>Q18</th>\n",
       "    </tr>\n",
       "  </thead>\n",
       "  <tbody>\n",
       "    <tr>\n",
       "      <th>0</th>\n",
       "      <td>198.182.157.254</td>\n",
       "      <td>239</td>\n",
       "      <td>R_bqkat7vEJIOtO7j</td>\n",
       "      <td>34.417999</td>\n",
       "      <td>-118.566200</td>\n",
       "      <td>Yes</td>\n",
       "      <td>3</td>\n",
       "      <td>4</td>\n",
       "      <td>4</td>\n",
       "      <td>3</td>\n",
       "      <td>...</td>\n",
       "      <td>4.0</td>\n",
       "      <td>4.0</td>\n",
       "      <td>2-3 times a week</td>\n",
       "      <td>1-3 years</td>\n",
       "      <td>1-2 hours</td>\n",
       "      <td>Female</td>\n",
       "      <td>26-35</td>\n",
       "      <td>Masters Degree</td>\n",
       "      <td>United States of America</td>\n",
       "      <td>Educational services</td>\n",
       "    </tr>\n",
       "    <tr>\n",
       "      <th>1</th>\n",
       "      <td>174.155.134.32</td>\n",
       "      <td>191</td>\n",
       "      <td>R_4UyBdECON03cUrb</td>\n",
       "      <td>25.857605</td>\n",
       "      <td>-80.278099</td>\n",
       "      <td>Yes</td>\n",
       "      <td>4</td>\n",
       "      <td>5</td>\n",
       "      <td>4</td>\n",
       "      <td>4</td>\n",
       "      <td>...</td>\n",
       "      <td>4.0</td>\n",
       "      <td>5.0</td>\n",
       "      <td>2-3 times a week</td>\n",
       "      <td>7-12 months</td>\n",
       "      <td>1-2 hours</td>\n",
       "      <td>Female</td>\n",
       "      <td>26-35</td>\n",
       "      <td>High School</td>\n",
       "      <td>United States of America</td>\n",
       "      <td>Real estate or rental and leasing</td>\n",
       "    </tr>\n",
       "    <tr>\n",
       "      <th>2</th>\n",
       "      <td>45.46.112.52</td>\n",
       "      <td>140</td>\n",
       "      <td>R_9BL6eXmPRlTawEl</td>\n",
       "      <td>46.912094</td>\n",
       "      <td>-68.043098</td>\n",
       "      <td>Yes</td>\n",
       "      <td>4</td>\n",
       "      <td>6</td>\n",
       "      <td>4</td>\n",
       "      <td>3</td>\n",
       "      <td>...</td>\n",
       "      <td>5.0</td>\n",
       "      <td>5.0</td>\n",
       "      <td>2-3 times a week</td>\n",
       "      <td>1-3 years</td>\n",
       "      <td>Less than one hour</td>\n",
       "      <td>Male</td>\n",
       "      <td>26-35</td>\n",
       "      <td>4-year College Degree</td>\n",
       "      <td>United States of America</td>\n",
       "      <td>Arts, entertainment or recreation</td>\n",
       "    </tr>\n",
       "    <tr>\n",
       "      <th>3</th>\n",
       "      <td>172.56.23.132</td>\n",
       "      <td>410</td>\n",
       "      <td>R_6EasCVITCdtBRI1</td>\n",
       "      <td>42.464203</td>\n",
       "      <td>-70.971703</td>\n",
       "      <td>Yes</td>\n",
       "      <td>4</td>\n",
       "      <td>4</td>\n",
       "      <td>3</td>\n",
       "      <td>4</td>\n",
       "      <td>...</td>\n",
       "      <td>3.0</td>\n",
       "      <td>4.0</td>\n",
       "      <td>2-3 times a week</td>\n",
       "      <td>7-12 months</td>\n",
       "      <td>2-5 hours</td>\n",
       "      <td>Male</td>\n",
       "      <td>36-50</td>\n",
       "      <td>High School</td>\n",
       "      <td>United States of America</td>\n",
       "      <td>Professional, scientific or technical services</td>\n",
       "    </tr>\n",
       "    <tr>\n",
       "      <th>4</th>\n",
       "      <td>65.96.122.144</td>\n",
       "      <td>171</td>\n",
       "      <td>R_3PMRpp5cpHj5e1D</td>\n",
       "      <td>43.644196</td>\n",
       "      <td>-72.306602</td>\n",
       "      <td>Yes</td>\n",
       "      <td>4</td>\n",
       "      <td>5</td>\n",
       "      <td>4</td>\n",
       "      <td>4</td>\n",
       "      <td>...</td>\n",
       "      <td>5.0</td>\n",
       "      <td>5.0</td>\n",
       "      <td>2-3 times a week</td>\n",
       "      <td>More than 3 years</td>\n",
       "      <td>Less than one hour</td>\n",
       "      <td>Female</td>\n",
       "      <td>36-50</td>\n",
       "      <td>Masters Degree</td>\n",
       "      <td>United States of America</td>\n",
       "      <td>Construction</td>\n",
       "    </tr>\n",
       "  </tbody>\n",
       "</table>\n",
       "<p>5 rows × 65 columns</p>\n",
       "</div>"
      ],
      "text/plain": [
       "         IPAddress  Duration (in seconds)         ResponseId  \\\n",
       "0  198.182.157.254                    239  R_bqkat7vEJIOtO7j   \n",
       "1   174.155.134.32                    191  R_4UyBdECON03cUrb   \n",
       "2     45.46.112.52                    140  R_9BL6eXmPRlTawEl   \n",
       "3    172.56.23.132                    410  R_6EasCVITCdtBRI1   \n",
       "4    65.96.122.144                    171  R_3PMRpp5cpHj5e1D   \n",
       "\n",
       "   LocationLatitude  LocationLongitude   Q4  Q5_1  Q5_2  Q5_3  Q5_4  ...  \\\n",
       "0         34.417999        -118.566200  Yes     3     4     4     3  ...   \n",
       "1         25.857605         -80.278099  Yes     4     5     4     4  ...   \n",
       "2         46.912094         -68.043098  Yes     4     6     4     3  ...   \n",
       "3         42.464203         -70.971703  Yes     4     4     3     4  ...   \n",
       "4         43.644196         -72.306602  Yes     4     5     4     4  ...   \n",
       "\n",
       "   Q8_14  Q8_15               Q10                Q11                 Q12  \\\n",
       "0    4.0    4.0  2-3 times a week          1-3 years           1-2 hours   \n",
       "1    4.0    5.0  2-3 times a week        7-12 months           1-2 hours   \n",
       "2    5.0    5.0  2-3 times a week          1-3 years  Less than one hour   \n",
       "3    3.0    4.0  2-3 times a week        7-12 months           2-5 hours   \n",
       "4    5.0    5.0  2-3 times a week  More than 3 years  Less than one hour   \n",
       "\n",
       "      Q14    Q15                    Q16                       Q17  \\\n",
       "0  Female  26-35         Masters Degree  United States of America   \n",
       "1  Female  26-35            High School  United States of America   \n",
       "2    Male  26-35  4-year College Degree  United States of America   \n",
       "3    Male  36-50            High School  United States of America   \n",
       "4  Female  36-50         Masters Degree  United States of America   \n",
       "\n",
       "                                              Q18  \n",
       "0                            Educational services  \n",
       "1               Real estate or rental and leasing  \n",
       "2               Arts, entertainment or recreation  \n",
       "3  Professional, scientific or technical services  \n",
       "4                                    Construction  \n",
       "\n",
       "[5 rows x 65 columns]"
      ]
     },
     "execution_count": 1,
     "metadata": {},
     "output_type": "execute_result"
    }
   ],
   "source": [
    "import pandas as pd\n",
    "import numpy as np\n",
    "\n",
    "data=pd.read_csv('C:/Users/Furqan Ali/Desktop/woek/linkedin_data.csv')\n",
    "data.head()"
   ]
  },
  {
   "cell_type": "code",
   "execution_count": 10,
   "metadata": {
    "id": "ElnpM0-ibPyM"
   },
   "outputs": [],
   "source": [
    "from sklearn.model_selection import train_test_split\n",
    "#X: Q7_1 : Q7_19\n",
    "data=data.dropna()\n",
    "X=data[data.columns[23:42]]\n",
    "data['stay']=(data['Q5_1']>6).astype(int)\n",
    "y=data['stay']\n",
    "x_train, x_test, y_train, y_test = train_test_split(X, y, test_size=0.25, random_state=0)"
   ]
  },
  {
   "cell_type": "code",
   "execution_count": 11,
   "metadata": {
    "id": "sjRjyywlbPyN"
   },
   "outputs": [
    {
     "data": {
      "text/html": [
       "<div>\n",
       "<style scoped>\n",
       "    .dataframe tbody tr th:only-of-type {\n",
       "        vertical-align: middle;\n",
       "    }\n",
       "\n",
       "    .dataframe tbody tr th {\n",
       "        vertical-align: top;\n",
       "    }\n",
       "\n",
       "    .dataframe thead th {\n",
       "        text-align: right;\n",
       "    }\n",
       "</style>\n",
       "<table border=\"1\" class=\"dataframe\">\n",
       "  <thead>\n",
       "    <tr style=\"text-align: right;\">\n",
       "      <th></th>\n",
       "      <th>Q7_1</th>\n",
       "      <th>Q7_2</th>\n",
       "      <th>Q7_3</th>\n",
       "      <th>Q7_4</th>\n",
       "      <th>Q7_5</th>\n",
       "      <th>Q7_6</th>\n",
       "      <th>Q7_7</th>\n",
       "      <th>Q7_8</th>\n",
       "      <th>Q7_9</th>\n",
       "      <th>Q7_10</th>\n",
       "      <th>Q7_11</th>\n",
       "      <th>Q7_12</th>\n",
       "      <th>Q7_13</th>\n",
       "      <th>Q7_14</th>\n",
       "      <th>Q7_15</th>\n",
       "      <th>Q7_16</th>\n",
       "      <th>Q7_17</th>\n",
       "      <th>Q7_18</th>\n",
       "      <th>Q7_19</th>\n",
       "    </tr>\n",
       "  </thead>\n",
       "  <tbody>\n",
       "    <tr>\n",
       "      <th>count</th>\n",
       "      <td>280.000000</td>\n",
       "      <td>280.000000</td>\n",
       "      <td>280.000000</td>\n",
       "      <td>280.000000</td>\n",
       "      <td>280.000000</td>\n",
       "      <td>280.000000</td>\n",
       "      <td>280.000000</td>\n",
       "      <td>280.000000</td>\n",
       "      <td>280.000000</td>\n",
       "      <td>280.000000</td>\n",
       "      <td>280.000000</td>\n",
       "      <td>280.000000</td>\n",
       "      <td>280.000000</td>\n",
       "      <td>280.000000</td>\n",
       "      <td>280.000000</td>\n",
       "      <td>280.000000</td>\n",
       "      <td>280.000000</td>\n",
       "      <td>280.00000</td>\n",
       "      <td>280.000000</td>\n",
       "    </tr>\n",
       "    <tr>\n",
       "      <th>mean</th>\n",
       "      <td>5.678571</td>\n",
       "      <td>5.050000</td>\n",
       "      <td>5.457143</td>\n",
       "      <td>4.757143</td>\n",
       "      <td>5.625000</td>\n",
       "      <td>5.464286</td>\n",
       "      <td>5.367857</td>\n",
       "      <td>5.328571</td>\n",
       "      <td>4.957143</td>\n",
       "      <td>4.900000</td>\n",
       "      <td>5.282143</td>\n",
       "      <td>5.285714</td>\n",
       "      <td>4.675000</td>\n",
       "      <td>5.260714</td>\n",
       "      <td>4.857143</td>\n",
       "      <td>5.264286</td>\n",
       "      <td>4.803571</td>\n",
       "      <td>5.55000</td>\n",
       "      <td>5.407143</td>\n",
       "    </tr>\n",
       "    <tr>\n",
       "      <th>std</th>\n",
       "      <td>1.315841</td>\n",
       "      <td>1.583178</td>\n",
       "      <td>1.480441</td>\n",
       "      <td>1.605865</td>\n",
       "      <td>1.202782</td>\n",
       "      <td>1.322053</td>\n",
       "      <td>1.371903</td>\n",
       "      <td>1.413924</td>\n",
       "      <td>1.585650</td>\n",
       "      <td>1.694605</td>\n",
       "      <td>1.503533</td>\n",
       "      <td>1.522993</td>\n",
       "      <td>1.886972</td>\n",
       "      <td>1.444267</td>\n",
       "      <td>1.704186</td>\n",
       "      <td>1.515089</td>\n",
       "      <td>1.914102</td>\n",
       "      <td>1.39289</td>\n",
       "      <td>1.413688</td>\n",
       "    </tr>\n",
       "    <tr>\n",
       "      <th>min</th>\n",
       "      <td>1.000000</td>\n",
       "      <td>1.000000</td>\n",
       "      <td>1.000000</td>\n",
       "      <td>1.000000</td>\n",
       "      <td>1.000000</td>\n",
       "      <td>1.000000</td>\n",
       "      <td>1.000000</td>\n",
       "      <td>1.000000</td>\n",
       "      <td>1.000000</td>\n",
       "      <td>1.000000</td>\n",
       "      <td>1.000000</td>\n",
       "      <td>1.000000</td>\n",
       "      <td>1.000000</td>\n",
       "      <td>1.000000</td>\n",
       "      <td>1.000000</td>\n",
       "      <td>1.000000</td>\n",
       "      <td>1.000000</td>\n",
       "      <td>1.00000</td>\n",
       "      <td>1.000000</td>\n",
       "    </tr>\n",
       "    <tr>\n",
       "      <th>25%</th>\n",
       "      <td>5.000000</td>\n",
       "      <td>4.000000</td>\n",
       "      <td>5.000000</td>\n",
       "      <td>4.000000</td>\n",
       "      <td>5.000000</td>\n",
       "      <td>5.000000</td>\n",
       "      <td>4.000000</td>\n",
       "      <td>4.000000</td>\n",
       "      <td>4.000000</td>\n",
       "      <td>4.000000</td>\n",
       "      <td>4.000000</td>\n",
       "      <td>4.000000</td>\n",
       "      <td>3.000000</td>\n",
       "      <td>4.000000</td>\n",
       "      <td>4.000000</td>\n",
       "      <td>4.000000</td>\n",
       "      <td>3.000000</td>\n",
       "      <td>5.00000</td>\n",
       "      <td>5.000000</td>\n",
       "    </tr>\n",
       "    <tr>\n",
       "      <th>50%</th>\n",
       "      <td>6.000000</td>\n",
       "      <td>5.000000</td>\n",
       "      <td>6.000000</td>\n",
       "      <td>5.000000</td>\n",
       "      <td>6.000000</td>\n",
       "      <td>6.000000</td>\n",
       "      <td>5.000000</td>\n",
       "      <td>6.000000</td>\n",
       "      <td>5.000000</td>\n",
       "      <td>5.000000</td>\n",
       "      <td>5.000000</td>\n",
       "      <td>6.000000</td>\n",
       "      <td>5.000000</td>\n",
       "      <td>5.000000</td>\n",
       "      <td>5.000000</td>\n",
       "      <td>5.000000</td>\n",
       "      <td>5.000000</td>\n",
       "      <td>6.00000</td>\n",
       "      <td>6.000000</td>\n",
       "    </tr>\n",
       "    <tr>\n",
       "      <th>75%</th>\n",
       "      <td>7.000000</td>\n",
       "      <td>6.000000</td>\n",
       "      <td>7.000000</td>\n",
       "      <td>6.000000</td>\n",
       "      <td>7.000000</td>\n",
       "      <td>7.000000</td>\n",
       "      <td>7.000000</td>\n",
       "      <td>6.000000</td>\n",
       "      <td>6.000000</td>\n",
       "      <td>6.000000</td>\n",
       "      <td>7.000000</td>\n",
       "      <td>7.000000</td>\n",
       "      <td>6.000000</td>\n",
       "      <td>6.000000</td>\n",
       "      <td>6.000000</td>\n",
       "      <td>7.000000</td>\n",
       "      <td>6.000000</td>\n",
       "      <td>7.00000</td>\n",
       "      <td>7.000000</td>\n",
       "    </tr>\n",
       "    <tr>\n",
       "      <th>max</th>\n",
       "      <td>7.000000</td>\n",
       "      <td>7.000000</td>\n",
       "      <td>7.000000</td>\n",
       "      <td>7.000000</td>\n",
       "      <td>7.000000</td>\n",
       "      <td>7.000000</td>\n",
       "      <td>7.000000</td>\n",
       "      <td>7.000000</td>\n",
       "      <td>7.000000</td>\n",
       "      <td>7.000000</td>\n",
       "      <td>7.000000</td>\n",
       "      <td>7.000000</td>\n",
       "      <td>7.000000</td>\n",
       "      <td>7.000000</td>\n",
       "      <td>7.000000</td>\n",
       "      <td>7.000000</td>\n",
       "      <td>7.000000</td>\n",
       "      <td>7.00000</td>\n",
       "      <td>7.000000</td>\n",
       "    </tr>\n",
       "  </tbody>\n",
       "</table>\n",
       "</div>"
      ],
      "text/plain": [
       "             Q7_1        Q7_2        Q7_3        Q7_4        Q7_5        Q7_6  \\\n",
       "count  280.000000  280.000000  280.000000  280.000000  280.000000  280.000000   \n",
       "mean     5.678571    5.050000    5.457143    4.757143    5.625000    5.464286   \n",
       "std      1.315841    1.583178    1.480441    1.605865    1.202782    1.322053   \n",
       "min      1.000000    1.000000    1.000000    1.000000    1.000000    1.000000   \n",
       "25%      5.000000    4.000000    5.000000    4.000000    5.000000    5.000000   \n",
       "50%      6.000000    5.000000    6.000000    5.000000    6.000000    6.000000   \n",
       "75%      7.000000    6.000000    7.000000    6.000000    7.000000    7.000000   \n",
       "max      7.000000    7.000000    7.000000    7.000000    7.000000    7.000000   \n",
       "\n",
       "             Q7_7        Q7_8        Q7_9       Q7_10       Q7_11       Q7_12  \\\n",
       "count  280.000000  280.000000  280.000000  280.000000  280.000000  280.000000   \n",
       "mean     5.367857    5.328571    4.957143    4.900000    5.282143    5.285714   \n",
       "std      1.371903    1.413924    1.585650    1.694605    1.503533    1.522993   \n",
       "min      1.000000    1.000000    1.000000    1.000000    1.000000    1.000000   \n",
       "25%      4.000000    4.000000    4.000000    4.000000    4.000000    4.000000   \n",
       "50%      5.000000    6.000000    5.000000    5.000000    5.000000    6.000000   \n",
       "75%      7.000000    6.000000    6.000000    6.000000    7.000000    7.000000   \n",
       "max      7.000000    7.000000    7.000000    7.000000    7.000000    7.000000   \n",
       "\n",
       "            Q7_13       Q7_14       Q7_15       Q7_16       Q7_17      Q7_18  \\\n",
       "count  280.000000  280.000000  280.000000  280.000000  280.000000  280.00000   \n",
       "mean     4.675000    5.260714    4.857143    5.264286    4.803571    5.55000   \n",
       "std      1.886972    1.444267    1.704186    1.515089    1.914102    1.39289   \n",
       "min      1.000000    1.000000    1.000000    1.000000    1.000000    1.00000   \n",
       "25%      3.000000    4.000000    4.000000    4.000000    3.000000    5.00000   \n",
       "50%      5.000000    5.000000    5.000000    5.000000    5.000000    6.00000   \n",
       "75%      6.000000    6.000000    6.000000    7.000000    6.000000    7.00000   \n",
       "max      7.000000    7.000000    7.000000    7.000000    7.000000    7.00000   \n",
       "\n",
       "            Q7_19  \n",
       "count  280.000000  \n",
       "mean     5.407143  \n",
       "std      1.413688  \n",
       "min      1.000000  \n",
       "25%      5.000000  \n",
       "50%      6.000000  \n",
       "75%      7.000000  \n",
       "max      7.000000  "
      ]
     },
     "execution_count": 11,
     "metadata": {},
     "output_type": "execute_result"
    }
   ],
   "source": [
    "X.describe()"
   ]
  },
  {
   "cell_type": "markdown",
   "metadata": {
    "id": "_DTXI05NbPyN"
   },
   "source": [
    "###  SVM"
   ]
  },
  {
   "cell_type": "code",
   "execution_count": 12,
   "metadata": {
    "id": "qPYgG0dobPyN"
   },
   "outputs": [
    {
     "data": {
      "text/html": [
       "<style>#sk-container-id-2 {color: black;background-color: white;}#sk-container-id-2 pre{padding: 0;}#sk-container-id-2 div.sk-toggleable {background-color: white;}#sk-container-id-2 label.sk-toggleable__label {cursor: pointer;display: block;width: 100%;margin-bottom: 0;padding: 0.3em;box-sizing: border-box;text-align: center;}#sk-container-id-2 label.sk-toggleable__label-arrow:before {content: \"▸\";float: left;margin-right: 0.25em;color: #696969;}#sk-container-id-2 label.sk-toggleable__label-arrow:hover:before {color: black;}#sk-container-id-2 div.sk-estimator:hover label.sk-toggleable__label-arrow:before {color: black;}#sk-container-id-2 div.sk-toggleable__content {max-height: 0;max-width: 0;overflow: hidden;text-align: left;background-color: #f0f8ff;}#sk-container-id-2 div.sk-toggleable__content pre {margin: 0.2em;color: black;border-radius: 0.25em;background-color: #f0f8ff;}#sk-container-id-2 input.sk-toggleable__control:checked~div.sk-toggleable__content {max-height: 200px;max-width: 100%;overflow: auto;}#sk-container-id-2 input.sk-toggleable__control:checked~label.sk-toggleable__label-arrow:before {content: \"▾\";}#sk-container-id-2 div.sk-estimator input.sk-toggleable__control:checked~label.sk-toggleable__label {background-color: #d4ebff;}#sk-container-id-2 div.sk-label input.sk-toggleable__control:checked~label.sk-toggleable__label {background-color: #d4ebff;}#sk-container-id-2 input.sk-hidden--visually {border: 0;clip: rect(1px 1px 1px 1px);clip: rect(1px, 1px, 1px, 1px);height: 1px;margin: -1px;overflow: hidden;padding: 0;position: absolute;width: 1px;}#sk-container-id-2 div.sk-estimator {font-family: monospace;background-color: #f0f8ff;border: 1px dotted black;border-radius: 0.25em;box-sizing: border-box;margin-bottom: 0.5em;}#sk-container-id-2 div.sk-estimator:hover {background-color: #d4ebff;}#sk-container-id-2 div.sk-parallel-item::after {content: \"\";width: 100%;border-bottom: 1px solid gray;flex-grow: 1;}#sk-container-id-2 div.sk-label:hover label.sk-toggleable__label {background-color: #d4ebff;}#sk-container-id-2 div.sk-serial::before {content: \"\";position: absolute;border-left: 1px solid gray;box-sizing: border-box;top: 0;bottom: 0;left: 50%;z-index: 0;}#sk-container-id-2 div.sk-serial {display: flex;flex-direction: column;align-items: center;background-color: white;padding-right: 0.2em;padding-left: 0.2em;position: relative;}#sk-container-id-2 div.sk-item {position: relative;z-index: 1;}#sk-container-id-2 div.sk-parallel {display: flex;align-items: stretch;justify-content: center;background-color: white;position: relative;}#sk-container-id-2 div.sk-item::before, #sk-container-id-2 div.sk-parallel-item::before {content: \"\";position: absolute;border-left: 1px solid gray;box-sizing: border-box;top: 0;bottom: 0;left: 50%;z-index: -1;}#sk-container-id-2 div.sk-parallel-item {display: flex;flex-direction: column;z-index: 1;position: relative;background-color: white;}#sk-container-id-2 div.sk-parallel-item:first-child::after {align-self: flex-end;width: 50%;}#sk-container-id-2 div.sk-parallel-item:last-child::after {align-self: flex-start;width: 50%;}#sk-container-id-2 div.sk-parallel-item:only-child::after {width: 0;}#sk-container-id-2 div.sk-dashed-wrapped {border: 1px dashed gray;margin: 0 0.4em 0.5em 0.4em;box-sizing: border-box;padding-bottom: 0.4em;background-color: white;}#sk-container-id-2 div.sk-label label {font-family: monospace;font-weight: bold;display: inline-block;line-height: 1.2em;}#sk-container-id-2 div.sk-label-container {text-align: center;}#sk-container-id-2 div.sk-container {/* jupyter's `normalize.less` sets `[hidden] { display: none; }` but bootstrap.min.css set `[hidden] { display: none !important; }` so we also need the `!important` here to be able to override the default hidden behavior on the sphinx rendered scikit-learn.org. See: https://github.com/scikit-learn/scikit-learn/issues/21755 */display: inline-block !important;position: relative;}#sk-container-id-2 div.sk-text-repr-fallback {display: none;}</style><div id=\"sk-container-id-2\" class=\"sk-top-container\"><div class=\"sk-text-repr-fallback\"><pre>Pipeline(steps=[(&#x27;scaler&#x27;, StandardScaler(with_mean=False)),\n",
       "                (&#x27;linear_svc&#x27;, LinearSVC(C=1, loss=&#x27;hinge&#x27;, max_iter=1000000))])</pre><b>In a Jupyter environment, please rerun this cell to show the HTML representation or trust the notebook. <br />On GitHub, the HTML representation is unable to render, please try loading this page with nbviewer.org.</b></div><div class=\"sk-container\" hidden><div class=\"sk-item sk-dashed-wrapped\"><div class=\"sk-label-container\"><div class=\"sk-label sk-toggleable\"><input class=\"sk-toggleable__control sk-hidden--visually\" id=\"sk-estimator-id-4\" type=\"checkbox\" ><label for=\"sk-estimator-id-4\" class=\"sk-toggleable__label sk-toggleable__label-arrow\">Pipeline</label><div class=\"sk-toggleable__content\"><pre>Pipeline(steps=[(&#x27;scaler&#x27;, StandardScaler(with_mean=False)),\n",
       "                (&#x27;linear_svc&#x27;, LinearSVC(C=1, loss=&#x27;hinge&#x27;, max_iter=1000000))])</pre></div></div></div><div class=\"sk-serial\"><div class=\"sk-item\"><div class=\"sk-estimator sk-toggleable\"><input class=\"sk-toggleable__control sk-hidden--visually\" id=\"sk-estimator-id-5\" type=\"checkbox\" ><label for=\"sk-estimator-id-5\" class=\"sk-toggleable__label sk-toggleable__label-arrow\">StandardScaler</label><div class=\"sk-toggleable__content\"><pre>StandardScaler(with_mean=False)</pre></div></div></div><div class=\"sk-item\"><div class=\"sk-estimator sk-toggleable\"><input class=\"sk-toggleable__control sk-hidden--visually\" id=\"sk-estimator-id-6\" type=\"checkbox\" ><label for=\"sk-estimator-id-6\" class=\"sk-toggleable__label sk-toggleable__label-arrow\">LinearSVC</label><div class=\"sk-toggleable__content\"><pre>LinearSVC(C=1, loss=&#x27;hinge&#x27;, max_iter=1000000)</pre></div></div></div></div></div></div></div>"
      ],
      "text/plain": [
       "Pipeline(steps=[('scaler', StandardScaler(with_mean=False)),\n",
       "                ('linear_svc', LinearSVC(C=1, loss='hinge', max_iter=1000000))])"
      ]
     },
     "execution_count": 12,
     "metadata": {},
     "output_type": "execute_result"
    }
   ],
   "source": [
    "#define and fit SVM_clf\n",
    "...\n",
    "from sklearn.pipeline import Pipeline\n",
    "from sklearn.preprocessing import StandardScaler\n",
    "from sklearn.svm import LinearSVC\n",
    "\n",
    "SVM_clf = Pipeline([\n",
    "         (\"scaler\", StandardScaler(with_mean=False)), \n",
    "         (\"linear_svc\", LinearSVC(C=1, loss=\"hinge\",max_iter=1000000)), \n",
    "     ])\n",
    "\n",
    "SVM_clf.fit(x_train, y_train)\n"
   ]
  },
  {
   "cell_type": "code",
   "execution_count": 14,
   "metadata": {
    "id": "hZZ1P6umbPyO"
   },
   "outputs": [
    {
     "name": "stdout",
     "output_type": "stream",
     "text": [
      "Error rate: 0.2571428571428571\n",
      "Precision: 0.7\n",
      "Sensitivity: 0.7\n",
      "Specificity: 0.775\n",
      "AUC: 0.7441666666666666\n"
     ]
    }
   ],
   "source": [
    "#Generate ['Error rate','Precision', 'Sensitivity', 'Specificity',  'AUC']\n",
    "...\n",
    "from sklearn.svm import SVC\n",
    "from sklearn.metrics import confusion_matrix, precision_score, recall_score, roc_auc_score\n",
    "\n",
    "# define the SVM classifier with a polynomial kernel\n",
    "poly_kernel_SVM_clf = SVC(kernel='poly', degree=3, coef0=1, C=5)\n",
    "\n",
    "# fit the SVM classifier to the training data\n",
    "poly_kernel_SVM_clf.fit(x_train, y_train)\n",
    "\n",
    "# make predictions on the test set\n",
    "y_pred = poly_kernel_SVM_clf.predict(x_test)\n",
    "y_prob = poly_kernel_SVM_clf.decision_function(x_test)\n",
    "\n",
    "# calculate the confusion matrix\n",
    "tn, fp, fn, tp = confusion_matrix(y_test, y_pred).ravel()\n",
    "\n",
    "# calculate the performance measures\n",
    "error_rate = (fp + fn) / (tp + tn + fp + fn)\n",
    "precision = precision_score(y_test, y_pred)\n",
    "sensitivity = recall_score(y_test, y_pred)\n",
    "specificity = tn / (tn + fp)\n",
    "auc = roc_auc_score(y_test, y_prob)\n",
    "\n",
    "# print the results\n",
    "print(\"Error rate:\", error_rate)\n",
    "print(\"Precision:\", precision)\n",
    "print(\"Sensitivity:\", sensitivity)\n",
    "print(\"Specificity:\", specificity)\n",
    "print(\"AUC:\", auc)"
   ]
  },
  {
   "cell_type": "code",
   "execution_count": 15,
   "metadata": {
    "id": "S5B9X3MTbPyO"
   },
   "outputs": [
    {
     "name": "stdout",
     "output_type": "stream",
     "text": [
      "Feature 0: 0.1271\n",
      "Feature 1: -0.0343\n",
      "Feature 2: 0.0143\n",
      "Feature 3: -0.0257\n",
      "Feature 4: 0.0686\n",
      "Feature 5: -0.0071\n",
      "Feature 6: 0.0557\n",
      "Feature 7: 0.0171\n",
      "Feature 8: 0.0043\n",
      "Feature 9: -0.0157\n",
      "Feature 10: 0.1143\n",
      "Feature 11: 0.0700\n",
      "Feature 12: 0.0086\n",
      "Feature 13: 0.0057\n",
      "Feature 14: 0.0457\n",
      "Feature 15: 0.0486\n",
      "Feature 16: 0.1400\n",
      "Feature 17: 0.1000\n",
      "Feature 18: 0.0286\n"
     ]
    },
    {
     "data": {
      "text/plain": [
       "Ellipsis"
      ]
     },
     "execution_count": 15,
     "metadata": {},
     "output_type": "execute_result"
    }
   ],
   "source": [
    "# generate feature imporance \n",
    "from sklearn.inspection import permutation_importance\n",
    "from sklearn.svm import SVC\n",
    "\n",
    "# define the SVM classifier with a polynomial kernel\n",
    "poly_kernel_SVM_clf = SVC(kernel='poly', degree=3, coef0=1, C=5)\n",
    "\n",
    "# fit the SVM classifier to the training data\n",
    "poly_kernel_SVM_clf.fit(x_train, y_train)\n",
    "\n",
    "# calculate feature importances using permutation importance\n",
    "result = permutation_importance(poly_kernel_SVM_clf, x_test, y_test, n_repeats=10, random_state=0)\n",
    "\n",
    "# get the feature importance scores\n",
    "importances = result.importances_mean\n",
    "\n",
    "# print the feature importance scores\n",
    "for i, importance in enumerate(importances):\n",
    "    print(\"Feature %d: %.4f\" % (i, importance))\n",
    "\n",
    "..."
   ]
  },
  {
   "cell_type": "markdown",
   "metadata": {
    "id": "LoLjqcZMbPyP"
   },
   "source": [
    "### XGB"
   ]
  },
  {
   "cell_type": "code",
   "execution_count": 46,
   "metadata": {},
   "outputs": [
    {
     "name": "stdout",
     "output_type": "stream",
     "text": [
      "Requirement already satisfied: xgboost in d:\\software installed\\anaconda\\lib\\site-packages (1.7.4)\n",
      "Requirement already satisfied: numpy in d:\\software installed\\anaconda\\lib\\site-packages (from xgboost) (1.23.5)\n",
      "Requirement already satisfied: scipy in d:\\software installed\\anaconda\\lib\\site-packages (from xgboost) (1.10.0)\n",
      "Note: you may need to restart the kernel to use updated packages.\n"
     ]
    }
   ],
   "source": [
    "pip install xgboost"
   ]
  },
  {
   "cell_type": "code",
   "execution_count": 16,
   "metadata": {
    "id": "XxLy-rrwbPyP"
   },
   "outputs": [
    {
     "data": {
      "text/html": [
       "<style>#sk-container-id-3 {color: black;background-color: white;}#sk-container-id-3 pre{padding: 0;}#sk-container-id-3 div.sk-toggleable {background-color: white;}#sk-container-id-3 label.sk-toggleable__label {cursor: pointer;display: block;width: 100%;margin-bottom: 0;padding: 0.3em;box-sizing: border-box;text-align: center;}#sk-container-id-3 label.sk-toggleable__label-arrow:before {content: \"▸\";float: left;margin-right: 0.25em;color: #696969;}#sk-container-id-3 label.sk-toggleable__label-arrow:hover:before {color: black;}#sk-container-id-3 div.sk-estimator:hover label.sk-toggleable__label-arrow:before {color: black;}#sk-container-id-3 div.sk-toggleable__content {max-height: 0;max-width: 0;overflow: hidden;text-align: left;background-color: #f0f8ff;}#sk-container-id-3 div.sk-toggleable__content pre {margin: 0.2em;color: black;border-radius: 0.25em;background-color: #f0f8ff;}#sk-container-id-3 input.sk-toggleable__control:checked~div.sk-toggleable__content {max-height: 200px;max-width: 100%;overflow: auto;}#sk-container-id-3 input.sk-toggleable__control:checked~label.sk-toggleable__label-arrow:before {content: \"▾\";}#sk-container-id-3 div.sk-estimator input.sk-toggleable__control:checked~label.sk-toggleable__label {background-color: #d4ebff;}#sk-container-id-3 div.sk-label input.sk-toggleable__control:checked~label.sk-toggleable__label {background-color: #d4ebff;}#sk-container-id-3 input.sk-hidden--visually {border: 0;clip: rect(1px 1px 1px 1px);clip: rect(1px, 1px, 1px, 1px);height: 1px;margin: -1px;overflow: hidden;padding: 0;position: absolute;width: 1px;}#sk-container-id-3 div.sk-estimator {font-family: monospace;background-color: #f0f8ff;border: 1px dotted black;border-radius: 0.25em;box-sizing: border-box;margin-bottom: 0.5em;}#sk-container-id-3 div.sk-estimator:hover {background-color: #d4ebff;}#sk-container-id-3 div.sk-parallel-item::after {content: \"\";width: 100%;border-bottom: 1px solid gray;flex-grow: 1;}#sk-container-id-3 div.sk-label:hover label.sk-toggleable__label {background-color: #d4ebff;}#sk-container-id-3 div.sk-serial::before {content: \"\";position: absolute;border-left: 1px solid gray;box-sizing: border-box;top: 0;bottom: 0;left: 50%;z-index: 0;}#sk-container-id-3 div.sk-serial {display: flex;flex-direction: column;align-items: center;background-color: white;padding-right: 0.2em;padding-left: 0.2em;position: relative;}#sk-container-id-3 div.sk-item {position: relative;z-index: 1;}#sk-container-id-3 div.sk-parallel {display: flex;align-items: stretch;justify-content: center;background-color: white;position: relative;}#sk-container-id-3 div.sk-item::before, #sk-container-id-3 div.sk-parallel-item::before {content: \"\";position: absolute;border-left: 1px solid gray;box-sizing: border-box;top: 0;bottom: 0;left: 50%;z-index: -1;}#sk-container-id-3 div.sk-parallel-item {display: flex;flex-direction: column;z-index: 1;position: relative;background-color: white;}#sk-container-id-3 div.sk-parallel-item:first-child::after {align-self: flex-end;width: 50%;}#sk-container-id-3 div.sk-parallel-item:last-child::after {align-self: flex-start;width: 50%;}#sk-container-id-3 div.sk-parallel-item:only-child::after {width: 0;}#sk-container-id-3 div.sk-dashed-wrapped {border: 1px dashed gray;margin: 0 0.4em 0.5em 0.4em;box-sizing: border-box;padding-bottom: 0.4em;background-color: white;}#sk-container-id-3 div.sk-label label {font-family: monospace;font-weight: bold;display: inline-block;line-height: 1.2em;}#sk-container-id-3 div.sk-label-container {text-align: center;}#sk-container-id-3 div.sk-container {/* jupyter's `normalize.less` sets `[hidden] { display: none; }` but bootstrap.min.css set `[hidden] { display: none !important; }` so we also need the `!important` here to be able to override the default hidden behavior on the sphinx rendered scikit-learn.org. See: https://github.com/scikit-learn/scikit-learn/issues/21755 */display: inline-block !important;position: relative;}#sk-container-id-3 div.sk-text-repr-fallback {display: none;}</style><div id=\"sk-container-id-3\" class=\"sk-top-container\"><div class=\"sk-text-repr-fallback\"><pre>XGBClassifier(base_score=None, booster=None, callbacks=None,\n",
       "              colsample_bylevel=None, colsample_bynode=None,\n",
       "              colsample_bytree=None, early_stopping_rounds=None,\n",
       "              enable_categorical=False, eval_metric=None, feature_types=None,\n",
       "              gamma=None, gpu_id=None, grow_policy=None, importance_type=None,\n",
       "              interaction_constraints=None, learning_rate=0.5, max_bin=None,\n",
       "              max_cat_threshold=None, max_cat_to_onehot=None,\n",
       "              max_delta_step=None, max_depth=None, max_leaves=None,\n",
       "              min_child_weight=None, missing=nan, monotone_constraints=None,\n",
       "              n_estimators=200, n_jobs=None, num_parallel_tree=None,\n",
       "              predictor=None, random_state=None, ...)</pre><b>In a Jupyter environment, please rerun this cell to show the HTML representation or trust the notebook. <br />On GitHub, the HTML representation is unable to render, please try loading this page with nbviewer.org.</b></div><div class=\"sk-container\" hidden><div class=\"sk-item\"><div class=\"sk-estimator sk-toggleable\"><input class=\"sk-toggleable__control sk-hidden--visually\" id=\"sk-estimator-id-7\" type=\"checkbox\" checked><label for=\"sk-estimator-id-7\" class=\"sk-toggleable__label sk-toggleable__label-arrow\">XGBClassifier</label><div class=\"sk-toggleable__content\"><pre>XGBClassifier(base_score=None, booster=None, callbacks=None,\n",
       "              colsample_bylevel=None, colsample_bynode=None,\n",
       "              colsample_bytree=None, early_stopping_rounds=None,\n",
       "              enable_categorical=False, eval_metric=None, feature_types=None,\n",
       "              gamma=None, gpu_id=None, grow_policy=None, importance_type=None,\n",
       "              interaction_constraints=None, learning_rate=0.5, max_bin=None,\n",
       "              max_cat_threshold=None, max_cat_to_onehot=None,\n",
       "              max_delta_step=None, max_depth=None, max_leaves=None,\n",
       "              min_child_weight=None, missing=nan, monotone_constraints=None,\n",
       "              n_estimators=200, n_jobs=None, num_parallel_tree=None,\n",
       "              predictor=None, random_state=None, ...)</pre></div></div></div></div></div>"
      ],
      "text/plain": [
       "XGBClassifier(base_score=None, booster=None, callbacks=None,\n",
       "              colsample_bylevel=None, colsample_bynode=None,\n",
       "              colsample_bytree=None, early_stopping_rounds=None,\n",
       "              enable_categorical=False, eval_metric=None, feature_types=None,\n",
       "              gamma=None, gpu_id=None, grow_policy=None, importance_type=None,\n",
       "              interaction_constraints=None, learning_rate=0.5, max_bin=None,\n",
       "              max_cat_threshold=None, max_cat_to_onehot=None,\n",
       "              max_delta_step=None, max_depth=None, max_leaves=None,\n",
       "              min_child_weight=None, missing=nan, monotone_constraints=None,\n",
       "              n_estimators=200, n_jobs=None, num_parallel_tree=None,\n",
       "              predictor=None, random_state=None, ...)"
      ]
     },
     "execution_count": 16,
     "metadata": {},
     "output_type": "execute_result"
    }
   ],
   "source": [
    "#define and train XGBClassifier\n",
    "...\n",
    "\n",
    "from sklearn.model_selection import train_test_split\n",
    "X=data[data.columns[23:42]]\n",
    "y=data['stay']\n",
    "x_train, x_test, y_train, y_test = train_test_split(X, y, test_size=0.25, random_state=0)\n",
    "import xgboost as xgb\n",
    "from sklearn.metrics import confusion_matrix, precision_score, recall_score, roc_auc_score, log_loss\n",
    "\n",
    "from xgboost import XGBClassifier\n",
    "XGB_clf = XGBClassifier(n_estimators=200, learning_rate=0.5)\n",
    "XGB_clf.fit(x_train, y_train)"
   ]
  },
  {
   "cell_type": "code",
   "execution_count": 17,
   "metadata": {
    "id": "9Bz5olffbPyQ"
   },
   "outputs": [
    {
     "name": "stdout",
     "output_type": "stream",
     "text": [
      "Error rate: 0.214\n",
      "Sensitivity: 0.800\n",
      "Specificity: 0.775\n",
      "Precision: 0.727\n",
      "AUC: 0.858\n",
      "Cross-Entropy: 0.635\n"
     ]
    }
   ],
   "source": [
    "#generate ['Error rate','Precision', 'Sensitivity', 'Specificity',  'AUC']\n",
    "...\n",
    "xgb_model = XGB_clf\n",
    "\n",
    "# make predictions on the test set\n",
    "y_pred = xgb_model.predict(x_test)\n",
    "y_prob = xgb_model.predict_proba(x_test)[:, 1]\n",
    "\n",
    "# calculate the confusion matrix\n",
    "tn, fp, fn, tp = confusion_matrix(y_test, y_pred).ravel()\n",
    "\n",
    "# calculate the performance measures\n",
    "error_rate = (fp + fn) / (tp + tn + fp + fn)\n",
    "sensitivity = tp / (tp + fn)\n",
    "specificity = tn / (tn + fp)\n",
    "precision = precision_score(y_test, y_pred)\n",
    "auc = roc_auc_score(y_test, y_prob)\n",
    "cross_entropy = log_loss(y_test, y_prob)\n",
    "\n",
    "# print the results in the required format\n",
    "print(f\"Error rate: {error_rate:.3f}\")\n",
    "print(f\"Sensitivity: {sensitivity:.3f}\")\n",
    "print(f\"Specificity: {specificity:.3f}\")\n",
    "print(f\"Precision: {precision:.3f}\")\n",
    "print(f\"AUC: {auc:.3f}\")\n",
    "print(f\"Cross-Entropy: {cross_entropy:.3f}\")\n",
    "\n",
    "..."
   ]
  },
  {
   "cell_type": "code",
   "execution_count": 18,
   "metadata": {
    "id": "M_RZJPLAbPyQ"
   },
   "outputs": [
    {
     "name": "stdout",
     "output_type": "stream",
     "text": [
      "[0.23601508 0.02837158 0.03743063 0.03211045 0.030735   0.01887131\n",
      " 0.08755993 0.02301408 0.05496959 0.04742427 0.03582248 0.08174985\n",
      " 0.04396572 0.04428241 0.05518938 0.04468152 0.06990772 0.01169775\n",
      " 0.01620125]\n"
     ]
    }
   ],
   "source": [
    "#generate feature importance\n",
    "...\n",
    "print(XGB_clf.feature_importances_)"
   ]
  },
  {
   "cell_type": "markdown",
   "metadata": {
    "id": "zvofRDDQ5Ehx"
   },
   "source": [
    "**Result Interpretation**: \n",
    "..."
   ]
  },
  {
   "cell_type": "code",
   "execution_count": null,
   "metadata": {},
   "outputs": [],
   "source": []
  },
  {
   "cell_type": "code",
   "execution_count": null,
   "metadata": {},
   "outputs": [],
   "source": []
  },
  {
   "cell_type": "code",
   "execution_count": null,
   "metadata": {},
   "outputs": [],
   "source": []
  },
  {
   "cell_type": "code",
   "execution_count": null,
   "metadata": {},
   "outputs": [],
   "source": []
  },
  {
   "cell_type": "code",
   "execution_count": null,
   "metadata": {},
   "outputs": [],
   "source": []
  },
  {
   "cell_type": "code",
   "execution_count": null,
   "metadata": {},
   "outputs": [],
   "source": []
  },
  {
   "cell_type": "code",
   "execution_count": null,
   "metadata": {},
   "outputs": [],
   "source": []
  },
  {
   "cell_type": "code",
   "execution_count": null,
   "metadata": {},
   "outputs": [],
   "source": []
  },
  {
   "cell_type": "code",
   "execution_count": null,
   "metadata": {},
   "outputs": [],
   "source": []
  },
  {
   "cell_type": "code",
   "execution_count": null,
   "metadata": {},
   "outputs": [],
   "source": []
  },
  {
   "cell_type": "code",
   "execution_count": null,
   "metadata": {},
   "outputs": [],
   "source": []
  },
  {
   "cell_type": "code",
   "execution_count": null,
   "metadata": {},
   "outputs": [],
   "source": []
  },
  {
   "cell_type": "code",
   "execution_count": null,
   "metadata": {},
   "outputs": [],
   "source": []
  },
  {
   "cell_type": "code",
   "execution_count": null,
   "metadata": {},
   "outputs": [],
   "source": []
  },
  {
   "cell_type": "code",
   "execution_count": null,
   "metadata": {},
   "outputs": [],
   "source": []
  },
  {
   "cell_type": "code",
   "execution_count": null,
   "metadata": {},
   "outputs": [],
   "source": []
  },
  {
   "cell_type": "code",
   "execution_count": null,
   "metadata": {},
   "outputs": [],
   "source": []
  },
  {
   "cell_type": "code",
   "execution_count": null,
   "metadata": {},
   "outputs": [],
   "source": []
  },
  {
   "cell_type": "code",
   "execution_count": null,
   "metadata": {},
   "outputs": [],
   "source": []
  },
  {
   "cell_type": "code",
   "execution_count": null,
   "metadata": {},
   "outputs": [],
   "source": []
  },
  {
   "cell_type": "code",
   "execution_count": null,
   "metadata": {},
   "outputs": [],
   "source": []
  },
  {
   "cell_type": "code",
   "execution_count": null,
   "metadata": {},
   "outputs": [],
   "source": []
  },
  {
   "cell_type": "code",
   "execution_count": null,
   "metadata": {},
   "outputs": [],
   "source": []
  },
  {
   "cell_type": "code",
   "execution_count": null,
   "metadata": {},
   "outputs": [],
   "source": []
  },
  {
   "cell_type": "code",
   "execution_count": null,
   "metadata": {},
   "outputs": [],
   "source": []
  },
  {
   "cell_type": "code",
   "execution_count": null,
   "metadata": {},
   "outputs": [],
   "source": []
  },
  {
   "cell_type": "code",
   "execution_count": null,
   "metadata": {},
   "outputs": [],
   "source": []
  },
  {
   "cell_type": "code",
   "execution_count": null,
   "metadata": {},
   "outputs": [],
   "source": []
  },
  {
   "cell_type": "code",
   "execution_count": null,
   "metadata": {},
   "outputs": [],
   "source": []
  },
  {
   "cell_type": "code",
   "execution_count": null,
   "metadata": {},
   "outputs": [],
   "source": []
  },
  {
   "cell_type": "code",
   "execution_count": null,
   "metadata": {},
   "outputs": [],
   "source": []
  },
  {
   "cell_type": "code",
   "execution_count": null,
   "metadata": {},
   "outputs": [],
   "source": []
  },
  {
   "cell_type": "code",
   "execution_count": null,
   "metadata": {},
   "outputs": [],
   "source": []
  },
  {
   "cell_type": "code",
   "execution_count": null,
   "metadata": {},
   "outputs": [],
   "source": []
  },
  {
   "cell_type": "code",
   "execution_count": null,
   "metadata": {},
   "outputs": [],
   "source": []
  },
  {
   "cell_type": "code",
   "execution_count": null,
   "metadata": {},
   "outputs": [],
   "source": []
  },
  {
   "cell_type": "code",
   "execution_count": null,
   "metadata": {},
   "outputs": [],
   "source": []
  },
  {
   "cell_type": "code",
   "execution_count": null,
   "metadata": {},
   "outputs": [],
   "source": []
  },
  {
   "cell_type": "code",
   "execution_count": null,
   "metadata": {},
   "outputs": [],
   "source": []
  },
  {
   "cell_type": "code",
   "execution_count": null,
   "metadata": {},
   "outputs": [],
   "source": []
  },
  {
   "cell_type": "code",
   "execution_count": null,
   "metadata": {},
   "outputs": [],
   "source": []
  },
  {
   "cell_type": "code",
   "execution_count": null,
   "metadata": {},
   "outputs": [],
   "source": []
  },
  {
   "cell_type": "code",
   "execution_count": null,
   "metadata": {},
   "outputs": [],
   "source": []
  },
  {
   "cell_type": "code",
   "execution_count": null,
   "metadata": {},
   "outputs": [],
   "source": []
  },
  {
   "cell_type": "code",
   "execution_count": null,
   "metadata": {},
   "outputs": [],
   "source": []
  }
 ],
 "metadata": {
  "colab": {
   "provenance": [
    {
     "file_id": "1UwrbrfLs8E8cvBG8QlndHi4njcJAPX58",
     "timestamp": 1647254029432
    }
   ]
  },
  "kernelspec": {
   "display_name": "Python 3 (ipykernel)",
   "language": "python",
   "name": "python3"
  },
  "language_info": {
   "codemirror_mode": {
    "name": "ipython",
    "version": 3
   },
   "file_extension": ".py",
   "mimetype": "text/x-python",
   "name": "python",
   "nbconvert_exporter": "python",
   "pygments_lexer": "ipython3",
   "version": "3.9.16"
  }
 },
 "nbformat": 4,
 "nbformat_minor": 1
}
