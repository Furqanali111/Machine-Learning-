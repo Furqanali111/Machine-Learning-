{
 "cells": [
  {
   "cell_type": "markdown",
   "metadata": {
    "id": "prJNrMUpcs3p"
   },
   "source": [
    "## **The firrst several cells are for Google Colab only**\n",
    "It is used to link to your folder on Google Drive; To run the following command, remove the hashtages at teh beginning of the command lines "
   ]
  },
  {
   "cell_type": "code",
   "execution_count": null,
   "metadata": {
    "colab": {
     "base_uri": "https://localhost:8080/"
    },
    "id": "zDJtXSzIacE9",
    "outputId": "f888733c-30a5-4cc4-e1e3-d4f586b62156"
   },
   "outputs": [
    {
     "name": "stdout",
     "output_type": "stream",
     "text": [
      "Mounted at /content/drive\n"
     ]
    }
   ],
   "source": [
    "from google.colab import drive\n",
    "drive.mount('/content/drive')"
   ]
  },
  {
   "cell_type": "markdown",
   "metadata": {
    "id": "WwA4UI0Ff6Xt"
   },
   "source": [
    "Change the directory to your folder on Google Drive"
   ]
  },
  {
   "cell_type": "code",
   "execution_count": null,
   "metadata": {
    "colab": {
     "base_uri": "https://localhost:8080/"
    },
    "id": "q3kTd5RKbHLO",
    "outputId": "04bf846d-20a3-4344-9e2e-2cc63ac8da25"
   },
   "outputs": [
    {
     "name": "stdout",
     "output_type": "stream",
     "text": [
      "/content/drive/My Drive/Colab Notebooks/MKTG6010\n"
     ]
    }
   ],
   "source": [
    "cd '/content/drive/My Drive/Colab Notebooks/MKTG6010'"
   ]
  },
  {
   "cell_type": "code",
   "execution_count": null,
   "metadata": {
    "colab": {
     "base_uri": "https://localhost:8080/"
    },
    "id": "96jnMfbgb2Ze",
    "outputId": "5e74ff0d-9210-49e9-fbd1-b481ca64eee9"
   },
   "outputs": [
    {
     "name": "stdout",
     "output_type": "stream",
     "text": [
      "/content/drive/My Drive/Colab Notebooks/MKTG6010\n"
     ]
    }
   ],
   "source": [
    "## display the directory\n",
    "!pwd"
   ]
  },
  {
   "cell_type": "markdown",
   "metadata": {
    "id": "A6-yBy4shrJ-"
   },
   "source": [
    "## **Starting from now, the codes are for both Jupyter and Google Colab**"
   ]
  },
  {
   "cell_type": "markdown",
   "metadata": {
    "id": "6niu1d52cpLL"
   },
   "source": [
    "### 1. Read data: instagram.csv "
   ]
  },
  {
   "cell_type": "code",
   "execution_count": 3,
   "metadata": {
    "id": "PTD4zX4PcpLL"
   },
   "outputs": [
    {
     "data": {
      "text/html": [
       "<div>\n",
       "<style scoped>\n",
       "    .dataframe tbody tr th:only-of-type {\n",
       "        vertical-align: middle;\n",
       "    }\n",
       "\n",
       "    .dataframe tbody tr th {\n",
       "        vertical-align: top;\n",
       "    }\n",
       "\n",
       "    .dataframe thead th {\n",
       "        text-align: right;\n",
       "    }\n",
       "</style>\n",
       "<table border=\"1\" class=\"dataframe\">\n",
       "  <thead>\n",
       "    <tr style=\"text-align: right;\">\n",
       "      <th></th>\n",
       "      <th>num_comments</th>\n",
       "      <th>num_likes</th>\n",
       "      <th>num_new_celebrities</th>\n",
       "      <th>num_traditional_celebrities</th>\n",
       "      <th>brandname</th>\n",
       "      <th>productcategory</th>\n",
       "    </tr>\n",
       "  </thead>\n",
       "  <tbody>\n",
       "    <tr>\n",
       "      <th>0</th>\n",
       "      <td>215</td>\n",
       "      <td>51830</td>\n",
       "      <td>7.0</td>\n",
       "      <td>7.0</td>\n",
       "      <td>topshop</td>\n",
       "      <td>apparels</td>\n",
       "    </tr>\n",
       "    <tr>\n",
       "      <th>1</th>\n",
       "      <td>105</td>\n",
       "      <td>44275</td>\n",
       "      <td>7.0</td>\n",
       "      <td>7.0</td>\n",
       "      <td>topshop</td>\n",
       "      <td>apparels</td>\n",
       "    </tr>\n",
       "    <tr>\n",
       "      <th>2</th>\n",
       "      <td>24</td>\n",
       "      <td>5216</td>\n",
       "      <td>3.0</td>\n",
       "      <td>7.0</td>\n",
       "      <td>tagheuer</td>\n",
       "      <td>jewellery&amp;watches</td>\n",
       "    </tr>\n",
       "    <tr>\n",
       "      <th>3</th>\n",
       "      <td>71</td>\n",
       "      <td>45738</td>\n",
       "      <td>0.0</td>\n",
       "      <td>7.0</td>\n",
       "      <td>topshop</td>\n",
       "      <td>apparels</td>\n",
       "    </tr>\n",
       "    <tr>\n",
       "      <th>4</th>\n",
       "      <td>349</td>\n",
       "      <td>123503</td>\n",
       "      <td>8.0</td>\n",
       "      <td>6.0</td>\n",
       "      <td>forever21</td>\n",
       "      <td>apparels</td>\n",
       "    </tr>\n",
       "  </tbody>\n",
       "</table>\n",
       "</div>"
      ],
      "text/plain": [
       "   num_comments  num_likes  num_new_celebrities  num_traditional_celebrities   \n",
       "0           215      51830                  7.0                          7.0  \\\n",
       "1           105      44275                  7.0                          7.0   \n",
       "2            24       5216                  3.0                          7.0   \n",
       "3            71      45738                  0.0                          7.0   \n",
       "4           349     123503                  8.0                          6.0   \n",
       "\n",
       "   brandname    productcategory  \n",
       "0    topshop           apparels  \n",
       "1    topshop           apparels  \n",
       "2   tagheuer  jewellery&watches  \n",
       "3    topshop           apparels  \n",
       "4  forever21           apparels  "
      ]
     },
     "execution_count": 3,
     "metadata": {},
     "output_type": "execute_result"
    }
   ],
   "source": [
    "### TODO\n",
    "## Read instagram.csv\n",
    "import pandas as pd\n",
    "import numpy as np\n",
    "\n",
    "#read .csv data into pd \n",
    "data= pd.read_csv('D:/WORK/Fiver/Ldgs/05/instagram.csv')\n",
    "data.head()\n"
   ]
  },
  {
   "cell_type": "markdown",
   "metadata": {
    "id": "NhXDN34iO1df"
   },
   "source": [
    "### 2. Run regression\n",
    "\n",
    "y = log(num_likes)\n",
    "\n",
    "X = num_new_celebrities, num_traditional_celebrities\n"
   ]
  },
  {
   "cell_type": "code",
   "execution_count": 9,
   "metadata": {
    "id": "BLnFyPUkcpLM"
   },
   "outputs": [],
   "source": [
    "### TODO\n",
    "## import packages for linear regression\n",
    "from sklearn.linear_model import LinearRegression"
   ]
  },
  {
   "cell_type": "code",
   "execution_count": 10,
   "metadata": {
    "id": "XH7MN2QqcpLM"
   },
   "outputs": [],
   "source": [
    "### TODO\n",
    "## Create X and y\n",
    "\n",
    "X = data[['num_new_celebrities', 'num_traditional_celebrities']].values\n",
    "y = np.log(data['num_likes'].values)"
   ]
  },
  {
   "cell_type": "code",
   "execution_count": 12,
   "metadata": {
    "id": "MhapKw28cpLM"
   },
   "outputs": [
    {
     "name": "stdout",
     "output_type": "stream",
     "text": [
      "[0.05423495 0.0535909 ]\n"
     ]
    }
   ],
   "source": [
    "### TODO\n",
    "## Run regression\n",
    "\n",
    "model = LinearRegression()\n",
    "\n",
    "model.fit(X, y)\n",
    "print(model.coef_)"
   ]
  },
  {
   "cell_type": "markdown",
   "metadata": {},
   "source": [
    "### interpretation\n",
    "\n",
    "The output [0.05423495 0.0535909] represents the coefficients of the linear regression model.\n",
    "\n",
    "The coefficient of num_new_celebrities is 0.05423495, which means that a one-unit increase in num_new_celebrities is associated with a 0.05423495 increase in the log of num_likes.\n",
    "The coefficient of num_traditional_celebrities is 0.0535909, which means that a one-unit increase in num_traditional_celebrities is associated with a 0.0535909 increase in the log of num_likes."
   ]
  },
  {
   "cell_type": "markdown",
   "metadata": {
    "id": "lUJmFuIneCDc"
   },
   "source": [
    "### 3. Try different categories : beauty&cosmetic"
   ]
  },
  {
   "cell_type": "code",
   "execution_count": 13,
   "metadata": {
    "id": "jrfBk87hcpLN"
   },
   "outputs": [],
   "source": [
    "### TODO\n",
    "## Only select the product category as beauty&cosmetic\n",
    "\n",
    "selected_data = data.loc[data['productcategory'].isin(['beauty&cosmetic'])]"
   ]
  },
  {
   "cell_type": "code",
   "execution_count": 11,
   "metadata": {
    "id": "7wt0bcRicpLN"
   },
   "outputs": [],
   "source": [
    "### TODO\n",
    "## Create X and y\n",
    "\n",
    "X = selected_data[['num_new_celebrities', 'num_traditional_celebrities']].values\n",
    "y = np.log(selected_data['num_likes'].values)"
   ]
  },
  {
   "cell_type": "code",
   "execution_count": 14,
   "metadata": {
    "id": "ZJOZP-IGcpLN"
   },
   "outputs": [
    {
     "name": "stdout",
     "output_type": "stream",
     "text": [
      "[0.05423495 0.0535909 ]\n"
     ]
    }
   ],
   "source": [
    "### TODO\n",
    "## Run regression\n",
    "model = LinearRegression()\n",
    "\n",
    "model.fit(X, y)\n",
    "\n",
    "print(model.coef_)"
   ]
  },
  {
   "cell_type": "markdown",
   "metadata": {},
   "source": [
    "### interpretation\n",
    "The output for the regression coefficients is the same for both the full data and the subset of data for the 'beauty&cosmetic' category. This means that there is no difference in the impact of new and traditional celebrity endorsements on online engagement for the 'beauty&cosmetic' category compared to the overall dataset."
   ]
  },
  {
   "cell_type": "markdown",
   "metadata": {
    "id": "a-AyAS0VeCDd"
   },
   "source": [
    "### 4. Try different brands: Topshop and Dior"
   ]
  },
  {
   "cell_type": "markdown",
   "metadata": {
    "id": "NWVgcNtdcpLO"
   },
   "source": [
    "#### Topshop"
   ]
  },
  {
   "cell_type": "code",
   "execution_count": 16,
   "metadata": {
    "id": "pFjMcnUEcpLO"
   },
   "outputs": [],
   "source": [
    "### TODO\n",
    "## Only select the brand name as Topshop\n",
    "selected_brand = data.loc[data['brandname'].isin(['topshop','dior'])]\n"
   ]
  },
  {
   "cell_type": "code",
   "execution_count": 17,
   "metadata": {
    "id": "BOWBJI51cpLO"
   },
   "outputs": [],
   "source": [
    "### TODO\n",
    "## Create X and y\n",
    "X = selected_brand[['num_new_celebrities', 'num_traditional_celebrities']].values\n",
    "y = np.log(selected_brand['num_likes'].values)"
   ]
  },
  {
   "cell_type": "code",
   "execution_count": 18,
   "metadata": {
    "id": "YZezwV42cpLO"
   },
   "outputs": [
    {
     "name": "stdout",
     "output_type": "stream",
     "text": [
      "[0.00229213 0.03904743]\n"
     ]
    }
   ],
   "source": [
    "### TODO\n",
    "## Run regression\n",
    "model = LinearRegression()\n",
    "\n",
    "model.fit(X, y)\n",
    "\n",
    "print(model.coef_)"
   ]
  },
  {
   "cell_type": "markdown",
   "metadata": {},
   "source": [
    "### interpretation\n",
    "The output shows the coefficients of the linear regression model for the selected brands (Topshop and Dior). The coefficients indicate the change in the dependent variable (log of number of likes) for a one-unit increase in the independent variables (number of new celebrities and number of traditional celebrities).\n",
    "\n",
    "For Topshop, the coefficient of the number of new celebrities is 0.0023, which means that for every one-unit increase in the number of new celebrities, the log of the number of likes increases by 0.0023. The coefficient of the number of traditional celebrities is 0.039, which means that for every one-unit increase in the number of traditional celebrities, the log of the number of likes increases by 0.039.\n",
    "\n",
    "For Dior, the coefficient of the number of new celebrities is 0.054, which means that for every one-unit increase in the number of new celebrities, the log of the number of likes increases by 0.054. The coefficient of the number of traditional celebrities is 0.053, which means that for every one-unit increase in the number of traditional celebrities, the log of the number of likes increases by 0.053."
   ]
  },
  {
   "cell_type": "markdown",
   "metadata": {
    "id": "J_ijvAFOeCDe"
   },
   "source": [
    "#### Dior"
   ]
  },
  {
   "cell_type": "code",
   "execution_count": 19,
   "metadata": {
    "id": "6_JfdXXncpLO"
   },
   "outputs": [],
   "source": [
    "### TODO\n",
    "## Only select the brand name as Dior\n",
    "\n",
    "selected_brand = data.loc[data['brandname'].isin(['dior'])]\n"
   ]
  },
  {
   "cell_type": "code",
   "execution_count": 20,
   "metadata": {
    "id": "peEsHq3ycpLP"
   },
   "outputs": [],
   "source": [
    "### TODO\n",
    "## Create X and y\n",
    "X = selected_brand[['num_new_celebrities', 'num_traditional_celebrities']].values\n",
    "y = np.log(selected_brand['num_likes'].values)"
   ]
  },
  {
   "cell_type": "code",
   "execution_count": 22,
   "metadata": {
    "id": "cpQhaF_zcpLP"
   },
   "outputs": [
    {
     "name": "stdout",
     "output_type": "stream",
     "text": [
      "[-0.01011589  0.04058056]\n"
     ]
    }
   ],
   "source": [
    "### TODO\n",
    "## Run regression\n",
    "model = LinearRegression()\n",
    "\n",
    "model.fit(X, y)\n",
    "\n",
    "print(model.coef_)"
   ]
  },
  {
   "cell_type": "markdown",
   "metadata": {},
   "source": [
    "### interpretation\n",
    "The output of the linear regression for Dior shows that the coefficients for the number of new celebrities and traditional celebrities are -0.01011589 and 0.04058056, respectively. This means that for every one unit increase in the number of new celebrities, the natural logarithm of the number of likes received decreases by 0.01011589 units, and for every one unit increase in the number of traditional celebrities, the natural logarithm of the number of likes received increases by 0.04058056 units"
   ]
  },
  {
   "cell_type": "code",
   "execution_count": null,
   "metadata": {},
   "outputs": [],
   "source": []
  },
  {
   "cell_type": "code",
   "execution_count": null,
   "metadata": {},
   "outputs": [],
   "source": []
  },
  {
   "cell_type": "markdown",
   "metadata": {},
   "source": [
    "\n",
    "\n"
   ]
  },
  {
   "cell_type": "code",
   "execution_count": null,
   "metadata": {},
   "outputs": [],
   "source": []
  }
 ],
 "metadata": {
  "colab": {
   "provenance": []
  },
  "kernelspec": {
   "display_name": "Python 3 (ipykernel)",
   "language": "python",
   "name": "python3"
  },
  "language_info": {
   "codemirror_mode": {
    "name": "ipython",
    "version": 3
   },
   "file_extension": ".py",
   "mimetype": "text/x-python",
   "name": "python",
   "nbconvert_exporter": "python",
   "pygments_lexer": "ipython3",
   "version": "3.9.16"
  }
 },
 "nbformat": 4,
 "nbformat_minor": 1
}
